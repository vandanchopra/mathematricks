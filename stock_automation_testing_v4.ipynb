{
 "cells": [
  {
   "cell_type": "code",
   "execution_count": 1,
   "metadata": {},
   "outputs": [],
   "source": [
    "%load_ext autoreload\n",
    "%autoreload 2"
   ]
  },
  {
   "cell_type": "code",
   "execution_count": 2,
   "metadata": {},
   "outputs": [],
   "source": [
    "# Imports\n",
    "from backtest_utils import TradingSimulator\n",
    "import pickle"
   ]
  },
  {
   "cell_type": "code",
   "execution_count": 7,
   "metadata": {},
   "outputs": [
    {
     "name": "stdout",
     "output_type": "stream",
     "text": [
      "NOTICE: self.strategy: Need to use strategy_vault to automatically load the strategy based on strategy name (need to basically do a dynamic import\n"
     ]
    }
   ],
   "source": [
    "strategy_name = 'dumb_strategy'\n",
    "TS = TradingSimulator(strategy_name)"
   ]
  },
  {
   "cell_type": "code",
   "execution_count": 8,
   "metadata": {},
   "outputs": [],
   "source": [
    "# Dump New symbols into the stock_symbols.pkl\n",
    "stock_symbols_pickle = 'stock_symbols.pkl'  # Name of the pickle file\n",
    "symbols = []  # Example list of stock symbols\n",
    "if len(symbols) > 0:\n",
    "    TS.SAU.add_stock_symbols_to_pickle(symbols, stock_symbols_pickle)"
   ]
  },
  {
   "cell_type": "code",
   "execution_count": 9,
   "metadata": {},
   "outputs": [],
   "source": [
    "# Load the data from 'stock_symbols.pkl' into a variable called 'symbols'\n",
    "with open(stock_symbols_pickle, 'rb') as file:\n",
    "    symbols = pickle.load(file)"
   ]
  },
  {
   "cell_type": "code",
   "execution_count": 10,
   "metadata": {},
   "outputs": [
    {
     "name": "stderr",
     "output_type": "stream",
     "text": [
      "Downloading data for LIFW: :   0%|          | 0/6478 [00:00<?, ?it/s]"
     ]
    },
    {
     "name": "stdout",
     "output_type": "stream",
     "text": [
      "Updating data for LIFW...\n"
     ]
    },
    {
     "name": "stderr",
     "output_type": "stream",
     "text": [
      "/Users/vandanchopra/Vandan_Personal_Folder/CODE_STUFF/Projects/mathematricks/venv/lib/python3.10/site-packages/yfinance/utils.py:775: FutureWarning: The 'unit' keyword in TimedeltaIndex construction is deprecated and will be removed in a future version. Use pd.to_timedelta instead.\n",
      "  df.index += _pd.TimedeltaIndex(dst_error_hours, 'h')\n",
      "[*********************100%%**********************]  1 of 1 completed\n",
      "Downloading data for SRL: :   0%|          | 1/6478 [00:01<2:37:31,  1.46s/it] "
     ]
    },
    {
     "name": "stdout",
     "output_type": "stream",
     "text": [
      "Data for LIFW updated in data\\LIFW.csv.\n",
      "Updating data for SRL...\n"
     ]
    },
    {
     "name": "stderr",
     "output_type": "stream",
     "text": [
      "[*********************100%%**********************]  1 of 1 completed\n",
      "Downloading data for SLAMW: :   0%|          | 2/6478 [00:02<2:28:02,  1.37s/it]"
     ]
    },
    {
     "name": "stdout",
     "output_type": "stream",
     "text": [
      "Data for SRL updated in data\\SRL.csv.\n",
      "Updating data for SLAMW...\n"
     ]
    },
    {
     "name": "stderr",
     "output_type": "stream",
     "text": [
      "[*********************100%%**********************]  1 of 1 completed\n",
      "Downloading data for BFRI: :   0%|          | 3/6478 [00:03<2:20:42,  1.30s/it] "
     ]
    },
    {
     "name": "stdout",
     "output_type": "stream",
     "text": [
      "Data for SLAMW updated in data\\SLAMW.csv.\n",
      "Updating data for BFRI...\n"
     ]
    },
    {
     "name": "stderr",
     "output_type": "stream",
     "text": [
      "[*********************100%%**********************]  1 of 1 completed\n",
      "Downloading data for BFRI: :   0%|          | 3/6478 [00:05<3:07:48,  1.74s/it]\n"
     ]
    },
    {
     "ename": "KeyboardInterrupt",
     "evalue": "",
     "output_type": "error",
     "traceback": [
      "\u001b[1;31m---------------------------------------------------------------------------\u001b[0m",
      "\u001b[1;31mKeyboardInterrupt\u001b[0m                         Traceback (most recent call last)",
      "Cell \u001b[1;32mIn[50], line 2\u001b[0m\n\u001b[0;32m      1\u001b[0m stock_symbols_pickle \u001b[38;5;241m=\u001b[39m \u001b[38;5;124m'\u001b[39m\u001b[38;5;124mstock_symbols.pkl\u001b[39m\u001b[38;5;124m'\u001b[39m  \u001b[38;5;66;03m# Name of the pickle file\u001b[39;00m\n\u001b[1;32m----> 2\u001b[0m \u001b[43mTS\u001b[49m\u001b[38;5;241;43m.\u001b[39;49m\u001b[43mSAU\u001b[49m\u001b[38;5;241;43m.\u001b[39;49m\u001b[43mupdate_stock_data\u001b[49m\u001b[43m(\u001b[49m\u001b[43mpickle_file\u001b[49m\u001b[38;5;241;43m=\u001b[39;49m\u001b[43mstock_symbols_pickle\u001b[49m\u001b[43m)\u001b[49m\n",
      "File \u001b[1;32m~\\Documents\\GitHub\\mathematricks\\stock_automation_utils.py:91\u001b[0m, in \u001b[0;36mStockAutomationUtils.update_stock_data\u001b[1;34m(self, pickle_file, data_folder, throttle_secs)\u001b[0m\n\u001b[0;32m     88\u001b[0m \u001b[38;5;28;01melse\u001b[39;00m:\n\u001b[0;32m     89\u001b[0m     \u001b[38;5;66;03m# Download data from the day after the last date in the CSV until today\u001b[39;00m\n\u001b[0;32m     90\u001b[0m     new_data \u001b[38;5;241m=\u001b[39m yf\u001b[38;5;241m.\u001b[39mdownload(symbol, start\u001b[38;5;241m=\u001b[39mlast_date \u001b[38;5;241m+\u001b[39m pd\u001b[38;5;241m.\u001b[39mTimedelta(days\u001b[38;5;241m=\u001b[39m\u001b[38;5;241m1\u001b[39m))\n\u001b[1;32m---> 91\u001b[0m     \u001b[43mtime\u001b[49m\u001b[38;5;241;43m.\u001b[39;49m\u001b[43msleep\u001b[49m\u001b[43m(\u001b[49m\u001b[43mthrottle_secs\u001b[49m\u001b[43m)\u001b[49m\n\u001b[0;32m     93\u001b[0m     \u001b[38;5;28;01mif\u001b[39;00m \u001b[38;5;129;01mnot\u001b[39;00m new_data\u001b[38;5;241m.\u001b[39mempty:\n\u001b[0;32m     94\u001b[0m         updated_data \u001b[38;5;241m=\u001b[39m pd\u001b[38;5;241m.\u001b[39mconcat([existing_data, new_data])\n",
      "\u001b[1;31mKeyboardInterrupt\u001b[0m: "
     ]
    }
   ],
   "source": [
    "stock_symbols_pickle = 'stock_symbols.pkl'  # Name of the pickle file\n",
    "TS.SAU.update_stock_data(pickle_file=stock_symbols_pickle)"
   ]
  },
  {
   "cell_type": "markdown",
   "metadata": {},
   "source": [
    "## BACKTEST"
   ]
  },
  {
   "cell_type": "code",
   "execution_count": null,
   "metadata": {},
   "outputs": [],
   "source": [
    "# Imports\n",
    "from datetime import datetime\n",
    "\n",
    "# Optional Imports\n",
    "import numpy as np\n",
    "import matplotlib.pyplot as plt"
   ]
  },
  {
   "cell_type": "code",
   "execution_count": null,
   "metadata": {},
   "outputs": [],
   "source": [
    "symbols = ['HDB', 'BIIB', 'BNTX', 'MRNA', 'CHTR', 'AWK', 'SNAP', 'TFC', 'ES', 'KDP', 'HSY', 'NEE', 'TTWO', 'EL', 'JD', 'BA', 'EQNR', 'HUM', 'NTR', 'WPM', 'WPM', 'WBA', 'SBAC', 'MMM', 'BTI', 'ILMN', 'WDS', 'ADM', 'PFE', 'ALNY', 'FNV', 'NEM', 'WBD']\n"
   ]
  },
  {
   "cell_type": "code",
   "execution_count": null,
   "metadata": {},
   "outputs": [],
   "source": [
    "from backtest_utils import TradingSimulator\n",
    "TS = TradingSimulator(strategy_name)\n",
    "start_date = '2018-01-01'\n",
    "end_date = '2020-12-31'\n",
    "start_date_dt = datetime.strptime(start_date, \"%Y-%m-%d\")\n",
    "end_date_dt = datetime.strptime(end_date, \"%Y-%m-%d\")\n",
    "rebalance_frequency = 15  # In days\n",
    "# create a numpy array of numbers 15 days apart from 0 to 365\n",
    "long_count = 10\n",
    "short_count = 0\n",
    "portfolio_starting_value = 110000\n",
    "risk_pct = 0.1\n",
    "reinvest_profits_bool = False\n",
    "leverage_multiplier = 5.0\n",
    "\n",
    "# Run the backtest\n",
    "test = TS.run_backtest(symbols, start_date_dt, end_date_dt, rebalance_frequency, long_count, short_count, portfolio_starting_value, risk_pct, reinvest_profits_bool, leverage_multiplier)\n",
    "\n",
    "# cProfile the backtest\n",
    "# import cProfile\n",
    "# cProfile.run('TS.run_backtest(symbols, start_date_dt, end_date_dt, rebalance_frequency, long_count, short_count, portfolio_starting_value, risk_pct, reinvest_profits_bool)', sort='cumtime')\n",
    "\n",
    "test = TS.load_backtest(test[\"inputs\"][\"symbols\"], start_date_dt, end_date_dt, rebalance_frequency, long_count, short_count, portfolio_starting_value, risk_pct, reinvest_profits_bool)\n",
    "\n"
   ]
  },
  {
   "cell_type": "code",
   "execution_count": null,
   "metadata": {},
   "outputs": [],
   "source": [
    "strategy_profit = np.cumsum(test['backtest_profits'])[-1]\n",
    "print(f\"Strategy Profit: {strategy_profit}\")"
   ]
  },
  {
   "cell_type": "code",
   "execution_count": null,
   "metadata": {},
   "outputs": [],
   "source": [
    "benchmark_returns = TS.get_benchmark_returns(start_date_dt, end_date_dt, test['rebalance_periods'], portfolio_starting_value, benchmark_name='^IXIC')"
   ]
  },
  {
   "cell_type": "code",
   "execution_count": null,
   "metadata": {},
   "outputs": [],
   "source": [
    "# Plot the backtest profits and the benchmark_data\n",
    "plt.figure(figsize=(16, 9))\n",
    "plt.plot(np.array(test['rebalance_periods'])[:, 1], np.cumsum(test['backtest_profits']), label='Backtest Profits')\n",
    "plt.plot(np.array(test['rebalance_periods'])[:, 1], np.cumsum(benchmark_returns), label='Nasdaq Returns')\n",
    "# Show labels\n",
    "plt.legend()\n",
    "# Show the plot\n",
    "plt.show()"
   ]
  },
  {
   "cell_type": "code",
   "execution_count": null,
   "metadata": {},
   "outputs": [],
   "source": [
    "plt.plot(test['backtest_profits'])"
   ]
  },
  {
   "cell_type": "markdown",
   "metadata": {},
   "source": [
    "# Verifying the backtest results"
   ]
  },
  {
   "cell_type": "code",
   "execution_count": null,
   "metadata": {},
   "outputs": [],
   "source": [
    "sum = 0\n",
    "for count in range(11):\n",
    "    profit = test['backtest_runs'][count][-1].astype(np.float64).sum()\n",
    "    print({count: profit})\n",
    "    sum += profit\n",
    "print(sum)"
   ]
  },
  {
   "cell_type": "code",
   "execution_count": null,
   "metadata": {},
   "outputs": [],
   "source": [
    "rebal_period = 100\n",
    "test['backtest_runs'][rebal_period]"
   ]
  },
  {
   "cell_type": "code",
   "execution_count": null,
   "metadata": {},
   "outputs": [],
   "source": [
    "asset_num = 0\n",
    "asset_name = test['backtest_runs'][rebal_period][0][asset_num]\n",
    "buy_price = float(test['backtest_runs'][rebal_period][1][asset_num])\n",
    "qty = float(test['backtest_runs'][rebal_period][2][asset_num])\n",
    "stop_loss = float(test['backtest_runs'][rebal_period][3][asset_num])\n",
    "sell_price = float(test['backtest_runs'][rebal_period][4][asset_num])\n",
    "stoploss_hit = test['backtest_runs'][rebal_period][5][asset_num]\n",
    "profit = float(test['backtest_runs'][rebal_period][6][asset_num])\n",
    "print(f'Asset: {asset_name}, Buy Price: {buy_price}, Qty: {qty}, Stop Loss: {stop_loss}, Sell Price: {sell_price}, stoploss_hit:{stoploss_hit}, Profit: {profit}')"
   ]
  },
  {
   "cell_type": "code",
   "execution_count": null,
   "metadata": {},
   "outputs": [],
   "source": [
    "verify_profit = (sell_price - buy_price) * qty\n",
    "verify_profit"
   ]
  },
  {
   "cell_type": "markdown",
   "metadata": {},
   "source": [
    "# ANALYSIS STUFF"
   ]
  },
  {
   "cell_type": "code",
   "execution_count": null,
   "metadata": {},
   "outputs": [],
   "source": [
    "# Calculating Win % for Rebalance Periods\n",
    "\n",
    "profit_count = 0\n",
    "loss_count = 0\n",
    "for backtest_run in backtest_runs:\n",
    "    profit = backtest_run[-1]\n",
    "    for output in profit:\n",
    "        output = int(np.float32(output))\n",
    "        if output > 0:\n",
    "            profit_count += 1\n",
    "        else:\n",
    "            loss_count += 1\n",
    "print({'profit_count': profit_count, 'loss_count': loss_count, 'profit_pct': profit_count/(profit_count+loss_count)})"
   ]
  },
  {
   "cell_type": "code",
   "execution_count": null,
   "metadata": {},
   "outputs": [],
   "source": [
    "# calculate the sharp ratio\n",
    "# https://www.youtube.com/watch?v=vTzjk6kLw2I"
   ]
  },
  {
   "cell_type": "code",
   "execution_count": 260,
   "metadata": {},
   "outputs": [
    {
     "name": "stdout",
     "output_type": "stream",
     "text": [
      "Backtest analysis saved to backtests/BaseStrategy_BA_EQNR_SBAC_2018-01-01_2020-12-31_15_10_0_110000_0.1_False_analysis.pkl\n",
      "Backtest analysis saved to backtests/BaseStrategy_BA_EQNR_SBAC_2018-01-01_2020-12-31_7_10_10_110000_0.1_False_analysis.pkl\n"
     ]
    },
    {
     "name": "stderr",
     "output_type": "stream",
     "text": [
      "C:\\Users\\joses\\Documents\\GitHub\\mathematricks\\analysis_utils.py:134: RuntimeWarning: invalid value encountered in scalar divide\n",
      "  short_profit_to_drawdown_ratio = np.sum(short_profits) / max_short_drawdown\n",
      "C:\\Users\\joses\\Documents\\GitHub\\mathematricks\\analysis_utils.py:137: RuntimeWarning: invalid value encountered in scalar divide\n",
      "  short_sharpe_ratio = np.mean(short_profits) / np.std(short_profits)\n",
      "C:\\Users\\joses\\.conda\\envs\\mathematricks\\lib\\site-packages\\numpy\\core\\_methods.py:206: RuntimeWarning: Degrees of freedom <= 0 for slice\n",
      "  ret = _var(a, axis=axis, dtype=dtype, out=out, ddof=ddof,\n",
      "C:\\Users\\joses\\.conda\\envs\\mathematricks\\lib\\site-packages\\numpy\\core\\_methods.py:163: RuntimeWarning: invalid value encountered in divide\n",
      "  arrmean = um.true_divide(arrmean, div, out=arrmean,\n",
      "C:\\Users\\joses\\.conda\\envs\\mathematricks\\lib\\site-packages\\numpy\\core\\_methods.py:198: RuntimeWarning: invalid value encountered in scalar divide\n",
      "  ret = ret.dtype.type(ret / rcount)\n",
      "C:\\Users\\joses\\.conda\\envs\\mathematricks\\lib\\site-packages\\numpy\\core\\fromnumeric.py:3504: RuntimeWarning: Mean of empty slice.\n",
      "  return _methods._mean(a, axis=axis, dtype=dtype,\n",
      "C:\\Users\\joses\\.conda\\envs\\mathematricks\\lib\\site-packages\\numpy\\core\\_methods.py:129: RuntimeWarning: invalid value encountered in scalar divide\n",
      "  ret = ret.dtype.type(ret / rcount)\n"
     ]
    },
    {
     "data": {
      "text/plain": [
       "(lst                                  total               \n",
       " test                                  0_15              7\n",
       " cagr                              0.031250       0.018962\n",
       " max_drawdown                  28025.984366   29298.953607\n",
       " sharpe_ratio                      0.227733       0.107456\n",
       " sortino_ratio                     0.480878       0.206879\n",
       " profit_to_drawdown_ratio          3.511586       2.279822\n",
       " beta                              0.583962       0.646609\n",
       " alpha                           760.041864     121.770308\n",
       " total_return                  98415.650741   66796.408096\n",
       " positive_returns             194710.880904  223892.713552\n",
       " negative_returns             -96295.230163 -157096.305457\n",
       " pct_profitable_bets               0.560274       0.552548\n",
       " pct_negative_bets                 0.435616       0.444904\n",
       " median_gain                    2722.649663    1790.564102\n",
       " average_loss                  -3209.841005   -2310.239786\n",
       " median_gain_to_average_loss      -0.848219      -0.775056\n",
       " test_score                        0.757982       0.650223\n",
       " pct_positive_returns                   NaN            NaN\n",
       " pct_negative_returns                   NaN            NaN,\n",
       " lst                                  long              \n",
       " test                                 0_15             7\n",
       " cagr                             0.031250      0.018962\n",
       " max_drawdown                 28025.984366  29298.953607\n",
       " sharpe_ratio                     0.227733      0.107456\n",
       " sortino_ratio                    0.480878      0.206879\n",
       " profit_to_drawdown_ratio         3.511586      2.279822\n",
       " beta                             0.583962      0.646609\n",
       " alpha                          760.041864    121.770308\n",
       " total_return                 98415.650741  66796.408096\n",
       " positive_returns                      NaN           NaN\n",
       " negative_returns                      NaN           NaN\n",
       " pct_profitable_bets              1.000000      1.000000\n",
       " pct_negative_bets                     NaN           NaN\n",
       " median_gain                   2722.649663   1790.564102\n",
       " average_loss                 -3209.841005  -2310.239786\n",
       " median_gain_to_average_loss     -0.848219     -0.775056\n",
       " test_score                       0.513851      0.441326\n",
       " pct_positive_returns          2667.272341   1426.068239\n",
       " pct_negative_returns         -1319.112742  -1000.613411,\n",
       " lst                             short          \n",
       " test                             0_15         7\n",
       " cagr                         0.000000  0.000000\n",
       " max_drawdown                 0.000000  0.000000\n",
       " sharpe_ratio                 0.000000       NaN\n",
       " sortino_ratio                0.000000       NaN\n",
       " profit_to_drawdown_ratio     0.000000       NaN\n",
       " beta                         0.000000  0.000000\n",
       " alpha                        0.000000  0.000000\n",
       " total_return                 0.000000  0.000000\n",
       " positive_returns                  NaN       NaN\n",
       " negative_returns                  NaN       NaN\n",
       " pct_profitable_bets          0.000000  1.000000\n",
       " pct_negative_bets                 NaN       NaN\n",
       " median_gain                  0.000000       NaN\n",
       " average_loss                 0.000000       NaN\n",
       " median_gain_to_average_loss  0.000000       NaN\n",
       " test_score                   0.945964  0.450527\n",
       " pct_positive_returns         0.000000  0.000000\n",
       " pct_negative_returns         0.000000  0.000000)"
      ]
     },
     "execution_count": 260,
     "metadata": {},
     "output_type": "execute_result"
    }
   ],
   "source": [
    "from analysis_utils import BacktestAnalyzer, compare_two_backtests\n",
    "\n",
    "ba1 = BacktestAnalyzer(test['strategy_name'], test['inputs']['symbols'], start_date_dt, end_date_dt, rebalance_frequency, long_count, short_count, portfolio_starting_value, risk_pct, reinvest_profits_bool)\n",
    "ba2 = BacktestAnalyzer(test2['strategy_name'], test2['inputs']['symbols'], start_date_dt2, end_date_dt2, rebalance_frequency2, long_count2, short_count2, portfolio_starting_value2, risk_pct2, reinvest_profits_bool2)\n",
    "\n",
    "compare_two_backtests(ba1, ba2)"
   ]
  },
  {
   "cell_type": "code",
   "execution_count": null,
   "metadata": {},
   "outputs": [],
   "source": []
  },
  {
   "cell_type": "markdown",
   "metadata": {},
   "source": [
    "# IBKR Connection"
   ]
  },
  {
   "cell_type": "code",
   "execution_count": null,
   "metadata": {},
   "outputs": [],
   "source": [
    "from ib_insync import IB, Stock\n",
    "import nest_asyncio\n",
    "nest_asyncio.apply()"
   ]
  },
  {
   "cell_type": "code",
   "execution_count": null,
   "metadata": {},
   "outputs": [],
   "source": [
    "def connect_to_IBKR():\n",
    "    '''NOTE: First start the TWS or Gateway software from IBKR'''\n",
    "    \n",
    "    # Create an instance of the IB class\n",
    "    ib = IB()\n",
    "\n",
    "    # Connect to the IBKR TWS (Trader Workstation) or Gateway\n",
    "    ib.connect('127.0.0.1', 7496, clientId=0)\n",
    "\n",
    "    # Check if the connection is successful\n",
    "    if ib.isConnected():\n",
    "        print('Connected to IBKR')\n",
    "    else:\n",
    "        print('Failed to connect to IBKR')\n",
    "    return ib"
   ]
  },
  {
   "cell_type": "code",
   "execution_count": null,
   "metadata": {},
   "outputs": [],
   "source": [
    "def get_current_portfolio(ib):\n",
    "    # Request the current portfolio from IBKR\n",
    "    portfolio = ib.portfolio()\n",
    "    \n",
    "    # Return the portfolio\n",
    "    return portfolio\n"
   ]
  },
  {
   "cell_type": "code",
   "execution_count": null,
   "metadata": {},
   "outputs": [],
   "source": [
    "def get_current_price(ib):\n",
    "    # Request the current market data for AAPL\n",
    "    contract = ib.qualifyContracts(Stock('AAPL', 'SMART', 'USD'))\n",
    "    ticker = ib.reqTickers(contract)[0]\n",
    "    \n",
    "    # Get the current price\n",
    "    current_price = ticker.marketPrice()\n",
    "    \n",
    "    # Return the current price\n",
    "    return current_price\n"
   ]
  },
  {
   "cell_type": "code",
   "execution_count": null,
   "metadata": {},
   "outputs": [],
   "source": [
    "get_current_price(ib)"
   ]
  },
  {
   "cell_type": "code",
   "execution_count": null,
   "metadata": {},
   "outputs": [],
   "source": [
    "import pandas as pd\n",
    "# load the csv file and put all the data in a pandas dataframe: path: \n",
    "nasdaq_screener_path = '/Users/vandanchopra/Downloads/nasdaq_screener_1709270654053.csv'\n",
    "nasdaq_screener = pd.read_csv(nasdaq_screener_path)"
   ]
  },
  {
   "cell_type": "code",
   "execution_count": null,
   "metadata": {},
   "outputs": [],
   "source": [
    "symbols_list = nasdaq_screener[nasdaq_screener['Industry'].isna()]['Symbol'].to_list()"
   ]
  },
  {
   "cell_type": "code",
   "execution_count": null,
   "metadata": {},
   "outputs": [],
   "source": [
    "# from nasdaq_screener pandas df filter remove all symbols whose industry isna()\n",
    "symbols_list_2 = nasdaq_screener.dropna(subset=['Industry'])['Symbol'].to_list()\n",
    "\n"
   ]
  },
  {
   "cell_type": "code",
   "execution_count": null,
   "metadata": {},
   "outputs": [],
   "source": []
  },
  {
   "cell_type": "code",
   "execution_count": null,
   "metadata": {},
   "outputs": [],
   "source": []
  }
 ],
 "metadata": {
  "kernelspec": {
   "display_name": "venv",
   "language": "python",
   "name": "python3"
  },
  "language_info": {
   "codemirror_mode": {
    "name": "ipython",
    "version": 3
   },
   "file_extension": ".py",
   "mimetype": "text/x-python",
   "name": "python",
   "nbconvert_exporter": "python",
   "pygments_lexer": "ipython3",
   "version": "3.10.2"
  }
 },
 "nbformat": 4,
 "nbformat_minor": 2
}
