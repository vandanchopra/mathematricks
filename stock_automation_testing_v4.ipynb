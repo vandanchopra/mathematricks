{
 "cells": [
  {
   "cell_type": "code",
   "execution_count": null,
   "id": "b5f063c4-f7e2-446e-a774-70cdfc7f1018",
   "metadata": {},
   "outputs": [],
   "source": [
    "%load_ext autoreload\n",
    "%autoreload 2"
   ]
  },
  {
   "cell_type": "code",
   "execution_count": null,
   "id": "24819c6b-3c80-4ec2-a08e-f6ddcfded79a",
   "metadata": {},
   "outputs": [],
   "source": [
    "# Imports\n",
    "from backtest_utils import TradingSimulator\n",
    "import pickle"
   ]
  },
  {
   "cell_type": "code",
   "execution_count": null,
   "id": "61cce662-48df-4a63-8481-49d98bad59a8",
   "metadata": {},
   "outputs": [],
   "source": [
    "strategy_name = 'dumb_strategy'\n",
    "TS = TradingSimulator(strategy_name)"
   ]
  },
  {
   "cell_type": "code",
   "execution_count": null,
   "id": "e8519354-0dd9-43c0-9764-5482faf998e1",
   "metadata": {},
   "outputs": [],
   "source": [
    "# Dump New symbols into the stock_symbols.pkl\n",
    "stock_symbols_pickle = 'stock_symbols.pkl'  # Name of the pickle file\n",
    "symbols = []  # Example list of stock symbols\n",
    "if len(symbols) > 0:\n",
    "    TS.SAU.add_stock_symbols_to_pickle(symbols, stock_symbols_pickle)"
   ]
  },
  {
   "cell_type": "code",
   "execution_count": null,
   "id": "9739ab8f-6f68-4bfb-af52-5afd22bc8c1c",
   "metadata": {},
   "outputs": [],
   "source": [
    "# Load the data from 'stock_symbols.pkl' into a variable called 'symbols'\n",
    "with open(stock_symbols_pickle, 'rb') as file:\n",
    "    symbols = pickle.load(file)"
   ]
  },
  {
   "cell_type": "code",
   "execution_count": null,
   "id": "dc9be4a3-5fa8-4b8f-bd04-01d6ac821bcb",
   "metadata": {},
   "outputs": [],
   "source": [
    "stock_symbols_pickle = 'stock_symbols.pkl'  # Name of the pickle file\n",
    "TS.SAU.update_stock_data(pickle_file=stock_symbols_pickle)"
   ]
  },
  {
   "cell_type": "markdown",
   "id": "f12d3569-db01-463a-be04-0cebfadc71c6",
   "metadata": {},
   "source": [
    "# BACKTEST"
   ]
  },
  {
   "cell_type": "code",
   "execution_count": null,
   "id": "1b222cdd-b751-4a3f-bd80-699483addf48",
   "metadata": {},
   "outputs": [],
   "source": [
    "# Imports\n",
    "from datetime import datetime\n",
    "\n",
    "# Optional Imports\n",
    "import numpy as np\n",
    "import matplotlib.pyplot as plt"
   ]
  },
  {
   "cell_type": "code",
   "execution_count": null,
   "id": "eba3b0f9-3705-4d6c-b126-c305e6b59da0",
   "metadata": {},
   "outputs": [],
   "source": [
    "symbols = ['HDB', 'BIIB', 'BNTX', 'MRNA', 'CHTR', 'AWK', 'SNAP', 'TFC', 'ES', 'KDP', 'HSY', 'NEE', 'TTWO', 'EL', 'JD', 'BA', 'EQNR', 'HUM', 'NTR', 'WPM', 'WPM', 'WBA', 'SBAC', 'MMM', 'BTI', 'ILMN', 'WDS', 'ADM', 'PFE', 'ALNY', 'FNV', 'NEM', 'WBD']\n"
   ]
  },
  {
   "cell_type": "code",
   "execution_count": null,
   "id": "72c9203f-4476-4017-9725-6c12bffde61f",
   "metadata": {},
   "outputs": [],
   "source": [
    "from backtest_utils import TradingSimulator\n",
    "TS = TradingSimulator(strategy_name)\n",
    "start_date = '2018-01-01'\n",
    "end_date = '2020-12-31'\n",
    "start_date_dt = datetime.strptime(start_date, \"%Y-%m-%d\")\n",
    "end_date_dt = datetime.strptime(end_date, \"%Y-%m-%d\")\n",
    "rebalance_frequency = 15  # In days\n",
    "# create a numpy array of numbers 15 days apart from 0 to 365\n",
    "long_count = 10\n",
    "short_count = 0\n",
    "portfolio_starting_value = 110000\n",
    "risk_pct = 0.1\n",
    "reinvest_profits_bool = False\n",
    "leverage_multiplier = 5.0\n",
    "\n",
    "# Run the backtest\n",
    "test = TS.run_backtest(symbols, start_date_dt, end_date_dt, rebalance_frequency, long_count, short_count, portfolio_starting_value, risk_pct, reinvest_profits_bool, leverage_multiplier)\n",
    "\n",
    "# cProfile the backtest\n",
    "# import cProfile\n",
    "# cProfile.run('TS.run_backtest(symbols, start_date_dt, end_date_dt, rebalance_frequency, long_count, short_count, portfolio_starting_value, risk_pct, reinvest_profits_bool)', sort='cumtime')\n",
    "\n",
    "test = TS.load_backtest(test[\"inputs\"][\"symbols\"], start_date_dt, end_date_dt, rebalance_frequency, long_count, short_count, portfolio_starting_value, risk_pct, reinvest_profits_bool)\n",
    "\n"
   ]
  },
  {
   "cell_type": "code",
   "execution_count": null,
   "id": "5d642168-7ce4-469c-a739-a22945e41bde",
   "metadata": {},
   "outputs": [],
   "source": [
    "strategy_profit = np.cumsum(test['backtest_profits'])[-1]\n",
    "print(f\"Strategy Profit: {strategy_profit}\")"
   ]
  },
  {
   "cell_type": "code",
   "execution_count": null,
   "id": "669183b6-cbee-48aa-b063-7c6fd9b7fcab",
   "metadata": {},
   "outputs": [],
   "source": [
    "benchmark_returns = TS.get_benchmark_returns(start_date_dt, end_date_dt, test['rebalance_periods'], portfolio_starting_value, benchmark_name='^IXIC')"
   ]
  },
  {
   "cell_type": "code",
   "execution_count": null,
   "id": "26970ad1-1dd4-4815-aff9-483d65f68805",
   "metadata": {},
   "outputs": [],
   "source": [
    "# Plot the backtest profits and the benchmark_data\n",
    "plt.figure(figsize=(16, 9))\n",
    "plt.plot(np.array(test['rebalance_periods'])[:, 1], np.cumsum(test['backtest_profits']), label='Backtest Profits')\n",
    "plt.plot(np.array(test['rebalance_periods'])[:, 1], np.cumsum(benchmark_returns), label='Nasdaq Returns')\n",
    "# Show labels\n",
    "plt.legend()\n",
    "# Show the plot\n",
    "plt.show()"
   ]
  },
  {
   "cell_type": "code",
   "execution_count": null,
   "id": "d9a204a7-6770-450f-b731-46b27c4875f3",
   "metadata": {},
   "outputs": [],
   "source": [
    "plt.plot(test['backtest_profits'])"
   ]
  },
  {
   "cell_type": "markdown",
   "id": "365df819-e16f-45aa-ac69-c5945f1140da",
   "metadata": {},
   "source": [
    "# Verifying the backtest results"
   ]
  },
  {
   "cell_type": "code",
   "execution_count": null,
   "id": "3a529713-2fbe-47af-adb4-6147d1bbf9ab",
   "metadata": {},
   "outputs": [],
   "source": [
    "sum = 0\n",
    "for count in range(11):\n",
    "    profit = test['backtest_runs'][count][-1].astype(np.float64).sum()\n",
    "    print({count: profit})\n",
    "    sum += profit\n",
    "print(sum)"
   ]
  },
  {
   "cell_type": "code",
   "execution_count": null,
   "id": "7bbb6217-1824-4542-ad96-d5f15f11a2c4",
   "metadata": {},
   "outputs": [],
   "source": [
    "rebal_period = 100\n",
    "test['backtest_runs'][rebal_period]"
   ]
  },
  {
   "cell_type": "code",
   "execution_count": null,
   "id": "59b0e521-774c-4b4d-99d3-c07edfae3348",
   "metadata": {},
   "outputs": [],
   "source": [
    "asset_num = 0\n",
    "asset_name = test['backtest_runs'][rebal_period][0][asset_num]\n",
    "buy_price = float(test['backtest_runs'][rebal_period][1][asset_num])\n",
    "qty = float(test['backtest_runs'][rebal_period][2][asset_num])\n",
    "stop_loss = float(test['backtest_runs'][rebal_period][3][asset_num])\n",
    "sell_price = float(test['backtest_runs'][rebal_period][4][asset_num])\n",
    "stoploss_hit = test['backtest_runs'][rebal_period][5][asset_num]\n",
    "profit = float(test['backtest_runs'][rebal_period][6][asset_num])\n",
    "print(f'Asset: {asset_name}, Buy Price: {buy_price}, Qty: {qty}, Stop Loss: {stop_loss}, Sell Price: {sell_price}, stoploss_hit:{stoploss_hit}, Profit: {profit}')"
   ]
  },
  {
   "cell_type": "code",
   "execution_count": null,
   "id": "ea17f312-aa70-45a3-902c-986d3002b3dc",
   "metadata": {},
   "outputs": [],
   "source": [
    "verify_profit = (sell_price - buy_price) * qty\n",
    "verify_profit"
   ]
  },
  {
   "cell_type": "markdown",
   "id": "b39123c1-8279-4764-8e90-7524f62a96d9",
   "metadata": {},
   "source": [
    "# ANALYSIS STUFF"
   ]
  },
  {
   "cell_type": "code",
   "execution_count": null,
   "id": "3e181248-52e0-4b88-82a2-f4d639ccc916",
   "metadata": {},
   "outputs": [],
   "source": [
    "# Calculating Win % for Rebalance Periods\n",
    "\n",
    "profit_count = 0\n",
    "loss_count = 0\n",
    "for backtest_run in backtest_runs:\n",
    "    profit = backtest_run[-1]\n",
    "    for output in profit:\n",
    "        output = int(np.float32(output))\n",
    "        if output > 0:\n",
    "            profit_count += 1\n",
    "        else:\n",
    "            loss_count += 1\n",
    "print({'profit_count': profit_count, 'loss_count': loss_count, 'profit_pct': profit_count/(profit_count+loss_count)})"
   ]
  },
  {
   "cell_type": "code",
   "execution_count": null,
   "id": "f97555e9-869c-4e1a-a5ff-996a2f6c5f77",
   "metadata": {},
   "outputs": [],
   "source": [
    "# calculate the sharp ratio\n",
    "# https://www.youtube.com/watch?v=vTzjk6kLw2I"
   ]
  },
  {
   "cell_type": "markdown",
   "id": "ceef2de5-6a39-4d68-ab6d-cd401e6ac4ae",
   "metadata": {},
   "source": [
    "# IBKR Connection"
   ]
  },
  {
   "cell_type": "code",
   "execution_count": null,
   "id": "d698795e-6f1c-4922-9451-f64db7da972e",
   "metadata": {},
   "outputs": [],
   "source": [
    "from ib_insync import IB, Stock\n",
    "import nest_asyncio\n",
    "nest_asyncio.apply()"
   ]
  },
  {
   "cell_type": "code",
   "execution_count": null,
   "id": "fb1da398-ed08-4f10-913e-a795fdcf427d",
   "metadata": {},
   "outputs": [],
   "source": [
    "def connect_to_IBKR():\n",
    "    '''NOTE: First start the TWS or Gateway software from IBKR'''\n",
    "    \n",
    "    # Create an instance of the IB class\n",
    "    ib = IB()\n",
    "\n",
    "    # Connect to the IBKR TWS (Trader Workstation) or Gateway\n",
    "    ib.connect('127.0.0.1', 7496, clientId=0)\n",
    "\n",
    "    # Check if the connection is successful\n",
    "    if ib.isConnected():\n",
    "        print('Connected to IBKR')\n",
    "    else:\n",
    "        print('Failed to connect to IBKR')\n",
    "    return ib"
   ]
  },
  {
   "cell_type": "code",
   "execution_count": null,
   "id": "1a627076-80de-4ef5-9b91-f584d87625fb",
   "metadata": {},
   "outputs": [],
   "source": [
    "def get_current_portfolio(ib):\n",
    "    # Request the current portfolio from IBKR\n",
    "    portfolio = ib.portfolio()\n",
    "    \n",
    "    # Return the portfolio\n",
    "    return portfolio\n"
   ]
  },
  {
   "cell_type": "code",
   "execution_count": null,
   "id": "8988c042-80d7-4bf2-9e77-0fca7fdca331",
   "metadata": {},
   "outputs": [],
   "source": [
    "def get_current_price(ib):\n",
    "    # Request the current market data for AAPL\n",
    "    contract = ib.qualifyContracts(Stock('AAPL', 'SMART', 'USD'))\n",
    "    ticker = ib.reqTickers(contract)[0]\n",
    "    \n",
    "    # Get the current price\n",
    "    current_price = ticker.marketPrice()\n",
    "    \n",
    "    # Return the current price\n",
    "    return current_price\n"
   ]
  },
  {
   "cell_type": "code",
   "execution_count": null,
   "id": "4f2ccf54-f8e1-415c-989d-685e0db2ef98",
   "metadata": {},
   "outputs": [],
   "source": [
    "get_current_price(ib)"
   ]
  },
  {
   "cell_type": "code",
   "execution_count": null,
   "id": "aed230af-e805-4949-8d6a-39664d0bd013",
   "metadata": {},
   "outputs": [],
   "source": [
    "import pandas as pd\n",
    "# load the csv file and put all the data in a pandas dataframe: path: \n",
    "nasdaq_screener_path = '/Users/vandanchopra/Downloads/nasdaq_screener_1709270654053.csv'\n",
    "nasdaq_screener = pd.read_csv(nasdaq_screener_path)"
   ]
  },
  {
   "cell_type": "code",
   "execution_count": null,
   "id": "380a25d1-d545-4b87-9b2e-1dbe2e7d8f54",
   "metadata": {},
   "outputs": [],
   "source": [
    "symbols_list = nasdaq_screener[nasdaq_screener['Industry'].isna()]['Symbol'].to_list()"
   ]
  },
  {
   "cell_type": "code",
   "execution_count": null,
   "id": "a172b64a-7207-4b2a-8a99-0f7087e75a4b",
   "metadata": {},
   "outputs": [],
   "source": [
    "# from nasdaq_screener pandas df filter remove all symbols whose industry isna()\n",
    "symbols_list_2 = nasdaq_screener.dropna(subset=['Industry'])['Symbol'].to_list()\n",
    "\n"
   ]
  },
  {
   "cell_type": "code",
   "execution_count": null,
   "id": "f2f1fa28-428a-4ca9-b79c-d8f785318ffa",
   "metadata": {},
   "outputs": [],
   "source": []
  },
  {
   "cell_type": "code",
   "execution_count": null,
   "id": "d860ef80-ff4b-4eb1-ae5c-8eb42ac1e859",
   "metadata": {},
   "outputs": [],
   "source": []
  }
 ],
 "metadata": {
  "kernelspec": {
   "display_name": "Python 3 (ipykernel)",
   "language": "python",
   "name": "python3"
  },
  "language_info": {
   "codemirror_mode": {
    "name": "ipython",
    "version": 3
   },
   "file_extension": ".py",
   "mimetype": "text/x-python",
   "name": "python",
   "nbconvert_exporter": "python",
   "pygments_lexer": "ipython3",
   "version": "3.10.13"
  }
 },
 "nbformat": 4,
 "nbformat_minor": 5
}
