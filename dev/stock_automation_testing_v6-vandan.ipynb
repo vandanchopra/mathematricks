{
 "cells": [
  {
   "cell_type": "raw",
   "id": "0ee1a620",
   "metadata": {},
   "source": [
    "(DONE) 1) Function to update the tests_index file. make sure your tests are not being pushed to git.\n",
    "(DONE) 2) Load the strategy dynamically by using the strategy name\n",
    "(DONE) 2) Fix up the metrics one by one with quantstats. See if u want to break up your metrics into different functions each.\n",
    "(DONE) 6) Write the code to make a dict of symbols and how often they were traded. Create a pandas dataframe and view it.\n",
    "(DONE) 7) After that, get the buy, sell (profit, loss, stoploss) for one asset, and plot it on a graph to see entries and exits. (Check this for the top 10 stocks + random 10 stocks) - Write the code to make all the graphs together.\n",
    "(DONE) 3) Test if shorting is done accurately.\n",
    "(DONE) 2) Find out how to fix 'leverage' in the tearsheets.\n",
    "4) Create a test score function.\n",
    "5) Figure out if there is a look-ahead bias in the strategy.\n",
    "6) There needs to be a folder where tests are dumped, like a temp folder, and good tests are moved to the final folder\n",
    "-------\n",
    "Now start testing your strategy:\n",
    "\n",
    "'''"
   ]
  },
  {
   "cell_type": "code",
   "execution_count": 2,
   "id": "dd746c26-b087-47d4-8d0e-943f42d2e993",
   "metadata": {},
   "outputs": [],
   "source": [
    "%load_ext autoreload\n",
    "%autoreload 2\n",
    "%matplotlib inline"
   ]
  },
  {
   "cell_type": "code",
   "execution_count": 3,
   "id": "8d1b4752-fa95-4da2-a52c-35aabbb2308f",
   "metadata": {},
   "outputs": [],
   "source": [
    "# Imports\n",
    "import sys\n",
    "project_path = '../'\n",
    "sys.path.append(project_path)\n",
    "from backtest_utils import TradingSimulator\n",
    "import pickle, os\n",
    "from datetime import datetime\n",
    "\n",
    "# Optional Imports\n",
    "import numpy as np\n",
    "import matplotlib.pyplot as plt\n",
    "import pandas as pd\n",
    "from matplotlib import figure\n",
    "from pprint import pprint"
   ]
  },
  {
   "cell_type": "markdown",
   "id": "63743989",
   "metadata": {},
   "source": [
    "# Run a Backtest"
   ]
  },
  {
   "cell_type": "code",
   "execution_count": 4,
   "id": "d52d19b5-00ff-4eaa-a26c-e7fd31b459ae",
   "metadata": {},
   "outputs": [],
   "source": [
    "strategy_name = 'smooth_operator'\n",
    "\n",
    "TS = TradingSimulator(strategy_name)\n",
    "\n",
    "# Dump New symbols into the stock_symbols.pkl\n",
    "stock_symbols_pickle = project_path + 'stock_symbols.pkl'  # Name of the pickle file\n",
    "symbols = []  # Example list of stock symbols\n",
    "if len(symbols) > 0:\n",
    "    TS.SAU.add_stock_symbols_to_pickle(symbols, stock_symbols_pickle)"
   ]
  },
  {
   "cell_type": "code",
   "execution_count": 5,
   "id": "33c3c691-4f55-455c-848b-48272ab94415",
   "metadata": {},
   "outputs": [],
   "source": [
    "# Load the data from 'stock_symbols.pkl' into a variable called 'symbols'\n",
    "with open(stock_symbols_pickle, 'rb') as file:\n",
    "    symbols = pickle.load(file)"
   ]
  },
  {
   "cell_type": "code",
   "execution_count": 6,
   "id": "c7548bf6-a26d-41f2-bdb4-4babfce55b30",
   "metadata": {},
   "outputs": [],
   "source": [
    "stock_symbols_pickle = project_path + 'stock_symbols.pkl'  # Name of the pickle file\n",
    "# TS.SAU.update_stock_data(pickle_file=stock_symbols_pickle)"
   ]
  },
  {
   "cell_type": "code",
   "execution_count": 12,
   "id": "2769bc09-d232-43db-bd97-5393d298abc6",
   "metadata": {},
   "outputs": [
    {
     "name": "stderr",
     "output_type": "stream",
     "text": [
      "Running backtest: 2024-02-23 - 2024-03-08:  79%|███████▉  | 26/33 [10:44<02:55, 25.10s/it, Profit=4.06e+4] /Users/vandanchopra/Vandan_Personal_Folder/CODE_STUFF/Projects/mathematricks/dev/../vault/smooth_operator.py:150: RuntimeWarning: invalid value encountered in divide\n",
      "  normalized_columns = (columns_to_normalize - columns_to_normalize.min(axis=0)) / (columns_to_normalize.max(axis=0) - columns_to_normalize.min(axis=0))\n",
      "Running backtest: 2024-02-23 - 2024-03-08:  82%|████████▏ | 27/33 [11:10<02:31, 25.30s/it, Profit=4.06e+4]/Users/vandanchopra/Vandan_Personal_Folder/CODE_STUFF/Projects/mathematricks/dev/../vault/smooth_operator.py:150: RuntimeWarning: invalid value encountered in divide\n",
      "  normalized_columns = (columns_to_normalize - columns_to_normalize.min(axis=0)) / (columns_to_normalize.max(axis=0) - columns_to_normalize.min(axis=0))\n",
      "Running backtest: 2024-02-23 - 2024-03-08:  85%|████████▍ | 28/33 [11:36<02:07, 25.46s/it, Profit=4.06e+4]/Users/vandanchopra/Vandan_Personal_Folder/CODE_STUFF/Projects/mathematricks/dev/../vault/smooth_operator.py:150: RuntimeWarning: invalid value encountered in divide\n",
      "  normalized_columns = (columns_to_normalize - columns_to_normalize.min(axis=0)) / (columns_to_normalize.max(axis=0) - columns_to_normalize.min(axis=0))\n",
      "Running backtest: 2024-02-23 - 2024-03-08:  88%|████████▊ | 29/33 [12:02<01:42, 25.59s/it, Profit=4.06e+4]/Users/vandanchopra/Vandan_Personal_Folder/CODE_STUFF/Projects/mathematricks/dev/../vault/smooth_operator.py:150: RuntimeWarning: invalid value encountered in divide\n",
      "  normalized_columns = (columns_to_normalize - columns_to_normalize.min(axis=0)) / (columns_to_normalize.max(axis=0) - columns_to_normalize.min(axis=0))\n",
      "Running backtest: 2024-02-23 - 2024-03-08:  91%|█████████ | 30/33 [12:27<01:16, 25.64s/it, Profit=4.06e+4]/Users/vandanchopra/Vandan_Personal_Folder/CODE_STUFF/Projects/mathematricks/dev/../vault/smooth_operator.py:150: RuntimeWarning: invalid value encountered in divide\n",
      "  normalized_columns = (columns_to_normalize - columns_to_normalize.min(axis=0)) / (columns_to_normalize.max(axis=0) - columns_to_normalize.min(axis=0))\n",
      "Running backtest: 2024-02-23 - 2024-03-08:  94%|█████████▍| 31/33 [12:54<00:51, 25.93s/it, Profit=4.06e+4]/Users/vandanchopra/Vandan_Personal_Folder/CODE_STUFF/Projects/mathematricks/dev/../vault/smooth_operator.py:150: RuntimeWarning: invalid value encountered in divide\n",
      "  normalized_columns = (columns_to_normalize - columns_to_normalize.min(axis=0)) / (columns_to_normalize.max(axis=0) - columns_to_normalize.min(axis=0))\n",
      "Running backtest: 2024-02-23 - 2024-03-08:  97%|█████████▋| 32/33 [13:20<00:25, 25.86s/it, Profit=4.06e+4]/Users/vandanchopra/Vandan_Personal_Folder/CODE_STUFF/Projects/mathematricks/dev/../vault/smooth_operator.py:150: RuntimeWarning: invalid value encountered in divide\n",
      "  normalized_columns = (columns_to_normalize - columns_to_normalize.min(axis=0)) / (columns_to_normalize.max(axis=0) - columns_to_normalize.min(axis=0))\n",
      "Running backtest: 2024-02-23 - 2024-03-08: 100%|██████████| 33/33 [13:46<00:00, 25.03s/it, Profit=4.06e+4]\n"
     ]
    },
    {
     "name": "stdout",
     "output_type": "stream",
     "text": [
      "Backtest results saved to /Users/vandanchopra/Vandan_Personal_Folder/CODE_STUFF/Projects/mathematricks/backtests/Test_1.pkl\n"
     ]
    }
   ],
   "source": [
    "from backtest_utils import TradingSimulator\n",
    "start_date = '2023-02-28'\n",
    "end_date = '2024-06-28'\n",
    "start_date_dt = datetime.strptime(start_date, \"%Y-%m-%d\")\n",
    "end_date_dt = datetime.strptime(end_date, \"%Y-%m-%d\")\n",
    "# create a numpy array of numbers 15 days apart from 0 to 365\n",
    "long_count = 10\n",
    "short_count = 0\n",
    "portfolio_starting_value = 100000\n",
    "risk_pct = 0.1\n",
    "reinvest_profits_bool = True\n",
    "leverage_multiplier = 1.0\n",
    "strategy_name = 'smooth_operator'\n",
    "save_test = True\n",
    "\n",
    "# Run the backtest\n",
    "''' \n",
    "BEST TEST RESULTS\n",
    "TS_leverage = TradingSimulator(strategy_name)\n",
    "risk_pct = 0.05\n",
    "leverage_multiplier = 3.0\n",
    "long_count = 10\n",
    "short_count = 0\n",
    "reinvest_profits_bool = False\n",
    "test_2 = TS_leverage.run_backtest(symbols, start_date_dt, end_date_dt, rebalance_frequency, long_count, short_count, portfolio_starting_value, risk_pct, reinvest_profits_bool, leverage_multiplier=leverage_multiplier, save_test=save_test)\n",
    "\n",
    "'''\n",
    "TS_leverage = TradingSimulator(strategy_name)\n",
    "# symbols = symbols[:100]\n",
    "risk_pct = 0.10\n",
    "leverage_multiplier = 1.0\n",
    "long_count = 10\n",
    "short_count = 0\n",
    "reinvest_profits_bool = False\n",
    "rebalance_frequency = 15  # In days\n",
    "# test_1 = TS_leverage.run_backtest(symbols, start_date_dt, end_date_dt, rebalance_frequency, long_count, short_count, portfolio_starting_value, risk_pct, reinvest_profits_bool, leverage_multiplier=leverage_multiplier, save_test=save_test)\n",
    "import cProfile\n",
    "cProfile.run('TS_leverage.run_backtest(symbols, start_date_dt, end_date_dt, rebalance_frequency, long_count, short_count, portfolio_starting_value, risk_pct, reinvest_profits_bool, leverage_multiplier=leverage_multiplier, save_test=save_test)', 'restats')\n",
    "\n"
   ]
  },
  {
   "cell_type": "code",
   "execution_count": 14,
   "id": "8d743931",
   "metadata": {},
   "outputs": [
    {
     "name": "stdout",
     "output_type": "stream",
     "text": [
      "Tue Mar 19 05:18:42 2024    restats\n",
      "\n",
      "         2663727216 function calls (2613819663 primitive calls) in 856.729 seconds\n",
      "\n",
      "   Ordered by: cumulative time\n",
      "   List reduced from 1065 to 30 due to restriction <30>\n",
      "\n",
      "   ncalls  tottime  percall  cumtime  percall filename:lineno(function)\n",
      "        1    0.000    0.000  856.734  856.734 {built-in method builtins.exec}\n",
      "        1    0.191    0.191  856.734  856.734 <string>:1(<module>)\n",
      "        1    1.447    1.447  856.543  856.543 /Users/vandanchopra/Vandan_Personal_Folder/CODE_STUFF/Projects/mathematricks/dev/../backtest_utils.py:105(run_backtest)\n",
      "       33    2.218    0.067  746.112   22.609 /Users/vandanchopra/Vandan_Personal_Folder/CODE_STUFF/Projects/mathematricks/dev/../vault/smooth_operator.py:47(get_analysis_array)\n",
      "   203536   20.547    0.000  743.630    0.004 /Users/vandanchopra/Vandan_Personal_Folder/CODE_STUFF/Projects/mathematricks/dev/../vault/smooth_operator.py:16(create_analysis_array_symbol)\n",
      "11279030/5749738    5.278    0.000  381.109    0.000 /Users/vandanchopra/Vandan_Personal_Folder/CODE_STUFF/Projects/mathematricks/venv/lib/python3.10/site-packages/pandas/core/ops/common.py:62(new_method)\n",
      "  5088400    2.162    0.000  332.471    0.000 /Users/vandanchopra/Vandan_Personal_Folder/CODE_STUFF/Projects/mathematricks/venv/lib/python3.10/site-packages/pandas/core/arraylike.py:192(__sub__)\n",
      "  5088400    3.122    0.000  330.308    0.000 /Users/vandanchopra/Vandan_Personal_Folder/CODE_STUFF/Projects/mathematricks/venv/lib/python3.10/site-packages/pandas/core/series.py:6113(_arith_method)\n",
      "  5088400   14.436    0.000  325.380    0.000 /Users/vandanchopra/Vandan_Personal_Folder/CODE_STUFF/Projects/mathematricks/venv/lib/python3.10/site-packages/pandas/core/base.py:1371(_arith_method)\n",
      "  5749738    8.802    0.000  209.406    0.000 /Users/vandanchopra/Vandan_Personal_Folder/CODE_STUFF/Projects/mathematricks/venv/lib/python3.10/site-packages/pandas/core/series.py:6181(_construct_result)\n",
      "5782113/5775638   27.843    0.000  174.492    0.000 /Users/vandanchopra/Vandan_Personal_Folder/CODE_STUFF/Projects/mathematricks/venv/lib/python3.10/site-packages/pandas/core/series.py:388(__init__)\n",
      " 10177182   16.632    0.000  138.384    0.000 /Users/vandanchopra/Vandan_Personal_Folder/CODE_STUFF/Projects/mathematricks/venv/lib/python3.10/site-packages/pandas/core/indexing.py:1177(__getitem__)\n",
      "  5088400    5.445    0.000  111.606    0.000 /Users/vandanchopra/Vandan_Personal_Folder/CODE_STUFF/Projects/mathematricks/venv/lib/python3.10/site-packages/pandas/core/generic.py:1650(abs)\n",
      "  5088400   11.760    0.000  107.643    0.000 /Users/vandanchopra/Vandan_Personal_Folder/CODE_STUFF/Projects/mathematricks/venv/lib/python3.10/site-packages/pandas/core/series.py:2598(idxmin)\n",
      "  5088400    1.953    0.000   88.448    0.000 /Users/vandanchopra/Vandan_Personal_Folder/CODE_STUFF/Projects/mathematricks/venv/lib/python3.10/site-packages/pandas/core/ops/array_ops.py:240(arithmetic_op)\n",
      "  5088400    1.307    0.000   81.924    0.000 {built-in method _operator.sub}\n",
      "  5088400    5.884    0.000   77.992    0.000 /Users/vandanchopra/Vandan_Personal_Folder/CODE_STUFF/Projects/mathematricks/venv/lib/python3.10/site-packages/pandas/core/arrays/datetimelike.py:1420(__sub__)\n",
      "       66    0.713    0.011   77.982    1.182 /Users/vandanchopra/Vandan_Personal_Folder/CODE_STUFF/Projects/mathematricks/dev/../stock_automation_utils.py:146(get_data_for_interval)\n",
      "  5088400    5.299    0.000   74.028    0.000 /Users/vandanchopra/Vandan_Personal_Folder/CODE_STUFF/Projects/mathematricks/venv/lib/python3.10/site-packages/pandas/core/base.py:764(argmin)\n",
      "  5099183    7.805    0.000   72.044    0.000 /Users/vandanchopra/Vandan_Personal_Folder/CODE_STUFF/Projects/mathematricks/venv/lib/python3.10/site-packages/pandas/core/internals/managers.py:318(apply)\n",
      "  5088400    6.168    0.000   69.343    0.000 /Users/vandanchopra/Vandan_Personal_Folder/CODE_STUFF/Projects/mathematricks/venv/lib/python3.10/site-packages/pandas/core/arrays/datetimelike.py:1124(_sub_datetimelike_scalar)\n",
      "570584261/554197381   39.174    0.000   64.289    0.000 {built-in method builtins.isinstance}\n",
      "  5088400    2.648    0.000   59.389    0.000 /Users/vandanchopra/Vandan_Personal_Folder/CODE_STUFF/Projects/mathematricks/venv/lib/python3.10/site-packages/pandas/core/arrays/_mixins.py:208(argmin)\n",
      "  5756843    9.614    0.000   58.519    0.000 /Users/vandanchopra/Vandan_Personal_Folder/CODE_STUFF/Projects/mathematricks/venv/lib/python3.10/site-packages/pandas/core/frame.py:4050(__getitem__)\n",
      "  5088400    5.354    0.000   55.517    0.000 /Users/vandanchopra/Vandan_Personal_Folder/CODE_STUFF/Projects/mathematricks/venv/lib/python3.10/site-packages/pandas/core/internals/blocks.py:387(apply)\n",
      "  5088400    6.002    0.000   55.501    0.000 /Users/vandanchopra/Vandan_Personal_Folder/CODE_STUFF/Projects/mathematricks/venv/lib/python3.10/site-packages/pandas/core/sorting.py:453(nargminmax)\n",
      " 10176800   11.275    0.000   55.030    0.000 /Users/vandanchopra/Vandan_Personal_Folder/CODE_STUFF/Projects/mathematricks/venv/lib/python3.10/site-packages/pandas/core/frame.py:4179(_get_value)\n",
      "  5088400   23.341    0.000   51.131    0.000 /Users/vandanchopra/Vandan_Personal_Folder/CODE_STUFF/Projects/mathematricks/venv/lib/python3.10/site-packages/pandas/core/arrays/datetimelike.py:1156(_sub_datetimelike)\n",
      " 18562409   10.989    0.000   41.743    0.000 /Users/vandanchopra/Vandan_Personal_Folder/CODE_STUFF/Projects/mathematricks/venv/lib/python3.10/site-packages/pandas/core/generic.py:6295(__setattr__)\n",
      " 11501427   25.980    0.000   35.131    0.000 /Users/vandanchopra/Vandan_Personal_Folder/CODE_STUFF/Projects/mathematricks/venv/lib/python3.10/site-packages/pandas/core/generic.py:6230(__finalize__)\n",
      "\n",
      "\n"
     ]
    },
    {
     "data": {
      "text/plain": [
       "<pstats.Stats at 0x10a01efb0>"
      ]
     },
     "execution_count": 14,
     "metadata": {},
     "output_type": "execute_result"
    }
   ],
   "source": [
    "# run cProfile on the code\n",
    "import pstats\n",
    "p = pstats.Stats('restats')\n",
    "p.sort_stats('cumulative').print_stats(30)\n"
   ]
  },
  {
   "cell_type": "markdown",
   "id": "842c740d",
   "metadata": {},
   "source": [
    "# BACKTEST ANALYSIS"
   ]
  },
  {
   "cell_type": "code",
   "execution_count": 52,
   "id": "e64821e0-31f1-4e72-aba3-b82c5a371733",
   "metadata": {},
   "outputs": [],
   "source": [
    "from analysis_utils import BacktestAnalyzer, compare_two_backtests, BackTestManager\n",
    "import quantstats_lumi as qs\n",
    "BTM = BackTestManager()"
   ]
  },
  {
   "cell_type": "code",
   "execution_count": 53,
   "id": "5a7cf8bc",
   "metadata": {},
   "outputs": [
    {
     "name": "stdout",
     "output_type": "stream",
     "text": [
      "{'backtest_files': ['Test_8.pkl', 'Test_9.pkl', 'Test_8_analysis.html', '.DS_Store', 'Test_5_analysis.html', 'Test_1_analysis.html', 'Test_6_analysis.html', 'Test_2_analysis.html', 'Test_3_analysis.html', 'Test_7_analysis.html', 'backtests_table.csv', 'Test_0_analysis.html', 'Test_4_analysis.html', 'Test_1.pkl', 'Test_0.pkl', 'Test_2.pkl', 'Test_3.pkl', 'Test_7.pkl', 'Test_6.pkl', 'Test_4.pkl', 'Test_5.pkl']}\n",
      "Remade backtests table\n"
     ]
    },
    {
     "data": {
      "text/html": [
       "<div>\n",
       "<style scoped>\n",
       "    .dataframe tbody tr th:only-of-type {\n",
       "        vertical-align: middle;\n",
       "    }\n",
       "\n",
       "    .dataframe tbody tr th {\n",
       "        vertical-align: top;\n",
       "    }\n",
       "\n",
       "    .dataframe thead th {\n",
       "        text-align: right;\n",
       "    }\n",
       "</style>\n",
       "<table border=\"1\" class=\"dataframe\">\n",
       "  <thead>\n",
       "    <tr style=\"text-align: right;\">\n",
       "      <th></th>\n",
       "      <th>1</th>\n",
       "      <th>0</th>\n",
       "      <th>6</th>\n",
       "      <th>7</th>\n",
       "      <th>9</th>\n",
       "      <th>8</th>\n",
       "      <th>5</th>\n",
       "      <th>4</th>\n",
       "      <th>2</th>\n",
       "      <th>3</th>\n",
       "    </tr>\n",
       "  </thead>\n",
       "  <tbody>\n",
       "    <tr>\n",
       "      <th>test_run_dt</th>\n",
       "      <td>24-03-19 00:32:38</td>\n",
       "      <td>24-03-19 00:28:14</td>\n",
       "      <td>24-03-19 00:25:44</td>\n",
       "      <td>24-03-19 00:25:05</td>\n",
       "      <td>24-03-19 00:23:55</td>\n",
       "      <td>24-03-18 14:49:20</td>\n",
       "      <td>24-03-15 07:20:46</td>\n",
       "      <td>24-03-15 06:33:53</td>\n",
       "      <td>24-03-15 05:46:48</td>\n",
       "      <td>24-03-15 05:30:28</td>\n",
       "    </tr>\n",
       "    <tr>\n",
       "      <th>strategy_name</th>\n",
       "      <td>smooth_operator</td>\n",
       "      <td>smooth_operator</td>\n",
       "      <td>smooth_operator</td>\n",
       "      <td>smooth_operator</td>\n",
       "      <td>smooth_operator</td>\n",
       "      <td>smooth_operator</td>\n",
       "      <td>smooth_operator</td>\n",
       "      <td>smooth_operator</td>\n",
       "      <td>smooth_operator</td>\n",
       "      <td>smooth_operator</td>\n",
       "    </tr>\n",
       "    <tr>\n",
       "      <th>start_date_dt</th>\n",
       "      <td>2000-02-28</td>\n",
       "      <td>2023-02-28</td>\n",
       "      <td>2023-02-28</td>\n",
       "      <td>2023-02-28</td>\n",
       "      <td>2023-02-28</td>\n",
       "      <td>2023-01-01</td>\n",
       "      <td>1980-01-01</td>\n",
       "      <td>1980-01-01</td>\n",
       "      <td>1980-01-01</td>\n",
       "      <td>1980-01-01</td>\n",
       "    </tr>\n",
       "    <tr>\n",
       "      <th>end_date_dt</th>\n",
       "      <td>2005-02-28</td>\n",
       "      <td>2024-02-28</td>\n",
       "      <td>2024-02-28</td>\n",
       "      <td>2024-02-28</td>\n",
       "      <td>2024-02-28</td>\n",
       "      <td>2024-02-28</td>\n",
       "      <td>2010-12-31</td>\n",
       "      <td>2010-12-31</td>\n",
       "      <td>2010-12-31</td>\n",
       "      <td>2010-12-31</td>\n",
       "    </tr>\n",
       "    <tr>\n",
       "      <th>rebalance_frequency</th>\n",
       "      <td>7</td>\n",
       "      <td>7</td>\n",
       "      <td>7</td>\n",
       "      <td>30</td>\n",
       "      <td>30</td>\n",
       "      <td>30</td>\n",
       "      <td>15</td>\n",
       "      <td>15</td>\n",
       "      <td>30</td>\n",
       "      <td>30</td>\n",
       "    </tr>\n",
       "    <tr>\n",
       "      <th>long_count</th>\n",
       "      <td>10</td>\n",
       "      <td>10</td>\n",
       "      <td>10</td>\n",
       "      <td>10</td>\n",
       "      <td>10</td>\n",
       "      <td>10</td>\n",
       "      <td>10</td>\n",
       "      <td>10</td>\n",
       "      <td>10</td>\n",
       "      <td>10</td>\n",
       "    </tr>\n",
       "    <tr>\n",
       "      <th>short_count</th>\n",
       "      <td>0</td>\n",
       "      <td>0</td>\n",
       "      <td>0</td>\n",
       "      <td>0</td>\n",
       "      <td>0</td>\n",
       "      <td>0</td>\n",
       "      <td>10</td>\n",
       "      <td>0</td>\n",
       "      <td>0</td>\n",
       "      <td>0</td>\n",
       "    </tr>\n",
       "    <tr>\n",
       "      <th>portfolio_starting_value</th>\n",
       "      <td>100000</td>\n",
       "      <td>100000</td>\n",
       "      <td>100000</td>\n",
       "      <td>100000</td>\n",
       "      <td>100000</td>\n",
       "      <td>100000</td>\n",
       "      <td>100000</td>\n",
       "      <td>100000</td>\n",
       "      <td>100000</td>\n",
       "      <td>100000</td>\n",
       "    </tr>\n",
       "    <tr>\n",
       "      <th>risk_pct</th>\n",
       "      <td>0.1</td>\n",
       "      <td>0.1</td>\n",
       "      <td>0.1</td>\n",
       "      <td>0.1</td>\n",
       "      <td>0.05</td>\n",
       "      <td>0.05</td>\n",
       "      <td>0.05</td>\n",
       "      <td>0.05</td>\n",
       "      <td>0.1</td>\n",
       "      <td>0.05</td>\n",
       "    </tr>\n",
       "    <tr>\n",
       "      <th>reinvest_profits_bool</th>\n",
       "      <td>False</td>\n",
       "      <td>False</td>\n",
       "      <td>False</td>\n",
       "      <td>False</td>\n",
       "      <td>False</td>\n",
       "      <td>False</td>\n",
       "      <td>False</td>\n",
       "      <td>False</td>\n",
       "      <td>False</td>\n",
       "      <td>False</td>\n",
       "    </tr>\n",
       "    <tr>\n",
       "      <th>leverage_multiplier</th>\n",
       "      <td>1.0</td>\n",
       "      <td>1.0</td>\n",
       "      <td>1.0</td>\n",
       "      <td>1.0</td>\n",
       "      <td>1.0</td>\n",
       "      <td>1.0</td>\n",
       "      <td>1.0</td>\n",
       "      <td>1.0</td>\n",
       "      <td>1.0</td>\n",
       "      <td>1.0</td>\n",
       "    </tr>\n",
       "    <tr>\n",
       "      <th>test_filename</th>\n",
       "      <td>Test_9.pkl</td>\n",
       "      <td>Test_8.pkl</td>\n",
       "      <td>Test_7.pkl</td>\n",
       "      <td>Test_6.pkl</td>\n",
       "      <td>Test_5.pkl</td>\n",
       "      <td>Test_4.pkl</td>\n",
       "      <td>Test_3.pkl</td>\n",
       "      <td>Test_2.pkl</td>\n",
       "      <td>Test_1.pkl</td>\n",
       "      <td>Test_0.pkl</td>\n",
       "    </tr>\n",
       "  </tbody>\n",
       "</table>\n",
       "</div>"
      ],
      "text/plain": [
       "                                          1                  0  \\\n",
       "test_run_dt               24-03-19 00:32:38  24-03-19 00:28:14   \n",
       "strategy_name               smooth_operator    smooth_operator   \n",
       "start_date_dt                    2000-02-28         2023-02-28   \n",
       "end_date_dt                      2005-02-28         2024-02-28   \n",
       "rebalance_frequency                       7                  7   \n",
       "long_count                               10                 10   \n",
       "short_count                               0                  0   \n",
       "portfolio_starting_value             100000             100000   \n",
       "risk_pct                                0.1                0.1   \n",
       "reinvest_profits_bool                 False              False   \n",
       "leverage_multiplier                     1.0                1.0   \n",
       "test_filename                    Test_9.pkl         Test_8.pkl   \n",
       "\n",
       "                                          6                  7  \\\n",
       "test_run_dt               24-03-19 00:25:44  24-03-19 00:25:05   \n",
       "strategy_name               smooth_operator    smooth_operator   \n",
       "start_date_dt                    2023-02-28         2023-02-28   \n",
       "end_date_dt                      2024-02-28         2024-02-28   \n",
       "rebalance_frequency                       7                 30   \n",
       "long_count                               10                 10   \n",
       "short_count                               0                  0   \n",
       "portfolio_starting_value             100000             100000   \n",
       "risk_pct                                0.1                0.1   \n",
       "reinvest_profits_bool                 False              False   \n",
       "leverage_multiplier                     1.0                1.0   \n",
       "test_filename                    Test_7.pkl         Test_6.pkl   \n",
       "\n",
       "                                          9                  8  \\\n",
       "test_run_dt               24-03-19 00:23:55  24-03-18 14:49:20   \n",
       "strategy_name               smooth_operator    smooth_operator   \n",
       "start_date_dt                    2023-02-28         2023-01-01   \n",
       "end_date_dt                      2024-02-28         2024-02-28   \n",
       "rebalance_frequency                      30                 30   \n",
       "long_count                               10                 10   \n",
       "short_count                               0                  0   \n",
       "portfolio_starting_value             100000             100000   \n",
       "risk_pct                               0.05               0.05   \n",
       "reinvest_profits_bool                 False              False   \n",
       "leverage_multiplier                     1.0                1.0   \n",
       "test_filename                    Test_5.pkl         Test_4.pkl   \n",
       "\n",
       "                                          5                  4  \\\n",
       "test_run_dt               24-03-15 07:20:46  24-03-15 06:33:53   \n",
       "strategy_name               smooth_operator    smooth_operator   \n",
       "start_date_dt                    1980-01-01         1980-01-01   \n",
       "end_date_dt                      2010-12-31         2010-12-31   \n",
       "rebalance_frequency                      15                 15   \n",
       "long_count                               10                 10   \n",
       "short_count                              10                  0   \n",
       "portfolio_starting_value             100000             100000   \n",
       "risk_pct                               0.05               0.05   \n",
       "reinvest_profits_bool                 False              False   \n",
       "leverage_multiplier                     1.0                1.0   \n",
       "test_filename                    Test_3.pkl         Test_2.pkl   \n",
       "\n",
       "                                          2                  3  \n",
       "test_run_dt               24-03-15 05:46:48  24-03-15 05:30:28  \n",
       "strategy_name               smooth_operator    smooth_operator  \n",
       "start_date_dt                    1980-01-01         1980-01-01  \n",
       "end_date_dt                      2010-12-31         2010-12-31  \n",
       "rebalance_frequency                      30                 30  \n",
       "long_count                               10                 10  \n",
       "short_count                               0                  0  \n",
       "portfolio_starting_value             100000             100000  \n",
       "risk_pct                                0.1               0.05  \n",
       "reinvest_profits_bool                 False              False  \n",
       "leverage_multiplier                     1.0                1.0  \n",
       "test_filename                    Test_1.pkl         Test_0.pkl  "
      ]
     },
     "execution_count": 53,
     "metadata": {},
     "output_type": "execute_result"
    }
   ],
   "source": [
    "backtests_table = BTM.remake_backtests_table()\n",
    "backtests_table = BTM.load_backtests_table()\n",
    "# show me all columns except 'symbols'\n",
    "backtests_table.drop(columns=['symbols'], inplace=True)\n",
    "# backtests_table[backtests_table['reinvest_profits_bool'] == False][backtests_table['strategy_name'] == 'smooth_operator']\n",
    "backtests_table['test_filename'] = backtests_table['test_filename'].apply(lambda x: x.split('/')[-1])\n",
    "# Convert test_run_dt to datetime\n",
    "backtests_table['test_run_dt'] = pd.to_datetime(backtests_table['test_run_dt'])\n",
    "# Convert test_run_dt to string\n",
    "backtests_table['test_run_dt'] = backtests_table['test_run_dt'].dt.strftime('%y-%m-%d %H:%M:%S')\n",
    "backtests_table.transpose()"
   ]
  },
  {
   "cell_type": "code",
   "execution_count": 54,
   "id": "d0eb3934",
   "metadata": {},
   "outputs": [
    {
     "name": "stderr",
     "output_type": "stream",
     "text": [
      "/Users/vandanchopra/Vandan_Personal_Folder/CODE_STUFF/Projects/mathematricks/venv/lib/python3.10/site-packages/yfinance/utils.py:775: FutureWarning: The 'unit' keyword in TimedeltaIndex construction is deprecated and will be removed in a future version. Use pd.to_timedelta instead.\n",
      "  df.index += _pd.TimedeltaIndex(dst_error_hours, 'h')\n",
      "[*********************100%%**********************]  1 of 1 completed\n"
     ]
    },
    {
     "name": "stdout",
     "output_type": "stream",
     "text": [
      "Profit in Mn: 0.10349351472042799\n",
      "Saved report to /Users/vandanchopra/Vandan_Personal_Folder/CODE_STUFF/Projects/mathematricks/backtests/Test_9_analysis.html\n"
     ]
    }
   ],
   "source": [
    "# Create reports for all tests that don't have reports\n",
    "for test_num in range(len(backtests_table)):\n",
    "    test = BTM.load_test(test_num)\n",
    "    backtests_table.iloc[test_num]['test_filename']\n",
    "    test_file_path = BTM.get_test_filepath_from_backtests_table(test_num)\n",
    "    report_filepath = test_file_path.replace('.pkl', '_analysis.html')\n",
    "    if not os.path.exists(report_filepath):\n",
    "        BacktestAnalyzer(test).create_test_full_tearsheet(test_num)\n",
    "        print(f\"Saved report to {report_filepath}\")"
   ]
  },
  {
   "cell_type": "code",
   "execution_count": 55,
   "id": "fcf0d6d5",
   "metadata": {},
   "outputs": [],
   "source": [
    "# Choose Test\n",
    "# test_num = 2\n",
    "# test = BTM.load_test(test_num)\n",
    "test = test_1"
   ]
  },
  {
   "cell_type": "code",
   "execution_count": 56,
   "id": "9778ea37",
   "metadata": {},
   "outputs": [
    {
     "data": {
      "text/plain": [
       "[<matplotlib.lines.Line2D at 0x16cd89b70>]"
      ]
     },
     "execution_count": 56,
     "metadata": {},
     "output_type": "execute_result"
    },
    {
     "data": {
      "image/png": "[encoded data removed]",
      "text/plain": [
       "<Figure size 1500x500 with 1 Axes>"
      ]
     },
     "metadata": {},
     "output_type": "display_data"
    }
   ],
   "source": [
    "plt.figure(figsize=(15, 5))\n",
    "plt.plot(np.cumsum(test['backtest_profits']))"
   ]
  },
  {
   "cell_type": "code",
   "execution_count": 57,
   "id": "23fffe71",
   "metadata": {},
   "outputs": [
    {
     "name": "stdout",
     "output_type": "stream",
     "text": [
      "{'total': {'win_ratio': 0.48812260536398466,\n",
      "           'average_win': 390.4995705988287,\n",
      "           'average_loss': -319.8075797260388,\n",
      "           'risk_reward_ratio': 1.2210453890221982,\n",
      "           'pct_of_stoploss_hit': 0.9494252873563218,\n",
      "           'probability_of_profit': 0.5960198565571956}}\n"
     ]
    }
   ],
   "source": [
    "BA = BacktestAnalyzer(test)\n",
    "# Create orders df\n",
    "orders_df = BA.create_orders_df()\n",
    "\n",
    "final_dict = BA.test_metrics_orders(orders_df)\n",
    "pprint(final_dict, sort_dicts=False)"
   ]
  },
  {
   "cell_type": "code",
   "execution_count": 50,
   "id": "eae42cd7",
   "metadata": {},
   "outputs": [
    {
     "data": {
      "text/plain": [
       "Index(['RMBS', 'RIOT', 'GFF', 'MELI', 'PARR', 'STN', 'IREN', 'PAA', 'KINS',\n",
       "       'HCM'],\n",
       "      dtype='object', name='symbol')"
      ]
     },
     "execution_count": 50,
     "metadata": {},
     "output_type": "execute_result"
    }
   ],
   "source": [
    "# Give me the top 10 shorted assets\n",
    "orders_df = orders_df[orders_df['direction'] == 1.0]\n",
    "top_10_assets =  orders_df['symbol'].value_counts().head(10).index\n",
    "top_10_assets"
   ]
  },
  {
   "cell_type": "code",
   "execution_count": 33,
   "id": "dbc1d34d",
   "metadata": {},
   "outputs": [
    {
     "ename": "ValueError",
     "evalue": "a must be greater than 0 unless no samples are taken",
     "output_type": "error",
     "traceback": [
      "\u001b[0;31m---------------------------------------------------------------------------\u001b[0m",
      "\u001b[0;31mValueError\u001b[0m                                Traceback (most recent call last)",
      "Cell \u001b[0;32mIn[33], line 9\u001b[0m\n\u001b[1;32m      7\u001b[0m pruned_orders_df \u001b[38;5;241m=\u001b[39m short_orders_df\n\u001b[1;32m      8\u001b[0m \u001b[38;5;28;01mfor\u001b[39;00m i, symbol \u001b[38;5;129;01min\u001b[39;00m \u001b[38;5;28menumerate\u001b[39m(top_10_shorted_assets):\n\u001b[0;32m----> 9\u001b[0m     asset_data, min_date, max_date, ax \u001b[38;5;241m=\u001b[39m \u001b[43mBA\u001b[49m\u001b[38;5;241;43m.\u001b[39;49m\u001b[43meyeball_symbol\u001b[49m\u001b[43m(\u001b[49m\u001b[43msymbol\u001b[49m\u001b[43m,\u001b[49m\u001b[43m \u001b[49m\u001b[43mtest\u001b[49m\u001b[43m,\u001b[49m\u001b[43m \u001b[49m\u001b[43mpruned_orders_df\u001b[49m\u001b[43m,\u001b[49m\u001b[43m \u001b[49m\u001b[43mfigsize\u001b[49m\u001b[38;5;241;43m=\u001b[39;49m\u001b[43m(\u001b[49m\u001b[38;5;241;43m15\u001b[39;49m\u001b[43m,\u001b[49m\u001b[43m \u001b[49m\u001b[38;5;241;43m6\u001b[39;49m\u001b[43m)\u001b[49m\u001b[43m,\u001b[49m\u001b[43m \u001b[49m\u001b[43morders_to_show\u001b[49m\u001b[38;5;241;43m=\u001b[39;49m\u001b[38;5;241;43m1\u001b[39;49m\u001b[43m)\u001b[49m\n\u001b[1;32m     10\u001b[0m     ax\u001b[38;5;241m.\u001b[39mset_title(symbol)\n\u001b[1;32m     11\u001b[0m     ax\u001b[38;5;241m.\u001b[39mset_ylabel(\u001b[38;5;124m'\u001b[39m\u001b[38;5;124mPrice\u001b[39m\u001b[38;5;124m'\u001b[39m)\n",
      "File \u001b[0;32m~/Vandan_Personal_Folder/CODE_STUFF/Projects/mathematricks/dev/../analysis_utils.py:599\u001b[0m, in \u001b[0;36mBacktestAnalyzer.eyeball_symbol\u001b[0;34m(self, symbol, test, orders_df, figsize, orders_to_show)\u001b[0m\n\u001b[1;32m    597\u001b[0m asset_orders_df \u001b[38;5;241m=\u001b[39m orders_df[orders_df[\u001b[38;5;124m'\u001b[39m\u001b[38;5;124msymbol\u001b[39m\u001b[38;5;124m'\u001b[39m] \u001b[38;5;241m==\u001b[39m symbol]\n\u001b[1;32m    598\u001b[0m \u001b[38;5;28;01mif\u001b[39;00m orders_to_show:\n\u001b[0;32m--> 599\u001b[0m     asset_orders_df \u001b[38;5;241m=\u001b[39m \u001b[43masset_orders_df\u001b[49m\u001b[38;5;241;43m.\u001b[39;49m\u001b[43msample\u001b[49m\u001b[43m(\u001b[49m\u001b[43morders_to_show\u001b[49m\u001b[43m)\u001b[49m\n\u001b[1;32m    600\u001b[0m     min_date \u001b[38;5;241m=\u001b[39m asset_orders_df[\u001b[38;5;124m'\u001b[39m\u001b[38;5;124mentry_dt\u001b[39m\u001b[38;5;124m'\u001b[39m]\u001b[38;5;241m.\u001b[39mmin() \u001b[38;5;241m-\u001b[39m dt\u001b[38;5;241m.\u001b[39mtimedelta(days\u001b[38;5;241m=\u001b[39m\u001b[38;5;241m10\u001b[39m)\n\u001b[1;32m    601\u001b[0m     max_date \u001b[38;5;241m=\u001b[39m asset_orders_df[\u001b[38;5;124m'\u001b[39m\u001b[38;5;124mexit_dt\u001b[39m\u001b[38;5;124m'\u001b[39m]\u001b[38;5;241m.\u001b[39mmax() \u001b[38;5;241m+\u001b[39m dt\u001b[38;5;241m.\u001b[39mtimedelta(days\u001b[38;5;241m=\u001b[39m\u001b[38;5;241m10\u001b[39m)\n",
      "File \u001b[0;32m~/Vandan_Personal_Folder/CODE_STUFF/Projects/mathematricks/venv/lib/python3.10/site-packages/pandas/core/generic.py:6112\u001b[0m, in \u001b[0;36mNDFrame.sample\u001b[0;34m(self, n, frac, replace, weights, random_state, axis, ignore_index)\u001b[0m\n\u001b[1;32m   6109\u001b[0m \u001b[38;5;28;01mif\u001b[39;00m weights \u001b[38;5;129;01mis\u001b[39;00m \u001b[38;5;129;01mnot\u001b[39;00m \u001b[38;5;28;01mNone\u001b[39;00m:\n\u001b[1;32m   6110\u001b[0m     weights \u001b[38;5;241m=\u001b[39m sample\u001b[38;5;241m.\u001b[39mpreprocess_weights(\u001b[38;5;28mself\u001b[39m, weights, axis)\n\u001b[0;32m-> 6112\u001b[0m sampled_indices \u001b[38;5;241m=\u001b[39m \u001b[43msample\u001b[49m\u001b[38;5;241;43m.\u001b[39;49m\u001b[43msample\u001b[49m\u001b[43m(\u001b[49m\u001b[43mobj_len\u001b[49m\u001b[43m,\u001b[49m\u001b[43m \u001b[49m\u001b[43msize\u001b[49m\u001b[43m,\u001b[49m\u001b[43m \u001b[49m\u001b[43mreplace\u001b[49m\u001b[43m,\u001b[49m\u001b[43m \u001b[49m\u001b[43mweights\u001b[49m\u001b[43m,\u001b[49m\u001b[43m \u001b[49m\u001b[43mrs\u001b[49m\u001b[43m)\u001b[49m\n\u001b[1;32m   6113\u001b[0m result \u001b[38;5;241m=\u001b[39m \u001b[38;5;28mself\u001b[39m\u001b[38;5;241m.\u001b[39mtake(sampled_indices, axis\u001b[38;5;241m=\u001b[39maxis)\n\u001b[1;32m   6115\u001b[0m \u001b[38;5;28;01mif\u001b[39;00m ignore_index:\n",
      "File \u001b[0;32m~/Vandan_Personal_Folder/CODE_STUFF/Projects/mathematricks/venv/lib/python3.10/site-packages/pandas/core/sample.py:152\u001b[0m, in \u001b[0;36msample\u001b[0;34m(obj_len, size, replace, weights, random_state)\u001b[0m\n\u001b[1;32m    149\u001b[0m     \u001b[38;5;28;01melse\u001b[39;00m:\n\u001b[1;32m    150\u001b[0m         \u001b[38;5;28;01mraise\u001b[39;00m \u001b[38;5;167;01mValueError\u001b[39;00m(\u001b[38;5;124m\"\u001b[39m\u001b[38;5;124mInvalid weights: weights sum to zero\u001b[39m\u001b[38;5;124m\"\u001b[39m)\n\u001b[0;32m--> 152\u001b[0m \u001b[38;5;28;01mreturn\u001b[39;00m \u001b[43mrandom_state\u001b[49m\u001b[38;5;241;43m.\u001b[39;49m\u001b[43mchoice\u001b[49m\u001b[43m(\u001b[49m\u001b[43mobj_len\u001b[49m\u001b[43m,\u001b[49m\u001b[43m \u001b[49m\u001b[43msize\u001b[49m\u001b[38;5;241;43m=\u001b[39;49m\u001b[43msize\u001b[49m\u001b[43m,\u001b[49m\u001b[43m \u001b[49m\u001b[43mreplace\u001b[49m\u001b[38;5;241;43m=\u001b[39;49m\u001b[43mreplace\u001b[49m\u001b[43m,\u001b[49m\u001b[43m \u001b[49m\u001b[43mp\u001b[49m\u001b[38;5;241;43m=\u001b[39;49m\u001b[43mweights\u001b[49m\u001b[43m)\u001b[49m\u001b[38;5;241m.\u001b[39mastype(\n\u001b[1;32m    153\u001b[0m     np\u001b[38;5;241m.\u001b[39mintp, copy\u001b[38;5;241m=\u001b[39m\u001b[38;5;28;01mFalse\u001b[39;00m\n\u001b[1;32m    154\u001b[0m )\n",
      "File \u001b[0;32mnumpy/random/mtrand.pyx:945\u001b[0m, in \u001b[0;36mnumpy.random.mtrand.RandomState.choice\u001b[0;34m()\u001b[0m\n",
      "\u001b[0;31mValueError\u001b[0m: a must be greater than 0 unless no samples are taken"
     ]
    }
   ],
   "source": [
    "# Give me the top 10 shorted assets\n",
    "orders_df = orders_df[orders_df['direction'] == 1.0]\n",
    "top_10_assets =  orders_df['symbol'].value_counts().head(10).index\n",
    "\n",
    "# use the eye ball function to see the trades for the top 10 traded assets on one big graph with subplots\n",
    "\n",
    "pruned_orders_df = short_orders_df\n",
    "for i, symbol in enumerate(top_10_shorted_assets):\n",
    "    asset_data, min_date, max_date, ax = BA.eyeball_symbol(symbol, test, pruned_orders_df, figsize=(15, 6), orders_to_show=1)\n",
    "    ax.set_title(symbol)\n",
    "    ax.set_ylabel('Price')\n",
    "    ax.set_xlabel('Date')\n",
    "    ax.legend()\n",
    "    \n",
    "# # Give me the top 10 traded assets\n",
    "# top_10_traded_assets =  orders_df['symbol'].value_counts().head(10).index\n",
    "\n",
    "# pruned_orders_df = orders_df\n",
    "# for i, symbol in enumerate(top_10_shorted_assets):\n",
    "#     asset_data, ax = BA.eyeball_symbol(symbol, test, pruned_orders_df)\n",
    "#     ax.set_title(symbol)\n",
    "#     ax.set_ylabel('Price')\n",
    "#     ax.set_xlabel('Date')\n",
    "#     ax.legend()\n"
   ]
  },
  {
   "cell_type": "code",
   "execution_count": null,
   "id": "18a12ea7",
   "metadata": {},
   "outputs": [],
   "source": []
  }
 ],
 "metadata": {
  "kernelspec": {
   "display_name": "Python 3 (ipykernel)",
   "language": "python",
   "name": "python3"
  },
  "language_info": {
   "codemirror_mode": {
    "name": "ipython",
    "version": 3
   },
   "file_extension": ".py",
   "mimetype": "text/x-python",
   "name": "python",
   "nbconvert_exporter": "python",
   "pygments_lexer": "ipython3",
   "version": "3.10.2"
  }
 },
 "nbformat": 4,
 "nbformat_minor": 5
}
