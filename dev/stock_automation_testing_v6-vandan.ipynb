{
 "cells": [
  {
   "cell_type": "raw",
   "id": "0ee1a620",
   "metadata": {},
   "source": [
    "(DONE) 1) Function to update the tests_index file. make sure your tests are not being pushed to git.\n",
    "(DONE) 2) Load the strategy dynamically by using the strategy name\n",
    "(DONE) 2) Fix up the metrics one by one with quantstats. See if u want to break up your metrics into different functions each.\n",
    "(DONE) 6) Write the code to make a dict of symbols and how often they were traded. Create a pandas dataframe and view it.\n",
    "(DONE) 7) After that, get the buy, sell (profit, loss, stoploss) for one asset, and plot it on a graph to see entries and exits. (Check this for the top 10 stocks + random 10 stocks) - Write the code to make all the graphs together.\n",
    "(DONE) 3) Test if shorting is done accurately.\n",
    "(DONE) 2) Find out how to fix 'leverage' in the tearsheets.\n",
    "4) Create a test score function.\n",
    "5) Figure out if there is a look-ahead bias in the strategy.\n",
    "6) There needs to be a folder where tests are dumped, like a temp folder, and good tests are moved to the final folder\n",
    "-------\n",
    "Now start testing your strategy:\n",
    "\n",
    "'''"
   ]
  },
  {
   "cell_type": "code",
   "execution_count": 1,
   "id": "dd746c26-b087-47d4-8d0e-943f42d2e993",
   "metadata": {},
   "outputs": [],
   "source": [
    "%load_ext autoreload\n",
    "%autoreload 2\n",
    "%matplotlib inline"
   ]
  },
  {
   "cell_type": "code",
   "execution_count": 2,
   "id": "8d1b4752-fa95-4da2-a52c-35aabbb2308f",
   "metadata": {},
   "outputs": [],
   "source": [
    "# Imports\n",
    "import sys\n",
    "project_path = '../'\n",
    "sys.path.append(project_path)\n",
    "from backtest_utils import TradingSimulator\n",
    "import pickle, os\n",
    "from datetime import datetime\n",
    "\n",
    "# Optional Imports\n",
    "import numpy as np\n",
    "import matplotlib.pyplot as plt\n",
    "import pandas as pd\n",
    "from matplotlib import figure\n",
    "from pprint import pprint"
   ]
  },
  {
   "cell_type": "markdown",
   "id": "63743989",
   "metadata": {},
   "source": [
    "# Run a Backtest"
   ]
  },
  {
   "cell_type": "code",
   "execution_count": 3,
   "id": "d52d19b5-00ff-4eaa-a26c-e7fd31b459ae",
   "metadata": {},
   "outputs": [],
   "source": [
    "strategy_name = 'smooth_operator'\n",
    "\n",
    "TS = TradingSimulator(strategy_name)\n",
    "\n",
    "# Dump New symbols into the stock_symbols.pkl\n",
    "stock_symbols_pickle = project_path + 'stock_symbols.pkl'  # Name of the pickle file\n",
    "symbols = []  # Example list of stock symbols\n",
    "if len(symbols) > 0:\n",
    "    TS.SAU.add_stock_symbols_to_pickle(symbols, stock_symbols_pickle)"
   ]
  },
  {
   "cell_type": "code",
   "execution_count": 4,
   "id": "33c3c691-4f55-455c-848b-48272ab94415",
   "metadata": {},
   "outputs": [],
   "source": [
    "# Load the data from 'stock_symbols.pkl' into a variable called 'symbols'\n",
    "with open(stock_symbols_pickle, 'rb') as file:\n",
    "    symbols = pickle.load(file)"
   ]
  },
  {
   "cell_type": "code",
   "execution_count": 5,
   "id": "c7548bf6-a26d-41f2-bdb4-4babfce55b30",
   "metadata": {},
   "outputs": [],
   "source": [
    "stock_symbols_pickle = project_path + 'stock_symbols.pkl'  # Name of the pickle file\n",
    "# TS.SAU.update_stock_data(pickle_file=stock_symbols_pickle)"
   ]
  },
  {
   "cell_type": "code",
   "execution_count": 6,
   "id": "2769bc09-d232-43db-bd97-5393d298abc6",
   "metadata": {},
   "outputs": [
    {
     "name": "stderr",
     "output_type": "stream",
     "text": [
      "Running backtest: 2010-12-19 - 2010-12-31: 100%|██████████| 378/378 [15:50<00:00,  2.51s/it, Profit=-1.8e+3] \n"
     ]
    },
    {
     "name": "stdout",
     "output_type": "stream",
     "text": [
      "Backtest results saved to /Users/vandanchopra/Vandan_Personal_Folder/CODE_STUFF/Projects/mathematricks/backtests/Test_0.pkl\n"
     ]
    },
    {
     "name": "stderr",
     "output_type": "stream",
     "text": [
      "Running backtest: 2010-12-19 - 2010-12-31: 100%|██████████| 378/378 [15:51<00:00,  2.52s/it, Profit=-4805.23]\n"
     ]
    },
    {
     "name": "stdout",
     "output_type": "stream",
     "text": [
      "Backtest results saved to /Users/vandanchopra/Vandan_Personal_Folder/CODE_STUFF/Projects/mathematricks/backtests/Test_1.pkl\n"
     ]
    },
    {
     "name": "stderr",
     "output_type": "stream",
     "text": [
      "Running backtest: 2010-12-19 - 2010-12-31: 100%|██████████| 755/755 [46:37<00:00,  3.70s/it, Profit=2935.35] \n"
     ]
    },
    {
     "name": "stdout",
     "output_type": "stream",
     "text": [
      "Backtest results saved to /Users/vandanchopra/Vandan_Personal_Folder/CODE_STUFF/Projects/mathematricks/backtests/Test_2.pkl\n"
     ]
    },
    {
     "name": "stderr",
     "output_type": "stream",
     "text": [
      "Running backtest: 2010-12-19 - 2010-12-31: 100%|██████████| 755/755 [46:27<00:00,  3.69s/it, Profit=955]     \n"
     ]
    },
    {
     "name": "stdout",
     "output_type": "stream",
     "text": [
      "Backtest results saved to /Users/vandanchopra/Vandan_Personal_Folder/CODE_STUFF/Projects/mathematricks/backtests/Test_3.pkl\n"
     ]
    }
   ],
   "source": [
    "from backtest_utils import TradingSimulator\n",
    "start_date = '1980-01-01'\n",
    "end_date = '2010-12-31'\n",
    "start_date_dt = datetime.strptime(start_date, \"%Y-%m-%d\")\n",
    "end_date_dt = datetime.strptime(end_date, \"%Y-%m-%d\")\n",
    "rebalance_frequency = 30  # In days\n",
    "# create a numpy array of numbers 15 days apart from 0 to 365\n",
    "long_count = 10\n",
    "short_count = 0\n",
    "portfolio_starting_value = 100000\n",
    "risk_pct = 0.1\n",
    "reinvest_profits_bool = True\n",
    "leverage_multiplier = 1.0\n",
    "strategy_name = 'smooth_operator'\n",
    "save_test = True\n",
    "\n",
    "# Run the backtest\n",
    "''' \n",
    "BEST TEST RESULTS\n",
    "TS_leverage = TradingSimulator(strategy_name)\n",
    "risk_pct = 0.05\n",
    "leverage_multiplier = 3.0\n",
    "long_count = 10\n",
    "short_count = 0\n",
    "reinvest_profits_bool = False\n",
    "test_2 = TS_leverage.run_backtest(symbols, start_date_dt, end_date_dt, rebalance_frequency, long_count, short_count, portfolio_starting_value, risk_pct, reinvest_profits_bool, leverage_multiplier=leverage_multiplier, save_test=save_test)\n",
    "\n",
    "'''\n",
    "TS_leverage = TradingSimulator(strategy_name)\n",
    "risk_pct = 0.05\n",
    "leverage_multiplier = 1.0\n",
    "long_count = 10\n",
    "short_count = 0\n",
    "reinvest_profits_bool = False\n",
    "rebalance_frequency = 30  # In days\n",
    "test_1 = TS_leverage.run_backtest(symbols, start_date_dt, end_date_dt, rebalance_frequency, long_count, short_count, portfolio_starting_value, risk_pct, reinvest_profits_bool, leverage_multiplier=leverage_multiplier, save_test=save_test)\n",
    "\n",
    "TS_leverage = TradingSimulator(strategy_name)\n",
    "risk_pct = 0.10\n",
    "leverage_multiplier = 1.0\n",
    "long_count = 10\n",
    "short_count = 0\n",
    "reinvest_profits_bool = False\n",
    "rebalance_frequency = 30  # In days\n",
    "test_2 = TS_leverage.run_backtest(symbols, start_date_dt, end_date_dt, rebalance_frequency, long_count, short_count, portfolio_starting_value, risk_pct, reinvest_profits_bool, leverage_multiplier=leverage_multiplier, save_test=save_test)\n",
    "\n",
    "TS_leverage = TradingSimulator(strategy_name)\n",
    "risk_pct = 0.05\n",
    "leverage_multiplier = 1.0\n",
    "long_count = 10\n",
    "short_count = 0\n",
    "reinvest_profits_bool = False\n",
    "rebalance_frequency = 15  # In days\n",
    "test_1 = TS_leverage.run_backtest(symbols, start_date_dt, end_date_dt, rebalance_frequency, long_count, short_count, portfolio_starting_value, risk_pct, reinvest_profits_bool, leverage_multiplier=leverage_multiplier, save_test=save_test)\n",
    "\n",
    "TS_leverage = TradingSimulator(strategy_name)\n",
    "risk_pct = 0.05\n",
    "leverage_multiplier = 1.0\n",
    "long_count = 10\n",
    "short_count = 10\n",
    "reinvest_profits_bool = False\n",
    "rebalance_frequency = 15  # In days\n",
    "test_1 = TS_leverage.run_backtest(symbols, start_date_dt, end_date_dt, rebalance_frequency, long_count, short_count, portfolio_starting_value, risk_pct, reinvest_profits_bool, leverage_multiplier=leverage_multiplier, save_test=save_test)"
   ]
  },
  {
   "cell_type": "markdown",
   "id": "842c740d",
   "metadata": {},
   "source": [
    "# BACKTEST ANALYSIS"
   ]
  },
  {
   "cell_type": "code",
   "execution_count": 7,
   "id": "e64821e0-31f1-4e72-aba3-b82c5a371733",
   "metadata": {},
   "outputs": [],
   "source": [
    "from analysis_utils import BacktestAnalyzer, compare_two_backtests, BackTestManager\n",
    "import quantstats_lumi as qs\n",
    "BTM = BackTestManager()"
   ]
  },
  {
   "cell_type": "code",
   "execution_count": 8,
   "id": "5a7cf8bc",
   "metadata": {},
   "outputs": [
    {
     "name": "stdout",
     "output_type": "stream",
     "text": [
      "{'backtest_files': ['.DS_Store', 'backtests_table.csv', 'Test_1.pkl', 'Test_0.pkl', 'Test_2.pkl', 'Test_3.pkl']}\n",
      "Remade backtests table\n"
     ]
    },
    {
     "data": {
      "text/html": [
       "<div>\n",
       "<style scoped>\n",
       "    .dataframe tbody tr th:only-of-type {\n",
       "        vertical-align: middle;\n",
       "    }\n",
       "\n",
       "    .dataframe tbody tr th {\n",
       "        vertical-align: top;\n",
       "    }\n",
       "\n",
       "    .dataframe thead th {\n",
       "        text-align: right;\n",
       "    }\n",
       "</style>\n",
       "<table border=\"1\" class=\"dataframe\">\n",
       "  <thead>\n",
       "    <tr style=\"text-align: right;\">\n",
       "      <th></th>\n",
       "      <th>3</th>\n",
       "      <th>2</th>\n",
       "      <th>0</th>\n",
       "      <th>1</th>\n",
       "    </tr>\n",
       "  </thead>\n",
       "  <tbody>\n",
       "    <tr>\n",
       "      <th>test_run_dt</th>\n",
       "      <td>24-03-15 07:20:46</td>\n",
       "      <td>24-03-15 06:33:53</td>\n",
       "      <td>24-03-15 05:46:48</td>\n",
       "      <td>24-03-15 05:30:28</td>\n",
       "    </tr>\n",
       "    <tr>\n",
       "      <th>strategy_name</th>\n",
       "      <td>smooth_operator</td>\n",
       "      <td>smooth_operator</td>\n",
       "      <td>smooth_operator</td>\n",
       "      <td>smooth_operator</td>\n",
       "    </tr>\n",
       "    <tr>\n",
       "      <th>start_date_dt</th>\n",
       "      <td>1980-01-01</td>\n",
       "      <td>1980-01-01</td>\n",
       "      <td>1980-01-01</td>\n",
       "      <td>1980-01-01</td>\n",
       "    </tr>\n",
       "    <tr>\n",
       "      <th>end_date_dt</th>\n",
       "      <td>2010-12-31</td>\n",
       "      <td>2010-12-31</td>\n",
       "      <td>2010-12-31</td>\n",
       "      <td>2010-12-31</td>\n",
       "    </tr>\n",
       "    <tr>\n",
       "      <th>rebalance_frequency</th>\n",
       "      <td>15</td>\n",
       "      <td>15</td>\n",
       "      <td>30</td>\n",
       "      <td>30</td>\n",
       "    </tr>\n",
       "    <tr>\n",
       "      <th>long_count</th>\n",
       "      <td>10</td>\n",
       "      <td>10</td>\n",
       "      <td>10</td>\n",
       "      <td>10</td>\n",
       "    </tr>\n",
       "    <tr>\n",
       "      <th>short_count</th>\n",
       "      <td>10</td>\n",
       "      <td>0</td>\n",
       "      <td>0</td>\n",
       "      <td>0</td>\n",
       "    </tr>\n",
       "    <tr>\n",
       "      <th>portfolio_starting_value</th>\n",
       "      <td>100000</td>\n",
       "      <td>100000</td>\n",
       "      <td>100000</td>\n",
       "      <td>100000</td>\n",
       "    </tr>\n",
       "    <tr>\n",
       "      <th>risk_pct</th>\n",
       "      <td>0.05</td>\n",
       "      <td>0.05</td>\n",
       "      <td>0.1</td>\n",
       "      <td>0.05</td>\n",
       "    </tr>\n",
       "    <tr>\n",
       "      <th>reinvest_profits_bool</th>\n",
       "      <td>False</td>\n",
       "      <td>False</td>\n",
       "      <td>False</td>\n",
       "      <td>False</td>\n",
       "    </tr>\n",
       "    <tr>\n",
       "      <th>leverage_multiplier</th>\n",
       "      <td>1.0</td>\n",
       "      <td>1.0</td>\n",
       "      <td>1.0</td>\n",
       "      <td>1.0</td>\n",
       "    </tr>\n",
       "    <tr>\n",
       "      <th>test_filename</th>\n",
       "      <td>Test_3.pkl</td>\n",
       "      <td>Test_2.pkl</td>\n",
       "      <td>Test_1.pkl</td>\n",
       "      <td>Test_0.pkl</td>\n",
       "    </tr>\n",
       "  </tbody>\n",
       "</table>\n",
       "</div>"
      ],
      "text/plain": [
       "                                          3                  2  \\\n",
       "test_run_dt               24-03-15 07:20:46  24-03-15 06:33:53   \n",
       "strategy_name               smooth_operator    smooth_operator   \n",
       "start_date_dt                    1980-01-01         1980-01-01   \n",
       "end_date_dt                      2010-12-31         2010-12-31   \n",
       "rebalance_frequency                      15                 15   \n",
       "long_count                               10                 10   \n",
       "short_count                              10                  0   \n",
       "portfolio_starting_value             100000             100000   \n",
       "risk_pct                               0.05               0.05   \n",
       "reinvest_profits_bool                 False              False   \n",
       "leverage_multiplier                     1.0                1.0   \n",
       "test_filename                    Test_3.pkl         Test_2.pkl   \n",
       "\n",
       "                                          0                  1  \n",
       "test_run_dt               24-03-15 05:46:48  24-03-15 05:30:28  \n",
       "strategy_name               smooth_operator    smooth_operator  \n",
       "start_date_dt                    1980-01-01         1980-01-01  \n",
       "end_date_dt                      2010-12-31         2010-12-31  \n",
       "rebalance_frequency                      30                 30  \n",
       "long_count                               10                 10  \n",
       "short_count                               0                  0  \n",
       "portfolio_starting_value             100000             100000  \n",
       "risk_pct                                0.1               0.05  \n",
       "reinvest_profits_bool                 False              False  \n",
       "leverage_multiplier                     1.0                1.0  \n",
       "test_filename                    Test_1.pkl         Test_0.pkl  "
      ]
     },
     "execution_count": 8,
     "metadata": {},
     "output_type": "execute_result"
    }
   ],
   "source": [
    "backtests_table = BTM.remake_backtests_table()\n",
    "backtests_table = BTM.load_backtests_table()\n",
    "# show me all columns except 'symbols'\n",
    "backtests_table.drop(columns=['symbols'], inplace=True)\n",
    "# backtests_table[backtests_table['reinvest_profits_bool'] == False][backtests_table['strategy_name'] == 'smooth_operator']\n",
    "backtests_table['test_filename'] = backtests_table['test_filename'].apply(lambda x: x.split('/')[-1])\n",
    "# Convert test_run_dt to datetime\n",
    "backtests_table['test_run_dt'] = pd.to_datetime(backtests_table['test_run_dt'])\n",
    "# Convert test_run_dt to string\n",
    "backtests_table['test_run_dt'] = backtests_table['test_run_dt'].dt.strftime('%y-%m-%d %H:%M:%S')\n",
    "backtests_table.transpose()"
   ]
  },
  {
   "cell_type": "code",
   "execution_count": 9,
   "id": "d0eb3934",
   "metadata": {},
   "outputs": [
    {
     "name": "stderr",
     "output_type": "stream",
     "text": [
      "/Users/vandanchopra/Vandan_Personal_Folder/CODE_STUFF/Projects/mathematricks/venv/lib/python3.10/site-packages/yfinance/utils.py:775: FutureWarning: The 'unit' keyword in TimedeltaIndex construction is deprecated and will be removed in a future version. Use pd.to_timedelta instead.\n",
      "  df.index += _pd.TimedeltaIndex(dst_error_hours, 'h')\n",
      "[*********************100%%**********************]  1 of 1 completed\n"
     ]
    },
    {
     "name": "stdout",
     "output_type": "stream",
     "text": [
      "Profit in Mn: 1.765354415335523\n",
      "Saved report to /Users/vandanchopra/Vandan_Personal_Folder/CODE_STUFF/Projects/mathematricks/backtests/Test_3_analysis.html\n"
     ]
    },
    {
     "name": "stderr",
     "output_type": "stream",
     "text": [
      "/Users/vandanchopra/Vandan_Personal_Folder/CODE_STUFF/Projects/mathematricks/venv/lib/python3.10/site-packages/yfinance/utils.py:775: FutureWarning: The 'unit' keyword in TimedeltaIndex construction is deprecated and will be removed in a future version. Use pd.to_timedelta instead.\n",
      "  df.index += _pd.TimedeltaIndex(dst_error_hours, 'h')\n",
      "[*********************100%%**********************]  1 of 1 completed\n"
     ]
    },
    {
     "name": "stdout",
     "output_type": "stream",
     "text": [
      "Profit in Mn: 2.09494491480294\n",
      "Saved report to /Users/vandanchopra/Vandan_Personal_Folder/CODE_STUFF/Projects/mathematricks/backtests/Test_2_analysis.html\n"
     ]
    },
    {
     "name": "stderr",
     "output_type": "stream",
     "text": [
      "/Users/vandanchopra/Vandan_Personal_Folder/CODE_STUFF/Projects/mathematricks/venv/lib/python3.10/site-packages/yfinance/utils.py:775: FutureWarning: The 'unit' keyword in TimedeltaIndex construction is deprecated and will be removed in a future version. Use pd.to_timedelta instead.\n",
      "  df.index += _pd.TimedeltaIndex(dst_error_hours, 'h')\n",
      "[*********************100%%**********************]  1 of 1 completed\n"
     ]
    },
    {
     "name": "stdout",
     "output_type": "stream",
     "text": [
      "Profit in Mn: 1.3175132289910543\n",
      "Saved report to /Users/vandanchopra/Vandan_Personal_Folder/CODE_STUFF/Projects/mathematricks/backtests/Test_1_analysis.html\n"
     ]
    },
    {
     "name": "stderr",
     "output_type": "stream",
     "text": [
      "/Users/vandanchopra/Vandan_Personal_Folder/CODE_STUFF/Projects/mathematricks/venv/lib/python3.10/site-packages/yfinance/utils.py:775: FutureWarning: The 'unit' keyword in TimedeltaIndex construction is deprecated and will be removed in a future version. Use pd.to_timedelta instead.\n",
      "  df.index += _pd.TimedeltaIndex(dst_error_hours, 'h')\n",
      "[*********************100%%**********************]  1 of 1 completed\n"
     ]
    },
    {
     "name": "stdout",
     "output_type": "stream",
     "text": [
      "Profit in Mn: 1.2811926396712194\n",
      "Saved report to /Users/vandanchopra/Vandan_Personal_Folder/CODE_STUFF/Projects/mathematricks/backtests/Test_0_analysis.html\n"
     ]
    }
   ],
   "source": [
    "# Create reports for all tests that don't have reports\n",
    "for test_num in range(len(backtests_table)):\n",
    "    test = BTM.load_test(test_num)\n",
    "    backtests_table.iloc[test_num]['test_filename']\n",
    "    test_file_path = BTM.get_test_filepath_from_backtests_table(test_num)\n",
    "    report_filepath = test_file_path.replace('.pkl', '_analysis.html')\n",
    "    if not os.path.exists(report_filepath):\n",
    "        BacktestAnalyzer(test).create_test_full_tearsheet(test_num)\n",
    "        print(f\"Saved report to {report_filepath}\")"
   ]
  },
  {
   "cell_type": "code",
   "execution_count": 14,
   "id": "fcf0d6d5",
   "metadata": {},
   "outputs": [],
   "source": [
    "# Choose Test\n",
    "test_num = 2\n",
    "test = BTM.load_test(test_num)"
   ]
  },
  {
   "cell_type": "code",
   "execution_count": 15,
   "id": "9778ea37",
   "metadata": {},
   "outputs": [
    {
     "data": {
      "text/plain": [
       "[<matplotlib.lines.Line2D at 0x15e7edf90>]"
      ]
     },
     "execution_count": 15,
     "metadata": {},
     "output_type": "execute_result"
    },
    {
     "data": {
      "image/png": "[encoded data removed]",
      "text/plain": [
       "<Figure size 1500x500 with 1 Axes>"
      ]
     },
     "metadata": {},
     "output_type": "display_data"
    }
   ],
   "source": [
    "plt.figure(figsize=(15, 5))\n",
    "plt.plot(np.cumsum(test['backtest_profits']))"
   ]
  },
  {
   "cell_type": "code",
   "execution_count": 16,
   "id": "23fffe71",
   "metadata": {},
   "outputs": [
    {
     "name": "stdout",
     "output_type": "stream",
     "text": [
      "{'total': {'win_ratio': 0.3873015873015873,\n",
      "           'average_win': 2126.76453060257,\n",
      "           'average_loss': -883.4579654752134,\n",
      "           'risk_reward_ratio': 2.4073183034334633,\n",
      "           'pct_of_stoploss_hit': 0.5484126984126985,\n",
      "           'probability_of_profit': 0.9323582000599445}}\n"
     ]
    }
   ],
   "source": [
    "BA = BacktestAnalyzer(test)\n",
    "# Create orders df\n",
    "orders_df = BA.create_orders_df()\n",
    "\n",
    "final_dict = BA.test_metrics_orders(orders_df)\n",
    "pprint(final_dict, sort_dicts=False)"
   ]
  },
  {
   "cell_type": "code",
   "execution_count": 13,
   "id": "dbc1d34d",
   "metadata": {},
   "outputs": [
    {
     "ename": "ValueError",
     "evalue": "a must be greater than 0 unless no samples are taken",
     "output_type": "error",
     "traceback": [
      "\u001b[0;31m---------------------------------------------------------------------------\u001b[0m",
      "\u001b[0;31mValueError\u001b[0m                                Traceback (most recent call last)",
      "Cell \u001b[0;32mIn[13], line 9\u001b[0m\n\u001b[1;32m      7\u001b[0m pruned_orders_df \u001b[38;5;241m=\u001b[39m short_orders_df\n\u001b[1;32m      8\u001b[0m \u001b[38;5;28;01mfor\u001b[39;00m i, symbol \u001b[38;5;129;01min\u001b[39;00m \u001b[38;5;28menumerate\u001b[39m(top_10_shorted_assets):\n\u001b[0;32m----> 9\u001b[0m     asset_data, min_date, max_date, ax \u001b[38;5;241m=\u001b[39m \u001b[43mBA\u001b[49m\u001b[38;5;241;43m.\u001b[39;49m\u001b[43meyeball_symbol\u001b[49m\u001b[43m(\u001b[49m\u001b[43msymbol\u001b[49m\u001b[43m,\u001b[49m\u001b[43m \u001b[49m\u001b[43mtest\u001b[49m\u001b[43m,\u001b[49m\u001b[43m \u001b[49m\u001b[43mpruned_orders_df\u001b[49m\u001b[43m,\u001b[49m\u001b[43m \u001b[49m\u001b[43mfigsize\u001b[49m\u001b[38;5;241;43m=\u001b[39;49m\u001b[43m(\u001b[49m\u001b[38;5;241;43m15\u001b[39;49m\u001b[43m,\u001b[49m\u001b[43m \u001b[49m\u001b[38;5;241;43m6\u001b[39;49m\u001b[43m)\u001b[49m\u001b[43m,\u001b[49m\u001b[43m \u001b[49m\u001b[43morders_to_show\u001b[49m\u001b[38;5;241;43m=\u001b[39;49m\u001b[38;5;241;43m1\u001b[39;49m\u001b[43m)\u001b[49m\n\u001b[1;32m     10\u001b[0m     ax\u001b[38;5;241m.\u001b[39mset_title(symbol)\n\u001b[1;32m     11\u001b[0m     ax\u001b[38;5;241m.\u001b[39mset_ylabel(\u001b[38;5;124m'\u001b[39m\u001b[38;5;124mPrice\u001b[39m\u001b[38;5;124m'\u001b[39m)\n",
      "File \u001b[0;32m~/Vandan_Personal_Folder/CODE_STUFF/Projects/mathematricks/dev/../analysis_utils.py:599\u001b[0m, in \u001b[0;36mBacktestAnalyzer.eyeball_symbol\u001b[0;34m(self, symbol, test, orders_df, figsize, orders_to_show)\u001b[0m\n\u001b[1;32m    597\u001b[0m asset_orders_df \u001b[38;5;241m=\u001b[39m orders_df[orders_df[\u001b[38;5;124m'\u001b[39m\u001b[38;5;124msymbol\u001b[39m\u001b[38;5;124m'\u001b[39m] \u001b[38;5;241m==\u001b[39m symbol]\n\u001b[1;32m    598\u001b[0m \u001b[38;5;28;01mif\u001b[39;00m orders_to_show:\n\u001b[0;32m--> 599\u001b[0m     asset_orders_df \u001b[38;5;241m=\u001b[39m \u001b[43masset_orders_df\u001b[49m\u001b[38;5;241;43m.\u001b[39;49m\u001b[43msample\u001b[49m\u001b[43m(\u001b[49m\u001b[43morders_to_show\u001b[49m\u001b[43m)\u001b[49m\n\u001b[1;32m    600\u001b[0m     min_date \u001b[38;5;241m=\u001b[39m asset_orders_df[\u001b[38;5;124m'\u001b[39m\u001b[38;5;124mentry_dt\u001b[39m\u001b[38;5;124m'\u001b[39m]\u001b[38;5;241m.\u001b[39mmin() \u001b[38;5;241m-\u001b[39m dt\u001b[38;5;241m.\u001b[39mtimedelta(days\u001b[38;5;241m=\u001b[39m\u001b[38;5;241m10\u001b[39m)\n\u001b[1;32m    601\u001b[0m     max_date \u001b[38;5;241m=\u001b[39m asset_orders_df[\u001b[38;5;124m'\u001b[39m\u001b[38;5;124mexit_dt\u001b[39m\u001b[38;5;124m'\u001b[39m]\u001b[38;5;241m.\u001b[39mmax() \u001b[38;5;241m+\u001b[39m dt\u001b[38;5;241m.\u001b[39mtimedelta(days\u001b[38;5;241m=\u001b[39m\u001b[38;5;241m10\u001b[39m)\n",
      "File \u001b[0;32m~/Vandan_Personal_Folder/CODE_STUFF/Projects/mathematricks/venv/lib/python3.10/site-packages/pandas/core/generic.py:6112\u001b[0m, in \u001b[0;36mNDFrame.sample\u001b[0;34m(self, n, frac, replace, weights, random_state, axis, ignore_index)\u001b[0m\n\u001b[1;32m   6109\u001b[0m \u001b[38;5;28;01mif\u001b[39;00m weights \u001b[38;5;129;01mis\u001b[39;00m \u001b[38;5;129;01mnot\u001b[39;00m \u001b[38;5;28;01mNone\u001b[39;00m:\n\u001b[1;32m   6110\u001b[0m     weights \u001b[38;5;241m=\u001b[39m sample\u001b[38;5;241m.\u001b[39mpreprocess_weights(\u001b[38;5;28mself\u001b[39m, weights, axis)\n\u001b[0;32m-> 6112\u001b[0m sampled_indices \u001b[38;5;241m=\u001b[39m \u001b[43msample\u001b[49m\u001b[38;5;241;43m.\u001b[39;49m\u001b[43msample\u001b[49m\u001b[43m(\u001b[49m\u001b[43mobj_len\u001b[49m\u001b[43m,\u001b[49m\u001b[43m \u001b[49m\u001b[43msize\u001b[49m\u001b[43m,\u001b[49m\u001b[43m \u001b[49m\u001b[43mreplace\u001b[49m\u001b[43m,\u001b[49m\u001b[43m \u001b[49m\u001b[43mweights\u001b[49m\u001b[43m,\u001b[49m\u001b[43m \u001b[49m\u001b[43mrs\u001b[49m\u001b[43m)\u001b[49m\n\u001b[1;32m   6113\u001b[0m result \u001b[38;5;241m=\u001b[39m \u001b[38;5;28mself\u001b[39m\u001b[38;5;241m.\u001b[39mtake(sampled_indices, axis\u001b[38;5;241m=\u001b[39maxis)\n\u001b[1;32m   6115\u001b[0m \u001b[38;5;28;01mif\u001b[39;00m ignore_index:\n",
      "File \u001b[0;32m~/Vandan_Personal_Folder/CODE_STUFF/Projects/mathematricks/venv/lib/python3.10/site-packages/pandas/core/sample.py:152\u001b[0m, in \u001b[0;36msample\u001b[0;34m(obj_len, size, replace, weights, random_state)\u001b[0m\n\u001b[1;32m    149\u001b[0m     \u001b[38;5;28;01melse\u001b[39;00m:\n\u001b[1;32m    150\u001b[0m         \u001b[38;5;28;01mraise\u001b[39;00m \u001b[38;5;167;01mValueError\u001b[39;00m(\u001b[38;5;124m\"\u001b[39m\u001b[38;5;124mInvalid weights: weights sum to zero\u001b[39m\u001b[38;5;124m\"\u001b[39m)\n\u001b[0;32m--> 152\u001b[0m \u001b[38;5;28;01mreturn\u001b[39;00m \u001b[43mrandom_state\u001b[49m\u001b[38;5;241;43m.\u001b[39;49m\u001b[43mchoice\u001b[49m\u001b[43m(\u001b[49m\u001b[43mobj_len\u001b[49m\u001b[43m,\u001b[49m\u001b[43m \u001b[49m\u001b[43msize\u001b[49m\u001b[38;5;241;43m=\u001b[39;49m\u001b[43msize\u001b[49m\u001b[43m,\u001b[49m\u001b[43m \u001b[49m\u001b[43mreplace\u001b[49m\u001b[38;5;241;43m=\u001b[39;49m\u001b[43mreplace\u001b[49m\u001b[43m,\u001b[49m\u001b[43m \u001b[49m\u001b[43mp\u001b[49m\u001b[38;5;241;43m=\u001b[39;49m\u001b[43mweights\u001b[49m\u001b[43m)\u001b[49m\u001b[38;5;241m.\u001b[39mastype(\n\u001b[1;32m    153\u001b[0m     np\u001b[38;5;241m.\u001b[39mintp, copy\u001b[38;5;241m=\u001b[39m\u001b[38;5;28;01mFalse\u001b[39;00m\n\u001b[1;32m    154\u001b[0m )\n",
      "File \u001b[0;32mnumpy/random/mtrand.pyx:945\u001b[0m, in \u001b[0;36mnumpy.random.mtrand.RandomState.choice\u001b[0;34m()\u001b[0m\n",
      "\u001b[0;31mValueError\u001b[0m: a must be greater than 0 unless no samples are taken"
     ]
    }
   ],
   "source": [
    "# Give me the top 10 shorted assets\n",
    "short_orders_df = orders_df[orders_df['direction'] == -1.0]\n",
    "top_10_shorted_assets =  orders_df['symbol'].value_counts().head(10).index\n",
    "\n",
    "# use the eye ball function to see the trades for the top 10 traded assets on one big graph with subplots\n",
    "\n",
    "pruned_orders_df = short_orders_df\n",
    "for i, symbol in enumerate(top_10_shorted_assets):\n",
    "    asset_data, min_date, max_date, ax = BA.eyeball_symbol(symbol, test, pruned_orders_df, figsize=(15, 6), orders_to_show=1)\n",
    "    ax.set_title(symbol)\n",
    "    ax.set_ylabel('Price')\n",
    "    ax.set_xlabel('Date')\n",
    "    ax.legend()\n",
    "    \n",
    "# # Give me the top 10 traded assets\n",
    "# top_10_traded_assets =  orders_df['symbol'].value_counts().head(10).index\n",
    "\n",
    "# pruned_orders_df = orders_df\n",
    "# for i, symbol in enumerate(top_10_shorted_assets):\n",
    "#     asset_data, ax = BA.eyeball_symbol(symbol, test, pruned_orders_df)\n",
    "#     ax.set_title(symbol)\n",
    "#     ax.set_ylabel('Price')\n",
    "#     ax.set_xlabel('Date')\n",
    "#     ax.legend()\n"
   ]
  },
  {
   "cell_type": "code",
   "execution_count": null,
   "id": "18a12ea7",
   "metadata": {},
   "outputs": [],
   "source": []
  }
 ],
 "metadata": {
  "kernelspec": {
   "display_name": "Python 3 (ipykernel)",
   "language": "python",
   "name": "python3"
  },
  "language_info": {
   "codemirror_mode": {
    "name": "ipython",
    "version": 3
   },
   "file_extension": ".py",
   "mimetype": "text/x-python",
   "name": "python",
   "nbconvert_exporter": "python",
   "pygments_lexer": "ipython3",
   "version": "3.10.2"
  }
 },
 "nbformat": 4,
 "nbformat_minor": 5
}
