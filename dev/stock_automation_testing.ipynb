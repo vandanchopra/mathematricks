{
 "cells": [
  {
   "cell_type": "code",
   "execution_count": 1,
   "metadata": {},
   "outputs": [],
   "source": [
    "import stock_automation_utils as SAU\n",
    "import backtest_utils as BU\n",
    "import pickle"
   ]
  },
  {
   "cell_type": "markdown",
   "metadata": {},
   "source": [
    "# Load symbols into the stock_symbols.pkl\n",
    "symbols = ['META', 'NVDA', 'SYM', 'CRWD', 'AMD', 'URI']  # Example list of stock symbols\n",
    "filename = 'stock_symbols.pkl'  # Name of the pickle file\n",
    "SAU.add_stock_symbols_to_pickle(symbols, filename)"
   ]
  },
  {
   "cell_type": "code",
   "execution_count": 2,
   "metadata": {},
   "outputs": [],
   "source": [
    "filename = 'stock_symbols.pkl'  # Name of the pickle file\n",
    "\n",
    "# Load the data from 'stock_symbols.pkl' into a variable called 'symbols'\n",
    "with open(filename, 'rb') as file:\n",
    "    symbols = pickle.load(file)"
   ]
  },
  {
   "cell_type": "markdown",
   "metadata": {},
   "source": [
    "# Update data for all stocks.\n",
    "SAU.load_and_update_stock_data()"
   ]
  },
  {
   "cell_type": "markdown",
   "metadata": {},
   "source": [
    "#### Load up the Initial data for starting analysis"
   ]
  },
  {
   "cell_type": "code",
   "execution_count": 3,
   "metadata": {},
   "outputs": [],
   "source": [
    "# symbols = ['META', 'NVDA', 'SYM', 'CRWD', 'AMD', 'URI']  # List of symbols\n",
    "start_date = \"2024-02-04\"  # Start date for analysis\n",
    "symbols_array, data_array, data_index = SAU.get_data_array_symbols(symbols, start_date)"
   ]
  },
  {
   "cell_type": "markdown",
   "metadata": {},
   "source": [
    "#### Run the analysis"
   ]
  },
  {
   "cell_type": "code",
   "execution_count": 4,
   "metadata": {},
   "outputs": [
    {
     "name": "stdout",
     "output_type": "stream",
     "text": [
      "{'short_symbols': array(['JD', 'ADM', 'HUM', 'TSLA', 'GMAB', 'BNTX', 'DD', 'PFE', 'CHTR',\n",
      "       'NEM'], dtype='<U5')}\n",
      "{'long_symbols': array(['PANW', 'DELL', 'UBER', 'AVGO', 'URI', 'ZS', 'AMD', 'NVDA', 'META',\n",
      "       'CRWD'], dtype='<U5')}\n"
     ]
    }
   ],
   "source": [
    "long_count = 10\n",
    "short_count = 10\n",
    "long_symbols, short_symbols, symbols_array, data_array, data_index = BU.get_long_short_symbols(long_count, short_count, symbols_array, data_array, data_index)"
   ]
  },
  {
   "cell_type": "markdown",
   "metadata": {},
   "source": []
  },
  {
   "cell_type": "markdown",
   "metadata": {},
   "source": [
    "#### BACKTEST"
   ]
  },
  {
   "cell_type": "code",
   "execution_count": null,
   "metadata": {},
   "outputs": [],
   "source": [
    "start_date = '2022-01-01'\n",
    "end_date = '2022-12-31'\n",
    "rebalance_frequency = 15  # In days"
   ]
  },
  {
   "cell_type": "code",
   "execution_count": null,
   "metadata": {},
   "outputs": [],
   "source": [
    "# First load the data once. (from start_date-380 to end_date + (rebalance frq * 2)\n",
    "# For each rebalance period, run the analysis and get long short stocks.\n",
    "# Decide how much to invest in each stock and calculate qty int\n",
    "# now find out the buy price and stoploss (from the risk%)\n",
    "# now for each stock find out if in the test period if the stoploss is hit. if yes, book a loss.\n",
    "# for stocks that stoploss not hit, calculate the closing P/L for each rebalance freq. (print it)\n",
    "# In the end, sum up all the P/L.\n"
   ]
  },
  {
   "cell_type": "code",
   "execution_count": null,
   "metadata": {},
   "outputs": [],
   "source": []
  },
  {
   "cell_type": "code",
   "execution_count": null,
   "metadata": {},
   "outputs": [],
   "source": []
  },
  {
   "cell_type": "code",
   "execution_count": null,
   "metadata": {},
   "outputs": [],
   "source": [
    "''' \n",
    "TO DO: \n",
    "- Start creating the backtest\n",
    "- When the backtest is running, integrate with IBKR. Start with getting positions + cash.\n",
    "- Then calculate ideal portfolio, keeping in mind that you only want to use 75% of your total available margin.\n",
    "- Then figure out ideal vs current portfolio and calculate the orders that need to be sent.\n",
    "- Then figure out how to sent orders, with a stoploss built in.\n",
    "\n",
    "\n",
    "'''"
   ]
  },
  {
   "cell_type": "code",
   "execution_count": null,
   "metadata": {},
   "outputs": [],
   "source": []
  },
  {
   "cell_type": "code",
   "execution_count": null,
   "metadata": {},
   "outputs": [],
   "source": []
  },
  {
   "cell_type": "markdown",
   "metadata": {},
   "source": [
    "# BACKTESTING"
   ]
  },
  {
   "cell_type": "code",
   "execution_count": 7,
   "metadata": {},
   "outputs": [
    {
     "name": "stdout",
     "output_type": "stream",
     "text": [
      "Rebalance Period: Start Date = 2022-01-01, End Date = 2022-01-15\n",
      "Rebalance Period: Start Date = 2022-01-16, End Date = 2022-01-30\n",
      "Rebalance Period: Start Date = 2022-01-31, End Date = 2022-02-14\n",
      "Rebalance Period: Start Date = 2022-02-15, End Date = 2022-03-01\n",
      "Rebalance Period: Start Date = 2022-03-02, End Date = 2022-03-16\n",
      "Rebalance Period: Start Date = 2022-03-17, End Date = 2022-03-31\n",
      "Rebalance Period: Start Date = 2022-04-01, End Date = 2022-04-15\n",
      "Rebalance Period: Start Date = 2022-04-16, End Date = 2022-04-30\n",
      "Rebalance Period: Start Date = 2022-05-01, End Date = 2022-05-15\n",
      "Rebalance Period: Start Date = 2022-05-16, End Date = 2022-05-30\n",
      "Rebalance Period: Start Date = 2022-05-31, End Date = 2022-06-14\n",
      "Rebalance Period: Start Date = 2022-06-15, End Date = 2022-06-29\n",
      "Rebalance Period: Start Date = 2022-06-30, End Date = 2022-07-14\n",
      "Rebalance Period: Start Date = 2022-07-15, End Date = 2022-07-29\n",
      "Rebalance Period: Start Date = 2022-07-30, End Date = 2022-08-13\n",
      "Rebalance Period: Start Date = 2022-08-14, End Date = 2022-08-28\n",
      "Rebalance Period: Start Date = 2022-08-29, End Date = 2022-09-12\n",
      "Rebalance Period: Start Date = 2022-09-13, End Date = 2022-09-27\n",
      "Rebalance Period: Start Date = 2022-09-28, End Date = 2022-10-12\n",
      "Rebalance Period: Start Date = 2022-10-13, End Date = 2022-10-27\n",
      "Rebalance Period: Start Date = 2022-10-28, End Date = 2022-11-11\n",
      "Rebalance Period: Start Date = 2022-11-12, End Date = 2022-11-26\n",
      "Rebalance Period: Start Date = 2022-11-27, End Date = 2022-12-11\n",
      "Rebalance Period: Start Date = 2022-12-12, End Date = 2022-12-26\n",
      "Rebalance Period: Start Date = 2022-12-27, End Date = 2022-12-31\n"
     ]
    }
   ],
   "source": [
    "# Example usage\n",
    "pickle_file = 'stock_symbols.pkl'\n",
    "start_date = '2022-01-01'\n",
    "end_date = '2022-12-31'\n",
    "rebalance_frequency = 15  # In days\n",
    "\n",
    "rebalance_periods = BU.calculate_rebalance_periods_with_dates(pickle_file, start_date, end_date, rebalance_frequency)\n",
    "for period in rebalance_periods:\n",
    "    print(f\"Rebalance Period: Start Date = {period[0]}, End Date = {period[1]}\")"
   ]
  },
  {
   "cell_type": "code",
   "execution_count": 6,
   "metadata": {},
   "outputs": [
    {
     "ename": "NameError",
     "evalue": "name 'rebalance_periods' is not defined",
     "output_type": "error",
     "traceback": [
      "\u001b[0;31m---------------------------------------------------------------------------\u001b[0m",
      "\u001b[0;31mNameError\u001b[0m                                 Traceback (most recent call last)",
      "Cell \u001b[0;32mIn[6], line 1\u001b[0m\n\u001b[0;32m----> 1\u001b[0m \u001b[43mrebalance_periods\u001b[49m\n",
      "\u001b[0;31mNameError\u001b[0m: name 'rebalance_periods' is not defined"
     ]
    }
   ],
   "source": [
    "rebalance_periods"
   ]
  },
  {
   "cell_type": "code",
   "execution_count": null,
   "metadata": {},
   "outputs": [],
   "source": []
  },
  {
   "cell_type": "code",
   "execution_count": null,
   "metadata": {},
   "outputs": [],
   "source": []
  }
 ],
 "metadata": {
  "kernelspec": {
   "display_name": "venv",
   "language": "python",
   "name": "python3"
  },
  "language_info": {
   "codemirror_mode": {
    "name": "ipython",
    "version": 3
   },
   "file_extension": ".py",
   "mimetype": "text/x-python",
   "name": "python",
   "nbconvert_exporter": "python",
   "pygments_lexer": "ipython3",
   "version": "3.10.2"
  }
 },
 "nbformat": 4,
 "nbformat_minor": 2
}
