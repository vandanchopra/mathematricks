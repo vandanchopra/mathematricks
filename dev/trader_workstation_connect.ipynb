{
 "cells": [
  {
   "cell_type": "code",
   "execution_count": null,
   "metadata": {},
   "outputs": [],
   "source": [
    "''' \n",
    "0) Fix at_risk_value...right now CAD and USD positions are all being summed up. they need to be converted to the base currency first.\n",
    "1) Calculate current amount_invested, portfolio value, current_leverage_multiplier, current liquidation value, current_return_pct, current_profit, at_risk_Value, at_risk_as_a_pct_of_current_liquidation_value\n",
    "2) Run a strategy and figure out ideal portfolio\n",
    "3) calculate the difference between the current portfolio and the ideal portfolio\n",
    "4) calculate the delta for the portfolio and a list of orders to place.\n",
    "5) Place the orders (with approvals of the user) (if the user says no, then the orders are not placed)\n",
    "'''"
   ]
  },
  {
   "cell_type": "code",
   "execution_count": 1,
   "metadata": {},
   "outputs": [],
   "source": [
    "import nest_asyncio\n",
    "import json\n",
    "from pprint import pprint\n",
    "from ib_insync import IB, util, Stock, Order\n",
    "nest_asyncio.apply()"
   ]
  },
  {
   "cell_type": "code",
   "execution_count": 7,
   "metadata": {},
   "outputs": [
    {
     "name": "stdout",
     "output_type": "stream",
     "text": [
      "Now Disconnecting from IBKR Trader Workstation.....\n"
     ]
    }
   ],
   "source": [
    "trader.disconnect()"
   ]
  },
  {
   "cell_type": "code",
   "execution_count": 8,
   "metadata": {},
   "outputs": [],
   "source": [
    "class IBKRTrader:\n",
    "    def __init__(self, update_stoplosses=False):\n",
    "        # Connect to IBKR Trader Workstation\n",
    "        self.ib = IB()\n",
    "        self.connect()\n",
    "        self.account_info = self.update_account_info()\n",
    "        self.exchange_rate = self.get_exchange_rate()\n",
    "        self.positions = self.current_positions()\n",
    "        self.portfolio = self.current_portfolio()\n",
    "        self.open_orders = self.get_open_orders()\n",
    "        self.at_risk_portfolio = self.calculate_current_risk_portfolio()\n",
    "        self.value_at_risk = sum(self.at_risk_portfolio.values())\n",
    "        if update_stoplosses==True:\n",
    "            self.update_stop_losses(risk_pct=0.10, max_acceptable_risk_deviation=0.2, force_update_stoplosses=False)\n",
    "        pprint({'account_info': self.account_info,\n",
    "            'value_at_risk': round(self.value_at_risk, 1),\n",
    "            # 'Worst_case_scenario_NetLiquidation_value': int(self.account_info['NetLiquidation']) - self.value_at_risk\n",
    "            })\n",
    "        \n",
    "    def connect(self):\n",
    "        # Load the configuration file\n",
    "        config = {'port':7777, 'host':'localhost'}\n",
    "        # Connect to TWS\n",
    "        self.ib.connect(config['host'], config['port'], clientId=1)\n",
    "        print(\"Now Connecting to IBKR Trader Workstation.....\")\n",
    "    def disconnect(self):\n",
    "        # Disconnect from TWS\n",
    "        print(\"Now Disconnecting from IBKR Trader Workstation.....\")\n",
    "        self.ib.disconnect()\n",
    "    def current_positions(self):\n",
    "        # Get current positions\n",
    "        self.positions = self.ib.positions()\n",
    "        return self.positions\n",
    "    def current_portfolio(self):\n",
    "        # Get current portfolio value\n",
    "        self.portfolio = self.ib.portfolio()\n",
    "        return self.portfolio\n",
    "    def get_open_orders(self):\n",
    "        self.open_orders = self.ib.reqAllOpenOrders()\n",
    "        return self.open_orders\n",
    "    def calculate_current_risk_portfolio(self):\n",
    "        self.portfolio = self.current_portfolio()\n",
    "        self.open_orders = self.get_open_orders()\n",
    "        at_risk_portfolio = {}\n",
    "        for myposition in self.portfolio:\n",
    "            symbol = myposition.contract.symbol\n",
    "            primaryExchange = myposition.contract.primaryExchange\n",
    "            currency = myposition.contract.currency\n",
    "            stoploss_order = None\n",
    "            for open_order in self.open_orders:\n",
    "                if open_order.contract.symbol == symbol and open_order.order.orderType == 'STP':\n",
    "                    stoploss_order = open_order\n",
    "                    break\n",
    "            \n",
    "            if stoploss_order is None:\n",
    "                market_value = myposition.position * myposition.marketPrice\n",
    "                at_risk_portfolio[symbol] = market_value\n",
    "            else:\n",
    "                market_value = myposition.position * myposition.marketPrice\n",
    "                stoploss_value = open_order.order.totalQuantity * open_order.order.auxPrice\n",
    "                at_risk_value = market_value - stoploss_value\n",
    "                at_risk_portfolio[symbol] = at_risk_value\n",
    "                # print(f\"Symbol: {symbol}, Market Value: {market_value}, Stop Loss Value: {stoploss_value}, At Risk Value: {at_risk_value}\")\n",
    "        \n",
    "        self.at_risk_portfolio = at_risk_portfolio\n",
    "        self.at_risk_value = sum(self.at_risk_portfolio.values())\n",
    "        return self.at_risk_portfolio\n",
    "    def place_stop_loss_order(self, direction, symbol, quantity, stop_price, primaryExchange, currency):\n",
    "        # Define the contract for the symbol\n",
    "        contract = Stock(symbol=symbol, exchange='SMART', currency=currency, primaryExchange=primaryExchange)\n",
    "\n",
    "        # Create a stop-loss order\n",
    "        stop_loss_order = Order(\n",
    "            action=direction,           # 'SELL' to close or reduce a long position\n",
    "            totalQuantity=quantity,     # Number of shares\n",
    "            orderType='STP',            # Stop order\n",
    "            auxPrice=stop_price,        # Stop price\n",
    "            tif='GTC'                   # Good-till-canceled\n",
    "        )\n",
    "\n",
    "        # Place the order and return the order ID\n",
    "        trade = self.ib.placeOrder(contract, stop_loss_order)\n",
    "        self.ib.sleep(2)  # Wait for the order to be processed\n",
    "        return trade.order.orderId\n",
    "    def update_stop_losses(self, risk_pct=0.10, max_acceptable_risk_deviation=0.2, force_update_stoplosses=False):\n",
    "        for myposition in self.portfolio:\n",
    "            symbol = myposition.contract.symbol\n",
    "            primaryExchange = myposition.contract.primaryExchange\n",
    "            currency = myposition.contract.currency\n",
    "            stoploss_order = None\n",
    "            for open_order in self.open_orders:\n",
    "                if open_order.contract.symbol == symbol and open_order.order.orderType == 'STP':\n",
    "                    stoploss_order = open_order\n",
    "                    break\n",
    "            if stoploss_order is None:\n",
    "                quantity = int(myposition.position)\n",
    "                current_price = myposition.marketPrice\n",
    "                stop_price = round(current_price * (1-risk_pct), 1)\n",
    "                direction = 'SELL' if quantity > 0 else 'BUY'\n",
    "                print(f\"Placing a stop loss order with the following parameters: symbol:{symbol}, qty: {quantity}, current_price: {current_price}, stop_price: {stop_price}, direction: {direction}\")\n",
    "                input(\"Press Enter to continue...\")\n",
    "                order_id = self.place_stop_loss_order(direction, symbol, quantity, stop_price, primaryExchange, currency)\n",
    "                print(f\"Stop loss order placed with order ID: {order_id}\")\n",
    "            else:\n",
    "                # check if stoploss is as per the risk profile.\n",
    "                current_stoploss_price = stoploss_order.order.auxPrice\n",
    "                current_stoploss_qty = int(stoploss_order.order.totalQuantity)\n",
    "                current_position_qty = int(myposition.position)\n",
    "                current_price = myposition.marketPrice\n",
    "                direction = 'SELL' if current_position_qty > 0 else 'BUY'\n",
    "                stoploss_pct_theshold = 1 - ((risk_pct * max_acceptable_risk_deviation) + risk_pct) if direction == 'SELL' else 1 + ((risk_pct * max_acceptable_risk_deviation) + risk_pct)\n",
    "                stoploss_price_threshold = current_price * stoploss_pct_theshold\n",
    "                \n",
    "                if current_stoploss_qty != current_position_qty or force_update_stoplosses==True:\n",
    "                    quantity = int(myposition.position)\n",
    "                    current_price = myposition.marketPrice\n",
    "                    stop_price = round(current_price * (1-risk_pct), 1)\n",
    "                    print(f\"Updating a stop loss order with the following parameters: symbol:{symbol}, qty: {quantity}, current_price: {current_price}, stop_price: {stop_price}, direction: {direction}\")\n",
    "                    input(\"Press Enter to continue...\")\n",
    "                    order_id = self.place_stop_loss_order(direction, symbol, quantity, stop_price, primaryExchange, currency)\n",
    "                    print(f\"Stop loss order updated with order ID: {order_id}\")\n",
    "                    self.ib.cancelOrder(stoploss_order.order)\n",
    "                    print(f\"Previous Stop loss order with order ID: {stoploss_order.order.orderId} is cancelled.\")\n",
    "\n",
    "                elif (direction == 'SELL' and current_stoploss_price < stoploss_price_threshold) or (direction == 'BUY' and current_stoploss_price > stoploss_price_threshold):\n",
    "                    quantity = int(myposition.position)\n",
    "                    current_price = myposition.marketPrice\n",
    "                    stop_price = round(current_price * (1-risk_pct), 1)\n",
    "                    print(f\"Updating a stop loss order with the following parameters: symbol:{symbol}, qty: {quantity}, current_price: {current_price}, old_stop_price: {current_stoploss_price}, new_stop_price: {stop_price}, direction: {direction}\")\n",
    "                    input(\"Press Enter to continue...\")\n",
    "                    order_id = self.place_stop_loss_order(direction, symbol, quantity, stop_price, primaryExchange, currency)\n",
    "                    print(f\"Stop loss order updated with order ID: {order_id}\")\n",
    "                    self.ib.cancelOrder(stoploss_order.order)\n",
    "                    print(f\"Previous Stop loss order with order ID: {stoploss_order.order.orderId} is cancelled.\")\n",
    "                else:\n",
    "                    # if force_update_stoplosses==True:\n",
    "                    print(f\"Stop loss order for symbol: {symbol} is already at an acceptable level.\")\n",
    "                    \n",
    "        # update open orders\n",
    "        self.open_orders = self.get_open_orders()\n",
    "        # update at_risk_portfolio\n",
    "        self.at_risk_portfolio = self.calculate_current_risk_portfolio()\n",
    "        self.at_risk_value = sum(self.at_risk_portfolio.values())\n",
    "    def update_account_info(self):\n",
    "        account_summary = self.ib.accountSummary()\n",
    "        account_info = {}\n",
    "        for item in account_summary:\n",
    "            if item.tag == 'NetLiquidation':\n",
    "                account_info['NetLiquidation'] = str(item.currency) + ' ' + str(item.value)\n",
    "            if item.tag == 'GrossPositionValue':\n",
    "                account_info['GrossPositionValue'] = str(item.currency) + ' ' + str(item.value)\n",
    "        account_info['current_leverage_multiplier'] = round(float(account_info['GrossPositionValue'].split(' ')[1]) / float(account_info['NetLiquidation'].split(' ')[1]), 2)\n",
    "            \n",
    "        self.account_info = account_info\n",
    "        return self.account_info\n",
    "    def get_exchange_rate(self):\n",
    "        account_summary = self.ib.accountSummary()\n",
    "        for item in account_summary:\n",
    "            if item.tag == 'ExchangeRate':\n",
    "                self.exchange_rate = float(item.value)\n",
    "                break"
   ]
  },
  {
   "cell_type": "code",
   "execution_count": 9,
   "metadata": {},
   "outputs": [
    {
     "name": "stdout",
     "output_type": "stream",
     "text": [
      "Now Connecting to IBKR Trader Workstation.....\n",
      "{'account_info': {'GrossPositionValue': 'CAD 715540.54',\n",
      "                  'NetLiquidation': 'CAD 397761.15',\n",
      "                  'current_leverage_multiplier': 1.8},\n",
      " 'value_at_risk': 30660.1}\n"
     ]
    },
    {
     "name": "stderr",
     "output_type": "stream",
     "text": [
      "Peer closed connection.\n"
     ]
    }
   ],
   "source": [
    "# Create an instance of the IBKRTrader class\n",
    "trader = IBKRTrader(update_stoplosses=False)"
   ]
  },
  {
   "cell_type": "code",
   "execution_count": 10,
   "metadata": {},
   "outputs": [
    {
     "name": "stdout",
     "output_type": "stream",
     "text": [
      "Stop loss order for symbol: AAAU is already at an acceptable level.\n",
      "Stop loss order for symbol: DELL is already at an acceptable level.\n",
      "Stop loss order for symbol: META is already at an acceptable level.\n",
      "Stop loss order for symbol: NVDA is already at an acceptable level.\n",
      "Stop loss order for symbol: PANW is already at an acceptable level.\n",
      "Stop loss order for symbol: QCOM is already at an acceptable level.\n",
      "Stop loss order for symbol: SPOT is already at an acceptable level.\n"
     ]
    }
   ],
   "source": [
    "trader.update_stop_losses(risk_pct=0.075, max_acceptable_risk_deviation=0.1, force_update_stoplosses=False)"
   ]
  },
  {
   "cell_type": "code",
   "execution_count": 23,
   "metadata": {},
   "outputs": [],
   "source": [
    "rate = trader.get_exchange_rate()\n",
    "rate"
   ]
  },
  {
   "cell_type": "code",
   "execution_count": 9,
   "metadata": {},
   "outputs": [],
   "source": [
    "positions = trader.current_positions()\n",
    "portfolio = trader.current_portfolio()\n",
    "open_orders = trader.get_open_orders()"
   ]
  },
  {
   "cell_type": "code",
   "execution_count": 10,
   "metadata": {},
   "outputs": [
    {
     "data": {
      "text/plain": [
       "[PortfolioItem(contract=Stock(conId=458886642, symbol='AAAU', right='0', primaryExchange='BATS', currency='USD', localSymbol='AAAU', tradingClass='AAAU'), position=2000.0, marketPrice=23.17480085, marketValue=46349.6, averageCost=23.655, unrealizedPNL=-960.4, realizedPNL=0.0, account='U13152795'),\n",
       " PortfolioItem(contract=Stock(conId=4205, symbol='AEM', right='0', primaryExchange='NYSE', currency='USD', localSymbol='AEM', tradingClass='AEM'), position=500.0, marketPrice=68.19, marketValue=34095.0, averageCost=61.985, unrealizedPNL=3102.5, realizedPNL=0.0, account='U13152795'),\n",
       " PortfolioItem(contract=Stock(conId=5027019, symbol='CNQ', right='0', primaryExchange='TSE', currency='CAD', localSymbol='CNQ', tradingClass='CNQ'), position=300.0, marketPrice=103.68499755, marketValue=31105.5, averageCost=112.46, unrealizedPNL=-2632.5, realizedPNL=0.0, account='U13152795'),\n",
       " PortfolioItem(contract=Stock(conId=346218218, symbol='DELL', right='0', primaryExchange='NYSE', currency='USD', localSymbol='DELL', tradingClass='DELL'), position=300.0, marketPrice=139.6499939, marketValue=41895.0, averageCost=131.855, unrealizedPNL=2338.5, realizedPNL=0.0, account='U13152795'),\n",
       " PortfolioItem(contract=Stock(conId=498843743, symbol='GE', right='0', primaryExchange='NYSE', currency='USD', localSymbol='GE', tradingClass='GE'), position=200.0, marketPrice=163.7400055, marketValue=32748.0, averageCost=157.035, unrealizedPNL=1341.0, realizedPNL=0.0, account='U13152795'),\n",
       " PortfolioItem(contract=Stock(conId=107113386, symbol='META', right='0', primaryExchange='NASDAQ', currency='USD', localSymbol='META', tradingClass='NMS'), position=100.0, marketPrice=465.980011, marketValue=46598.0, averageCost=472.6148, unrealizedPNL=-663.48, realizedPNL=0.0, account='U13152795'),\n",
       " PortfolioItem(contract=Stock(conId=4815747, symbol='NVDA', right='0', primaryExchange='NASDAQ', currency='USD', localSymbol='NVDA', tradingClass='NMS'), position=50.0, marketPrice=1093.69995115, marketValue=54685.0, averageCost=898.82, unrealizedPNL=9744.0, realizedPNL=0.0, account='U13152795'),\n",
       " PortfolioItem(contract=Stock(conId=110619459, symbol='PANW', right='0', primaryExchange='NASDAQ', currency='USD', localSymbol='PANW', tradingClass='NMS'), position=100.0, marketPrice=294.0, marketValue=29400.0, averageCost=297.614, unrealizedPNL=-361.4, realizedPNL=0.0, account='U13152795'),\n",
       " PortfolioItem(contract=Stock(conId=1812968, symbol='SCCO', right='0', primaryExchange='NYSE', currency='USD', localSymbol='SCCO', tradingClass='SCCO'), position=0.12, marketPrice=118.5, marketValue=14.22, averageCost=115.50166665, unrealizedPNL=0.36, realizedPNL=0.0, account='U13152795')]"
      ]
     },
     "execution_count": 10,
     "metadata": {},
     "output_type": "execute_result"
    }
   ],
   "source": [
    "portfolio"
   ]
  },
  {
   "cell_type": "code",
   "execution_count": 11,
   "metadata": {},
   "outputs": [
    {
     "data": {
      "text/plain": [
       "[Trade(contract=Stock(conId=4815747, symbol='NVDA', right='?', exchange='SMART', currency='USD', localSymbol='NVDA', tradingClass='NMS'), order=Order(permId=225182841, action='SELL', totalQuantity=50.0, orderType='STP', lmtPrice=0.0, auxPrice=917.24, tif='GTC', ocaType=3, displaySize=2147483647, rule80A='0', trailStopPrice=917.24, openClose='', volatilityType=0, deltaNeutralOrderType='None', referencePriceType=0, account='U13152795', clearingIntent='IB', adjustedOrderType='None', cashQty=0.0, dontUseAutoPriceForHedge=True), orderStatus=OrderStatus(orderId=0, status='PreSubmitted', filled=0.0, remaining=50.0, avgFillPrice=0.0, permId=225182841, parentId=0, lastFillPrice=0.0, clientId=0, whyHeld='trigger', mktCapPrice=0.0), fills=[], log=[TradeLogEntry(time=datetime.datetime(2024, 5, 31, 3, 50, 51, 451397, tzinfo=datetime.timezone.utc), status='PreSubmitted', message='', errorCode=0), TradeLogEntry(time=datetime.datetime(2024, 5, 31, 3, 51, 53, 483870, tzinfo=datetime.timezone.utc), status='PendingCancel', message='', errorCode=0), TradeLogEntry(time=datetime.datetime(2024, 5, 31, 3, 52, 56, 121, tzinfo=datetime.timezone.utc), status='PreSubmitted', message='', errorCode=0)], advancedError=''),\n",
       " Trade(contract=Stock(symbol='AAAU', exchange='SMART', primaryExchange='BATS', currency='USD'), order=Order(orderId=35, clientId=1, permId=292112415, action='SELL', totalQuantity=2000.0, orderType='STP', lmtPrice=21.97, auxPrice=22.0, tif='GTC'), orderStatus=OrderStatus(orderId=35, status='PreSubmitted', filled=0.0, remaining=2000.0, avgFillPrice=0.0, permId=292112415, parentId=0, lastFillPrice=0.0, clientId=1, whyHeld='trigger', mktCapPrice=0.0), fills=[], log=[TradeLogEntry(time=datetime.datetime(2024, 5, 31, 3, 53, 23, 40840, tzinfo=datetime.timezone.utc), status='PendingSubmit', message='', errorCode=0), TradeLogEntry(time=datetime.datetime(2024, 5, 31, 3, 53, 23, 143954, tzinfo=datetime.timezone.utc), status='PreSubmitted', message='', errorCode=0)], advancedError=''),\n",
       " Trade(contract=Stock(symbol='CNQ', exchange='SMART', primaryExchange='TSE', currency='CAD'), order=Order(orderId=37, clientId=1, permId=292112417, action='SELL', totalQuantity=300.0, orderType='STP', lmtPrice=0.0, auxPrice=98.5, tif='GTC'), orderStatus=OrderStatus(orderId=37, status='PreSubmitted', filled=0.0, remaining=300.0, avgFillPrice=0.0, permId=292112417, parentId=0, lastFillPrice=0.0, clientId=1, whyHeld='trigger', mktCapPrice=0.0), fills=[], log=[TradeLogEntry(time=datetime.datetime(2024, 5, 31, 3, 53, 46, 147108, tzinfo=datetime.timezone.utc), status='PendingSubmit', message='', errorCode=0), TradeLogEntry(time=datetime.datetime(2024, 5, 31, 3, 53, 46, 243710, tzinfo=datetime.timezone.utc), status='PreSubmitted', message='', errorCode=0)], advancedError=''),\n",
       " Trade(contract=Stock(symbol='AEM', exchange='SMART', primaryExchange='NYSE', currency='USD'), order=Order(orderId=36, clientId=1, permId=292112416, action='SELL', totalQuantity=500.0, orderType='STP', lmtPrice=64.77, auxPrice=64.8, tif='GTC'), orderStatus=OrderStatus(orderId=36, status='PreSubmitted', filled=0.0, remaining=500.0, avgFillPrice=0.0, permId=292112416, parentId=0, lastFillPrice=0.0, clientId=1, whyHeld='trigger', mktCapPrice=0.0), fills=[], log=[TradeLogEntry(time=datetime.datetime(2024, 5, 31, 3, 53, 36, 887103, tzinfo=datetime.timezone.utc), status='PendingSubmit', message='', errorCode=0), TradeLogEntry(time=datetime.datetime(2024, 5, 31, 3, 53, 37, 16744, tzinfo=datetime.timezone.utc), status='PreSubmitted', message='', errorCode=0)], advancedError=''),\n",
       " Trade(contract=Stock(symbol='GE', exchange='SMART', primaryExchange='NYSE', currency='USD'), order=Order(orderId=39, clientId=1, permId=292112419, action='SELL', totalQuantity=200.0, orderType='STP', lmtPrice=155.57, auxPrice=155.6, tif='GTC'), orderStatus=OrderStatus(orderId=39, status='PreSubmitted', filled=0.0, remaining=200.0, avgFillPrice=0.0, permId=292112419, parentId=0, lastFillPrice=0.0, clientId=1, whyHeld='trigger', mktCapPrice=0.0), fills=[], log=[TradeLogEntry(time=datetime.datetime(2024, 5, 31, 3, 54, 12, 511227, tzinfo=datetime.timezone.utc), status='PendingSubmit', message='', errorCode=0), TradeLogEntry(time=datetime.datetime(2024, 5, 31, 3, 54, 12, 572771, tzinfo=datetime.timezone.utc), status='PreSubmitted', message='', errorCode=0)], advancedError=''),\n",
       " Trade(contract=Stock(symbol='DELL', exchange='SMART', primaryExchange='NYSE', currency='USD'), order=Order(orderId=38, clientId=1, permId=292112418, action='SELL', totalQuantity=300.0, orderType='STP', lmtPrice=132.67, auxPrice=132.7, tif='GTC'), orderStatus=OrderStatus(orderId=38, status='PreSubmitted', filled=0.0, remaining=300.0, avgFillPrice=0.0, permId=292112418, parentId=0, lastFillPrice=0.0, clientId=1, whyHeld='trigger', mktCapPrice=0.0), fills=[], log=[TradeLogEntry(time=datetime.datetime(2024, 5, 31, 3, 54, 3, 404964, tzinfo=datetime.timezone.utc), status='PendingSubmit', message='', errorCode=0), TradeLogEntry(time=datetime.datetime(2024, 5, 31, 3, 54, 3, 511096, tzinfo=datetime.timezone.utc), status='PreSubmitted', message='', errorCode=0)], advancedError=''),\n",
       " Trade(contract=Stock(symbol='NVDA', exchange='SMART', primaryExchange='NASDAQ', currency='USD'), order=Order(orderId=41, clientId=1, permId=292112421, action='SELL', totalQuantity=50.0, orderType='STP', lmtPrice=1038.97, auxPrice=1039.0, tif='GTC'), orderStatus=OrderStatus(orderId=41, status='PreSubmitted', filled=0.0, remaining=50.0, avgFillPrice=0.0, permId=292112421, parentId=0, lastFillPrice=0.0, clientId=1, whyHeld='trigger', mktCapPrice=0.0), fills=[], log=[TradeLogEntry(time=datetime.datetime(2024, 5, 31, 3, 54, 29, 804775, tzinfo=datetime.timezone.utc), status='PendingSubmit', message='', errorCode=0), TradeLogEntry(time=datetime.datetime(2024, 5, 31, 3, 54, 29, 870108, tzinfo=datetime.timezone.utc), status='PreSubmitted', message='', errorCode=0)], advancedError=''),\n",
       " Trade(contract=Stock(symbol='META', exchange='SMART', primaryExchange='NASDAQ', currency='USD'), order=Order(orderId=40, clientId=1, permId=292112420, action='SELL', totalQuantity=100.0, orderType='STP', lmtPrice=442.67, auxPrice=442.7, tif='GTC'), orderStatus=OrderStatus(orderId=40, status='PreSubmitted', filled=0.0, remaining=100.0, avgFillPrice=0.0, permId=292112420, parentId=0, lastFillPrice=0.0, clientId=1, whyHeld='trigger', mktCapPrice=0.0), fills=[], log=[TradeLogEntry(time=datetime.datetime(2024, 5, 31, 3, 54, 19, 705957, tzinfo=datetime.timezone.utc), status='PendingSubmit', message='', errorCode=0), TradeLogEntry(time=datetime.datetime(2024, 5, 31, 3, 54, 19, 788844, tzinfo=datetime.timezone.utc), status='PreSubmitted', message='', errorCode=0)], advancedError=''),\n",
       " Trade(contract=Stock(symbol='PANW', exchange='SMART', primaryExchange='NASDAQ', currency='USD'), order=Order(orderId=42, clientId=1, permId=292112422, action='SELL', totalQuantity=100.0, orderType='STP', lmtPrice=279.27000000000004, auxPrice=279.3, tif='GTC'), orderStatus=OrderStatus(orderId=42, status='PreSubmitted', filled=0.0, remaining=100.0, avgFillPrice=0.0, permId=292112422, parentId=0, lastFillPrice=0.0, clientId=1, whyHeld='trigger', mktCapPrice=0.0), fills=[], log=[TradeLogEntry(time=datetime.datetime(2024, 5, 31, 3, 54, 39, 839901, tzinfo=datetime.timezone.utc), status='PendingSubmit', message='', errorCode=0), TradeLogEntry(time=datetime.datetime(2024, 5, 31, 3, 54, 39, 947252, tzinfo=datetime.timezone.utc), status='PreSubmitted', message='', errorCode=0)], advancedError='')]"
      ]
     },
     "execution_count": 11,
     "metadata": {},
     "output_type": "execute_result"
    }
   ],
   "source": [
    "open_orders"
   ]
  },
  {
   "cell_type": "code",
   "execution_count": 8,
   "metadata": {},
   "outputs": [
    {
     "name": "stdout",
     "output_type": "stream",
     "text": [
      "Updating a stop loss order with the following parameters: symbol:AAAU, qty: 2000, current_price: 23.17480085, old_stop_price: 21.6, new_stop_price: 22.0, direction: SELL\n",
      "Stop loss order updated with order ID: 35\n",
      "Previous Stop loss order with order ID: 19 is cancelled.\n",
      "Updating a stop loss order with the following parameters: symbol:AEM, qty: 500, current_price: 68.19, old_stop_price: 63.7, new_stop_price: 64.8, direction: SELL\n",
      "Stop loss order updated with order ID: 36\n",
      "Previous Stop loss order with order ID: 20 is cancelled.\n",
      "Updating a stop loss order with the following parameters: symbol:CNQ, qty: 300, current_price: 103.68499755, old_stop_price: 94.5, new_stop_price: 98.5, direction: SELL\n",
      "Stop loss order updated with order ID: 37\n",
      "Previous Stop loss order with order ID: 21 is cancelled.\n",
      "Updating a stop loss order with the following parameters: symbol:DELL, qty: 300, current_price: 139.6499939, old_stop_price: 131.4, new_stop_price: 132.7, direction: SELL\n",
      "Stop loss order updated with order ID: 38\n",
      "Previous Stop loss order with order ID: 3 is cancelled.\n",
      "Updating a stop loss order with the following parameters: symbol:GE, qty: 200, current_price: 163.7400055, old_stop_price: 147.4, new_stop_price: 155.6, direction: SELL\n",
      "Stop loss order updated with order ID: 39\n",
      "Previous Stop loss order with order ID: 32 is cancelled.\n",
      "Updating a stop loss order with the following parameters: symbol:META, qty: 100, current_price: 465.980011, old_stop_price: 421.2, new_stop_price: 442.7, direction: SELL\n",
      "Stop loss order updated with order ID: 40\n",
      "Previous Stop loss order with order ID: 4 is cancelled.\n",
      "Updating a stop loss order with the following parameters: symbol:NVDA, qty: 50, current_price: 1093.69995115, old_stop_price: 984.3, new_stop_price: 1039.0, direction: SELL\n",
      "Stop loss order updated with order ID: 41\n",
      "Previous Stop loss order with order ID: 33 is cancelled.\n",
      "Updating a stop loss order with the following parameters: symbol:PANW, qty: 100, current_price: 294.0, old_stop_price: 266.4, new_stop_price: 279.3, direction: SELL\n",
      "Stop loss order updated with order ID: 42\n",
      "Previous Stop loss order with order ID: 24 is cancelled.\n",
      "Placing a stop loss order with the following parameters: symbol:SCCO, qty: 0, current_price: 118.5, stop_price: 112.6, direction: BUY\n",
      "Stop loss order placed with order ID: 43\n"
     ]
    },
    {
     "name": "stderr",
     "output_type": "stream",
     "text": [
      "Error 321, reqId 43: Error validating request.-'bG' : cause - The size value cannot be zero:\n",
      "Canceled order: Trade(contract=Stock(symbol='SCCO', exchange='SMART', primaryExchange='NYSE', currency='USD'), order=Order(orderId=43, clientId=1, action='BUY', orderType='STP', auxPrice=112.6, tif='GTC'), orderStatus=OrderStatus(orderId=43, status='Cancelled', filled=0.0, remaining=0.0, avgFillPrice=0.0, permId=0, parentId=0, lastFillPrice=0.0, clientId=0, whyHeld='', mktCapPrice=0.0), fills=[], log=[TradeLogEntry(time=datetime.datetime(2024, 5, 31, 3, 54, 53, 384303, tzinfo=datetime.timezone.utc), status='PendingSubmit', message='', errorCode=0), TradeLogEntry(time=datetime.datetime(2024, 5, 31, 3, 54, 53, 391123, tzinfo=datetime.timezone.utc), status='Cancelled', message=\"Error 321, reqId 43: Error validating request.-'bG' : cause - The size value cannot be zero:\", errorCode=321)], advancedError='')\n"
     ]
    }
   ],
   "source": []
  },
  {
   "cell_type": "code",
   "execution_count": null,
   "metadata": {},
   "outputs": [],
   "source": []
  }
 ],
 "metadata": {
  "kernelspec": {
   "display_name": "venv",
   "language": "python",
   "name": "python3"
  },
  "language_info": {
   "codemirror_mode": {
    "name": "ipython",
    "version": 3
   },
   "file_extension": ".py",
   "mimetype": "text/x-python",
   "name": "python",
   "nbconvert_exporter": "python",
   "pygments_lexer": "ipython3",
   "version": "3.10.2"
  }
 },
 "nbformat": 4,
 "nbformat_minor": 2
}
