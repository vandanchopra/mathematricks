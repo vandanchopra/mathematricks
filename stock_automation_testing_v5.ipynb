{
 "cells": [
  {
   "cell_type": "code",
   "execution_count": 82,
   "id": "dd746c26-b087-47d4-8d0e-943f42d2e993",
   "metadata": {},
   "outputs": [
    {
     "name": "stdout",
     "output_type": "stream",
     "text": [
      "The autoreload extension is already loaded. To reload it, use:\n",
      "  %reload_ext autoreload\n"
     ]
    }
   ],
   "source": [
    "%load_ext autoreload\n",
    "%autoreload 2"
   ]
  },
  {
   "cell_type": "code",
   "execution_count": 83,
   "id": "8d1b4752-fa95-4da2-a52c-35aabbb2308f",
   "metadata": {},
   "outputs": [],
   "source": [
    "# Imports\n",
    "from backtest_utils import TradingSimulator\n",
    "import pickle"
   ]
  },
  {
   "cell_type": "code",
   "execution_count": 84,
   "id": "13d2b63e-9aa4-401a-8bb9-36300bd04c2d",
   "metadata": {},
   "outputs": [
    {
     "name": "stdout",
     "output_type": "stream",
     "text": [
      "NOTICE: self.strategy: Need to use strategy_vault to automatically load the strategy based on strategy name (need to basically do a dynamic import\n"
     ]
    }
   ],
   "source": [
    "strategy_name = 'dumb_strategy'\n",
    "TS = TradingSimulator(strategy_name)"
   ]
  },
  {
   "cell_type": "code",
   "execution_count": 85,
   "id": "d52d19b5-00ff-4eaa-a26c-e7fd31b459ae",
   "metadata": {},
   "outputs": [],
   "source": [
    "# Dump New symbols into the stock_symbols.pkl\n",
    "stock_symbols_pickle = 'stock_symbols.pkl'  # Name of the pickle file\n",
    "symbols = []  # Example list of stock symbols\n",
    "if len(symbols) > 0:\n",
    "    TS.SAU.add_stock_symbols_to_pickle(symbols, stock_symbols_pickle)"
   ]
  },
  {
   "cell_type": "code",
   "execution_count": 86,
   "id": "33c3c691-4f55-455c-848b-48272ab94415",
   "metadata": {},
   "outputs": [],
   "source": [
    "# Load the data from 'stock_symbols.pkl' into a variable called 'symbols'\n",
    "with open(stock_symbols_pickle, 'rb') as file:\n",
    "    symbols = pickle.load(file)"
   ]
  },
  {
   "cell_type": "code",
   "execution_count": 87,
   "id": "c7548bf6-a26d-41f2-bdb4-4babfce55b30",
   "metadata": {},
   "outputs": [
    {
     "name": "stderr",
     "output_type": "stream",
     "text": [
      "Downloading data for SRL: :   0%|                                                    | 1/6477 [00:00<00:50, 127.65it/s]"
     ]
    },
    {
     "name": "stdout",
     "output_type": "stream",
     "text": [
      "Updating data for LIFW...\n",
      "Updating data for SRL...\n"
     ]
    },
    {
     "name": "stderr",
     "output_type": "stream",
     "text": [
      "[*********************100%%**********************]  1 of 1 completed\n",
      "Downloading data for SLAMW: :   0%|                                                 | 2/6477 [00:01<1:31:33,  1.18it/s]"
     ]
    },
    {
     "name": "stdout",
     "output_type": "stream",
     "text": [
      "Data for SRL updated in data\\SRL.csv.\n",
      "Updating data for SLAMW...\n"
     ]
    },
    {
     "name": "stderr",
     "output_type": "stream",
     "text": [
      "[*********************100%%**********************]  1 of 1 completed\n",
      "Downloading data for SLAMW: :   0%|                                                 | 2/6477 [00:03<2:48:08,  1.56s/it]\n"
     ]
    },
    {
     "ename": "KeyboardInterrupt",
     "evalue": "",
     "output_type": "error",
     "traceback": [
      "\u001b[1;31m---------------------------------------------------------------------------\u001b[0m",
      "\u001b[1;31mKeyboardInterrupt\u001b[0m                         Traceback (most recent call last)",
      "Cell \u001b[1;32mIn[87], line 2\u001b[0m\n\u001b[0;32m      1\u001b[0m stock_symbols_pickle \u001b[38;5;241m=\u001b[39m \u001b[38;5;124m'\u001b[39m\u001b[38;5;124mstock_symbols.pkl\u001b[39m\u001b[38;5;124m'\u001b[39m  \u001b[38;5;66;03m# Name of the pickle file\u001b[39;00m\n\u001b[1;32m----> 2\u001b[0m \u001b[43mTS\u001b[49m\u001b[38;5;241;43m.\u001b[39;49m\u001b[43mSAU\u001b[49m\u001b[38;5;241;43m.\u001b[39;49m\u001b[43mupdate_stock_data\u001b[49m\u001b[43m(\u001b[49m\u001b[43mpickle_file\u001b[49m\u001b[38;5;241;43m=\u001b[39;49m\u001b[43mstock_symbols_pickle\u001b[49m\u001b[43m)\u001b[49m\n",
      "File \u001b[1;32m~\\Documents\\GitHub\\mathematricks\\stock_automation_utils.py:110\u001b[0m, in \u001b[0;36mStockAutomationUtils.update_stock_data\u001b[1;34m(self, pickle_file, data_folder, throttle_secs)\u001b[0m\n\u001b[0;32m    101\u001b[0m                     else:\n\u001b[0;32m    102\u001b[0m                         print(f\"No new data available for {symbol}.\")\n\u001b[0;32m    104\u001b[0m                 # ############################################################\n\u001b[0;32m    105\u001b[0m                 # # Alternative solution, does not take weekends into account:\n\u001b[0;32m    106\u001b[0m                 #\n\u001b[0;32m    107\u001b[0m                 # # Send an API request to download new data regardless of today's date\n\u001b[0;32m    108\u001b[0m                 # new_data = yf.download(symbol, start=last_date)\n\u001b[0;32m    109\u001b[0m                 #\n\u001b[1;32m--> 110\u001b[0m                 # # Should always pass this and never get to else, but just for safety:\n\u001b[0;32m    111\u001b[0m                 # if not data.empty:\n\u001b[0;32m    112\u001b[0m                 #     time.sleep(throttle_secs)\n\u001b[0;32m    113\u001b[0m                 #\n\u001b[0;32m    114\u001b[0m                 #     # Check to see if last_date is today's date,\n\u001b[0;32m    115\u001b[0m                 #     # which means multiple downloads in the same day,\n\u001b[0;32m    116\u001b[0m                 #     # so we need to drop the last date's row from existing data\n\u001b[0;32m    117\u001b[0m                 #     if last_date == datetime.now().date():\n\u001b[0;32m    118\u001b[0m                 #         existing_data = existing_data.drop(last_date)\n\u001b[0;32m    119\u001b[0m                 #     else:\n\u001b[0;32m    120\u001b[0m                 #         # last_date is not today's date, therefore we need to drop\n\u001b[0;32m    121\u001b[0m                 #         # it from new data, to avoid changing data we already may have\n\u001b[0;32m    122\u001b[0m                 #         # used to make trading decisions\n\u001b[0;32m    123\u001b[0m                 #         new_data = new_data.drop(last_date)\n\u001b[0;32m    124\u001b[0m                 #\n\u001b[0;32m    125\u001b[0m                 #     # Concatenate the two dataframes\n\u001b[0;32m    126\u001b[0m                 #     updated_data = pd.concat([existing_data, new_data])\n\u001b[0;32m    127\u001b[0m                 #     updated_data.to_csv(csv_file_path)\n\u001b[0;32m    128\u001b[0m                 #     print(f\"Data for {symbol} updated in {csv_file_path}.\")\n\u001b[0;32m    129\u001b[0m                 # else:   # Should never get here as we are downloading data regardless of today's date\n\u001b[0;32m    130\u001b[0m                 #     print(f\"No new data available for {symbol}.\")\n\u001b[0;32m    131\u001b[0m             pbar.update(1)\n\u001b[0;32m    133\u001b[0m def get_data_for_interval(self, symbols, symbols_df, start_date, end_date):\n",
      "\u001b[1;31mKeyboardInterrupt\u001b[0m: "
     ]
    }
   ],
   "source": [
    "stock_symbols_pickle = 'stock_symbols.pkl'  # Name of the pickle file\n",
    "TS.SAU.update_stock_data(pickle_file=stock_symbols_pickle)"
   ]
  },
  {
   "cell_type": "code",
   "execution_count": 88,
   "id": "d80a7b57-abf7-4a2a-8d60-eb522a7db2c9",
   "metadata": {},
   "outputs": [],
   "source": [
    "# Imports\n",
    "from datetime import datetime\n",
    "\n",
    "# Optional Imports\n",
    "import numpy as np\n",
    "import matplotlib.pyplot as plt"
   ]
  },
  {
   "cell_type": "code",
   "execution_count": 89,
   "id": "49dae4d2-b655-4c7a-b4a7-5f5676af2ef1",
   "metadata": {},
   "outputs": [],
   "source": [
    "symbols = ['HDB', 'BIIB', 'BNTX', 'MRNA', 'CHTR', 'AWK', 'SNAP', 'TFC', 'ES', 'KDP', 'HSY', 'NEE', 'TTWO', 'EL', 'JD', 'BA', 'EQNR', 'HUM', 'NTR', 'WPM', 'WPM', 'WBA', 'SBAC', 'MMM', 'BTI', 'ILMN', 'WDS', 'ADM', 'PFE', 'ALNY', 'FNV', 'NEM', 'WBD']\n"
   ]
  },
  {
   "cell_type": "code",
   "execution_count": 136,
   "id": "2769bc09-d232-43db-bd97-5393d298abc6",
   "metadata": {},
   "outputs": [
    {
     "name": "stdout",
     "output_type": "stream",
     "text": [
      "NOTICE: self.strategy: Need to use strategy_vault to automatically load the strategy based on strategy name (need to basically do a dynamic import\n"
     ]
    },
    {
     "name": "stderr",
     "output_type": "stream",
     "text": [
      "Running backtest: 2020-12-16 - 2020-12-30: 100%|██████████████████████| 73/73 [00:02<00:00, 29.60it/s, Profit=-3761.65]\n"
     ]
    },
    {
     "name": "stdout",
     "output_type": "stream",
     "text": [
      "Backtest results saved to backtests/Test_1.pkl\n",
      "NOTICE: self.strategy: Need to use strategy_vault to automatically load the strategy based on strategy name (need to basically do a dynamic import\n"
     ]
    },
    {
     "name": "stderr",
     "output_type": "stream",
     "text": [
      "Running backtest: 2020-12-16 - 2020-12-30: 100%|███████████████████████| 73/73 [00:02<00:00, 30.45it/s, Profit=-1.5e+4]\n"
     ]
    },
    {
     "name": "stdout",
     "output_type": "stream",
     "text": [
      "Backtest results saved to backtests/Test_2.pkl\n"
     ]
    }
   ],
   "source": [
    "from backtest_utils import TradingSimulator\n",
    "start_date = '2018-01-01'\n",
    "end_date = '2020-12-31'\n",
    "start_date_dt = datetime.strptime(start_date, \"%Y-%m-%d\")\n",
    "end_date_dt = datetime.strptime(end_date, \"%Y-%m-%d\")\n",
    "rebalance_frequency = 15  # In days\n",
    "# create a numpy array of numbers 15 days apart from 0 to 365\n",
    "long_count = 10\n",
    "short_count = 5\n",
    "portfolio_starting_value = 110000\n",
    "risk_pct = 0.1\n",
    "reinvest_profits_bool = False\n",
    "\n",
    "# Run the backtest\n",
    "TS_no_leverage = TradingSimulator(strategy_name)\n",
    "test_no_leverage = TS_no_leverage.run_backtest(symbols, start_date_dt, end_date_dt, rebalance_frequency, long_count, short_count, portfolio_starting_value, risk_pct, reinvest_profits_bool, leverage_multiplier=1.0, save_test=True)\n",
    "TS_leverage = TradingSimulator(strategy_name)\n",
    "test_w_leverage = TS_leverage.run_backtest(symbols, start_date_dt, end_date_dt, rebalance_frequency, long_count, short_count, portfolio_starting_value, risk_pct, reinvest_profits_bool, leverage_multiplier=5.0, save_test=True)\n",
    "\n"
   ]
  },
  {
   "cell_type": "code",
   "execution_count": 137,
   "id": "e64821e0-31f1-4e72-aba3-b82c5a371733",
   "metadata": {},
   "outputs": [],
   "source": [
    "from analysis_utils import BacktestAnalyzer, compare_two_backtests"
   ]
  },
  {
   "cell_type": "code",
   "execution_count": 191,
   "id": "09280d6b-e45f-4261-bf16-35b5d807d1d7",
   "metadata": {},
   "outputs": [
    {
     "name": "stdout",
     "output_type": "stream",
     "text": [
      "backtests/Test_1_analysis.pkl\n",
      "Backtest analysis saved to backtests/Test_1_analysis.pkl\n",
      "backtests/Test_2_analysis.pkl\n",
      "Backtest analysis saved to backtests/Test_2_analysis.pkl\n",
      "strategy_name               False\n",
      "symbols                     False\n",
      "start_date_dt               False\n",
      "end_date_dt                 False\n",
      "rebalance_frequency         False\n",
      "long_count                  False\n",
      "short_count                 False\n",
      "portfolio_starting_value    False\n",
      "risk_pct                    False\n",
      "reinvest_profits_bool       False\n",
      "leverage_multiplier          True\n",
      "Name: 0, dtype: bool\n",
      "['leverage_multiplier=1.0', 'leverage_multiplier=5.0']\n"
     ]
    },
    {
     "name": "stderr",
     "output_type": "stream",
     "text": [
      "C:\\Users\\joses\\Documents\\GitHub\\mathematricks\\analysis_utils.py:98: RuntimeWarning: invalid value encountered in scalar power\n",
      "  cagr = (cumulative_returns[-1] / [x for x in cumulative_returns if x != 0][0]) ** (1 / len(cumulative_returns)) - 1\n",
      "C:\\Users\\joses\\Documents\\GitHub\\mathematricks\\analysis_utils.py:145: RuntimeWarning: invalid value encountered in scalar power\n",
      "  long_cagr = (long_cumulative_returns[-1] / [x for x in long_cumulative_returns if x != 0][0]) ** (1 / len(long_profits)) - 1\n",
      "C:\\Users\\joses\\Documents\\GitHub\\mathematricks\\analysis_utils.py:43: FutureWarning: Logical ops (and, or, xor) between Pandas objects and dtype-less sequences (e.g. list, tuple) are deprecated and will raise in a future version. Wrap the object in a Series, Index, or np.array before operating instead.\n",
      "  this_backtest = backtests_table.loc[[(backtests_table['strategy_name'] == self.strategy_name) &\n",
      "C:\\Users\\joses\\Documents\\GitHub\\mathematricks\\analysis_utils.py:43: FutureWarning: Logical ops (and, or, xor) between Pandas objects and dtype-less sequences (e.g. list, tuple) are deprecated and will raise in a future version. Wrap the object in a Series, Index, or np.array before operating instead.\n",
      "  this_backtest = backtests_table.loc[[(backtests_table['strategy_name'] == self.strategy_name) &\n"
     ]
    },
    {
     "data": {
      "text/html": [
       "<div>\n",
       "<style scoped>\n",
       "    .dataframe tbody tr th:only-of-type {\n",
       "        vertical-align: middle;\n",
       "    }\n",
       "\n",
       "    .dataframe tbody tr th {\n",
       "        vertical-align: top;\n",
       "    }\n",
       "\n",
       "    .dataframe thead tr th {\n",
       "        text-align: left;\n",
       "    }\n",
       "</style>\n",
       "<table border=\"1\" class=\"dataframe\">\n",
       "  <thead>\n",
       "    <tr>\n",
       "      <th>lst</th>\n",
       "      <th colspan=\"2\" halign=\"left\">total</th>\n",
       "    </tr>\n",
       "    <tr>\n",
       "      <th>test</th>\n",
       "      <th>leverage_multiplier=1.0</th>\n",
       "      <th>leverage_multiplier=5.0</th>\n",
       "    </tr>\n",
       "  </thead>\n",
       "  <tbody>\n",
       "    <tr>\n",
       "      <th>cagr</th>\n",
       "      <td>NaN</td>\n",
       "      <td>0.043666</td>\n",
       "    </tr>\n",
       "    <tr>\n",
       "      <th>max_drawdown</th>\n",
       "      <td>70106.174367</td>\n",
       "      <td>427629.137626</td>\n",
       "    </tr>\n",
       "    <tr>\n",
       "      <th>sharpe_ratio</th>\n",
       "      <td>-0.275417</td>\n",
       "      <td>-0.293753</td>\n",
       "    </tr>\n",
       "    <tr>\n",
       "      <th>sortino_ratio</th>\n",
       "      <td>-0.474754</td>\n",
       "      <td>-0.631961</td>\n",
       "    </tr>\n",
       "    <tr>\n",
       "      <th>profit_to_drawdown_ratio</th>\n",
       "      <td>-0.966588</td>\n",
       "      <td>-0.915186</td>\n",
       "    </tr>\n",
       "    <tr>\n",
       "      <th>beta</th>\n",
       "      <td>0.322305</td>\n",
       "      <td>1.530384</td>\n",
       "    </tr>\n",
       "    <tr>\n",
       "      <th>alpha</th>\n",
       "      <td>-1252.868998</td>\n",
       "      <td>-6902.370074</td>\n",
       "    </tr>\n",
       "    <tr>\n",
       "      <th>total_return</th>\n",
       "      <td>-67763.769928</td>\n",
       "      <td>-391360.007465</td>\n",
       "    </tr>\n",
       "    <tr>\n",
       "      <th>positive_returns</th>\n",
       "      <td>65669.866272</td>\n",
       "      <td>365814.417182</td>\n",
       "    </tr>\n",
       "    <tr>\n",
       "      <th>negative_returns</th>\n",
       "      <td>-133433.636201</td>\n",
       "      <td>-757174.424647</td>\n",
       "    </tr>\n",
       "    <tr>\n",
       "      <th>pct_profitable_bets</th>\n",
       "      <td>0.439269</td>\n",
       "      <td>0.415525</td>\n",
       "    </tr>\n",
       "    <tr>\n",
       "      <th>pct_negative_bets</th>\n",
       "      <td>0.558904</td>\n",
       "      <td>0.583562</td>\n",
       "    </tr>\n",
       "    <tr>\n",
       "      <th>median_gain</th>\n",
       "      <td>2346.796371</td>\n",
       "      <td>11462.475643</td>\n",
       "    </tr>\n",
       "    <tr>\n",
       "      <th>average_loss</th>\n",
       "      <td>-2668.672724</td>\n",
       "      <td>-15143.488493</td>\n",
       "    </tr>\n",
       "    <tr>\n",
       "      <th>median_gain_to_average_loss</th>\n",
       "      <td>-0.879387</td>\n",
       "      <td>-0.756924</td>\n",
       "    </tr>\n",
       "    <tr>\n",
       "      <th>test_score</th>\n",
       "      <td>0.786938</td>\n",
       "      <td>0.288174</td>\n",
       "    </tr>\n",
       "    <tr>\n",
       "      <th>pct_positive_returns</th>\n",
       "      <td>NaN</td>\n",
       "      <td>NaN</td>\n",
       "    </tr>\n",
       "    <tr>\n",
       "      <th>pct_negative_returns</th>\n",
       "      <td>NaN</td>\n",
       "      <td>NaN</td>\n",
       "    </tr>\n",
       "  </tbody>\n",
       "</table>\n",
       "</div>"
      ],
      "text/plain": [
       "lst                                           total                        \n",
       "test                        leverage_multiplier=1.0 leverage_multiplier=5.0\n",
       "cagr                                            NaN                0.043666\n",
       "max_drawdown                           70106.174367           427629.137626\n",
       "sharpe_ratio                              -0.275417               -0.293753\n",
       "sortino_ratio                             -0.474754               -0.631961\n",
       "profit_to_drawdown_ratio                  -0.966588               -0.915186\n",
       "beta                                       0.322305                1.530384\n",
       "alpha                                  -1252.868998            -6902.370074\n",
       "total_return                          -67763.769928          -391360.007465\n",
       "positive_returns                       65669.866272           365814.417182\n",
       "negative_returns                     -133433.636201          -757174.424647\n",
       "pct_profitable_bets                        0.439269                0.415525\n",
       "pct_negative_bets                          0.558904                0.583562\n",
       "median_gain                             2346.796371            11462.475643\n",
       "average_loss                           -2668.672724           -15143.488493\n",
       "median_gain_to_average_loss               -0.879387               -0.756924\n",
       "test_score                                 0.786938                0.288174\n",
       "pct_positive_returns                            NaN                     NaN\n",
       "pct_negative_returns                            NaN                     NaN"
      ]
     },
     "metadata": {},
     "output_type": "display_data"
    },
    {
     "data": {
      "text/html": [
       "<div>\n",
       "<style scoped>\n",
       "    .dataframe tbody tr th:only-of-type {\n",
       "        vertical-align: middle;\n",
       "    }\n",
       "\n",
       "    .dataframe tbody tr th {\n",
       "        vertical-align: top;\n",
       "    }\n",
       "\n",
       "    .dataframe thead tr th {\n",
       "        text-align: left;\n",
       "    }\n",
       "</style>\n",
       "<table border=\"1\" class=\"dataframe\">\n",
       "  <thead>\n",
       "    <tr>\n",
       "      <th>lst</th>\n",
       "      <th colspan=\"2\" halign=\"left\">long</th>\n",
       "    </tr>\n",
       "    <tr>\n",
       "      <th>test</th>\n",
       "      <th>leverage_multiplier=1.0</th>\n",
       "      <th>leverage_multiplier=5.0</th>\n",
       "    </tr>\n",
       "  </thead>\n",
       "  <tbody>\n",
       "    <tr>\n",
       "      <th>cagr</th>\n",
       "      <td>0.039483</td>\n",
       "      <td>NaN</td>\n",
       "    </tr>\n",
       "    <tr>\n",
       "      <th>max_drawdown</th>\n",
       "      <td>270569.425700</td>\n",
       "      <td>38395.408840</td>\n",
       "    </tr>\n",
       "    <tr>\n",
       "      <th>sharpe_ratio</th>\n",
       "      <td>-0.087924</td>\n",
       "      <td>-0.070226</td>\n",
       "    </tr>\n",
       "    <tr>\n",
       "      <th>sortino_ratio</th>\n",
       "      <td>-0.200216</td>\n",
       "      <td>-0.121595</td>\n",
       "    </tr>\n",
       "    <tr>\n",
       "      <th>profit_to_drawdown_ratio</th>\n",
       "      <td>-0.460852</td>\n",
       "      <td>-0.475422</td>\n",
       "    </tr>\n",
       "    <tr>\n",
       "      <th>beta</th>\n",
       "      <td>1.983569</td>\n",
       "      <td>0.418590</td>\n",
       "    </tr>\n",
       "    <tr>\n",
       "      <th>alpha</th>\n",
       "      <td>-3705.797762</td>\n",
       "      <td>-671.623692</td>\n",
       "    </tr>\n",
       "    <tr>\n",
       "      <th>total_return</th>\n",
       "      <td>-124692.331272</td>\n",
       "      <td>-18254.024016</td>\n",
       "    </tr>\n",
       "    <tr>\n",
       "      <th>positive_returns</th>\n",
       "      <td>NaN</td>\n",
       "      <td>NaN</td>\n",
       "    </tr>\n",
       "    <tr>\n",
       "      <th>negative_returns</th>\n",
       "      <td>NaN</td>\n",
       "      <td>NaN</td>\n",
       "    </tr>\n",
       "    <tr>\n",
       "      <th>pct_profitable_bets</th>\n",
       "      <td>1.000000</td>\n",
       "      <td>1.000000</td>\n",
       "    </tr>\n",
       "    <tr>\n",
       "      <th>pct_negative_bets</th>\n",
       "      <td>NaN</td>\n",
       "      <td>NaN</td>\n",
       "    </tr>\n",
       "    <tr>\n",
       "      <th>median_gain</th>\n",
       "      <td>12247.106853</td>\n",
       "      <td>1801.493256</td>\n",
       "    </tr>\n",
       "    <tr>\n",
       "      <th>average_loss</th>\n",
       "      <td>-14268.767482</td>\n",
       "      <td>-2374.473041</td>\n",
       "    </tr>\n",
       "    <tr>\n",
       "      <th>median_gain_to_average_loss</th>\n",
       "      <td>-0.858316</td>\n",
       "      <td>-0.758692</td>\n",
       "    </tr>\n",
       "    <tr>\n",
       "      <th>test_score</th>\n",
       "      <td>0.945273</td>\n",
       "      <td>0.054444</td>\n",
       "    </tr>\n",
       "    <tr>\n",
       "      <th>pct_positive_returns</th>\n",
       "      <td>6501.313739</td>\n",
       "      <td>1148.607079</td>\n",
       "    </tr>\n",
       "    <tr>\n",
       "      <th>pct_negative_returns</th>\n",
       "      <td>-8209.427866</td>\n",
       "      <td>-1398.662202</td>\n",
       "    </tr>\n",
       "  </tbody>\n",
       "</table>\n",
       "</div>"
      ],
      "text/plain": [
       "lst                                            long                        \n",
       "test                        leverage_multiplier=1.0 leverage_multiplier=5.0\n",
       "cagr                                       0.039483                     NaN\n",
       "max_drawdown                          270569.425700            38395.408840\n",
       "sharpe_ratio                              -0.087924               -0.070226\n",
       "sortino_ratio                             -0.200216               -0.121595\n",
       "profit_to_drawdown_ratio                  -0.460852               -0.475422\n",
       "beta                                       1.983569                0.418590\n",
       "alpha                                  -3705.797762             -671.623692\n",
       "total_return                         -124692.331272           -18254.024016\n",
       "positive_returns                                NaN                     NaN\n",
       "negative_returns                                NaN                     NaN\n",
       "pct_profitable_bets                        1.000000                1.000000\n",
       "pct_negative_bets                               NaN                     NaN\n",
       "median_gain                            12247.106853             1801.493256\n",
       "average_loss                          -14268.767482            -2374.473041\n",
       "median_gain_to_average_loss               -0.858316               -0.758692\n",
       "test_score                                 0.945273                0.054444\n",
       "pct_positive_returns                    6501.313739             1148.607079\n",
       "pct_negative_returns                   -8209.427866            -1398.662202"
      ]
     },
     "metadata": {},
     "output_type": "display_data"
    },
    {
     "data": {
      "text/html": [
       "<div>\n",
       "<style scoped>\n",
       "    .dataframe tbody tr th:only-of-type {\n",
       "        vertical-align: middle;\n",
       "    }\n",
       "\n",
       "    .dataframe tbody tr th {\n",
       "        vertical-align: top;\n",
       "    }\n",
       "\n",
       "    .dataframe thead tr th {\n",
       "        text-align: left;\n",
       "    }\n",
       "</style>\n",
       "<table border=\"1\" class=\"dataframe\">\n",
       "  <thead>\n",
       "    <tr>\n",
       "      <th>lst</th>\n",
       "      <th colspan=\"2\" halign=\"left\">short</th>\n",
       "    </tr>\n",
       "    <tr>\n",
       "      <th>test</th>\n",
       "      <th>leverage_multiplier=1.0</th>\n",
       "      <th>leverage_multiplier=5.0</th>\n",
       "    </tr>\n",
       "  </thead>\n",
       "  <tbody>\n",
       "    <tr>\n",
       "      <th>cagr</th>\n",
       "      <td>0.046150</td>\n",
       "      <td>0.054323</td>\n",
       "    </tr>\n",
       "    <tr>\n",
       "      <th>max_drawdown</th>\n",
       "      <td>259141.058943</td>\n",
       "      <td>48468.353852</td>\n",
       "    </tr>\n",
       "    <tr>\n",
       "      <th>sharpe_ratio</th>\n",
       "      <td>-0.852837</td>\n",
       "      <td>-0.774256</td>\n",
       "    </tr>\n",
       "    <tr>\n",
       "      <th>sortino_ratio</th>\n",
       "      <td>-1.491578</td>\n",
       "      <td>-1.207367</td>\n",
       "    </tr>\n",
       "    <tr>\n",
       "      <th>profit_to_drawdown_ratio</th>\n",
       "      <td>-1.029044</td>\n",
       "      <td>-1.021486</td>\n",
       "    </tr>\n",
       "    <tr>\n",
       "      <th>beta</th>\n",
       "      <td>-0.453185</td>\n",
       "      <td>-0.096285</td>\n",
       "    </tr>\n",
       "    <tr>\n",
       "      <th>alpha</th>\n",
       "      <td>-3196.572312</td>\n",
       "      <td>-581.245306</td>\n",
       "    </tr>\n",
       "    <tr>\n",
       "      <th>total_return</th>\n",
       "      <td>-266667.676193</td>\n",
       "      <td>-49509.745912</td>\n",
       "    </tr>\n",
       "    <tr>\n",
       "      <th>positive_returns</th>\n",
       "      <td>NaN</td>\n",
       "      <td>NaN</td>\n",
       "    </tr>\n",
       "    <tr>\n",
       "      <th>negative_returns</th>\n",
       "      <td>NaN</td>\n",
       "      <td>NaN</td>\n",
       "    </tr>\n",
       "    <tr>\n",
       "      <th>pct_profitable_bets</th>\n",
       "      <td>1.000000</td>\n",
       "      <td>1.000000</td>\n",
       "    </tr>\n",
       "    <tr>\n",
       "      <th>pct_negative_bets</th>\n",
       "      <td>NaN</td>\n",
       "      <td>NaN</td>\n",
       "    </tr>\n",
       "    <tr>\n",
       "      <th>median_gain</th>\n",
       "      <td>1952.025681</td>\n",
       "      <td>295.484909</td>\n",
       "    </tr>\n",
       "    <tr>\n",
       "      <th>average_loss</th>\n",
       "      <td>-5263.456154</td>\n",
       "      <td>-990.303337</td>\n",
       "    </tr>\n",
       "    <tr>\n",
       "      <th>median_gain_to_average_loss</th>\n",
       "      <td>-0.370864</td>\n",
       "      <td>-0.298378</td>\n",
       "    </tr>\n",
       "    <tr>\n",
       "      <th>test_score</th>\n",
       "      <td>0.631877</td>\n",
       "      <td>0.461024</td>\n",
       "    </tr>\n",
       "    <tr>\n",
       "      <th>pct_positive_returns</th>\n",
       "      <td>601.044341</td>\n",
       "      <td>108.600652</td>\n",
       "    </tr>\n",
       "    <tr>\n",
       "      <th>pct_negative_returns</th>\n",
       "      <td>-4254.026207</td>\n",
       "      <td>-786.816350</td>\n",
       "    </tr>\n",
       "  </tbody>\n",
       "</table>\n",
       "</div>"
      ],
      "text/plain": [
       "lst                                           short                        \n",
       "test                        leverage_multiplier=1.0 leverage_multiplier=5.0\n",
       "cagr                                       0.046150                0.054323\n",
       "max_drawdown                          259141.058943            48468.353852\n",
       "sharpe_ratio                              -0.852837               -0.774256\n",
       "sortino_ratio                             -1.491578               -1.207367\n",
       "profit_to_drawdown_ratio                  -1.029044               -1.021486\n",
       "beta                                      -0.453185               -0.096285\n",
       "alpha                                  -3196.572312             -581.245306\n",
       "total_return                         -266667.676193           -49509.745912\n",
       "positive_returns                                NaN                     NaN\n",
       "negative_returns                                NaN                     NaN\n",
       "pct_profitable_bets                        1.000000                1.000000\n",
       "pct_negative_bets                               NaN                     NaN\n",
       "median_gain                             1952.025681              295.484909\n",
       "average_loss                           -5263.456154             -990.303337\n",
       "median_gain_to_average_loss               -0.370864               -0.298378\n",
       "test_score                                 0.631877                0.461024\n",
       "pct_positive_returns                     601.044341              108.600652\n",
       "pct_negative_returns                   -4254.026207             -786.816350"
      ]
     },
     "metadata": {},
     "output_type": "display_data"
    }
   ],
   "source": [
    "no_leverage_analyzer = BacktestAnalyzer(test_no_leverage)\n",
    "leveraged_analyzer = BacktestAnalyzer(test_w_leverage)\n",
    "\n",
    "total_comparison, long_comparison, short_comparison, no_leverage_analysis, leveraged_analysis = (\n",
    "    compare_two_backtests(no_leverage_analyzer, leveraged_analyzer)\n",
    ")\n",
    "\n",
    "from IPython.display import display, HTML\n",
    "display(total_comparison)\n",
    "display(long_comparison)\n",
    "display(short_comparison)"
   ]
  },
  {
   "cell_type": "code",
   "execution_count": 192,
   "id": "d611a87d-0ce0-46d9-9d4f-11a3fa34d26a",
   "metadata": {},
   "outputs": [],
   "source": [
    "benchmark_returns = TS.get_benchmark_returns(start_date_dt, end_date_dt, test_no_leverage['rebalance_periods'], portfolio_starting_value, benchmark_name='^IXIC')"
   ]
  },
  {
   "cell_type": "code",
   "execution_count": 197,
   "id": "71530eec-53d1-43a7-a424-87c19b01b353",
   "metadata": {},
   "outputs": [
    {
     "data": {
      "image/png": "[encoded data removed]",
      "text/plain": [
       "<Figure size 1600x900 with 1 Axes>"
      ]
     },
     "metadata": {},
     "output_type": "display_data"
    }
   ],
   "source": [
    "# Plot the backtest profits and the benchmark_data\n",
    "plt.figure(figsize=(16, 9))\n",
    "plt.plot(np.array(test_no_leverage['rebalance_periods'])[:, 1], np.cumsum(test_no_leverage['backtest_profits']), label=total_comparison.columns[0][1])\n",
    "plt.plot(np.array(test_w_leverage['rebalance_periods'])[:, 1], np.cumsum(test_w_leverage['backtest_profits']), label=total_comparison.columns[1][1])\n",
    "\n",
    "plt.plot(np.array(test_no_leverage['rebalance_periods'])[:, 1], np.cumsum(benchmark_returns), label='Nasdaq Returns')\n",
    "# Show labels\n",
    "plt.legend()\n",
    "# Show the plot\n",
    "plt.show()"
   ]
  },
  {
   "cell_type": "code",
   "execution_count": null,
   "id": "555ccfbe-8475-4c8a-a686-3e6364725c00",
   "metadata": {},
   "outputs": [],
   "source": []
  }
 ],
 "metadata": {
  "kernelspec": {
   "display_name": "Python 3 (ipykernel)",
   "language": "python",
   "name": "python3"
  },
  "language_info": {
   "codemirror_mode": {
    "name": "ipython",
    "version": 3
   },
   "file_extension": ".py",
   "mimetype": "text/x-python",
   "name": "python",
   "nbconvert_exporter": "python",
   "pygments_lexer": "ipython3",
   "version": "3.10.13"
  }
 },
 "nbformat": 4,
 "nbformat_minor": 5
}
