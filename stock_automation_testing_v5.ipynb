{
 "cells": [
  {
   "cell_type": "code",
   "execution_count": 145,
   "id": "dd746c26-b087-47d4-8d0e-943f42d2e993",
   "metadata": {},
   "outputs": [
    {
     "name": "stdout",
     "output_type": "stream",
     "text": [
      "The autoreload extension is already loaded. To reload it, use:\n",
      "  %reload_ext autoreload\n"
     ]
    }
   ],
   "source": [
    "%load_ext autoreload\n",
    "%autoreload 2"
   ]
  },
  {
   "cell_type": "code",
   "execution_count": 146,
   "id": "8d1b4752-fa95-4da2-a52c-35aabbb2308f",
   "metadata": {},
   "outputs": [],
   "source": [
    "# Imports\n",
    "from backtest_utils import TradingSimulator\n",
    "import pickle"
   ]
  },
  {
   "cell_type": "code",
   "execution_count": 147,
   "id": "13d2b63e-9aa4-401a-8bb9-36300bd04c2d",
   "metadata": {},
   "outputs": [
    {
     "name": "stdout",
     "output_type": "stream",
     "text": [
      "NOTICE: self.strategy: Need to use strategy_vault to automatically load the strategy based on strategy name (need to basically do a dynamic import\n"
     ]
    }
   ],
   "source": [
    "strategy_name = 'dumb_strategy'\n",
    "TS = TradingSimulator(strategy_name)"
   ]
  },
  {
   "cell_type": "code",
   "execution_count": 148,
   "id": "d52d19b5-00ff-4eaa-a26c-e7fd31b459ae",
   "metadata": {},
   "outputs": [],
   "source": [
    "# Dump New symbols into the stock_symbols.pkl\n",
    "stock_symbols_pickle = 'stock_symbols.pkl'  # Name of the pickle file\n",
    "symbols = []  # Example list of stock symbols\n",
    "if len(symbols) > 0:\n",
    "    TS.SAU.add_stock_symbols_to_pickle(symbols, stock_symbols_pickle)"
   ]
  },
  {
   "cell_type": "code",
   "execution_count": 149,
   "id": "33c3c691-4f55-455c-848b-48272ab94415",
   "metadata": {},
   "outputs": [],
   "source": [
    "# Load the data from 'stock_symbols.pkl' into a variable called 'symbols'\n",
    "with open(stock_symbols_pickle, 'rb') as file:\n",
    "    symbols = pickle.load(file)"
   ]
  },
  {
   "cell_type": "code",
   "execution_count": 150,
   "id": "c7548bf6-a26d-41f2-bdb4-4babfce55b30",
   "metadata": {},
   "outputs": [
    {
     "name": "stderr",
     "output_type": "stream",
     "text": [
      "Downloading data for LIFW: :   0%|                                                            | 0/6477 [00:00<?, ?it/s]"
     ]
    },
    {
     "name": "stdout",
     "output_type": "stream",
     "text": [
      "Updating data for LIFW...\n"
     ]
    },
    {
     "name": "stderr",
     "output_type": "stream",
     "text": [
      "[*********************100%%**********************]  1 of 1 completed\n",
      "Downloading data for SRL: :   0%|                                                   | 1/6477 [00:01<2:55:14,  1.62s/it]"
     ]
    },
    {
     "name": "stdout",
     "output_type": "stream",
     "text": [
      "Data for LIFW updated in data\\LIFW.csv.\n",
      "Updating data for SRL...\n"
     ]
    },
    {
     "name": "stderr",
     "output_type": "stream",
     "text": [
      "Downloading data for SRL: :   0%|                                                   | 1/6477 [00:01<3:19:21,  1.85s/it]\n"
     ]
    },
    {
     "ename": "KeyboardInterrupt",
     "evalue": "",
     "output_type": "error",
     "traceback": [
      "\u001b[1;31m---------------------------------------------------------------------------\u001b[0m",
      "\u001b[1;31mKeyboardInterrupt\u001b[0m                         Traceback (most recent call last)",
      "Cell \u001b[1;32mIn[150], line 2\u001b[0m\n\u001b[0;32m      1\u001b[0m stock_symbols_pickle \u001b[38;5;241m=\u001b[39m \u001b[38;5;124m'\u001b[39m\u001b[38;5;124mstock_symbols.pkl\u001b[39m\u001b[38;5;124m'\u001b[39m  \u001b[38;5;66;03m# Name of the pickle file\u001b[39;00m\n\u001b[1;32m----> 2\u001b[0m \u001b[43mTS\u001b[49m\u001b[38;5;241;43m.\u001b[39;49m\u001b[43mSAU\u001b[49m\u001b[38;5;241;43m.\u001b[39;49m\u001b[43mupdate_stock_data\u001b[49m\u001b[43m(\u001b[49m\u001b[43mpickle_file\u001b[49m\u001b[38;5;241;43m=\u001b[39;49m\u001b[43mstock_symbols_pickle\u001b[49m\u001b[43m)\u001b[49m\n",
      "File \u001b[1;32m~\\Documents\\GitHub\\mathematricks\\stock_automation_utils.py:107\u001b[0m, in \u001b[0;36mStockAutomationUtils.update_stock_data\u001b[1;34m(self, pickle_file, data_folder, throttle_secs)\u001b[0m\n\u001b[0;32m    104\u001b[0m     \u001b[38;5;28;01mpass\u001b[39;00m\n\u001b[0;32m    105\u001b[0m \u001b[38;5;28;01melse\u001b[39;00m:\n\u001b[0;32m    106\u001b[0m     \u001b[38;5;66;03m# Download data from the day after the last date in the CSV until today\u001b[39;00m\n\u001b[1;32m--> 107\u001b[0m     new_data \u001b[38;5;241m=\u001b[39m \u001b[43myf\u001b[49m\u001b[38;5;241;43m.\u001b[39;49m\u001b[43mdownload\u001b[49m\u001b[43m(\u001b[49m\u001b[43msymbol\u001b[49m\u001b[43m,\u001b[49m\u001b[43m \u001b[49m\u001b[43mstart\u001b[49m\u001b[38;5;241;43m=\u001b[39;49m\u001b[43mlast_date\u001b[49m\u001b[43m \u001b[49m\u001b[38;5;241;43m+\u001b[39;49m\u001b[43m \u001b[49m\u001b[43mpd\u001b[49m\u001b[38;5;241;43m.\u001b[39;49m\u001b[43moffsets\u001b[49m\u001b[38;5;241;43m.\u001b[39;49m\u001b[43mBDay\u001b[49m\u001b[43m(\u001b[49m\u001b[43m)\u001b[49m\u001b[43m)\u001b[49m\n\u001b[0;32m    109\u001b[0m     \u001b[38;5;28;01mif\u001b[39;00m \u001b[38;5;129;01mnot\u001b[39;00m new_data\u001b[38;5;241m.\u001b[39mempty:\n\u001b[0;32m    110\u001b[0m         time\u001b[38;5;241m.\u001b[39msleep(throttle_secs)\n",
      "File \u001b[1;32m~\\.conda\\envs\\mathematricks\\lib\\site-packages\\yfinance\\utils.py:103\u001b[0m, in \u001b[0;36mlog_indent_decorator.<locals>.wrapper\u001b[1;34m(*args, **kwargs)\u001b[0m\n\u001b[0;32m    100\u001b[0m logger\u001b[38;5;241m.\u001b[39mdebug(\u001b[38;5;124mf\u001b[39m\u001b[38;5;124m'\u001b[39m\u001b[38;5;124mEntering \u001b[39m\u001b[38;5;132;01m{\u001b[39;00mfunc\u001b[38;5;241m.\u001b[39m\u001b[38;5;18m__name__\u001b[39m\u001b[38;5;132;01m}\u001b[39;00m\u001b[38;5;124m()\u001b[39m\u001b[38;5;124m'\u001b[39m)\n\u001b[0;32m    102\u001b[0m \u001b[38;5;28;01mwith\u001b[39;00m IndentationContext():\n\u001b[1;32m--> 103\u001b[0m     result \u001b[38;5;241m=\u001b[39m func(\u001b[38;5;241m*\u001b[39margs, \u001b[38;5;241m*\u001b[39m\u001b[38;5;241m*\u001b[39mkwargs)\n\u001b[0;32m    105\u001b[0m logger\u001b[38;5;241m.\u001b[39mdebug(\u001b[38;5;124mf\u001b[39m\u001b[38;5;124m'\u001b[39m\u001b[38;5;124mExiting \u001b[39m\u001b[38;5;132;01m{\u001b[39;00mfunc\u001b[38;5;241m.\u001b[39m\u001b[38;5;18m__name__\u001b[39m\u001b[38;5;132;01m}\u001b[39;00m\u001b[38;5;124m()\u001b[39m\u001b[38;5;124m'\u001b[39m)\n\u001b[0;32m    106\u001b[0m \u001b[38;5;28;01mreturn\u001b[39;00m result\n",
      "File \u001b[1;32m~\\.conda\\envs\\mathematricks\\lib\\site-packages\\yfinance\\multi.py:163\u001b[0m, in \u001b[0;36mdownload\u001b[1;34m(tickers, start, end, actions, threads, ignore_tz, group_by, auto_adjust, back_adjust, repair, keepna, progress, period, show_errors, interval, prepost, proxy, rounding, timeout, session)\u001b[0m\n\u001b[0;32m    156\u001b[0m         _download_one_threaded(ticker, period\u001b[38;5;241m=\u001b[39mperiod, interval\u001b[38;5;241m=\u001b[39minterval,\n\u001b[0;32m    157\u001b[0m                                start\u001b[38;5;241m=\u001b[39mstart, end\u001b[38;5;241m=\u001b[39mend, prepost\u001b[38;5;241m=\u001b[39mprepost,\n\u001b[0;32m    158\u001b[0m                                actions\u001b[38;5;241m=\u001b[39mactions, auto_adjust\u001b[38;5;241m=\u001b[39mauto_adjust,\n\u001b[0;32m    159\u001b[0m                                back_adjust\u001b[38;5;241m=\u001b[39mback_adjust, repair\u001b[38;5;241m=\u001b[39mrepair, keepna\u001b[38;5;241m=\u001b[39mkeepna,\n\u001b[0;32m    160\u001b[0m                                progress\u001b[38;5;241m=\u001b[39m(progress \u001b[38;5;129;01mand\u001b[39;00m i \u001b[38;5;241m>\u001b[39m \u001b[38;5;241m0\u001b[39m), proxy\u001b[38;5;241m=\u001b[39mproxy,\n\u001b[0;32m    161\u001b[0m                                rounding\u001b[38;5;241m=\u001b[39mrounding, timeout\u001b[38;5;241m=\u001b[39mtimeout)\n\u001b[0;32m    162\u001b[0m     \u001b[38;5;28;01mwhile\u001b[39;00m \u001b[38;5;28mlen\u001b[39m(shared\u001b[38;5;241m.\u001b[39m_DFS) \u001b[38;5;241m<\u001b[39m \u001b[38;5;28mlen\u001b[39m(tickers):\n\u001b[1;32m--> 163\u001b[0m         \u001b[43m_time\u001b[49m\u001b[38;5;241;43m.\u001b[39;49m\u001b[43msleep\u001b[49m\u001b[43m(\u001b[49m\u001b[38;5;241;43m0.01\u001b[39;49m\u001b[43m)\u001b[49m\n\u001b[0;32m    164\u001b[0m \u001b[38;5;66;03m# download synchronously\u001b[39;00m\n\u001b[0;32m    165\u001b[0m \u001b[38;5;28;01melse\u001b[39;00m:\n\u001b[0;32m    166\u001b[0m     \u001b[38;5;28;01mfor\u001b[39;00m i, ticker \u001b[38;5;129;01min\u001b[39;00m \u001b[38;5;28menumerate\u001b[39m(tickers):\n",
      "\u001b[1;31mKeyboardInterrupt\u001b[0m: "
     ]
    }
   ],
   "source": [
    "stock_symbols_pickle = 'stock_symbols.pkl'  # Name of the pickle file\n",
    "TS.SAU.update_stock_data(pickle_file=stock_symbols_pickle)"
   ]
  },
  {
   "cell_type": "code",
   "execution_count": 151,
   "id": "d80a7b57-abf7-4a2a-8d60-eb522a7db2c9",
   "metadata": {},
   "outputs": [],
   "source": [
    "# Imports\n",
    "from datetime import datetime\n",
    "\n",
    "# Optional Imports\n",
    "import numpy as np\n",
    "import matplotlib.pyplot as plt"
   ]
  },
  {
   "cell_type": "code",
   "execution_count": 152,
   "id": "49dae4d2-b655-4c7a-b4a7-5f5676af2ef1",
   "metadata": {},
   "outputs": [],
   "source": [
    "symbols = ['HDB', 'BIIB', 'BNTX', 'MRNA', 'CHTR', 'AWK', 'SNAP', 'TFC', 'ES', 'KDP', 'HSY', 'NEE', 'TTWO', 'EL', 'JD', 'BA', 'EQNR', 'HUM', 'NTR', 'WPM', 'WPM', 'WBA', 'SBAC', 'MMM', 'BTI', 'ILMN', 'WDS', 'ADM', 'PFE', 'ALNY', 'FNV', 'NEM', 'WBD']\n"
   ]
  },
  {
   "cell_type": "code",
   "execution_count": 153,
   "id": "2769bc09-d232-43db-bd97-5393d298abc6",
   "metadata": {},
   "outputs": [
    {
     "name": "stdout",
     "output_type": "stream",
     "text": [
      "NOTICE: self.strategy: Need to use strategy_vault to automatically load the strategy based on strategy name (need to basically do a dynamic import\n"
     ]
    },
    {
     "name": "stderr",
     "output_type": "stream",
     "text": [
      "Running backtest: 2020-12-16 - 2020-12-30: 100%|██████████████████████| 73/73 [00:02<00:00, 31.74it/s, Profit=-2030.99]\n"
     ]
    },
    {
     "name": "stdout",
     "output_type": "stream",
     "text": [
      "Backtest results saved to backtests/Test_17.pkl\n",
      "NOTICE: self.strategy: Need to use strategy_vault to automatically load the strategy based on strategy name (need to basically do a dynamic import\n"
     ]
    },
    {
     "name": "stderr",
     "output_type": "stream",
     "text": [
      "Running backtest: 2018-10-13 - 2018-10-27:  26%|█████▋                | 19/73 [00:00<00:01, 30.54it/s, Profit=-1.93e+4]"
     ]
    },
    {
     "name": "stdout",
     "output_type": "stream",
     "text": [
      "Backtest results saved to backtests/Test_18.pkl\n"
     ]
    },
    {
     "name": "stderr",
     "output_type": "stream",
     "text": [
      "\n"
     ]
    }
   ],
   "source": [
    "from backtest_utils import TradingSimulator\n",
    "start_date = '2018-01-01'\n",
    "end_date = '2020-12-31'\n",
    "start_date_dt = datetime.strptime(start_date, \"%Y-%m-%d\")\n",
    "end_date_dt = datetime.strptime(end_date, \"%Y-%m-%d\")\n",
    "rebalance_frequency = 15  # In days\n",
    "# create a numpy array of numbers 15 days apart from 0 to 365\n",
    "long_count = 10\n",
    "short_count = 5\n",
    "portfolio_starting_value = 110000\n",
    "risk_pct = 0.1\n",
    "reinvest_profits_bool = False\n",
    "\n",
    "# Run the backtest\n",
    "TS_no_leverage = TradingSimulator(strategy_name)\n",
    "test_no_leverage = TS_no_leverage.run_backtest(symbols, start_date_dt, end_date_dt, rebalance_frequency, long_count, short_count, portfolio_starting_value, risk_pct, reinvest_profits_bool, leverage_multiplier=1.0, save_test=True)\n",
    "TS_leverage = TradingSimulator(strategy_name)\n",
    "test_w_leverage = TS_leverage.run_backtest(symbols, start_date_dt, end_date_dt, rebalance_frequency, long_count, short_count, portfolio_starting_value, risk_pct, reinvest_profits_bool, leverage_multiplier=5.0, save_test=True)\n",
    "\n"
   ]
  },
  {
   "cell_type": "code",
   "execution_count": 154,
   "id": "e64821e0-31f1-4e72-aba3-b82c5a371733",
   "metadata": {},
   "outputs": [],
   "source": [
    "from analysis_utils import BacktestAnalyzer, compare_two_backtests"
   ]
  },
  {
   "cell_type": "code",
   "execution_count": 155,
   "id": "09280d6b-e45f-4261-bf16-35b5d807d1d7",
   "metadata": {},
   "outputs": [
    {
     "name": "stdout",
     "output_type": "stream",
     "text": [
      "backtests/Test_1_analysis.pkl\n",
      "Backtest analysis saved to backtests/Test_1_analysis.pkl\n",
      "backtests/Test_2_analysis.pkl\n",
      "Backtest analysis saved to backtests/Test_2_analysis.pkl\n"
     ]
    },
    {
     "data": {
      "text/html": [
       "<div>\n",
       "<style scoped>\n",
       "    .dataframe tbody tr th:only-of-type {\n",
       "        vertical-align: middle;\n",
       "    }\n",
       "\n",
       "    .dataframe tbody tr th {\n",
       "        vertical-align: top;\n",
       "    }\n",
       "\n",
       "    .dataframe thead tr th {\n",
       "        text-align: left;\n",
       "    }\n",
       "</style>\n",
       "<table border=\"1\" class=\"dataframe\">\n",
       "  <thead>\n",
       "    <tr>\n",
       "      <th>lst</th>\n",
       "      <th colspan=\"2\" halign=\"left\">total</th>\n",
       "    </tr>\n",
       "    <tr>\n",
       "      <th>test</th>\n",
       "      <th>leverage_multiplier=1.0</th>\n",
       "      <th>leverage_multiplier=5.0</th>\n",
       "    </tr>\n",
       "  </thead>\n",
       "  <tbody>\n",
       "    <tr>\n",
       "      <th>cagr</th>\n",
       "      <td>-0.443305</td>\n",
       "      <td>-0.152019</td>\n",
       "    </tr>\n",
       "    <tr>\n",
       "      <th>max_drawdown</th>\n",
       "      <td>1.339920</td>\n",
       "      <td>0.886369</td>\n",
       "    </tr>\n",
       "    <tr>\n",
       "      <th>sharpe_ratio</th>\n",
       "      <td>-7.799710</td>\n",
       "      <td>-4.863991</td>\n",
       "    </tr>\n",
       "    <tr>\n",
       "      <th>sortino_ratio</th>\n",
       "      <td>-0.780764</td>\n",
       "      <td>-0.564993</td>\n",
       "    </tr>\n",
       "    <tr>\n",
       "      <th>profit_to_drawdown_ratio</th>\n",
       "      <td>-9.659070</td>\n",
       "      <td>-2.189007</td>\n",
       "    </tr>\n",
       "    <tr>\n",
       "      <th>beta</th>\n",
       "      <td>1.894276</td>\n",
       "      <td>0.372413</td>\n",
       "    </tr>\n",
       "    <tr>\n",
       "      <th>alpha</th>\n",
       "      <td>-0.058361</td>\n",
       "      <td>-0.012889</td>\n",
       "    </tr>\n",
       "    <tr>\n",
       "      <th>total_return</th>\n",
       "      <td>-118,739.445035</td>\n",
       "      <td>-77,681.537807</td>\n",
       "    </tr>\n",
       "    <tr>\n",
       "      <th>positive_returns</th>\n",
       "      <td>54,208.946396</td>\n",
       "      <td>63,017.169188</td>\n",
       "    </tr>\n",
       "    <tr>\n",
       "      <th>negative_returns</th>\n",
       "      <td>-172,948.391431</td>\n",
       "      <td>-140,698.706995</td>\n",
       "    </tr>\n",
       "    <tr>\n",
       "      <th>pct_profitable_bets</th>\n",
       "      <td>0.410000</td>\n",
       "      <td>0.415525</td>\n",
       "    </tr>\n",
       "    <tr>\n",
       "      <th>pct_negative_bets</th>\n",
       "      <td>0.590000</td>\n",
       "      <td>0.582648</td>\n",
       "    </tr>\n",
       "    <tr>\n",
       "      <th>median_gain</th>\n",
       "      <td>2,735.005990</td>\n",
       "      <td>2,781.476540</td>\n",
       "    </tr>\n",
       "    <tr>\n",
       "      <th>average_loss</th>\n",
       "      <td>-3,877.944733</td>\n",
       "      <td>-5,416.721560</td>\n",
       "    </tr>\n",
       "    <tr>\n",
       "      <th>median_gain_to_average_loss</th>\n",
       "      <td>-0.705272</td>\n",
       "      <td>-0.513498</td>\n",
       "    </tr>\n",
       "    <tr>\n",
       "      <th>test_score</th>\n",
       "      <td>0.709922</td>\n",
       "      <td>0.670593</td>\n",
       "    </tr>\n",
       "  </tbody>\n",
       "</table>\n",
       "</div>"
      ],
      "text/plain": [
       "lst                                           total                        \n",
       "test                        leverage_multiplier=1.0 leverage_multiplier=5.0\n",
       "cagr                                      -0.443305               -0.152019\n",
       "max_drawdown                               1.339920                0.886369\n",
       "sharpe_ratio                              -7.799710               -4.863991\n",
       "sortino_ratio                             -0.780764               -0.564993\n",
       "profit_to_drawdown_ratio                  -9.659070               -2.189007\n",
       "beta                                       1.894276                0.372413\n",
       "alpha                                     -0.058361               -0.012889\n",
       "total_return                        -118,739.445035          -77,681.537807\n",
       "positive_returns                      54,208.946396           63,017.169188\n",
       "negative_returns                    -172,948.391431         -140,698.706995\n",
       "pct_profitable_bets                        0.410000                0.415525\n",
       "pct_negative_bets                          0.590000                0.582648\n",
       "median_gain                            2,735.005990            2,781.476540\n",
       "average_loss                          -3,877.944733           -5,416.721560\n",
       "median_gain_to_average_loss               -0.705272               -0.513498\n",
       "test_score                                 0.709922                0.670593"
      ]
     },
     "metadata": {},
     "output_type": "display_data"
    },
    {
     "data": {
      "text/html": [
       "<div>\n",
       "<style scoped>\n",
       "    .dataframe tbody tr th:only-of-type {\n",
       "        vertical-align: middle;\n",
       "    }\n",
       "\n",
       "    .dataframe tbody tr th {\n",
       "        vertical-align: top;\n",
       "    }\n",
       "\n",
       "    .dataframe thead tr th {\n",
       "        text-align: left;\n",
       "    }\n",
       "</style>\n",
       "<table border=\"1\" class=\"dataframe\">\n",
       "  <thead>\n",
       "    <tr>\n",
       "      <th>lst</th>\n",
       "      <th colspan=\"2\" halign=\"left\">long</th>\n",
       "    </tr>\n",
       "    <tr>\n",
       "      <th>test</th>\n",
       "      <th>leverage_multiplier=1.0</th>\n",
       "      <th>leverage_multiplier=5.0</th>\n",
       "    </tr>\n",
       "  </thead>\n",
       "  <tbody>\n",
       "    <tr>\n",
       "      <th>cagr</th>\n",
       "      <td>-0.164907</td>\n",
       "      <td>-0.456671</td>\n",
       "    </tr>\n",
       "    <tr>\n",
       "      <th>max_drawdown</th>\n",
       "      <td>0.175731</td>\n",
       "      <td>0.420953</td>\n",
       "    </tr>\n",
       "    <tr>\n",
       "      <th>sharpe_ratio</th>\n",
       "      <td>-1.492784</td>\n",
       "      <td>-4.462113</td>\n",
       "    </tr>\n",
       "    <tr>\n",
       "      <th>sortino_ratio</th>\n",
       "      <td>-0.178787</td>\n",
       "      <td>-0.444606</td>\n",
       "    </tr>\n",
       "    <tr>\n",
       "      <th>profit_to_drawdown_ratio</th>\n",
       "      <td>-0.440765</td>\n",
       "      <td>-0.714555</td>\n",
       "    </tr>\n",
       "    <tr>\n",
       "      <th>beta</th>\n",
       "      <td>0.434088</td>\n",
       "      <td>2.575557</td>\n",
       "    </tr>\n",
       "    <tr>\n",
       "      <th>alpha</th>\n",
       "      <td>-0.007021</td>\n",
       "      <td>-0.036473</td>\n",
       "    </tr>\n",
       "    <tr>\n",
       "      <th>total_return</th>\n",
       "      <td>-27,208.893977</td>\n",
       "      <td>-73,817.596322</td>\n",
       "    </tr>\n",
       "    <tr>\n",
       "      <th>positive_returns</th>\n",
       "      <td>85,760.023014</td>\n",
       "      <td>79,321.498022</td>\n",
       "    </tr>\n",
       "    <tr>\n",
       "      <th>negative_returns</th>\n",
       "      <td>-112,968.916992</td>\n",
       "      <td>-153,139.094344</td>\n",
       "    </tr>\n",
       "    <tr>\n",
       "      <th>pct_profitable_bets</th>\n",
       "      <td>0.469863</td>\n",
       "      <td>0.420000</td>\n",
       "    </tr>\n",
       "    <tr>\n",
       "      <th>pct_negative_bets</th>\n",
       "      <td>0.527397</td>\n",
       "      <td>0.580000</td>\n",
       "    </tr>\n",
       "    <tr>\n",
       "      <th>median_gain</th>\n",
       "      <td>2,617.740149</td>\n",
       "      <td>13,498.290885</td>\n",
       "    </tr>\n",
       "    <tr>\n",
       "      <th>average_loss</th>\n",
       "      <td>-2,455.846022</td>\n",
       "      <td>-10,938.506739</td>\n",
       "    </tr>\n",
       "    <tr>\n",
       "      <th>median_gain_to_average_loss</th>\n",
       "      <td>-1.065922</td>\n",
       "      <td>-1.234016</td>\n",
       "    </tr>\n",
       "    <tr>\n",
       "      <th>test_score</th>\n",
       "      <td>0.638466</td>\n",
       "      <td>0.306872</td>\n",
       "    </tr>\n",
       "  </tbody>\n",
       "</table>\n",
       "</div>"
      ],
      "text/plain": [
       "lst                                            long                        \n",
       "test                        leverage_multiplier=1.0 leverage_multiplier=5.0\n",
       "cagr                                      -0.164907               -0.456671\n",
       "max_drawdown                               0.175731                0.420953\n",
       "sharpe_ratio                              -1.492784               -4.462113\n",
       "sortino_ratio                             -0.178787               -0.444606\n",
       "profit_to_drawdown_ratio                  -0.440765               -0.714555\n",
       "beta                                       0.434088                2.575557\n",
       "alpha                                     -0.007021               -0.036473\n",
       "total_return                         -27,208.893977          -73,817.596322\n",
       "positive_returns                      85,760.023014           79,321.498022\n",
       "negative_returns                    -112,968.916992         -153,139.094344\n",
       "pct_profitable_bets                        0.469863                0.420000\n",
       "pct_negative_bets                          0.527397                0.580000\n",
       "median_gain                            2,617.740149           13,498.290885\n",
       "average_loss                          -2,455.846022          -10,938.506739\n",
       "median_gain_to_average_loss               -1.065922               -1.234016\n",
       "test_score                                 0.638466                0.306872"
      ]
     },
     "metadata": {},
     "output_type": "display_data"
    },
    {
     "data": {
      "text/html": [
       "<div>\n",
       "<style scoped>\n",
       "    .dataframe tbody tr th:only-of-type {\n",
       "        vertical-align: middle;\n",
       "    }\n",
       "\n",
       "    .dataframe tbody tr th {\n",
       "        vertical-align: top;\n",
       "    }\n",
       "\n",
       "    .dataframe thead tr th {\n",
       "        text-align: left;\n",
       "    }\n",
       "</style>\n",
       "<table border=\"1\" class=\"dataframe\">\n",
       "  <thead>\n",
       "    <tr>\n",
       "      <th>lst</th>\n",
       "      <th colspan=\"2\" halign=\"left\">short</th>\n",
       "    </tr>\n",
       "    <tr>\n",
       "      <th>test</th>\n",
       "      <th>leverage_multiplier=1.0</th>\n",
       "      <th>leverage_multiplier=5.0</th>\n",
       "    </tr>\n",
       "  </thead>\n",
       "  <tbody>\n",
       "    <tr>\n",
       "      <th>cagr</th>\n",
       "      <td>-0.470842</td>\n",
       "      <td>-0.156784</td>\n",
       "    </tr>\n",
       "    <tr>\n",
       "      <th>max_drawdown</th>\n",
       "      <td>0.125810</td>\n",
       "      <td>0.031464</td>\n",
       "    </tr>\n",
       "    <tr>\n",
       "      <th>sharpe_ratio</th>\n",
       "      <td>-10.302987</td>\n",
       "      <td>-14.922317</td>\n",
       "    </tr>\n",
       "    <tr>\n",
       "      <th>sortino_ratio</th>\n",
       "      <td>-0.964527</td>\n",
       "      <td>-1.291699</td>\n",
       "    </tr>\n",
       "    <tr>\n",
       "      <th>profit_to_drawdown_ratio</th>\n",
       "      <td>-1.040446</td>\n",
       "      <td>-1.014988</td>\n",
       "    </tr>\n",
       "    <tr>\n",
       "      <th>beta</th>\n",
       "      <td>-0.675516</td>\n",
       "      <td>-0.062336</td>\n",
       "    </tr>\n",
       "    <tr>\n",
       "      <th>alpha</th>\n",
       "      <td>-0.020600</td>\n",
       "      <td>-0.005764</td>\n",
       "    </tr>\n",
       "    <tr>\n",
       "      <th>total_return</th>\n",
       "      <td>-44,921.848713</td>\n",
       "      <td>-50,472.643830</td>\n",
       "    </tr>\n",
       "    <tr>\n",
       "      <th>positive_returns</th>\n",
       "      <td>12,824.388242</td>\n",
       "      <td>5,778.330599</td>\n",
       "    </tr>\n",
       "    <tr>\n",
       "      <th>negative_returns</th>\n",
       "      <td>-57,746.236956</td>\n",
       "      <td>-56,250.974429</td>\n",
       "    </tr>\n",
       "    <tr>\n",
       "      <th>pct_profitable_bets</th>\n",
       "      <td>0.390000</td>\n",
       "      <td>0.306849</td>\n",
       "    </tr>\n",
       "    <tr>\n",
       "      <th>pct_negative_bets</th>\n",
       "      <td>0.610000</td>\n",
       "      <td>0.693151</td>\n",
       "    </tr>\n",
       "    <tr>\n",
       "      <th>median_gain</th>\n",
       "      <td>2,708.631809</td>\n",
       "      <td>325.104393</td>\n",
       "    </tr>\n",
       "    <tr>\n",
       "      <th>average_loss</th>\n",
       "      <td>-3,849.749130</td>\n",
       "      <td>-907.273781</td>\n",
       "    </tr>\n",
       "    <tr>\n",
       "      <th>median_gain_to_average_loss</th>\n",
       "      <td>-0.703587</td>\n",
       "      <td>-0.358331</td>\n",
       "    </tr>\n",
       "    <tr>\n",
       "      <th>test_score</th>\n",
       "      <td>0.574180</td>\n",
       "      <td>0.173811</td>\n",
       "    </tr>\n",
       "  </tbody>\n",
       "</table>\n",
       "</div>"
      ],
      "text/plain": [
       "lst                                           short                        \n",
       "test                        leverage_multiplier=1.0 leverage_multiplier=5.0\n",
       "cagr                                      -0.470842               -0.156784\n",
       "max_drawdown                               0.125810                0.031464\n",
       "sharpe_ratio                             -10.302987              -14.922317\n",
       "sortino_ratio                             -0.964527               -1.291699\n",
       "profit_to_drawdown_ratio                  -1.040446               -1.014988\n",
       "beta                                      -0.675516               -0.062336\n",
       "alpha                                     -0.020600               -0.005764\n",
       "total_return                         -44,921.848713          -50,472.643830\n",
       "positive_returns                      12,824.388242            5,778.330599\n",
       "negative_returns                     -57,746.236956          -56,250.974429\n",
       "pct_profitable_bets                        0.390000                0.306849\n",
       "pct_negative_bets                          0.610000                0.693151\n",
       "median_gain                            2,708.631809              325.104393\n",
       "average_loss                          -3,849.749130             -907.273781\n",
       "median_gain_to_average_loss               -0.703587               -0.358331\n",
       "test_score                                 0.574180                0.173811"
      ]
     },
     "metadata": {},
     "output_type": "display_data"
    }
   ],
   "source": [
    "no_leverage_analyzer = BacktestAnalyzer(test_no_leverage)\n",
    "leveraged_analyzer = BacktestAnalyzer(test_w_leverage)\n",
    "\n",
    "total_comparison, long_comparison, short_comparison, no_leverage_analysis, leveraged_analysis = (\n",
    "    compare_two_backtests(no_leverage_analyzer, leveraged_analyzer)\n",
    ")\n",
    "\n",
    "from IPython.display import display, HTML\n",
    "import pandas as pd\n",
    "\n",
    "pd.options.display.float_format = '{:,.6f}'.format\n",
    "\n",
    "display(total_comparison)\n",
    "display(long_comparison)\n",
    "display(short_comparison)"
   ]
  },
  {
   "cell_type": "code",
   "execution_count": 156,
   "id": "d611a87d-0ce0-46d9-9d4f-11a3fa34d26a",
   "metadata": {},
   "outputs": [],
   "source": [
    "benchmark_returns = TS.get_benchmark_returns(start_date_dt, end_date_dt, test_no_leverage['rebalance_periods'], portfolio_starting_value, benchmark_name='^IXIC')"
   ]
  },
  {
   "cell_type": "code",
   "execution_count": 157,
   "id": "71530eec-53d1-43a7-a424-87c19b01b353",
   "metadata": {},
   "outputs": [
    {
     "data": {
      "image/png": "[encoded data removed]",
      "text/plain": [
       "<Figure size 1600x900 with 1 Axes>"
      ]
     },
     "metadata": {},
     "output_type": "display_data"
    }
   ],
   "source": [
    "# Plot the backtest profits and the benchmark_data\n",
    "plt.figure(figsize=(16, 9))\n",
    "plt.plot(np.array(test_no_leverage['rebalance_periods'])[:, 1], np.cumsum(test_no_leverage['backtest_profits']), label=total_comparison.columns[0][1])\n",
    "plt.plot(np.array(test_w_leverage['rebalance_periods'])[:, 1], np.cumsum(test_w_leverage['backtest_profits']), label=total_comparison.columns[1][1])\n",
    "plt.plot(np.array(test_no_leverage['rebalance_periods'])[:, 1], np.cumsum(benchmark_returns), label='Nasdaq Returns')\n",
    "\n",
    "plt.grid()\n",
    "# Show labels\n",
    "plt.legend()\n",
    "# Show the plot\n",
    "plt.show()"
   ]
  },
  {
   "cell_type": "code",
   "execution_count": null,
   "id": "555ccfbe-8475-4c8a-a686-3e6364725c00",
   "metadata": {},
   "outputs": [],
   "source": []
  }
 ],
 "metadata": {
  "kernelspec": {
   "display_name": "Python 3 (ipykernel)",
   "language": "python",
   "name": "python3"
  },
  "language_info": {
   "codemirror_mode": {
    "name": "ipython",
    "version": 3
   },
   "file_extension": ".py",
   "mimetype": "text/x-python",
   "name": "python",
   "nbconvert_exporter": "python",
   "pygments_lexer": "ipython3",
   "version": "3.10.13"
  }
 },
 "nbformat": 4,
 "nbformat_minor": 5
}
