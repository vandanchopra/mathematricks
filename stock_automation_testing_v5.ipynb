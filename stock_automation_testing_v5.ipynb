{
 "cells": [
  {
   "cell_type": "code",
   "execution_count": 1,
   "id": "dd746c26-b087-47d4-8d0e-943f42d2e993",
   "metadata": {},
   "outputs": [],
   "source": [
    "%load_ext autoreload\n",
    "%autoreload 2"
   ]
  },
  {
   "cell_type": "code",
   "execution_count": 2,
   "id": "8d1b4752-fa95-4da2-a52c-35aabbb2308f",
   "metadata": {},
   "outputs": [],
   "source": [
    "# Imports\n",
    "from backtest_utils import TradingSimulator\n",
    "import pickle"
   ]
  },
  {
   "cell_type": "code",
   "execution_count": 3,
   "id": "13d2b63e-9aa4-401a-8bb9-36300bd04c2d",
   "metadata": {},
   "outputs": [
    {
     "name": "stdout",
     "output_type": "stream",
     "text": [
      "NOTICE: self.strategy: Need to use strategy_vault to automatically load the strategy based on strategy name (need to basically do a dynamic import\n"
     ]
    }
   ],
   "source": [
    "strategy_name = 'dumb_strategy'\n",
    "TS = TradingSimulator(strategy_name)"
   ]
  },
  {
   "cell_type": "code",
   "execution_count": 4,
   "id": "d52d19b5-00ff-4eaa-a26c-e7fd31b459ae",
   "metadata": {},
   "outputs": [],
   "source": [
    "# Dump New symbols into the stock_symbols.pkl\n",
    "stock_symbols_pickle = 'stock_symbols.pkl'  # Name of the pickle file\n",
    "symbols = []  # Example list of stock symbols\n",
    "if len(symbols) > 0:\n",
    "    TS.SAU.add_stock_symbols_to_pickle(symbols, stock_symbols_pickle)"
   ]
  },
  {
   "cell_type": "code",
   "execution_count": 5,
   "id": "33c3c691-4f55-455c-848b-48272ab94415",
   "metadata": {},
   "outputs": [],
   "source": [
    "# Load the data from 'stock_symbols.pkl' into a variable called 'symbols'\n",
    "with open(stock_symbols_pickle, 'rb') as file:\n",
    "    symbols = pickle.load(file)"
   ]
  },
  {
   "cell_type": "code",
   "execution_count": 6,
   "id": "c7548bf6-a26d-41f2-bdb4-4babfce55b30",
   "metadata": {},
   "outputs": [
    {
     "name": "stderr",
     "output_type": "stream",
     "text": [
      "Downloading data for LIFW: :   0%|                                                            | 0/6477 [00:00<?, ?it/s]"
     ]
    },
    {
     "name": "stdout",
     "output_type": "stream",
     "text": [
      "Updating data for LIFW...\n"
     ]
    },
    {
     "name": "stderr",
     "output_type": "stream",
     "text": [
      "[*********************100%%**********************]  1 of 1 completed\n",
      "Downloading data for SRL: :   0%|                                                   | 1/6477 [00:02<4:16:12,  2.37s/it]"
     ]
    },
    {
     "name": "stdout",
     "output_type": "stream",
     "text": [
      "Data for LIFW updated in data\\LIFW.csv.\n",
      "Updating data for SRL...\n"
     ]
    },
    {
     "name": "stderr",
     "output_type": "stream",
     "text": [
      "[*********************100%%**********************]  1 of 1 completed\n",
      "[*********************100%%**********************]  1 of 1 completed                | 2/6477 [00:03<3:16:10,  1.82s/it]"
     ]
    },
    {
     "name": "stdout",
     "output_type": "stream",
     "text": [
      "Data for SRL updated in data\\SRL.csv.\n",
      "Updating data for SLAMW...\n"
     ]
    },
    {
     "name": "stderr",
     "output_type": "stream",
     "text": [
      "\n",
      "[*********************100%%**********************]  1 of 1 completed                | 3/6477 [00:05<2:46:01,  1.54s/it]"
     ]
    },
    {
     "name": "stdout",
     "output_type": "stream",
     "text": [
      "Data for SLAMW updated in data\\SLAMW.csv.\n",
      "Updating data for BFRI...\n"
     ]
    },
    {
     "name": "stderr",
     "output_type": "stream",
     "text": [
      "\n",
      "[*********************100%%**********************]  1 of 1 completed                | 4/6477 [00:06<2:30:55,  1.40s/it]"
     ]
    },
    {
     "name": "stdout",
     "output_type": "stream",
     "text": [
      "Data for BFRI updated in data\\BFRI.csv.\n",
      "Updating data for HQY...\n"
     ]
    },
    {
     "name": "stderr",
     "output_type": "stream",
     "text": [
      "\n",
      "[*********************100%%**********************]  1 of 1 completed                | 5/6477 [00:07<2:23:15,  1.33s/it]"
     ]
    },
    {
     "name": "stdout",
     "output_type": "stream",
     "text": [
      "Data for HQY updated in data\\HQY.csv.\n",
      "Updating data for COYA...\n"
     ]
    },
    {
     "name": "stderr",
     "output_type": "stream",
     "text": [
      "\n",
      "Downloading data for SYF: :   0%|                                                   | 6/6477 [00:08<2:18:25,  1.28s/it]"
     ]
    },
    {
     "name": "stdout",
     "output_type": "stream",
     "text": [
      "Data for COYA updated in data\\COYA.csv.\n",
      "Updating data for SYF...\n"
     ]
    },
    {
     "name": "stderr",
     "output_type": "stream",
     "text": [
      "[*********************100%%**********************]  1 of 1 completed\n",
      "Downloading data for IRAA: :   0%|                                                  | 7/6477 [00:10<2:24:34,  1.34s/it]"
     ]
    },
    {
     "name": "stdout",
     "output_type": "stream",
     "text": [
      "Data for SYF updated in data\\SYF.csv.\n",
      "Updating data for IRAA...\n"
     ]
    },
    {
     "name": "stderr",
     "output_type": "stream",
     "text": [
      "[*********************100%%**********************]  1 of 1 completed\n",
      "Downloading data for BRKR: :   0%|                                                  | 8/6477 [00:11<2:27:49,  1.37s/it]"
     ]
    },
    {
     "name": "stdout",
     "output_type": "stream",
     "text": [
      "Data for IRAA updated in data\\IRAA.csv.\n",
      "Updating data for BRKR...\n"
     ]
    },
    {
     "name": "stderr",
     "output_type": "stream",
     "text": [
      "[*********************100%%**********************]  1 of 1 completed\n",
      "Downloading data for HBT: :   0%|                                                   | 9/6477 [00:12<2:23:17,  1.33s/it]"
     ]
    },
    {
     "name": "stdout",
     "output_type": "stream",
     "text": [
      "Data for BRKR updated in data\\BRKR.csv.\n",
      "Updating data for HBT...\n"
     ]
    },
    {
     "name": "stderr",
     "output_type": "stream",
     "text": [
      "[*********************100%%**********************]  1 of 1 completed\n",
      "Downloading data for MNSB: :   0%|                                                 | 10/6477 [00:13<2:19:51,  1.30s/it]"
     ]
    },
    {
     "name": "stdout",
     "output_type": "stream",
     "text": [
      "Data for HBT updated in data\\HBT.csv.\n",
      "Updating data for MNSB...\n"
     ]
    },
    {
     "name": "stderr",
     "output_type": "stream",
     "text": [
      "[*********************100%%**********************]  1 of 1 completed\n",
      "Downloading data for SWN: :   0%|                                                  | 11/6477 [00:15<2:17:40,  1.28s/it]"
     ]
    },
    {
     "name": "stdout",
     "output_type": "stream",
     "text": [
      "Data for MNSB updated in data\\MNSB.csv.\n",
      "Updating data for SWN...\n"
     ]
    },
    {
     "name": "stderr",
     "output_type": "stream",
     "text": [
      "[*********************100%%**********************]  1 of 1 completed\n",
      "[*********************100%%**********************]  1 of 1 completed               | 12/6477 [00:16<2:17:33,  1.28s/it]"
     ]
    },
    {
     "name": "stdout",
     "output_type": "stream",
     "text": [
      "Data for SWN updated in data\\SWN.csv.\n",
      "Updating data for IONS...\n"
     ]
    },
    {
     "name": "stderr",
     "output_type": "stream",
     "text": [
      "\n",
      "Downloading data for MYI: :   0%|                                                  | 13/6477 [00:17<2:16:09,  1.26s/it]"
     ]
    },
    {
     "name": "stdout",
     "output_type": "stream",
     "text": [
      "Data for IONS updated in data\\IONS.csv.\n",
      "Updating data for MYI...\n"
     ]
    },
    {
     "name": "stderr",
     "output_type": "stream",
     "text": [
      "[*********************100%%**********************]  1 of 1 completed\n",
      "Downloading data for DAL: :   0%|                                                  | 14/6477 [00:18<2:16:56,  1.27s/it]"
     ]
    },
    {
     "name": "stdout",
     "output_type": "stream",
     "text": [
      "Data for MYI updated in data\\MYI.csv.\n",
      "Updating data for DAL...\n"
     ]
    },
    {
     "name": "stderr",
     "output_type": "stream",
     "text": [
      "[*********************100%%**********************]  1 of 1 completed\n",
      "Downloading data for ASML: :   0%|                                                 | 15/6477 [00:20<2:15:13,  1.26s/it]"
     ]
    },
    {
     "name": "stdout",
     "output_type": "stream",
     "text": [
      "Data for DAL updated in data\\DAL.csv.\n",
      "Updating data for ASML...\n"
     ]
    },
    {
     "name": "stderr",
     "output_type": "stream",
     "text": [
      "[*********************100%%**********************]  1 of 1 completed\n",
      "Downloading data for SHCRW: :   0%|                                                | 16/6477 [00:21<2:15:55,  1.26s/it]"
     ]
    },
    {
     "name": "stdout",
     "output_type": "stream",
     "text": [
      "Data for ASML updated in data\\ASML.csv.\n",
      "Updating data for SHCRW...\n"
     ]
    },
    {
     "name": "stderr",
     "output_type": "stream",
     "text": [
      "[*********************100%%**********************]  1 of 1 completed\n",
      "[*********************100%%**********************]  1 of 1 completed               | 17/6477 [00:22<2:14:02,  1.24s/it]"
     ]
    },
    {
     "name": "stdout",
     "output_type": "stream",
     "text": [
      "Data for SHCRW updated in data\\SHCRW.csv.\n",
      "Updating data for MELI...\n"
     ]
    },
    {
     "name": "stderr",
     "output_type": "stream",
     "text": [
      "\n",
      "[*********************100%%**********************]  1 of 1 completed               | 18/6477 [00:23<2:14:50,  1.25s/it]"
     ]
    },
    {
     "name": "stdout",
     "output_type": "stream",
     "text": [
      "Data for MELI updated in data\\MELI.csv.\n",
      "Updating data for BW...\n"
     ]
    },
    {
     "name": "stderr",
     "output_type": "stream",
     "text": [
      "\n",
      "[*********************100%%**********************]  1 of 1 completed               | 19/6477 [00:25<2:13:03,  1.24s/it]"
     ]
    },
    {
     "name": "stdout",
     "output_type": "stream",
     "text": [
      "Data for BW updated in data\\BW.csv.\n",
      "Updating data for DUET...\n"
     ]
    },
    {
     "name": "stderr",
     "output_type": "stream",
     "text": [
      "\n",
      "Downloading data for KTH: :   0%|▏                                                 | 20/6477 [00:26<2:12:16,  1.23s/it]"
     ]
    },
    {
     "name": "stdout",
     "output_type": "stream",
     "text": [
      "Data for DUET updated in data\\DUET.csv.\n",
      "Updating data for KTH...\n"
     ]
    },
    {
     "name": "stderr",
     "output_type": "stream",
     "text": [
      "[*********************100%%**********************]  1 of 1 completed\n",
      "[*********************100%%**********************]  1 of 1 completed               | 21/6477 [00:27<2:12:51,  1.23s/it]"
     ]
    },
    {
     "name": "stdout",
     "output_type": "stream",
     "text": [
      "Data for KTH updated in data\\KTH.csv.\n",
      "Updating data for WH...\n"
     ]
    },
    {
     "name": "stderr",
     "output_type": "stream",
     "text": [
      "\n",
      "[*********************100%%**********************]  1 of 1 completed               | 22/6477 [00:28<2:11:53,  1.23s/it]"
     ]
    },
    {
     "name": "stdout",
     "output_type": "stream",
     "text": [
      "Data for WH updated in data\\WH.csv.\n",
      "Updating data for DSGX...\n"
     ]
    },
    {
     "name": "stderr",
     "output_type": "stream",
     "text": [
      "\n",
      "Downloading data for TAC: :   0%|▏                                                 | 23/6477 [00:30<2:12:19,  1.23s/it]"
     ]
    },
    {
     "name": "stdout",
     "output_type": "stream",
     "text": [
      "Data for DSGX updated in data\\DSGX.csv.\n",
      "Updating data for TAC...\n"
     ]
    },
    {
     "name": "stderr",
     "output_type": "stream",
     "text": [
      "[*********************100%%**********************]  1 of 1 completed\n",
      "[*********************100%%**********************]  1 of 1 completed               | 24/6477 [00:31<2:13:37,  1.24s/it]"
     ]
    },
    {
     "name": "stdout",
     "output_type": "stream",
     "text": [
      "Data for TAC updated in data\\TAC.csv.\n",
      "Updating data for FRSH...\n"
     ]
    },
    {
     "name": "stderr",
     "output_type": "stream",
     "text": [
      "\n",
      "Downloading data for RMCO: :   0%|▏                                                | 25/6477 [00:32<2:12:15,  1.23s/it]"
     ]
    },
    {
     "name": "stdout",
     "output_type": "stream",
     "text": [
      "Data for FRSH updated in data\\FRSH.csv.\n",
      "Updating data for RMCO...\n"
     ]
    },
    {
     "name": "stderr",
     "output_type": "stream",
     "text": [
      "[*********************100%%**********************]  1 of 1 completed\n",
      "Downloading data for FOSLL: :   0%|▏                                               | 26/6477 [00:33<2:18:52,  1.29s/it]"
     ]
    },
    {
     "name": "stdout",
     "output_type": "stream",
     "text": [
      "Data for RMCO updated in data\\RMCO.csv.\n",
      "Updating data for FOSLL...\n"
     ]
    },
    {
     "name": "stderr",
     "output_type": "stream",
     "text": [
      "[*********************100%%**********************]  1 of 1 completed\n",
      "Downloading data for FLC: :   0%|▏                                                 | 27/6477 [00:35<2:16:23,  1.27s/it]"
     ]
    },
    {
     "name": "stdout",
     "output_type": "stream",
     "text": [
      "Data for FOSLL updated in data\\FOSLL.csv.\n",
      "Updating data for FLC...\n"
     ]
    },
    {
     "name": "stderr",
     "output_type": "stream",
     "text": [
      "[*********************100%%**********************]  1 of 1 completed\n",
      "[*********************100%%**********************]  1 of 1 completed               | 28/6477 [00:36<2:23:09,  1.33s/it]"
     ]
    },
    {
     "name": "stdout",
     "output_type": "stream",
     "text": [
      "Data for FLC updated in data\\FLC.csv.\n",
      "Updating data for DBGIW...\n"
     ]
    },
    {
     "name": "stderr",
     "output_type": "stream",
     "text": [
      "\n",
      "[*********************100%%**********************]  1 of 1 completed               | 29/6477 [00:37<2:18:19,  1.29s/it]"
     ]
    },
    {
     "name": "stdout",
     "output_type": "stream",
     "text": [
      "Data for DBGIW updated in data\\DBGIW.csv.\n",
      "Updating data for KINS...\n"
     ]
    },
    {
     "name": "stderr",
     "output_type": "stream",
     "text": [
      "\n",
      "Downloading data for SQ: :   0%|▏                                                  | 30/6477 [00:39<2:16:42,  1.27s/it]"
     ]
    },
    {
     "name": "stdout",
     "output_type": "stream",
     "text": [
      "Data for KINS updated in data\\KINS.csv.\n",
      "Updating data for SQ...\n"
     ]
    },
    {
     "name": "stderr",
     "output_type": "stream",
     "text": [
      "[*********************100%%**********************]  1 of 1 completed\n",
      "[*********************100%%**********************]  1 of 1 completed               | 31/6477 [00:40<2:23:12,  1.33s/it]"
     ]
    },
    {
     "name": "stdout",
     "output_type": "stream",
     "text": [
      "Data for SQ updated in data\\SQ.csv.\n",
      "Updating data for OMGA...\n"
     ]
    },
    {
     "name": "stderr",
     "output_type": "stream",
     "text": [
      "\n",
      "[*********************100%%**********************]  1 of 1 completed               | 32/6477 [00:41<2:19:10,  1.30s/it]"
     ]
    },
    {
     "name": "stdout",
     "output_type": "stream",
     "text": [
      "Data for OMGA updated in data\\OMGA.csv.\n",
      "Updating data for ATMVR...\n"
     ]
    },
    {
     "name": "stderr",
     "output_type": "stream",
     "text": [
      "\n",
      "Downloading data for SCOR: :   1%|▏                                                | 33/6477 [00:42<2:15:52,  1.27s/it]"
     ]
    },
    {
     "name": "stdout",
     "output_type": "stream",
     "text": [
      "Data for ATMVR updated in data\\ATMVR.csv.\n",
      "Updating data for SCOR...\n"
     ]
    },
    {
     "name": "stderr",
     "output_type": "stream",
     "text": [
      "[*********************100%%**********************]  1 of 1 completed\n",
      "[*********************100%%**********************]  1 of 1 completed               | 34/6477 [00:44<2:21:59,  1.32s/it]"
     ]
    },
    {
     "name": "stdout",
     "output_type": "stream",
     "text": [
      "Data for SCOR updated in data\\SCOR.csv.\n",
      "Updating data for MGY...\n"
     ]
    },
    {
     "name": "stderr",
     "output_type": "stream",
     "text": [
      "\n",
      "Downloading data for STN: :   1%|▎                                                 | 35/6477 [00:45<2:17:52,  1.28s/it]"
     ]
    },
    {
     "name": "stdout",
     "output_type": "stream",
     "text": [
      "Data for MGY updated in data\\MGY.csv.\n",
      "Updating data for STN...\n"
     ]
    },
    {
     "name": "stderr",
     "output_type": "stream",
     "text": [
      "[*********************100%%**********************]  1 of 1 completed\n",
      "Downloading data for GBNY: :   1%|▎                                                | 36/6477 [00:46<2:17:00,  1.28s/it]"
     ]
    },
    {
     "name": "stdout",
     "output_type": "stream",
     "text": [
      "Data for STN updated in data\\STN.csv.\n",
      "Updating data for GBNY...\n"
     ]
    },
    {
     "name": "stderr",
     "output_type": "stream",
     "text": [
      "[*********************100%%**********************]  1 of 1 completed\n",
      "[*********************100%%**********************]  1 of 1 completed               | 37/6477 [00:48<2:19:28,  1.30s/it]"
     ]
    },
    {
     "name": "stdout",
     "output_type": "stream",
     "text": [
      "Data for GBNY updated in data\\GBNY.csv.\n",
      "Updating data for AGS...\n"
     ]
    },
    {
     "name": "stderr",
     "output_type": "stream",
     "text": [
      "\n",
      "[*********************100%%**********************]  1 of 1 completed               | 38/6477 [00:49<2:16:00,  1.27s/it]"
     ]
    },
    {
     "name": "stdout",
     "output_type": "stream",
     "text": [
      "Data for AGS updated in data\\AGS.csv.\n",
      "Updating data for HCM...\n"
     ]
    },
    {
     "name": "stderr",
     "output_type": "stream",
     "text": [
      "\n",
      "Downloading data for PAA: :   1%|▎                                                 | 39/6477 [00:50<2:13:30,  1.24s/it]"
     ]
    },
    {
     "name": "stdout",
     "output_type": "stream",
     "text": [
      "Data for HCM updated in data\\HCM.csv.\n",
      "Updating data for PAA...\n"
     ]
    },
    {
     "name": "stderr",
     "output_type": "stream",
     "text": [
      "[*********************100%%**********************]  1 of 1 completed\n",
      "[*********************100%%**********************]  1 of 1 completed               | 40/6477 [00:51<2:13:48,  1.25s/it]"
     ]
    },
    {
     "name": "stdout",
     "output_type": "stream",
     "text": [
      "Data for PAA updated in data\\PAA.csv.\n",
      "Updating data for YCBD...\n"
     ]
    },
    {
     "name": "stderr",
     "output_type": "stream",
     "text": [
      "\n",
      "Downloading data for MAG: :   1%|▎                                                 | 41/6477 [00:53<2:12:29,  1.24s/it]"
     ]
    },
    {
     "name": "stdout",
     "output_type": "stream",
     "text": [
      "Data for YCBD updated in data\\YCBD.csv.\n",
      "Updating data for MAG...\n"
     ]
    },
    {
     "name": "stderr",
     "output_type": "stream",
     "text": [
      "[*********************100%%**********************]  1 of 1 completed\n",
      "[*********************100%%**********************]  1 of 1 completed               | 42/6477 [00:54<2:20:01,  1.31s/it]"
     ]
    },
    {
     "name": "stdout",
     "output_type": "stream",
     "text": [
      "Data for MAG updated in data\\MAG.csv.\n",
      "Updating data for PYPD...\n"
     ]
    },
    {
     "name": "stderr",
     "output_type": "stream",
     "text": [
      "\n",
      "[*********************100%%**********************]  1 of 1 completed               | 43/6477 [00:55<2:16:40,  1.27s/it]"
     ]
    },
    {
     "name": "stdout",
     "output_type": "stream",
     "text": [
      "Data for PYPD updated in data\\PYPD.csv.\n",
      "Updating data for AKTX...\n"
     ]
    },
    {
     "name": "stderr",
     "output_type": "stream",
     "text": [
      "\n",
      "[*********************100%%**********************]  1 of 1 completed               | 44/6477 [00:56<2:14:18,  1.25s/it]"
     ]
    },
    {
     "name": "stdout",
     "output_type": "stream",
     "text": [
      "Data for AKTX updated in data\\AKTX.csv.\n",
      "Updating data for LSF...\n"
     ]
    },
    {
     "name": "stderr",
     "output_type": "stream",
     "text": [
      "\n",
      "[*********************100%%**********************]  1 of 1 completed               | 45/6477 [00:58<2:12:43,  1.24s/it]"
     ]
    },
    {
     "name": "stdout",
     "output_type": "stream",
     "text": [
      "Data for LSF updated in data\\LSF.csv.\n",
      "Updating data for BHM...\n"
     ]
    },
    {
     "name": "stderr",
     "output_type": "stream",
     "text": [
      "\n",
      "Downloading data for HBB: :   1%|▎                                                 | 46/6477 [00:59<2:11:22,  1.23s/it]"
     ]
    },
    {
     "name": "stdout",
     "output_type": "stream",
     "text": [
      "Data for BHM updated in data\\BHM.csv.\n",
      "Updating data for HBB...\n"
     ]
    },
    {
     "name": "stderr",
     "output_type": "stream",
     "text": [
      "[*********************100%%**********************]  1 of 1 completed\n",
      "Downloading data for WTW: :   1%|▎                                                 | 47/6477 [01:00<2:11:23,  1.23s/it]"
     ]
    },
    {
     "name": "stdout",
     "output_type": "stream",
     "text": [
      "Data for HBB updated in data\\HBB.csv.\n",
      "Updating data for WTW...\n"
     ]
    },
    {
     "name": "stderr",
     "output_type": "stream",
     "text": [
      "[*********************100%%**********************]  1 of 1 completed\n",
      "Downloading data for NIE: :   1%|▎                                                 | 48/6477 [01:01<2:12:33,  1.24s/it]"
     ]
    },
    {
     "name": "stdout",
     "output_type": "stream",
     "text": [
      "Data for WTW updated in data\\WTW.csv.\n",
      "Updating data for NIE...\n"
     ]
    },
    {
     "name": "stderr",
     "output_type": "stream",
     "text": [
      "[*********************100%%**********************]  1 of 1 completed\n",
      "[*********************100%%**********************]  1 of 1 completed               | 49/6477 [01:03<2:13:09,  1.24s/it]"
     ]
    },
    {
     "name": "stdout",
     "output_type": "stream",
     "text": [
      "Data for NIE updated in data\\NIE.csv.\n",
      "Updating data for HTFB...\n"
     ]
    },
    {
     "name": "stderr",
     "output_type": "stream",
     "text": [
      "\n",
      "Downloading data for VSEC: :   1%|▍                                                | 50/6477 [01:04<2:11:32,  1.23s/it]"
     ]
    },
    {
     "name": "stdout",
     "output_type": "stream",
     "text": [
      "Data for HTFB updated in data\\HTFB.csv.\n",
      "Updating data for VSEC...\n"
     ]
    },
    {
     "name": "stderr",
     "output_type": "stream",
     "text": [
      "[*********************100%%**********************]  1 of 1 completed\n",
      "[*********************100%%**********************]  1 of 1 completed               | 51/6477 [01:05<2:13:09,  1.24s/it]"
     ]
    },
    {
     "name": "stdout",
     "output_type": "stream",
     "text": [
      "Data for VSEC updated in data\\VSEC.csv.\n",
      "Updating data for MYMD...\n"
     ]
    },
    {
     "name": "stderr",
     "output_type": "stream",
     "text": [
      "\n",
      "[*********************100%%**********************]  1 of 1 completed               | 52/6477 [01:06<2:11:43,  1.23s/it]"
     ]
    },
    {
     "name": "stdout",
     "output_type": "stream",
     "text": [
      "Data for MYMD updated in data\\MYMD.csv.\n",
      "Updating data for AMKR...\n"
     ]
    },
    {
     "name": "stderr",
     "output_type": "stream",
     "text": [
      "\n",
      "[*********************100%%**********************]  1 of 1 completed               | 53/6477 [01:07<2:11:35,  1.23s/it]"
     ]
    },
    {
     "name": "stdout",
     "output_type": "stream",
     "text": [
      "Data for AMKR updated in data\\AMKR.csv.\n",
      "Updating data for NSTS...\n"
     ]
    },
    {
     "name": "stderr",
     "output_type": "stream",
     "text": [
      "\n",
      "[*********************100%%**********************]  1 of 1 completed               | 54/6477 [01:09<2:10:08,  1.22s/it]"
     ]
    },
    {
     "name": "stdout",
     "output_type": "stream",
     "text": [
      "Data for NSTS updated in data\\NSTS.csv.\n",
      "Updating data for DORM...\n"
     ]
    },
    {
     "name": "stderr",
     "output_type": "stream",
     "text": [
      "\n",
      "Downloading data for MOS: :   1%|▍                                                 | 55/6477 [01:10<2:10:28,  1.22s/it]"
     ]
    },
    {
     "name": "stdout",
     "output_type": "stream",
     "text": [
      "Data for DORM updated in data\\DORM.csv.\n",
      "Updating data for MOS...\n"
     ]
    },
    {
     "name": "stderr",
     "output_type": "stream",
     "text": [
      "[*********************100%%**********************]  1 of 1 completed\n",
      "[*********************100%%**********************]  1 of 1 completed               | 56/6477 [01:11<2:12:46,  1.24s/it]"
     ]
    },
    {
     "name": "stdout",
     "output_type": "stream",
     "text": [
      "Data for MOS updated in data\\MOS.csv.\n",
      "Updating data for GIPR...\n"
     ]
    },
    {
     "name": "stderr",
     "output_type": "stream",
     "text": [
      "\n",
      "Downloading data for ALV: :   1%|▍                                                 | 57/6477 [01:12<2:11:42,  1.23s/it]"
     ]
    },
    {
     "name": "stdout",
     "output_type": "stream",
     "text": [
      "Data for GIPR updated in data\\GIPR.csv.\n",
      "Updating data for ALV...\n"
     ]
    },
    {
     "name": "stderr",
     "output_type": "stream",
     "text": [
      "[*********************100%%**********************]  1 of 1 completed\n",
      "[*********************100%%**********************]  1 of 1 completed               | 58/6477 [01:14<2:12:44,  1.24s/it]"
     ]
    },
    {
     "name": "stdout",
     "output_type": "stream",
     "text": [
      "Data for ALV updated in data\\ALV.csv.\n",
      "Updating data for LASE...\n"
     ]
    },
    {
     "name": "stderr",
     "output_type": "stream",
     "text": [
      "\n",
      "Downloading data for CMRE: :   1%|▍                                                | 59/6477 [01:15<2:11:12,  1.23s/it]"
     ]
    },
    {
     "name": "stdout",
     "output_type": "stream",
     "text": [
      "Data for LASE updated in data\\LASE.csv.\n",
      "Updating data for CMRE...\n"
     ]
    },
    {
     "name": "stderr",
     "output_type": "stream",
     "text": [
      "[*********************100%%**********************]  1 of 1 completed\n",
      "[*********************100%%**********************]  1 of 1 completed               | 60/6477 [01:16<2:12:27,  1.24s/it]"
     ]
    },
    {
     "name": "stdout",
     "output_type": "stream",
     "text": [
      "Data for CMRE updated in data\\CMRE.csv.\n",
      "Updating data for SBH...\n"
     ]
    },
    {
     "name": "stderr",
     "output_type": "stream",
     "text": [
      "\n",
      "Downloading data for SQFTP: :   1%|▍                                               | 61/6477 [01:17<2:11:58,  1.23s/it]"
     ]
    },
    {
     "name": "stdout",
     "output_type": "stream",
     "text": [
      "Data for SBH updated in data\\SBH.csv.\n",
      "Updating data for SQFTP...\n"
     ]
    },
    {
     "name": "stderr",
     "output_type": "stream",
     "text": [
      "[*********************100%%**********************]  1 of 1 completed\n",
      "Downloading data for IREN: :   1%|▍                                                | 62/6477 [01:19<2:11:21,  1.23s/it]"
     ]
    },
    {
     "name": "stdout",
     "output_type": "stream",
     "text": [
      "Data for SQFTP updated in data\\SQFTP.csv.\n",
      "Updating data for IREN...\n"
     ]
    },
    {
     "name": "stderr",
     "output_type": "stream",
     "text": [
      "[*********************100%%**********************]  1 of 1 completed\n",
      "[*********************100%%**********************]  1 of 1 completed               | 63/6477 [01:20<2:18:24,  1.29s/it]"
     ]
    },
    {
     "name": "stdout",
     "output_type": "stream",
     "text": [
      "Data for IREN updated in data\\IREN.csv.\n",
      "Updating data for BJDX...\n"
     ]
    },
    {
     "name": "stderr",
     "output_type": "stream",
     "text": [
      "\n",
      "Downloading data for HRL: :   1%|▍                                                 | 64/6477 [01:21<2:15:18,  1.27s/it]"
     ]
    },
    {
     "name": "stdout",
     "output_type": "stream",
     "text": [
      "Data for BJDX updated in data\\BJDX.csv.\n",
      "Updating data for HRL...\n"
     ]
    },
    {
     "name": "stderr",
     "output_type": "stream",
     "text": [
      "[*********************100%%**********************]  1 of 1 completed\n",
      "[*********************100%%**********************]  1 of 1 completed               | 65/6477 [01:23<2:23:50,  1.35s/it]"
     ]
    },
    {
     "name": "stdout",
     "output_type": "stream",
     "text": [
      "Data for HRL updated in data\\HRL.csv.\n",
      "Updating data for BOF...\n"
     ]
    },
    {
     "name": "stderr",
     "output_type": "stream",
     "text": [
      "\n",
      "Downloading data for EQNR: :   1%|▍                                                | 66/6477 [01:24<2:18:38,  1.30s/it]"
     ]
    },
    {
     "name": "stdout",
     "output_type": "stream",
     "text": [
      "Data for BOF updated in data\\BOF.csv.\n",
      "Updating data for EQNR...\n"
     ]
    },
    {
     "name": "stderr",
     "output_type": "stream",
     "text": [
      "[*********************100%%**********************]  1 of 1 completed\n",
      "Downloading data for SE: :   1%|▌                                                  | 67/6477 [01:25<2:16:36,  1.28s/it]"
     ]
    },
    {
     "name": "stdout",
     "output_type": "stream",
     "text": [
      "Data for EQNR updated in data\\EQNR.csv.\n",
      "Updating data for SE...\n"
     ]
    },
    {
     "name": "stderr",
     "output_type": "stream",
     "text": [
      "[*********************100%%**********************]  1 of 1 completed\n",
      "Downloading data for LNC: :   1%|▌                                                 | 68/6477 [01:27<2:22:38,  1.34s/it]"
     ]
    },
    {
     "name": "stdout",
     "output_type": "stream",
     "text": [
      "Data for SE updated in data\\SE.csv.\n",
      "Updating data for LNC...\n"
     ]
    },
    {
     "name": "stderr",
     "output_type": "stream",
     "text": [
      "[*********************100%%**********************]  1 of 1 completed\n",
      "[*********************100%%**********************]  1 of 1 completed               | 69/6477 [01:28<2:20:48,  1.32s/it]"
     ]
    },
    {
     "name": "stdout",
     "output_type": "stream",
     "text": [
      "Data for LNC updated in data\\LNC.csv.\n",
      "Updating data for SMPL...\n"
     ]
    },
    {
     "name": "stderr",
     "output_type": "stream",
     "text": [
      "\n",
      "Downloading data for NDLS: :   1%|▌                                                | 70/6477 [01:29<2:16:35,  1.28s/it]"
     ]
    },
    {
     "name": "stdout",
     "output_type": "stream",
     "text": [
      "Data for SMPL updated in data\\SMPL.csv.\n",
      "Updating data for NDLS...\n"
     ]
    },
    {
     "name": "stderr",
     "output_type": "stream",
     "text": [
      "[*********************100%%**********************]  1 of 1 completed\n",
      "[*********************100%%**********************]  1 of 1 completed               | 71/6477 [01:30<2:14:50,  1.26s/it]"
     ]
    },
    {
     "name": "stdout",
     "output_type": "stream",
     "text": [
      "Data for NDLS updated in data\\NDLS.csv.\n",
      "Updating data for PJT...\n"
     ]
    },
    {
     "name": "stderr",
     "output_type": "stream",
     "text": [
      "\n",
      "[*********************100%%**********************]  1 of 1 completed               | 72/6477 [01:32<2:13:25,  1.25s/it]"
     ]
    },
    {
     "name": "stdout",
     "output_type": "stream",
     "text": [
      "Data for PJT updated in data\\PJT.csv.\n",
      "Updating data for AVHIU...\n"
     ]
    },
    {
     "name": "stderr",
     "output_type": "stream",
     "text": [
      "\n",
      "Downloading data for BHFAN: :   1%|▌                                               | 73/6477 [01:33<2:11:23,  1.23s/it]"
     ]
    },
    {
     "name": "stdout",
     "output_type": "stream",
     "text": [
      "Data for AVHIU updated in data\\AVHIU.csv.\n",
      "Updating data for BHFAN...\n"
     ]
    },
    {
     "name": "stderr",
     "output_type": "stream",
     "text": [
      "[*********************100%%**********************]  1 of 1 completed\n",
      "[*********************100%%**********************]  1 of 1 completed               | 74/6477 [01:34<2:10:52,  1.23s/it]"
     ]
    },
    {
     "name": "stdout",
     "output_type": "stream",
     "text": [
      "Data for BHFAN updated in data\\BHFAN.csv.\n",
      "Updating data for BLDE...\n"
     ]
    },
    {
     "name": "stderr",
     "output_type": "stream",
     "text": [
      "\n",
      "[*********************100%%**********************]  1 of 1 completed               | 75/6477 [01:35<2:09:55,  1.22s/it]"
     ]
    },
    {
     "name": "stdout",
     "output_type": "stream",
     "text": [
      "Data for BLDE updated in data\\BLDE.csv.\n",
      "Updating data for EJH...\n"
     ]
    },
    {
     "name": "stderr",
     "output_type": "stream",
     "text": [
      "\n",
      "Downloading data for BLND: :   1%|▌                                                | 76/6477 [01:36<2:09:31,  1.21s/it]"
     ]
    },
    {
     "name": "stdout",
     "output_type": "stream",
     "text": [
      "Data for EJH updated in data\\EJH.csv.\n",
      "Updating data for BLND...\n"
     ]
    },
    {
     "name": "stderr",
     "output_type": "stream",
     "text": [
      "[*********************100%%**********************]  1 of 1 completed\n",
      "[*********************100%%**********************]  1 of 1 completed               | 77/6477 [01:38<2:09:18,  1.21s/it]"
     ]
    },
    {
     "name": "stdout",
     "output_type": "stream",
     "text": [
      "Data for BLND updated in data\\BLND.csv.\n",
      "Updating data for HNST...\n"
     ]
    },
    {
     "name": "stderr",
     "output_type": "stream",
     "text": [
      "\n",
      "[*********************100%%**********************]  1 of 1 completed               | 78/6477 [01:39<2:08:51,  1.21s/it]"
     ]
    },
    {
     "name": "stdout",
     "output_type": "stream",
     "text": [
      "Data for HNST updated in data\\HNST.csv.\n",
      "Updating data for RMBS...\n"
     ]
    },
    {
     "name": "stderr",
     "output_type": "stream",
     "text": [
      "\n",
      "[*********************100%%**********************]  1 of 1 completed               | 79/6477 [01:40<2:09:42,  1.22s/it]"
     ]
    },
    {
     "name": "stdout",
     "output_type": "stream",
     "text": [
      "Data for RMBS updated in data\\RMBS.csv.\n",
      "Updating data for OCC...\n"
     ]
    },
    {
     "name": "stderr",
     "output_type": "stream",
     "text": [
      "\n",
      "Downloading data for CCNE: :   1%|▌                                                | 80/6477 [01:41<2:09:45,  1.22s/it]"
     ]
    },
    {
     "name": "stdout",
     "output_type": "stream",
     "text": [
      "Data for OCC updated in data\\OCC.csv.\n",
      "Updating data for CCNE...\n"
     ]
    },
    {
     "name": "stderr",
     "output_type": "stream",
     "text": [
      "[*********************100%%**********************]  1 of 1 completed\n",
      "Downloading data for UCAR: :   1%|▌                                                | 81/6477 [01:43<2:12:58,  1.25s/it]"
     ]
    },
    {
     "name": "stdout",
     "output_type": "stream",
     "text": [
      "Data for CCNE updated in data\\CCNE.csv.\n",
      "Updating data for UCAR...\n"
     ]
    },
    {
     "name": "stderr",
     "output_type": "stream",
     "text": [
      "[*********************100%%**********************]  1 of 1 completed\n",
      "[*********************100%%**********************]  1 of 1 completed               | 82/6477 [01:44<2:11:56,  1.24s/it]"
     ]
    },
    {
     "name": "stdout",
     "output_type": "stream",
     "text": [
      "Data for UCAR updated in data\\UCAR.csv.\n",
      "Updating data for SBOW...\n"
     ]
    },
    {
     "name": "stderr",
     "output_type": "stream",
     "text": [
      "\n",
      "Downloading data for GMDA: :   1%|▋                                                | 83/6477 [01:45<2:10:43,  1.23s/it]"
     ]
    },
    {
     "name": "stdout",
     "output_type": "stream",
     "text": [
      "Data for SBOW updated in data\\SBOW.csv.\n",
      "Updating data for GMDA...\n"
     ]
    },
    {
     "name": "stderr",
     "output_type": "stream",
     "text": [
      "[*********************100%%**********************]  1 of 1 completed\n",
      "Downloading data for PARR: :   1%|▋                                                | 84/6477 [01:46<2:17:52,  1.29s/it]"
     ]
    },
    {
     "name": "stdout",
     "output_type": "stream",
     "text": [
      "Data for GMDA updated in data\\GMDA.csv.\n",
      "Updating data for PARR...\n"
     ]
    },
    {
     "name": "stderr",
     "output_type": "stream",
     "text": [
      "[*********************100%%**********************]  1 of 1 completed\n",
      "Downloading data for TAP: :   1%|▋                                                 | 85/6477 [01:48<2:22:59,  1.34s/it]"
     ]
    },
    {
     "name": "stdout",
     "output_type": "stream",
     "text": [
      "Data for PARR updated in data\\PARR.csv.\n",
      "Updating data for TAP...\n"
     ]
    },
    {
     "name": "stderr",
     "output_type": "stream",
     "text": [
      "[*********************100%%**********************]  1 of 1 completed\n",
      "Downloading data for KRNT: :   1%|▋                                                | 86/6477 [01:49<2:22:05,  1.33s/it]"
     ]
    },
    {
     "name": "stdout",
     "output_type": "stream",
     "text": [
      "Data for TAP updated in data\\TAP.csv.\n",
      "Updating data for KRNT...\n"
     ]
    },
    {
     "name": "stderr",
     "output_type": "stream",
     "text": [
      "[*********************100%%**********************]  1 of 1 completed\n",
      "Downloading data for NAC: :   1%|▋                                                 | 87/6477 [01:50<2:18:27,  1.30s/it]"
     ]
    },
    {
     "name": "stdout",
     "output_type": "stream",
     "text": [
      "Data for KRNT updated in data\\KRNT.csv.\n",
      "Updating data for NAC...\n"
     ]
    },
    {
     "name": "stderr",
     "output_type": "stream",
     "text": [
      "[*********************100%%**********************]  1 of 1 completed\n",
      "[*********************100%%**********************]  1 of 1 completed               | 88/6477 [01:52<2:16:41,  1.28s/it]"
     ]
    },
    {
     "name": "stdout",
     "output_type": "stream",
     "text": [
      "Data for NAC updated in data\\NAC.csv.\n",
      "Updating data for SING...\n"
     ]
    },
    {
     "name": "stderr",
     "output_type": "stream",
     "text": [
      "\n",
      "[*********************100%%**********************]  1 of 1 completed               | 89/6477 [01:53<2:13:39,  1.26s/it]"
     ]
    },
    {
     "name": "stdout",
     "output_type": "stream",
     "text": [
      "Data for SING updated in data\\SING.csv.\n",
      "Updating data for ZDGE...\n"
     ]
    },
    {
     "name": "stderr",
     "output_type": "stream",
     "text": [
      "\n",
      "[*********************100%%**********************]  1 of 1 completed               | 90/6477 [01:54<2:12:20,  1.24s/it]"
     ]
    },
    {
     "name": "stdout",
     "output_type": "stream",
     "text": [
      "Data for ZDGE updated in data\\ZDGE.csv.\n",
      "Updating data for RIOT...\n"
     ]
    },
    {
     "name": "stderr",
     "output_type": "stream",
     "text": [
      "\n",
      "Downloading data for GFF: :   1%|▋                                                 | 91/6477 [01:55<2:11:13,  1.23s/it]"
     ]
    },
    {
     "name": "stdout",
     "output_type": "stream",
     "text": [
      "Data for RIOT updated in data\\RIOT.csv.\n",
      "Updating data for GFF...\n"
     ]
    },
    {
     "name": "stderr",
     "output_type": "stream",
     "text": [
      "[*********************100%%**********************]  1 of 1 completed\n",
      "[*********************100%%**********************]  1 of 1 completed               | 92/6477 [01:56<2:11:50,  1.24s/it]"
     ]
    },
    {
     "name": "stdout",
     "output_type": "stream",
     "text": [
      "Data for GFF updated in data\\GFF.csv.\n",
      "Updating data for SDA...\n"
     ]
    },
    {
     "name": "stderr",
     "output_type": "stream",
     "text": [
      "\n",
      "Downloading data for ACGLO: :   1%|▋                                               | 93/6477 [01:58<2:11:12,  1.23s/it]"
     ]
    },
    {
     "name": "stdout",
     "output_type": "stream",
     "text": [
      "Data for SDA updated in data\\SDA.csv.\n",
      "Updating data for ACGLO...\n"
     ]
    },
    {
     "name": "stderr",
     "output_type": "stream",
     "text": [
      "[*********************100%%**********************]  1 of 1 completed\n",
      "[*********************100%%**********************]  1 of 1 completed               | 94/6477 [01:59<2:11:16,  1.23s/it]"
     ]
    },
    {
     "name": "stdout",
     "output_type": "stream",
     "text": [
      "Data for ACGLO updated in data\\ACGLO.csv.\n",
      "Updating data for GH...\n"
     ]
    },
    {
     "name": "stderr",
     "output_type": "stream",
     "text": [
      "\n",
      "[*********************100%%**********************]  1 of 1 completed               | 95/6477 [02:00<2:10:14,  1.22s/it]"
     ]
    },
    {
     "name": "stdout",
     "output_type": "stream",
     "text": [
      "Data for GH updated in data\\GH.csv.\n",
      "Updating data for VCSA...\n"
     ]
    },
    {
     "name": "stderr",
     "output_type": "stream",
     "text": [
      "\n",
      "Downloading data for SBI: :   1%|▋                                                 | 96/6477 [02:01<2:09:34,  1.22s/it]"
     ]
    },
    {
     "name": "stdout",
     "output_type": "stream",
     "text": [
      "Data for VCSA updated in data\\VCSA.csv.\n",
      "Updating data for SBI...\n"
     ]
    },
    {
     "name": "stderr",
     "output_type": "stream",
     "text": [
      "[*********************100%%**********************]  1 of 1 completed\n",
      "Downloading data for RPM: :   1%|▋                                                 | 97/6477 [02:03<2:19:25,  1.31s/it]"
     ]
    },
    {
     "name": "stdout",
     "output_type": "stream",
     "text": [
      "Data for SBI updated in data\\SBI.csv.\n",
      "Updating data for RPM...\n"
     ]
    },
    {
     "name": "stderr",
     "output_type": "stream",
     "text": [
      "[*********************100%%**********************]  1 of 1 completed\n",
      "Downloading data for CSQ: :   2%|▊                                                 | 98/6477 [02:04<2:18:42,  1.30s/it]"
     ]
    },
    {
     "name": "stdout",
     "output_type": "stream",
     "text": [
      "Data for RPM updated in data\\RPM.csv.\n",
      "Updating data for CSQ...\n"
     ]
    },
    {
     "name": "stderr",
     "output_type": "stream",
     "text": [
      "[*********************100%%**********************]  1 of 1 completed\n",
      "[*********************100%%**********************]  1 of 1 completed               | 99/6477 [02:05<2:16:37,  1.29s/it]"
     ]
    },
    {
     "name": "stdout",
     "output_type": "stream",
     "text": [
      "Data for CSQ updated in data\\CSQ.csv.\n",
      "Updating data for AGE...\n"
     ]
    },
    {
     "name": "stderr",
     "output_type": "stream",
     "text": [
      "\n",
      "Downloading data for ARL: :   2%|▊                                                | 100/6477 [02:07<2:13:39,  1.26s/it]"
     ]
    },
    {
     "name": "stdout",
     "output_type": "stream",
     "text": [
      "Data for AGE updated in data\\AGE.csv.\n",
      "Updating data for ARL...\n"
     ]
    },
    {
     "name": "stderr",
     "output_type": "stream",
     "text": [
      "[*********************100%%**********************]  1 of 1 completed\n",
      "[*********************100%%**********************]  1 of 1 completed              | 101/6477 [02:08<2:13:38,  1.26s/it]"
     ]
    },
    {
     "name": "stdout",
     "output_type": "stream",
     "text": [
      "Data for ARL updated in data\\ARL.csv.\n",
      "Updating data for GRVY...\n"
     ]
    },
    {
     "name": "stderr",
     "output_type": "stream",
     "text": [
      "\n",
      "[*********************100%%**********************]  1 of 1 completed              | 102/6477 [02:09<2:12:03,  1.24s/it]"
     ]
    },
    {
     "name": "stdout",
     "output_type": "stream",
     "text": [
      "Data for GRVY updated in data\\GRVY.csv.\n",
      "Updating data for FLNG...\n"
     ]
    },
    {
     "name": "stderr",
     "output_type": "stream",
     "text": [
      "\n",
      "[*********************100%%**********************]  1 of 1 completed              | 103/6477 [02:10<2:11:08,  1.23s/it]"
     ]
    },
    {
     "name": "stdout",
     "output_type": "stream",
     "text": [
      "Data for FLNG updated in data\\FLNG.csv.\n",
      "Updating data for CPSS...\n"
     ]
    },
    {
     "name": "stderr",
     "output_type": "stream",
     "text": [
      "\n",
      "Downloading data for HTH: :   2%|▊                                                | 104/6477 [02:12<2:11:17,  1.24s/it]"
     ]
    },
    {
     "name": "stdout",
     "output_type": "stream",
     "text": [
      "Data for CPSS updated in data\\CPSS.csv.\n",
      "Updating data for HTH...\n"
     ]
    },
    {
     "name": "stderr",
     "output_type": "stream",
     "text": [
      "[*********************100%%**********************]  1 of 1 completed\n",
      "Downloading data for TWIN: :   2%|▊                                               | 105/6477 [02:13<2:11:31,  1.24s/it]"
     ]
    },
    {
     "name": "stdout",
     "output_type": "stream",
     "text": [
      "Data for HTH updated in data\\HTH.csv.\n",
      "Updating data for TWIN...\n"
     ]
    },
    {
     "name": "stderr",
     "output_type": "stream",
     "text": [
      "[*********************100%%**********************]  1 of 1 completed\n",
      "[*********************100%%**********************]  1 of 1 completed              | 106/6477 [02:14<2:12:57,  1.25s/it]"
     ]
    },
    {
     "name": "stdout",
     "output_type": "stream",
     "text": [
      "Data for TWIN updated in data\\TWIN.csv.\n",
      "Updating data for BZFD...\n"
     ]
    },
    {
     "name": "stderr",
     "output_type": "stream",
     "text": [
      "\n",
      "[*********************100%%**********************]  1 of 1 completed              | 107/6477 [02:15<2:11:04,  1.23s/it]"
     ]
    },
    {
     "name": "stdout",
     "output_type": "stream",
     "text": [
      "Data for BZFD updated in data\\BZFD.csv.\n",
      "Updating data for SOJE...\n"
     ]
    },
    {
     "name": "stderr",
     "output_type": "stream",
     "text": [
      "\n",
      "Downloading data for RDVT: :   2%|▊                                               | 108/6477 [02:16<2:10:11,  1.23s/it]"
     ]
    },
    {
     "name": "stdout",
     "output_type": "stream",
     "text": [
      "Data for SOJE updated in data\\SOJE.csv.\n",
      "Updating data for RDVT...\n"
     ]
    },
    {
     "name": "stderr",
     "output_type": "stream",
     "text": [
      "[*********************100%%**********************]  1 of 1 completed\n",
      "Downloading data for OUT: :   2%|▊                                                | 109/6477 [02:18<2:17:19,  1.29s/it]"
     ]
    },
    {
     "name": "stdout",
     "output_type": "stream",
     "text": [
      "Data for RDVT updated in data\\RDVT.csv.\n",
      "Updating data for OUT...\n"
     ]
    },
    {
     "name": "stderr",
     "output_type": "stream",
     "text": [
      "[*********************100%%**********************]  1 of 1 completed\n",
      "Downloading data for MMLP: :   2%|▊                                               | 110/6477 [02:19<2:14:48,  1.27s/it]"
     ]
    },
    {
     "name": "stdout",
     "output_type": "stream",
     "text": [
      "Data for OUT updated in data\\OUT.csv.\n",
      "Updating data for MMLP...\n"
     ]
    },
    {
     "name": "stderr",
     "output_type": "stream",
     "text": [
      "[*********************100%%**********************]  1 of 1 completed\n",
      "[*********************100%%**********************]  1 of 1 completed              | 111/6477 [02:20<2:13:41,  1.26s/it]"
     ]
    },
    {
     "name": "stdout",
     "output_type": "stream",
     "text": [
      "Data for MMLP updated in data\\MMLP.csv.\n",
      "Updating data for PERF...\n"
     ]
    },
    {
     "name": "stderr",
     "output_type": "stream",
     "text": [
      "\n",
      "[*********************100%%**********************]  1 of 1 completed              | 112/6477 [02:22<2:11:34,  1.24s/it]"
     ]
    },
    {
     "name": "stdout",
     "output_type": "stream",
     "text": [
      "Data for PERF updated in data\\PERF.csv.\n",
      "Updating data for CYCN...\n"
     ]
    },
    {
     "name": "stderr",
     "output_type": "stream",
     "text": [
      "\n",
      "[*********************100%%**********************]  1 of 1 completed              | 113/6477 [02:23<2:10:17,  1.23s/it]"
     ]
    },
    {
     "name": "stdout",
     "output_type": "stream",
     "text": [
      "Data for CYCN updated in data\\CYCN.csv.\n",
      "Updating data for LBPH...\n"
     ]
    },
    {
     "name": "stderr",
     "output_type": "stream",
     "text": [
      "\n",
      "[*********************100%%**********************]  1 of 1 completed              | 114/6477 [02:24<2:09:28,  1.22s/it]"
     ]
    },
    {
     "name": "stdout",
     "output_type": "stream",
     "text": [
      "Data for LBPH updated in data\\LBPH.csv.\n",
      "Updating data for GXAI...\n"
     ]
    },
    {
     "name": "stderr",
     "output_type": "stream",
     "text": [
      "\n",
      "Downloading data for ING: :   2%|▊                                                | 115/6477 [02:25<2:09:05,  1.22s/it]"
     ]
    },
    {
     "name": "stdout",
     "output_type": "stream",
     "text": [
      "Data for GXAI updated in data\\GXAI.csv.\n",
      "Updating data for ING...\n"
     ]
    },
    {
     "name": "stderr",
     "output_type": "stream",
     "text": [
      "[*********************100%%**********************]  1 of 1 completed\n",
      "Downloading data for CVX: :   2%|▉                                                | 116/6477 [02:26<2:10:48,  1.23s/it]"
     ]
    },
    {
     "name": "stdout",
     "output_type": "stream",
     "text": [
      "Data for ING updated in data\\ING.csv.\n",
      "Updating data for CVX...\n"
     ]
    },
    {
     "name": "stderr",
     "output_type": "stream",
     "text": [
      "[*********************100%%**********************]  1 of 1 completed\n",
      "Downloading data for SR: :   2%|▉                                                 | 117/6477 [02:28<2:21:42,  1.34s/it]"
     ]
    },
    {
     "name": "stdout",
     "output_type": "stream",
     "text": [
      "Data for CVX updated in data\\CVX.csv.\n",
      "Updating data for SR...\n"
     ]
    },
    {
     "name": "stderr",
     "output_type": "stream",
     "text": [
      "[*********************100%%**********************]  1 of 1 completed\n",
      "Downloading data for ZYXI: :   2%|▊                                               | 118/6477 [02:29<2:21:02,  1.33s/it]"
     ]
    },
    {
     "name": "stdout",
     "output_type": "stream",
     "text": [
      "Data for SR updated in data\\SR.csv.\n",
      "Updating data for ZYXI...\n"
     ]
    },
    {
     "name": "stderr",
     "output_type": "stream",
     "text": [
      "[*********************100%%**********************]  1 of 1 completed\n",
      "Downloading data for FTEK: :   2%|▉                                               | 119/6477 [02:31<2:25:49,  1.38s/it]"
     ]
    },
    {
     "name": "stdout",
     "output_type": "stream",
     "text": [
      "Data for ZYXI updated in data\\ZYXI.csv.\n",
      "Updating data for FTEK...\n"
     ]
    },
    {
     "name": "stderr",
     "output_type": "stream",
     "text": [
      "[*********************100%%**********************]  1 of 1 completed\n",
      "[*********************100%%**********************]  1 of 1 completed              | 120/6477 [02:32<2:21:17,  1.33s/it]"
     ]
    },
    {
     "name": "stdout",
     "output_type": "stream",
     "text": [
      "Data for FTEK updated in data\\FTEK.csv.\n",
      "Updating data for GNRC...\n"
     ]
    },
    {
     "name": "stderr",
     "output_type": "stream",
     "text": [
      "\n",
      "[*********************100%%**********************]  1 of 1 completed              | 121/6477 [02:33<2:17:45,  1.30s/it]"
     ]
    },
    {
     "name": "stdout",
     "output_type": "stream",
     "text": [
      "Data for GNRC updated in data\\GNRC.csv.\n",
      "Updating data for ACT...\n"
     ]
    },
    {
     "name": "stderr",
     "output_type": "stream",
     "text": [
      "\n",
      "Downloading data for YETI: :   2%|▉                                               | 122/6477 [02:34<2:14:52,  1.27s/it]"
     ]
    },
    {
     "name": "stdout",
     "output_type": "stream",
     "text": [
      "Data for ACT updated in data\\ACT.csv.\n",
      "Updating data for YETI...\n"
     ]
    },
    {
     "name": "stderr",
     "output_type": "stream",
     "text": [
      "[*********************100%%**********************]  1 of 1 completed\n",
      "Downloading data for EHC: :   2%|▉                                                | 123/6477 [02:36<2:20:25,  1.33s/it]"
     ]
    },
    {
     "name": "stdout",
     "output_type": "stream",
     "text": [
      "Data for YETI updated in data\\YETI.csv.\n",
      "Updating data for EHC...\n"
     ]
    },
    {
     "name": "stderr",
     "output_type": "stream",
     "text": [
      "[*********************100%%**********************]  1 of 1 completed\n",
      "[*********************100%%**********************]  1 of 1 completed              | 124/6477 [02:37<2:18:54,  1.31s/it]"
     ]
    },
    {
     "name": "stdout",
     "output_type": "stream",
     "text": [
      "Data for EHC updated in data\\EHC.csv.\n",
      "Updating data for QNRX...\n"
     ]
    },
    {
     "name": "stderr",
     "output_type": "stream",
     "text": [
      "\n",
      "Downloading data for IIF: :   2%|▉                                                | 125/6477 [02:38<2:15:28,  1.28s/it]"
     ]
    },
    {
     "name": "stdout",
     "output_type": "stream",
     "text": [
      "Data for QNRX updated in data\\QNRX.csv.\n",
      "Updating data for IIF...\n"
     ]
    },
    {
     "name": "stderr",
     "output_type": "stream",
     "text": [
      "[*********************100%%**********************]  1 of 1 completed\n",
      "[*********************100%%**********************]  1 of 1 completed              | 126/6477 [02:40<2:14:48,  1.27s/it]"
     ]
    },
    {
     "name": "stdout",
     "output_type": "stream",
     "text": [
      "Data for IIF updated in data\\IIF.csv.\n",
      "Updating data for HGTY...\n"
     ]
    },
    {
     "name": "stderr",
     "output_type": "stream",
     "text": [
      "\n",
      "Downloading data for R: :   2%|█                                                  | 127/6477 [02:41<2:12:34,  1.25s/it]"
     ]
    },
    {
     "name": "stdout",
     "output_type": "stream",
     "text": [
      "Data for HGTY updated in data\\HGTY.csv.\n",
      "Updating data for R...\n"
     ]
    },
    {
     "name": "stderr",
     "output_type": "stream",
     "text": [
      "[*********************100%%**********************]  1 of 1 completed\n",
      "[*********************100%%**********************]  1 of 1 completed              | 128/6477 [02:42<2:14:18,  1.27s/it]"
     ]
    },
    {
     "name": "stdout",
     "output_type": "stream",
     "text": [
      "Data for R updated in data\\R.csv.\n",
      "Updating data for GHG...\n"
     ]
    },
    {
     "name": "stderr",
     "output_type": "stream",
     "text": [
      "\n",
      "[*********************100%%**********************]  1 of 1 completed              | 129/6477 [02:43<2:12:22,  1.25s/it]"
     ]
    },
    {
     "name": "stdout",
     "output_type": "stream",
     "text": [
      "Data for GHG updated in data\\GHG.csv.\n",
      "Updating data for APYX...\n"
     ]
    },
    {
     "name": "stderr",
     "output_type": "stream",
     "text": [
      "\n",
      "[*********************100%%**********************]  1 of 1 completed              | 130/6477 [02:45<2:10:50,  1.24s/it]"
     ]
    },
    {
     "name": "stdout",
     "output_type": "stream",
     "text": [
      "Data for APYX updated in data\\APYX.csv.\n",
      "Updating data for SSKN...\n"
     ]
    },
    {
     "name": "stderr",
     "output_type": "stream",
     "text": [
      "\n",
      "[*********************100%%**********************]  1 of 1 completed              | 131/6477 [02:46<2:09:55,  1.23s/it]"
     ]
    },
    {
     "name": "stdout",
     "output_type": "stream",
     "text": [
      "Data for SSKN updated in data\\SSKN.csv.\n",
      "Updating data for HNVR...\n"
     ]
    },
    {
     "name": "stderr",
     "output_type": "stream",
     "text": [
      "\n",
      "[*********************100%%**********************]  1 of 1 completed              | 132/6477 [02:47<2:08:57,  1.22s/it]"
     ]
    },
    {
     "name": "stdout",
     "output_type": "stream",
     "text": [
      "Data for HNVR updated in data\\HNVR.csv.\n",
      "Updating data for SMRT...\n"
     ]
    },
    {
     "name": "stderr",
     "output_type": "stream",
     "text": [
      "\n",
      "[*********************100%%**********************]  1 of 1 completed              | 133/6477 [02:48<2:08:16,  1.21s/it]"
     ]
    },
    {
     "name": "stdout",
     "output_type": "stream",
     "text": [
      "Data for SMRT updated in data\\SMRT.csv.\n",
      "Updating data for CGEN...\n"
     ]
    },
    {
     "name": "stderr",
     "output_type": "stream",
     "text": [
      "\n",
      "[*********************100%%**********************]  1 of 1 completed              | 134/6477 [02:49<2:08:45,  1.22s/it]"
     ]
    },
    {
     "name": "stdout",
     "output_type": "stream",
     "text": [
      "Data for CGEN updated in data\\CGEN.csv.\n",
      "Updating data for FAT...\n"
     ]
    },
    {
     "name": "stderr",
     "output_type": "stream",
     "text": [
      "\n",
      "[*********************100%%**********************]  1 of 1 completed              | 135/6477 [02:51<2:08:33,  1.22s/it]"
     ]
    },
    {
     "name": "stdout",
     "output_type": "stream",
     "text": [
      "Data for FAT updated in data\\FAT.csv.\n",
      "Updating data for CINT...\n"
     ]
    },
    {
     "name": "stderr",
     "output_type": "stream",
     "text": [
      "\n",
      "Downloading data for DNP: :   2%|█                                                | 136/6477 [02:52<2:08:35,  1.22s/it]"
     ]
    },
    {
     "name": "stdout",
     "output_type": "stream",
     "text": [
      "Data for CINT updated in data\\CINT.csv.\n",
      "Updating data for DNP...\n"
     ]
    },
    {
     "name": "stderr",
     "output_type": "stream",
     "text": [
      "[*********************100%%**********************]  1 of 1 completed\n",
      "Downloading data for TPZ: :   2%|█                                                | 137/6477 [02:53<2:13:12,  1.26s/it]"
     ]
    },
    {
     "name": "stdout",
     "output_type": "stream",
     "text": [
      "Data for DNP updated in data\\DNP.csv.\n",
      "Updating data for TPZ...\n"
     ]
    },
    {
     "name": "stderr",
     "output_type": "stream",
     "text": [
      "[*********************100%%**********************]  1 of 1 completed\n",
      "[*********************100%%**********************]  1 of 1 completed              | 138/6477 [02:55<2:19:28,  1.32s/it]"
     ]
    },
    {
     "name": "stdout",
     "output_type": "stream",
     "text": [
      "Data for TPZ updated in data\\TPZ.csv.\n",
      "Updating data for TBIO...\n"
     ]
    },
    {
     "name": "stderr",
     "output_type": "stream",
     "text": [
      "\n",
      "Downloading data for TRV: :   2%|█                                                | 139/6477 [02:56<2:15:41,  1.28s/it]"
     ]
    },
    {
     "name": "stdout",
     "output_type": "stream",
     "text": [
      "Data for TBIO updated in data\\TBIO.csv.\n",
      "Updating data for TRV...\n"
     ]
    },
    {
     "name": "stderr",
     "output_type": "stream",
     "text": [
      "[*********************100%%**********************]  1 of 1 completed\n",
      "Downloading data for JBHT: :   2%|█                                               | 140/6477 [02:57<2:15:57,  1.29s/it]"
     ]
    },
    {
     "name": "stdout",
     "output_type": "stream",
     "text": [
      "Data for TRV updated in data\\TRV.csv.\n",
      "Updating data for JBHT...\n"
     ]
    },
    {
     "name": "stderr",
     "output_type": "stream",
     "text": [
      "[*********************100%%**********************]  1 of 1 completed\n",
      "Downloading data for SPECW: :   2%|█                                              | 141/6477 [02:58<2:16:41,  1.29s/it]"
     ]
    },
    {
     "name": "stdout",
     "output_type": "stream",
     "text": [
      "Data for JBHT updated in data\\JBHT.csv.\n",
      "Updating data for SPECW...\n"
     ]
    },
    {
     "name": "stderr",
     "output_type": "stream",
     "text": [
      "[*********************100%%**********************]  1 of 1 completed\n",
      "Downloading data for WTI: :   2%|█                                                | 142/6477 [03:00<2:15:20,  1.28s/it]"
     ]
    },
    {
     "name": "stdout",
     "output_type": "stream",
     "text": [
      "Data for SPECW updated in data\\SPECW.csv.\n",
      "Updating data for WTI...\n"
     ]
    },
    {
     "name": "stderr",
     "output_type": "stream",
     "text": [
      "[*********************100%%**********************]  1 of 1 completed\n",
      "Downloading data for WSBF: :   2%|█                                               | 143/6477 [03:01<2:14:10,  1.27s/it]"
     ]
    },
    {
     "name": "stdout",
     "output_type": "stream",
     "text": [
      "Data for WTI updated in data\\WTI.csv.\n",
      "Updating data for WSBF...\n"
     ]
    },
    {
     "name": "stderr",
     "output_type": "stream",
     "text": [
      "[*********************100%%**********************]  1 of 1 completed\n",
      "[*********************100%%**********************]  1 of 1 completed              | 144/6477 [03:02<2:20:26,  1.33s/it]"
     ]
    },
    {
     "name": "stdout",
     "output_type": "stream",
     "text": [
      "Data for WSBF updated in data\\WSBF.csv.\n",
      "Updating data for BY...\n"
     ]
    },
    {
     "name": "stderr",
     "output_type": "stream",
     "text": [
      "\n",
      "[*********************100%%**********************]  1 of 1 completed              | 145/6477 [03:04<2:16:02,  1.29s/it]"
     ]
    },
    {
     "name": "stdout",
     "output_type": "stream",
     "text": [
      "Data for BY updated in data\\BY.csv.\n",
      "Updating data for AEIS...\n"
     ]
    },
    {
     "name": "stderr",
     "output_type": "stream",
     "text": [
      "\n",
      "Downloading data for CNVS: :   2%|█                                               | 146/6477 [03:05<2:13:32,  1.27s/it]"
     ]
    },
    {
     "name": "stdout",
     "output_type": "stream",
     "text": [
      "Data for AEIS updated in data\\AEIS.csv.\n",
      "Updating data for CNVS...\n"
     ]
    },
    {
     "name": "stderr",
     "output_type": "stream",
     "text": [
      "[*********************100%%**********************]  1 of 1 completed\n",
      "[*********************100%%**********************]  1 of 1 completed              | 147/6477 [03:06<2:19:54,  1.33s/it]"
     ]
    },
    {
     "name": "stdout",
     "output_type": "stream",
     "text": [
      "Data for CNVS updated in data\\CNVS.csv.\n",
      "Updating data for BREZW...\n"
     ]
    },
    {
     "name": "stderr",
     "output_type": "stream",
     "text": [
      "\n",
      "[*********************100%%**********************]  1 of 1 completed              | 148/6477 [03:08<2:15:31,  1.28s/it]"
     ]
    },
    {
     "name": "stdout",
     "output_type": "stream",
     "text": [
      "Data for BREZW updated in data\\BREZW.csv.\n",
      "Updating data for GANX...\n"
     ]
    },
    {
     "name": "stderr",
     "output_type": "stream",
     "text": [
      "\n",
      "[*********************100%%**********************]  1 of 1 completed              | 149/6477 [03:09<2:12:28,  1.26s/it]"
     ]
    },
    {
     "name": "stdout",
     "output_type": "stream",
     "text": [
      "Data for GANX updated in data\\GANX.csv.\n",
      "Updating data for GSAT...\n"
     ]
    },
    {
     "name": "stderr",
     "output_type": "stream",
     "text": [
      "\n",
      "[*********************100%%**********************]  1 of 1 completed              | 150/6477 [03:10<2:10:29,  1.24s/it]"
     ]
    },
    {
     "name": "stdout",
     "output_type": "stream",
     "text": [
      "Data for GSAT updated in data\\GSAT.csv.\n",
      "Updating data for ZENV...\n"
     ]
    },
    {
     "name": "stderr",
     "output_type": "stream",
     "text": [
      "\n",
      "[*********************100%%**********************]  1 of 1 completed              | 151/6477 [03:11<2:10:05,  1.23s/it]"
     ]
    },
    {
     "name": "stdout",
     "output_type": "stream",
     "text": [
      "Data for ZENV updated in data\\ZENV.csv.\n",
      "Updating data for ACB...\n"
     ]
    },
    {
     "name": "stderr",
     "output_type": "stream",
     "text": [
      "\n",
      "Downloading data for FR: :   2%|█▏                                                | 152/6477 [03:12<2:09:22,  1.23s/it]"
     ]
    },
    {
     "name": "stdout",
     "output_type": "stream",
     "text": [
      "Data for ACB updated in data\\ACB.csv.\n",
      "Updating data for FR...\n"
     ]
    },
    {
     "name": "stderr",
     "output_type": "stream",
     "text": [
      "[*********************100%%**********************]  1 of 1 completed\n",
      "Downloading data for ENSG: :   2%|█▏                                              | 153/6477 [03:14<2:11:03,  1.24s/it]"
     ]
    },
    {
     "name": "stdout",
     "output_type": "stream",
     "text": [
      "Data for FR updated in data\\FR.csv.\n",
      "Updating data for ENSG...\n"
     ]
    },
    {
     "name": "stderr",
     "output_type": "stream",
     "text": [
      "[*********************100%%**********************]  1 of 1 completed\n",
      "Downloading data for PFLT: :   2%|█▏                                              | 154/6477 [03:15<2:11:03,  1.24s/it]"
     ]
    },
    {
     "name": "stdout",
     "output_type": "stream",
     "text": [
      "Data for ENSG updated in data\\ENSG.csv.\n",
      "Updating data for PFLT...\n"
     ]
    },
    {
     "name": "stderr",
     "output_type": "stream",
     "text": [
      "[*********************100%%**********************]  1 of 1 completed\n",
      "Downloading data for IESC: :   2%|█▏                                              | 155/6477 [03:16<2:10:43,  1.24s/it]"
     ]
    },
    {
     "name": "stdout",
     "output_type": "stream",
     "text": [
      "Data for PFLT updated in data\\PFLT.csv.\n",
      "Updating data for IESC...\n"
     ]
    },
    {
     "name": "stderr",
     "output_type": "stream",
     "text": [
      "[*********************100%%**********************]  1 of 1 completed\n",
      "[*********************100%%**********************]  1 of 1 completed              | 156/6477 [03:17<2:10:27,  1.24s/it]"
     ]
    },
    {
     "name": "stdout",
     "output_type": "stream",
     "text": [
      "Data for IESC updated in data\\IESC.csv.\n",
      "Updating data for RCAC...\n"
     ]
    },
    {
     "name": "stderr",
     "output_type": "stream",
     "text": [
      "\n",
      "Downloading data for INM: :   2%|█▏                                               | 157/6477 [03:19<2:09:11,  1.23s/it]"
     ]
    },
    {
     "name": "stdout",
     "output_type": "stream",
     "text": [
      "Data for RCAC updated in data\\RCAC.csv.\n",
      "Updating data for INM...\n"
     ]
    },
    {
     "name": "stderr",
     "output_type": "stream",
     "text": [
      "[*********************100%%**********************]  1 of 1 completed\n",
      "Downloading data for IFS: :   2%|█▏                                               | 158/6477 [03:20<2:08:44,  1.22s/it]"
     ]
    },
    {
     "name": "stdout",
     "output_type": "stream",
     "text": [
      "Data for INM updated in data\\INM.csv.\n",
      "Updating data for IFS...\n"
     ]
    },
    {
     "name": "stderr",
     "output_type": "stream",
     "text": [
      "[*********************100%%**********************]  1 of 1 completed\n",
      "Downloading data for BHRB: :   2%|█▏                                              | 159/6477 [03:21<2:08:39,  1.22s/it]"
     ]
    },
    {
     "name": "stdout",
     "output_type": "stream",
     "text": [
      "Data for IFS updated in data\\IFS.csv.\n",
      "Updating data for BHRB...\n"
     ]
    },
    {
     "name": "stderr",
     "output_type": "stream",
     "text": [
      "[*********************100%%**********************]  1 of 1 completed\n",
      "[*********************100%%**********************]  1 of 1 completed              | 160/6477 [03:22<2:09:44,  1.23s/it]"
     ]
    },
    {
     "name": "stdout",
     "output_type": "stream",
     "text": [
      "Data for BHRB updated in data\\BHRB.csv.\n",
      "Updating data for MGNX...\n"
     ]
    },
    {
     "name": "stderr",
     "output_type": "stream",
     "text": [
      "\n",
      "[*********************100%%**********************]  1 of 1 completed              | 161/6477 [03:23<2:08:46,  1.22s/it]"
     ]
    },
    {
     "name": "stdout",
     "output_type": "stream",
     "text": [
      "Data for MGNX updated in data\\MGNX.csv.\n",
      "Updating data for WSR...\n"
     ]
    },
    {
     "name": "stderr",
     "output_type": "stream",
     "text": [
      "\n",
      "Downloading data for CIF: :   3%|█▏                                               | 162/6477 [03:25<2:08:35,  1.22s/it]"
     ]
    },
    {
     "name": "stdout",
     "output_type": "stream",
     "text": [
      "Data for WSR updated in data\\WSR.csv.\n",
      "Updating data for CIF...\n"
     ]
    },
    {
     "name": "stderr",
     "output_type": "stream",
     "text": [
      "[*********************100%%**********************]  1 of 1 completed\n",
      "Downloading data for HBCP: :   3%|█▏                                              | 163/6477 [03:26<2:11:07,  1.25s/it]"
     ]
    },
    {
     "name": "stdout",
     "output_type": "stream",
     "text": [
      "Data for CIF updated in data\\CIF.csv.\n",
      "Updating data for HBCP...\n"
     ]
    },
    {
     "name": "stderr",
     "output_type": "stream",
     "text": [
      "[*********************100%%**********************]  1 of 1 completed\n",
      "Downloading data for BCO: :   3%|█▏                                               | 164/6477 [03:27<2:10:43,  1.24s/it]"
     ]
    },
    {
     "name": "stdout",
     "output_type": "stream",
     "text": [
      "Data for HBCP updated in data\\HBCP.csv.\n",
      "Updating data for BCO...\n"
     ]
    },
    {
     "name": "stderr",
     "output_type": "stream",
     "text": [
      "[*********************100%%**********************]  1 of 1 completed\n",
      "[*********************100%%**********************]  1 of 1 completed              | 165/6477 [03:28<2:10:42,  1.24s/it]"
     ]
    },
    {
     "name": "stdout",
     "output_type": "stream",
     "text": [
      "Data for BCO updated in data\\BCO.csv.\n",
      "Updating data for NVOS...\n"
     ]
    },
    {
     "name": "stderr",
     "output_type": "stream",
     "text": [
      "\n",
      "Downloading data for TRNS: :   3%|█▏                                              | 166/6477 [03:30<2:09:38,  1.23s/it]"
     ]
    },
    {
     "name": "stdout",
     "output_type": "stream",
     "text": [
      "Data for NVOS updated in data\\NVOS.csv.\n",
      "Updating data for TRNS...\n"
     ]
    },
    {
     "name": "stderr",
     "output_type": "stream",
     "text": [
      "[*********************100%%**********************]  1 of 1 completed\n",
      "[*********************100%%**********************]  1 of 1 completed              | 167/6477 [03:31<2:09:54,  1.24s/it]"
     ]
    },
    {
     "name": "stdout",
     "output_type": "stream",
     "text": [
      "Data for TRNS updated in data\\TRNS.csv.\n",
      "Updating data for DKS...\n"
     ]
    },
    {
     "name": "stderr",
     "output_type": "stream",
     "text": [
      "\n",
      "Downloading data for BMI: :   3%|█▎                                               | 168/6477 [03:32<2:09:41,  1.23s/it]"
     ]
    },
    {
     "name": "stdout",
     "output_type": "stream",
     "text": [
      "Data for DKS updated in data\\DKS.csv.\n",
      "Updating data for BMI...\n"
     ]
    },
    {
     "name": "stderr",
     "output_type": "stream",
     "text": [
      "[*********************100%%**********************]  1 of 1 completed\n",
      "Downloading data for NVEC: :   3%|█▎                                              | 169/6477 [03:33<2:11:19,  1.25s/it]"
     ]
    },
    {
     "name": "stdout",
     "output_type": "stream",
     "text": [
      "Data for BMI updated in data\\BMI.csv.\n",
      "Updating data for NVEC...\n"
     ]
    },
    {
     "name": "stderr",
     "output_type": "stream",
     "text": [
      "[*********************100%%**********************]  1 of 1 completed\n",
      "[*********************100%%**********************]  1 of 1 completed              | 170/6477 [03:35<2:11:43,  1.25s/it]"
     ]
    },
    {
     "name": "stdout",
     "output_type": "stream",
     "text": [
      "Data for NVEC updated in data\\NVEC.csv.\n",
      "Updating data for ASTSW...\n"
     ]
    },
    {
     "name": "stderr",
     "output_type": "stream",
     "text": [
      "\n",
      "Downloading data for SPRB: :   3%|█▎                                              | 171/6477 [03:36<2:09:35,  1.23s/it]"
     ]
    },
    {
     "name": "stdout",
     "output_type": "stream",
     "text": [
      "Data for ASTSW updated in data\\ASTSW.csv.\n",
      "Updating data for SPRB...\n"
     ]
    },
    {
     "name": "stderr",
     "output_type": "stream",
     "text": [
      "[*********************100%%**********************]  1 of 1 completed\n",
      "Downloading data for IFN: :   3%|█▎                                               | 172/6477 [03:37<2:12:01,  1.26s/it]"
     ]
    },
    {
     "name": "stdout",
     "output_type": "stream",
     "text": [
      "Data for SPRB updated in data\\SPRB.csv.\n",
      "Updating data for IFN...\n"
     ]
    },
    {
     "name": "stderr",
     "output_type": "stream",
     "text": [
      "[*********************100%%**********************]  1 of 1 completed\n",
      "Downloading data for KYN: :   3%|█▎                                               | 173/6477 [03:38<2:11:46,  1.25s/it]"
     ]
    },
    {
     "name": "stdout",
     "output_type": "stream",
     "text": [
      "Data for IFN updated in data\\IFN.csv.\n",
      "Updating data for KYN...\n"
     ]
    },
    {
     "name": "stderr",
     "output_type": "stream",
     "text": [
      "[*********************100%%**********************]  1 of 1 completed\n",
      "[*********************100%%**********************]  1 of 1 completed              | 174/6477 [03:40<2:12:05,  1.26s/it]"
     ]
    },
    {
     "name": "stdout",
     "output_type": "stream",
     "text": [
      "Data for KYN updated in data\\KYN.csv.\n",
      "Updating data for ECDA...\n"
     ]
    },
    {
     "name": "stderr",
     "output_type": "stream",
     "text": [
      "\n",
      "Downloading data for RNG: :   3%|█▎                                               | 175/6477 [03:41<2:10:05,  1.24s/it]"
     ]
    },
    {
     "name": "stdout",
     "output_type": "stream",
     "text": [
      "Data for ECDA updated in data\\ECDA.csv.\n",
      "Updating data for RNG...\n"
     ]
    },
    {
     "name": "stderr",
     "output_type": "stream",
     "text": [
      "[*********************100%%**********************]  1 of 1 completed\n",
      "Downloading data for CVS: :   3%|█▎                                               | 176/6477 [03:42<2:09:24,  1.23s/it]"
     ]
    },
    {
     "name": "stdout",
     "output_type": "stream",
     "text": [
      "Data for RNG updated in data\\RNG.csv.\n",
      "Updating data for CVS...\n"
     ]
    },
    {
     "name": "stderr",
     "output_type": "stream",
     "text": [
      "[*********************100%%**********************]  1 of 1 completed\n",
      "Downloading data for STI: :   3%|█▎                                               | 177/6477 [03:43<2:12:02,  1.26s/it]"
     ]
    },
    {
     "name": "stdout",
     "output_type": "stream",
     "text": [
      "Data for CVS updated in data\\CVS.csv.\n",
      "Updating data for STI...\n"
     ]
    },
    {
     "name": "stderr",
     "output_type": "stream",
     "text": [
      "[*********************100%%**********************]  1 of 1 completed\n",
      "Downloading data for WD: :   3%|█▎                                                | 178/6477 [03:45<2:11:21,  1.25s/it]"
     ]
    },
    {
     "name": "stdout",
     "output_type": "stream",
     "text": [
      "Data for STI updated in data\\STI.csv.\n",
      "Updating data for WD...\n"
     ]
    },
    {
     "name": "stderr",
     "output_type": "stream",
     "text": [
      "[*********************100%%**********************]  1 of 1 completed\n",
      "[*********************100%%**********************]  1 of 1 completed              | 179/6477 [03:46<2:11:07,  1.25s/it]"
     ]
    },
    {
     "name": "stdout",
     "output_type": "stream",
     "text": [
      "Data for WD updated in data\\WD.csv.\n",
      "Updating data for FSLY...\n"
     ]
    },
    {
     "name": "stderr",
     "output_type": "stream",
     "text": [
      "\n",
      "[*********************100%%**********************]  1 of 1 completed              | 180/6477 [03:47<2:09:29,  1.23s/it]"
     ]
    },
    {
     "name": "stdout",
     "output_type": "stream",
     "text": [
      "Data for FSLY updated in data\\FSLY.csv.\n",
      "Updating data for MCO...\n"
     ]
    },
    {
     "name": "stderr",
     "output_type": "stream",
     "text": [
      "\n",
      "Downloading data for CBSH: :   3%|█▎                                              | 181/6477 [03:48<2:09:48,  1.24s/it]"
     ]
    },
    {
     "name": "stdout",
     "output_type": "stream",
     "text": [
      "Data for MCO updated in data\\MCO.csv.\n",
      "Updating data for CBSH...\n"
     ]
    },
    {
     "name": "stderr",
     "output_type": "stream",
     "text": [
      "[*********************100%%**********************]  1 of 1 completed\n",
      "[*********************100%%**********************]  1 of 1 completed              | 182/6477 [03:50<2:11:55,  1.26s/it]"
     ]
    },
    {
     "name": "stdout",
     "output_type": "stream",
     "text": [
      "Data for CBSH updated in data\\CBSH.csv.\n",
      "Updating data for THWWW...\n"
     ]
    },
    {
     "name": "stderr",
     "output_type": "stream",
     "text": [
      "\n",
      "Downloading data for BNGO: :   3%|█▎                                              | 183/6477 [03:51<2:10:16,  1.24s/it]"
     ]
    },
    {
     "name": "stdout",
     "output_type": "stream",
     "text": [
      "Data for THWWW updated in data\\THWWW.csv.\n",
      "Updating data for BNGO...\n"
     ]
    },
    {
     "name": "stderr",
     "output_type": "stream",
     "text": [
      "[*********************100%%**********************]  1 of 1 completed\n",
      "[*********************100%%**********************]  1 of 1 completed              | 184/6477 [03:52<2:16:46,  1.30s/it]"
     ]
    },
    {
     "name": "stdout",
     "output_type": "stream",
     "text": [
      "Data for BNGO updated in data\\BNGO.csv.\n",
      "Updating data for BSY...\n"
     ]
    },
    {
     "name": "stderr",
     "output_type": "stream",
     "text": [
      "\n",
      "Downloading data for FANG: :   3%|█▎                                              | 185/6477 [03:53<2:13:36,  1.27s/it]"
     ]
    },
    {
     "name": "stdout",
     "output_type": "stream",
     "text": [
      "Data for BSY updated in data\\BSY.csv.\n",
      "Updating data for FANG...\n"
     ]
    },
    {
     "name": "stderr",
     "output_type": "stream",
     "text": [
      "[*********************100%%**********************]  1 of 1 completed\n",
      "Downloading data for MCI: :   3%|█▍                                               | 186/6477 [03:55<2:12:40,  1.27s/it]"
     ]
    },
    {
     "name": "stdout",
     "output_type": "stream",
     "text": [
      "Data for FANG updated in data\\FANG.csv.\n",
      "Updating data for MCI...\n"
     ]
    },
    {
     "name": "stderr",
     "output_type": "stream",
     "text": [
      "[*********************100%%**********************]  1 of 1 completed\n",
      "[*********************100%%**********************]  1 of 1 completed              | 187/6477 [03:56<2:13:37,  1.27s/it]"
     ]
    },
    {
     "name": "stdout",
     "output_type": "stream",
     "text": [
      "Data for MCI updated in data\\MCI.csv.\n",
      "Updating data for DNB...\n"
     ]
    },
    {
     "name": "stderr",
     "output_type": "stream",
     "text": [
      "\n",
      "[*********************100%%**********************]  1 of 1 completed              | 188/6477 [03:57<2:11:42,  1.26s/it]"
     ]
    },
    {
     "name": "stdout",
     "output_type": "stream",
     "text": [
      "Data for DNB updated in data\\DNB.csv.\n",
      "Updating data for EVGN...\n"
     ]
    },
    {
     "name": "stderr",
     "output_type": "stream",
     "text": [
      "\n",
      "[*********************100%%**********************]  1 of 1 completed              | 189/6477 [03:58<2:10:15,  1.24s/it]"
     ]
    },
    {
     "name": "stdout",
     "output_type": "stream",
     "text": [
      "Data for EVGN updated in data\\EVGN.csv.\n",
      "Updating data for IMUX...\n"
     ]
    },
    {
     "name": "stderr",
     "output_type": "stream",
     "text": [
      "\n",
      "[*********************100%%**********************]  1 of 1 completed              | 190/6477 [04:00<2:08:53,  1.23s/it]"
     ]
    },
    {
     "name": "stdout",
     "output_type": "stream",
     "text": [
      "Data for IMUX updated in data\\IMUX.csv.\n",
      "Updating data for SYBX...\n"
     ]
    },
    {
     "name": "stderr",
     "output_type": "stream",
     "text": [
      "\n",
      "Downloading data for HD: :   3%|█▍                                                | 191/6477 [04:01<2:08:20,  1.22s/it]"
     ]
    },
    {
     "name": "stdout",
     "output_type": "stream",
     "text": [
      "Data for SYBX updated in data\\SYBX.csv.\n",
      "Updating data for HD...\n"
     ]
    },
    {
     "name": "stderr",
     "output_type": "stream",
     "text": [
      "[*********************100%%**********************]  1 of 1 completed\n",
      "[*********************100%%**********************]  1 of 1 completed              | 192/6477 [04:02<2:12:49,  1.27s/it]"
     ]
    },
    {
     "name": "stdout",
     "output_type": "stream",
     "text": [
      "Data for HD updated in data\\HD.csv.\n",
      "Updating data for HYW...\n"
     ]
    },
    {
     "name": "stderr",
     "output_type": "stream",
     "text": [
      "\n",
      "Downloading data for PMO: :   3%|█▍                                               | 193/6477 [04:03<2:10:08,  1.24s/it]"
     ]
    },
    {
     "name": "stdout",
     "output_type": "stream",
     "text": [
      "Data for HYW updated in data\\HYW.csv.\n",
      "Updating data for PMO...\n"
     ]
    },
    {
     "name": "stderr",
     "output_type": "stream",
     "text": [
      "[*********************100%%**********************]  1 of 1 completed\n",
      "Downloading data for DMB: :   3%|█▍                                               | 194/6477 [04:05<2:11:13,  1.25s/it]"
     ]
    },
    {
     "name": "stdout",
     "output_type": "stream",
     "text": [
      "Data for PMO updated in data\\PMO.csv.\n",
      "Updating data for DMB...\n"
     ]
    },
    {
     "name": "stderr",
     "output_type": "stream",
     "text": [
      "[*********************100%%**********************]  1 of 1 completed\n",
      "Downloading data for RGR: :   3%|█▍                                               | 195/6477 [04:06<2:17:14,  1.31s/it]"
     ]
    },
    {
     "name": "stdout",
     "output_type": "stream",
     "text": [
      "Data for DMB updated in data\\DMB.csv.\n",
      "Updating data for RGR...\n"
     ]
    },
    {
     "name": "stderr",
     "output_type": "stream",
     "text": [
      "[*********************100%%**********************]  1 of 1 completed\n",
      "Downloading data for MARX: :   3%|█▍                                              | 196/6477 [04:07<2:16:24,  1.30s/it]"
     ]
    },
    {
     "name": "stdout",
     "output_type": "stream",
     "text": [
      "Data for RGR updated in data\\RGR.csv.\n",
      "Updating data for MARX...\n"
     ]
    },
    {
     "name": "stderr",
     "output_type": "stream",
     "text": [
      "[*********************100%%**********************]  1 of 1 completed\n",
      "[*********************100%%**********************]  1 of 1 completed              | 197/6477 [04:09<2:14:04,  1.28s/it]"
     ]
    },
    {
     "name": "stdout",
     "output_type": "stream",
     "text": [
      "Data for MARX updated in data\\MARX.csv.\n",
      "Updating data for BWMN...\n"
     ]
    },
    {
     "name": "stderr",
     "output_type": "stream",
     "text": [
      "\n",
      "Downloading data for MPX: :   3%|█▍                                               | 198/6477 [04:10<2:11:35,  1.26s/it]"
     ]
    },
    {
     "name": "stdout",
     "output_type": "stream",
     "text": [
      "Data for BWMN updated in data\\BWMN.csv.\n",
      "Updating data for MPX...\n"
     ]
    },
    {
     "name": "stderr",
     "output_type": "stream",
     "text": [
      "[*********************100%%**********************]  1 of 1 completed\n",
      "[*********************100%%**********************]  1 of 1 completed              | 199/6477 [04:11<2:19:19,  1.33s/it]"
     ]
    },
    {
     "name": "stdout",
     "output_type": "stream",
     "text": [
      "Data for MPX updated in data\\MPX.csv.\n",
      "Updating data for ZIONP...\n"
     ]
    },
    {
     "name": "stderr",
     "output_type": "stream",
     "text": [
      "\n",
      "Downloading data for OKE: :   3%|█▌                                               | 200/6477 [04:13<2:16:32,  1.31s/it]"
     ]
    },
    {
     "name": "stdout",
     "output_type": "stream",
     "text": [
      "Data for ZIONP updated in data\\ZIONP.csv.\n",
      "Updating data for OKE...\n"
     ]
    },
    {
     "name": "stderr",
     "output_type": "stream",
     "text": [
      "[*********************100%%**********************]  1 of 1 completed\n",
      "[*********************100%%**********************]  1 of 1 completed              | 201/6477 [04:14<2:15:40,  1.30s/it]"
     ]
    },
    {
     "name": "stdout",
     "output_type": "stream",
     "text": [
      "Data for OKE updated in data\\OKE.csv.\n",
      "Updating data for ESTC...\n"
     ]
    },
    {
     "name": "stderr",
     "output_type": "stream",
     "text": [
      "\n",
      "[*********************100%%**********************]  1 of 1 completed              | 202/6477 [04:15<2:12:30,  1.27s/it]"
     ]
    },
    {
     "name": "stdout",
     "output_type": "stream",
     "text": [
      "Data for ESTC updated in data\\ESTC.csv.\n",
      "Updating data for VIST...\n"
     ]
    },
    {
     "name": "stderr",
     "output_type": "stream",
     "text": [
      "\n",
      "Downloading data for VSTA: :   3%|█▌                                              | 203/6477 [04:16<2:11:00,  1.25s/it]"
     ]
    },
    {
     "name": "stdout",
     "output_type": "stream",
     "text": [
      "Data for VIST updated in data\\VIST.csv.\n",
      "Updating data for VSTA...\n"
     ]
    },
    {
     "name": "stderr",
     "output_type": "stream",
     "text": [
      "[*********************100%%**********************]  1 of 1 completed\n",
      "Downloading data for AGTI: :   3%|█▌                                              | 204/6477 [04:18<2:17:15,  1.31s/it]"
     ]
    },
    {
     "name": "stdout",
     "output_type": "stream",
     "text": [
      "Data for VSTA updated in data\\VSTA.csv.\n",
      "Updating data for AGTI...\n"
     ]
    },
    {
     "name": "stderr",
     "output_type": "stream",
     "text": [
      "[*********************100%%**********************]  1 of 1 completed\n",
      "[*********************100%%**********************]  1 of 1 completed              | 205/6477 [04:19<2:14:10,  1.28s/it]"
     ]
    },
    {
     "name": "stdout",
     "output_type": "stream",
     "text": [
      "Data for AGTI updated in data\\AGTI.csv.\n",
      "Updating data for TAK...\n"
     ]
    },
    {
     "name": "stderr",
     "output_type": "stream",
     "text": [
      "\n",
      "[*********************100%%**********************]  1 of 1 completed              | 206/6477 [04:20<2:11:30,  1.26s/it]"
     ]
    },
    {
     "name": "stdout",
     "output_type": "stream",
     "text": [
      "Data for TAK updated in data\\TAK.csv.\n",
      "Updating data for TOP...\n"
     ]
    },
    {
     "name": "stderr",
     "output_type": "stream",
     "text": [
      "\n",
      "Downloading data for ICG: :   3%|█▌                                               | 207/6477 [04:21<2:09:22,  1.24s/it]"
     ]
    },
    {
     "name": "stdout",
     "output_type": "stream",
     "text": [
      "Data for TOP updated in data\\TOP.csv.\n",
      "Updating data for ICG...\n"
     ]
    },
    {
     "name": "stderr",
     "output_type": "stream",
     "text": [
      "[*********************100%%**********************]  1 of 1 completed\n",
      "Downloading data for BCBP: :   3%|█▌                                              | 208/6477 [04:23<2:15:13,  1.29s/it]"
     ]
    },
    {
     "name": "stdout",
     "output_type": "stream",
     "text": [
      "Data for ICG updated in data\\ICG.csv.\n",
      "Updating data for BCBP...\n"
     ]
    },
    {
     "name": "stderr",
     "output_type": "stream",
     "text": [
      "[*********************100%%**********************]  1 of 1 completed\n",
      "[*********************100%%**********************]  1 of 1 completed              | 209/6477 [04:24<2:13:22,  1.28s/it]"
     ]
    },
    {
     "name": "stdout",
     "output_type": "stream",
     "text": [
      "Data for BCBP updated in data\\BCBP.csv.\n",
      "Updating data for CMPOW...\n"
     ]
    },
    {
     "name": "stderr",
     "output_type": "stream",
     "text": [
      "\n",
      "[*********************100%%**********************]  1 of 1 completed              | 210/6477 [04:25<2:10:35,  1.25s/it]"
     ]
    },
    {
     "name": "stdout",
     "output_type": "stream",
     "text": [
      "Data for CMPOW updated in data\\CMPOW.csv.\n",
      "Updating data for TTNP...\n"
     ]
    },
    {
     "name": "stderr",
     "output_type": "stream",
     "text": [
      "\n",
      "Downloading data for GDL: :   3%|█▌                                               | 211/6477 [04:26<2:09:51,  1.24s/it]"
     ]
    },
    {
     "name": "stdout",
     "output_type": "stream",
     "text": [
      "Data for TTNP updated in data\\TTNP.csv.\n",
      "Updating data for GDL...\n"
     ]
    },
    {
     "name": "stderr",
     "output_type": "stream",
     "text": [
      "[*********************100%%**********************]  1 of 1 completed\n",
      "Downloading data for BENF: :   3%|█▌                                              | 212/6477 [04:28<2:09:29,  1.24s/it]"
     ]
    },
    {
     "name": "stdout",
     "output_type": "stream",
     "text": [
      "Data for GDL updated in data\\GDL.csv.\n",
      "Updating data for BENF...\n"
     ]
    },
    {
     "name": "stderr",
     "output_type": "stream",
     "text": [
      "[*********************100%%**********************]  1 of 1 completed\n",
      "Downloading data for APTV: :   3%|█▌                                              | 213/6477 [04:29<2:15:41,  1.30s/it]"
     ]
    },
    {
     "name": "stdout",
     "output_type": "stream",
     "text": [
      "Data for BENF updated in data\\BENF.csv.\n",
      "Updating data for APTV...\n"
     ]
    },
    {
     "name": "stderr",
     "output_type": "stream",
     "text": [
      "[*********************100%%**********************]  1 of 1 completed\n",
      "Downloading data for JCI: :   3%|█▌                                               | 214/6477 [04:30<2:15:12,  1.30s/it]"
     ]
    },
    {
     "name": "stdout",
     "output_type": "stream",
     "text": [
      "Data for APTV updated in data\\APTV.csv.\n",
      "Updating data for JCI...\n"
     ]
    },
    {
     "name": "stderr",
     "output_type": "stream",
     "text": [
      "[*********************100%%**********************]  1 of 1 completed\n",
      "Downloading data for CNQ: :   3%|█▋                                               | 215/6477 [04:32<2:14:46,  1.29s/it]"
     ]
    },
    {
     "name": "stdout",
     "output_type": "stream",
     "text": [
      "Data for JCI updated in data\\JCI.csv.\n",
      "Updating data for CNQ...\n"
     ]
    },
    {
     "name": "stderr",
     "output_type": "stream",
     "text": [
      "[*********************100%%**********************]  1 of 1 completed\n",
      "[*********************100%%**********************]  1 of 1 completed              | 216/6477 [04:33<2:13:39,  1.28s/it]"
     ]
    },
    {
     "name": "stdout",
     "output_type": "stream",
     "text": [
      "Data for CNQ updated in data\\CNQ.csv.\n",
      "Updating data for FCPT...\n"
     ]
    },
    {
     "name": "stderr",
     "output_type": "stream",
     "text": [
      "\n",
      "[*********************100%%**********************]  1 of 1 completed              | 217/6477 [04:34<2:11:49,  1.26s/it]"
     ]
    },
    {
     "name": "stdout",
     "output_type": "stream",
     "text": [
      "Data for FCPT updated in data\\FCPT.csv.\n",
      "Updating data for BITE...\n"
     ]
    },
    {
     "name": "stderr",
     "output_type": "stream",
     "text": [
      "\n",
      "[*********************100%%**********************]  1 of 1 completed              | 218/6477 [04:35<2:09:48,  1.24s/it]"
     ]
    },
    {
     "name": "stdout",
     "output_type": "stream",
     "text": [
      "Data for BITE updated in data\\BITE.csv.\n",
      "Updating data for RCM...\n"
     ]
    },
    {
     "name": "stderr",
     "output_type": "stream",
     "text": [
      "\n",
      "[*********************100%%**********************]  1 of 1 completed              | 219/6477 [04:37<2:08:56,  1.24s/it]"
     ]
    },
    {
     "name": "stdout",
     "output_type": "stream",
     "text": [
      "Data for RCM updated in data\\RCM.csv.\n",
      "Updating data for REFR...\n"
     ]
    },
    {
     "name": "stderr",
     "output_type": "stream",
     "text": [
      "\n",
      "Downloading data for CAKE: :   3%|█▋                                              | 220/6477 [04:38<2:09:03,  1.24s/it]"
     ]
    },
    {
     "name": "stdout",
     "output_type": "stream",
     "text": [
      "Data for REFR updated in data\\REFR.csv.\n",
      "Updating data for CAKE...\n"
     ]
    },
    {
     "name": "stderr",
     "output_type": "stream",
     "text": [
      "[*********************100%%**********************]  1 of 1 completed\n",
      "[*********************100%%**********************]  1 of 1 completed              | 221/6477 [04:39<2:10:37,  1.25s/it]"
     ]
    },
    {
     "name": "stdout",
     "output_type": "stream",
     "text": [
      "Data for CAKE updated in data\\CAKE.csv.\n",
      "Updating data for NNVC...\n"
     ]
    },
    {
     "name": "stderr",
     "output_type": "stream",
     "text": [
      "\n",
      "Downloading data for LCII: :   3%|█▋                                              | 222/6477 [04:40<2:09:42,  1.24s/it]"
     ]
    },
    {
     "name": "stdout",
     "output_type": "stream",
     "text": [
      "Data for NNVC updated in data\\NNVC.csv.\n",
      "Updating data for LCII...\n"
     ]
    },
    {
     "name": "stderr",
     "output_type": "stream",
     "text": [
      "[*********************100%%**********************]  1 of 1 completed\n",
      "[*********************100%%**********************]  1 of 1 completed              | 223/6477 [04:42<2:10:00,  1.25s/it]"
     ]
    },
    {
     "name": "stdout",
     "output_type": "stream",
     "text": [
      "Data for LCII updated in data\\LCII.csv.\n",
      "Updating data for SGHT...\n"
     ]
    },
    {
     "name": "stderr",
     "output_type": "stream",
     "text": [
      "\n",
      "[*********************100%%**********************]  1 of 1 completed              | 224/6477 [04:43<2:08:42,  1.24s/it]"
     ]
    },
    {
     "name": "stdout",
     "output_type": "stream",
     "text": [
      "Data for SGHT updated in data\\SGHT.csv.\n",
      "Updating data for JCTCF...\n"
     ]
    },
    {
     "name": "stderr",
     "output_type": "stream",
     "text": [
      "\n",
      "Downloading data for APLE: :   3%|█▋                                              | 225/6477 [04:44<2:08:12,  1.23s/it]"
     ]
    },
    {
     "name": "stdout",
     "output_type": "stream",
     "text": [
      "Data for JCTCF updated in data\\JCTCF.csv.\n",
      "Updating data for APLE...\n"
     ]
    },
    {
     "name": "stderr",
     "output_type": "stream",
     "text": [
      "[*********************100%%**********************]  1 of 1 completed\n",
      "Downloading data for SNOW: :   3%|█▋                                              | 226/6477 [04:45<2:08:20,  1.23s/it]"
     ]
    },
    {
     "name": "stdout",
     "output_type": "stream",
     "text": [
      "Data for APLE updated in data\\APLE.csv.\n",
      "Updating data for SNOW...\n"
     ]
    },
    {
     "name": "stderr",
     "output_type": "stream",
     "text": [
      "[*********************100%%**********************]  1 of 1 completed\n",
      "[*********************100%%**********************]  1 of 1 completed              | 227/6477 [04:46<2:08:43,  1.24s/it]"
     ]
    },
    {
     "name": "stdout",
     "output_type": "stream",
     "text": [
      "Data for SNOW updated in data\\SNOW.csv.\n",
      "Updating data for REVG...\n"
     ]
    },
    {
     "name": "stderr",
     "output_type": "stream",
     "text": [
      "\n",
      "[*********************100%%**********************]  1 of 1 completed              | 228/6477 [04:48<2:07:54,  1.23s/it]"
     ]
    },
    {
     "name": "stdout",
     "output_type": "stream",
     "text": [
      "Data for REVG updated in data\\REVG.csv.\n",
      "Updating data for DHACW...\n"
     ]
    },
    {
     "name": "stderr",
     "output_type": "stream",
     "text": [
      "\n",
      "[*********************100%%**********************]  1 of 1 completed              | 229/6477 [04:49<2:07:00,  1.22s/it]"
     ]
    },
    {
     "name": "stdout",
     "output_type": "stream",
     "text": [
      "Data for DHACW updated in data\\DHACW.csv.\n",
      "Updating data for UZD...\n"
     ]
    },
    {
     "name": "stderr",
     "output_type": "stream",
     "text": [
      "\n",
      "Downloading data for PNRG: :   4%|█▋                                              | 230/6477 [04:50<2:06:19,  1.21s/it]"
     ]
    },
    {
     "name": "stdout",
     "output_type": "stream",
     "text": [
      "Data for UZD updated in data\\UZD.csv.\n",
      "Updating data for PNRG...\n"
     ]
    },
    {
     "name": "stderr",
     "output_type": "stream",
     "text": [
      "[*********************100%%**********************]  1 of 1 completed\n",
      "Downloading data for CZWI: :   4%|█▋                                              | 231/6477 [04:51<2:08:35,  1.24s/it]"
     ]
    },
    {
     "name": "stdout",
     "output_type": "stream",
     "text": [
      "Data for PNRG updated in data\\PNRG.csv.\n",
      "Updating data for CZWI...\n"
     ]
    },
    {
     "name": "stderr",
     "output_type": "stream",
     "text": [
      "[*********************100%%**********************]  1 of 1 completed\n",
      "[*********************100%%**********************]  1 of 1 completed              | 232/6477 [04:53<2:08:34,  1.24s/it]"
     ]
    },
    {
     "name": "stdout",
     "output_type": "stream",
     "text": [
      "Data for CZWI updated in data\\CZWI.csv.\n",
      "Updating data for BYNO...\n"
     ]
    },
    {
     "name": "stderr",
     "output_type": "stream",
     "text": [
      "\n",
      "[*********************100%%**********************]  1 of 1 completed              | 233/6477 [04:54<2:06:52,  1.22s/it]"
     ]
    },
    {
     "name": "stdout",
     "output_type": "stream",
     "text": [
      "Data for BYNO updated in data\\BYNO.csv.\n",
      "Updating data for BUR...\n"
     ]
    },
    {
     "name": "stderr",
     "output_type": "stream",
     "text": [
      "\n",
      "[*********************100%%**********************]  1 of 1 completed              | 234/6477 [04:55<2:06:02,  1.21s/it]"
     ]
    },
    {
     "name": "stdout",
     "output_type": "stream",
     "text": [
      "Data for BUR updated in data\\BUR.csv.\n",
      "Updating data for SHOTW...\n"
     ]
    },
    {
     "name": "stderr",
     "output_type": "stream",
     "text": [
      "\n",
      "[*********************100%%**********************]  1 of 1 completed              | 235/6477 [04:56<2:05:31,  1.21s/it]"
     ]
    },
    {
     "name": "stdout",
     "output_type": "stream",
     "text": [
      "Data for SHOTW updated in data\\SHOTW.csv.\n",
      "Updating data for MYND...\n"
     ]
    },
    {
     "name": "stderr",
     "output_type": "stream",
     "text": [
      "\n",
      "Downloading data for AYI: :   4%|█▊                                               | 236/6477 [04:57<2:05:01,  1.20s/it]"
     ]
    },
    {
     "name": "stdout",
     "output_type": "stream",
     "text": [
      "Data for MYND updated in data\\MYND.csv.\n",
      "Updating data for AYI...\n"
     ]
    },
    {
     "name": "stderr",
     "output_type": "stream",
     "text": [
      "[*********************100%%**********************]  1 of 1 completed\n",
      "[*********************100%%**********************]  1 of 1 completed              | 237/6477 [04:59<2:07:19,  1.22s/it]"
     ]
    },
    {
     "name": "stdout",
     "output_type": "stream",
     "text": [
      "Data for AYI updated in data\\AYI.csv.\n",
      "Updating data for WLDN...\n"
     ]
    },
    {
     "name": "stderr",
     "output_type": "stream",
     "text": [
      "\n",
      "Downloading data for STX: :   4%|█▊                                               | 238/6477 [05:00<2:07:18,  1.22s/it]"
     ]
    },
    {
     "name": "stdout",
     "output_type": "stream",
     "text": [
      "Data for WLDN updated in data\\WLDN.csv.\n",
      "Updating data for STX...\n"
     ]
    },
    {
     "name": "stderr",
     "output_type": "stream",
     "text": [
      "[*********************100%%**********************]  1 of 1 completed\n",
      "[*********************100%%**********************]  1 of 1 completed              | 239/6477 [05:01<2:08:41,  1.24s/it]"
     ]
    },
    {
     "name": "stdout",
     "output_type": "stream",
     "text": [
      "Data for STX updated in data\\STX.csv.\n",
      "Updating data for ARQ...\n"
     ]
    },
    {
     "name": "stderr",
     "output_type": "stream",
     "text": [
      "\n",
      "[*********************100%%**********************]  1 of 1 completed              | 240/6477 [05:02<2:08:05,  1.23s/it]"
     ]
    },
    {
     "name": "stdout",
     "output_type": "stream",
     "text": [
      "Data for ARQ updated in data\\ARQ.csv.\n",
      "Updating data for FTIIW...\n"
     ]
    },
    {
     "name": "stderr",
     "output_type": "stream",
     "text": [
      "\n",
      "[*********************100%%**********************]  1 of 1 completed              | 241/6477 [05:04<2:07:20,  1.23s/it]"
     ]
    },
    {
     "name": "stdout",
     "output_type": "stream",
     "text": [
      "Data for FTIIW updated in data\\FTIIW.csv.\n",
      "Updating data for CTLP...\n"
     ]
    },
    {
     "name": "stderr",
     "output_type": "stream",
     "text": [
      "\n",
      "Downloading data for JWN: :   4%|█▊                                               | 242/6477 [05:05<2:07:30,  1.23s/it]"
     ]
    },
    {
     "name": "stdout",
     "output_type": "stream",
     "text": [
      "Data for CTLP updated in data\\CTLP.csv.\n",
      "Updating data for JWN...\n"
     ]
    },
    {
     "name": "stderr",
     "output_type": "stream",
     "text": [
      "[*********************100%%**********************]  1 of 1 completed\n",
      "[*********************100%%**********************]  1 of 1 completed              | 243/6477 [05:06<2:09:43,  1.25s/it]"
     ]
    },
    {
     "name": "stdout",
     "output_type": "stream",
     "text": [
      "Data for JWN updated in data\\JWN.csv.\n",
      "Updating data for NUKKW...\n"
     ]
    },
    {
     "name": "stderr",
     "output_type": "stream",
     "text": [
      "\n",
      "Downloading data for CLS: :   4%|█▊                                               | 244/6477 [05:07<2:08:04,  1.23s/it]"
     ]
    },
    {
     "name": "stdout",
     "output_type": "stream",
     "text": [
      "Data for NUKKW updated in data\\NUKKW.csv.\n",
      "Updating data for CLS...\n"
     ]
    },
    {
     "name": "stderr",
     "output_type": "stream",
     "text": [
      "[*********************100%%**********************]  1 of 1 completed\n",
      "[*********************100%%**********************]  1 of 1 completed              | 245/6477 [05:09<2:14:47,  1.30s/it]"
     ]
    },
    {
     "name": "stdout",
     "output_type": "stream",
     "text": [
      "Data for CLS updated in data\\CLS.csv.\n",
      "Updating data for LANDP...\n"
     ]
    },
    {
     "name": "stderr",
     "output_type": "stream",
     "text": [
      "\n",
      "[*********************100%%**********************]  1 of 1 completed              | 246/6477 [05:10<2:11:23,  1.27s/it]"
     ]
    },
    {
     "name": "stdout",
     "output_type": "stream",
     "text": [
      "Data for LANDP updated in data\\LANDP.csv.\n",
      "Updating data for AMTB...\n"
     ]
    },
    {
     "name": "stderr",
     "output_type": "stream",
     "text": [
      "\n",
      "[*********************100%%**********************]  1 of 1 completed              | 247/6477 [05:11<2:09:14,  1.24s/it]"
     ]
    },
    {
     "name": "stdout",
     "output_type": "stream",
     "text": [
      "Data for AMTB updated in data\\AMTB.csv.\n",
      "Updating data for LILMW...\n"
     ]
    },
    {
     "name": "stderr",
     "output_type": "stream",
     "text": [
      "\n",
      "Downloading data for BGH: :   4%|█▉                                               | 248/6477 [05:12<2:07:35,  1.23s/it]"
     ]
    },
    {
     "name": "stdout",
     "output_type": "stream",
     "text": [
      "Data for LILMW updated in data\\LILMW.csv.\n",
      "Updating data for BGH...\n"
     ]
    },
    {
     "name": "stderr",
     "output_type": "stream",
     "text": [
      "[*********************100%%**********************]  1 of 1 completed\n",
      "Downloading data for PNBK: :   4%|█▊                                              | 249/6477 [05:14<2:07:34,  1.23s/it]"
     ]
    },
    {
     "name": "stdout",
     "output_type": "stream",
     "text": [
      "Data for BGH updated in data\\BGH.csv.\n",
      "Updating data for PNBK...\n"
     ]
    },
    {
     "name": "stderr",
     "output_type": "stream",
     "text": [
      "[*********************100%%**********************]  1 of 1 completed\n",
      "Downloading data for INZY: :   4%|█▊                                              | 250/6477 [05:15<2:15:55,  1.31s/it]"
     ]
    },
    {
     "name": "stdout",
     "output_type": "stream",
     "text": [
      "Data for PNBK updated in data\\PNBK.csv.\n",
      "Updating data for INZY...\n"
     ]
    },
    {
     "name": "stderr",
     "output_type": "stream",
     "text": [
      "[*********************100%%**********************]  1 of 1 completed\n",
      "Downloading data for RMBL: :   4%|█▊                                              | 251/6477 [05:16<2:20:03,  1.35s/it]"
     ]
    },
    {
     "name": "stdout",
     "output_type": "stream",
     "text": [
      "Data for INZY updated in data\\INZY.csv.\n",
      "Updating data for RMBL...\n"
     ]
    },
    {
     "name": "stderr",
     "output_type": "stream",
     "text": [
      "[*********************100%%**********************]  1 of 1 completed\n",
      "Downloading data for SOPA: :   4%|█▊                                              | 252/6477 [05:18<2:15:47,  1.31s/it]"
     ]
    },
    {
     "name": "stdout",
     "output_type": "stream",
     "text": [
      "Data for RMBL updated in data\\RMBL.csv.\n",
      "Updating data for SOPA...\n"
     ]
    },
    {
     "name": "stderr",
     "output_type": "stream",
     "text": [
      "[*********************100%%**********************]  1 of 1 completed\n",
      "Downloading data for RFACW: :   4%|█▊                                             | 253/6477 [05:19<2:12:56,  1.28s/it]"
     ]
    },
    {
     "name": "stdout",
     "output_type": "stream",
     "text": [
      "Data for SOPA updated in data\\SOPA.csv.\n",
      "Updating data for RFACW...\n"
     ]
    },
    {
     "name": "stderr",
     "output_type": "stream",
     "text": [
      "[*********************100%%**********************]  1 of 1 completed\n",
      "[*********************100%%**********************]  1 of 1 completed              | 254/6477 [05:20<2:17:39,  1.33s/it]"
     ]
    },
    {
     "name": "stdout",
     "output_type": "stream",
     "text": [
      "Data for RFACW updated in data\\RFACW.csv.\n",
      "Updating data for WNEB...\n"
     ]
    },
    {
     "name": "stderr",
     "output_type": "stream",
     "text": [
      "\n",
      "Downloading data for MCY: :   4%|█▉                                               | 255/6477 [05:22<2:14:52,  1.30s/it]"
     ]
    },
    {
     "name": "stdout",
     "output_type": "stream",
     "text": [
      "Data for WNEB updated in data\\WNEB.csv.\n",
      "Updating data for MCY...\n"
     ]
    },
    {
     "name": "stderr",
     "output_type": "stream",
     "text": [
      "[*********************100%%**********************]  1 of 1 completed\n",
      "Downloading data for PYCR: :   4%|█▉                                              | 256/6477 [05:23<2:14:27,  1.30s/it]"
     ]
    },
    {
     "name": "stdout",
     "output_type": "stream",
     "text": [
      "Data for MCY updated in data\\MCY.csv.\n",
      "Updating data for PYCR...\n"
     ]
    },
    {
     "name": "stderr",
     "output_type": "stream",
     "text": [
      "[*********************100%%**********************]  1 of 1 completed\n",
      "Downloading data for NGS: :   4%|█▉                                               | 257/6477 [05:24<2:12:07,  1.27s/it]"
     ]
    },
    {
     "name": "stdout",
     "output_type": "stream",
     "text": [
      "Data for PYCR updated in data\\PYCR.csv.\n",
      "Updating data for NGS...\n"
     ]
    },
    {
     "name": "stderr",
     "output_type": "stream",
     "text": [
      "[*********************100%%**********************]  1 of 1 completed\n",
      "Downloading data for GETR: :   4%|█▉                                              | 258/6477 [05:26<2:18:16,  1.33s/it]"
     ]
    },
    {
     "name": "stdout",
     "output_type": "stream",
     "text": [
      "Data for NGS updated in data\\NGS.csv.\n",
      "Updating data for GETR...\n"
     ]
    },
    {
     "name": "stderr",
     "output_type": "stream",
     "text": [
      "[*********************100%%**********************]  1 of 1 completed\n",
      "Downloading data for MYFW: :   4%|█▉                                              | 259/6477 [05:27<2:15:14,  1.30s/it]"
     ]
    },
    {
     "name": "stdout",
     "output_type": "stream",
     "text": [
      "Data for GETR updated in data\\GETR.csv.\n",
      "Updating data for MYFW...\n"
     ]
    },
    {
     "name": "stderr",
     "output_type": "stream",
     "text": [
      "[*********************100%%**********************]  1 of 1 completed\n",
      "Downloading data for IBCP: :   4%|█▉                                              | 260/6477 [05:28<2:19:19,  1.34s/it]"
     ]
    },
    {
     "name": "stdout",
     "output_type": "stream",
     "text": [
      "Data for MYFW updated in data\\MYFW.csv.\n",
      "Updating data for IBCP...\n"
     ]
    },
    {
     "name": "stderr",
     "output_type": "stream",
     "text": [
      "[*********************100%%**********************]  1 of 1 completed\n",
      "Downloading data for IVCPW: :   4%|█▉                                             | 261/6477 [05:30<2:17:35,  1.33s/it]"
     ]
    },
    {
     "name": "stdout",
     "output_type": "stream",
     "text": [
      "Data for IBCP updated in data\\IBCP.csv.\n",
      "Updating data for IVCPW...\n"
     ]
    },
    {
     "name": "stderr",
     "output_type": "stream",
     "text": [
      "[*********************100%%**********************]  1 of 1 completed\n",
      "Downloading data for SNDL: :   4%|█▉                                              | 262/6477 [05:31<2:20:44,  1.36s/it]"
     ]
    },
    {
     "name": "stdout",
     "output_type": "stream",
     "text": [
      "Data for IVCPW updated in data\\IVCPW.csv.\n",
      "Updating data for SNDL...\n"
     ]
    },
    {
     "name": "stderr",
     "output_type": "stream",
     "text": [
      "[*********************100%%**********************]  1 of 1 completed\n",
      "Downloading data for TEX: :   4%|█▉                                               | 263/6477 [05:32<2:23:41,  1.39s/it]"
     ]
    },
    {
     "name": "stdout",
     "output_type": "stream",
     "text": [
      "Data for SNDL updated in data\\SNDL.csv.\n",
      "Updating data for TEX...\n"
     ]
    },
    {
     "name": "stderr",
     "output_type": "stream",
     "text": [
      "[*********************100%%**********************]  1 of 1 completed\n",
      "Downloading data for FLXS: :   4%|█▉                                              | 264/6477 [05:34<2:20:07,  1.35s/it]"
     ]
    },
    {
     "name": "stdout",
     "output_type": "stream",
     "text": [
      "Data for TEX updated in data\\TEX.csv.\n",
      "Updating data for FLXS...\n"
     ]
    },
    {
     "name": "stderr",
     "output_type": "stream",
     "text": [
      "[*********************100%%**********************]  1 of 1 completed\n",
      "Downloading data for PUK: :   4%|██                                               | 265/6477 [05:35<2:18:01,  1.33s/it]"
     ]
    },
    {
     "name": "stdout",
     "output_type": "stream",
     "text": [
      "Data for FLXS updated in data\\FLXS.csv.\n",
      "Updating data for PUK...\n"
     ]
    },
    {
     "name": "stderr",
     "output_type": "stream",
     "text": [
      "[*********************100%%**********************]  1 of 1 completed\n",
      "[*********************100%%**********************]  1 of 1 completed              | 266/6477 [05:36<2:15:43,  1.31s/it]"
     ]
    },
    {
     "name": "stdout",
     "output_type": "stream",
     "text": [
      "Data for PUK updated in data\\PUK.csv.\n",
      "Updating data for SBT...\n"
     ]
    },
    {
     "name": "stderr",
     "output_type": "stream",
     "text": [
      "\n",
      "[*********************100%%**********************]  1 of 1 completed              | 267/6477 [05:37<2:12:12,  1.28s/it]"
     ]
    },
    {
     "name": "stdout",
     "output_type": "stream",
     "text": [
      "Data for SBT updated in data\\SBT.csv.\n",
      "Updating data for EGRX...\n"
     ]
    },
    {
     "name": "stderr",
     "output_type": "stream",
     "text": [
      "\n",
      "Downloading data for DLHC: :   4%|█▉                                              | 268/6477 [05:39<2:10:30,  1.26s/it]"
     ]
    },
    {
     "name": "stdout",
     "output_type": "stream",
     "text": [
      "Data for EGRX updated in data\\EGRX.csv.\n",
      "Updating data for DLHC...\n"
     ]
    },
    {
     "name": "stderr",
     "output_type": "stream",
     "text": [
      "[*********************100%%**********************]  1 of 1 completed\n",
      "[*********************100%%**********************]  1 of 1 completed              | 269/6477 [05:40<2:09:56,  1.26s/it]"
     ]
    },
    {
     "name": "stdout",
     "output_type": "stream",
     "text": [
      "Data for DLHC updated in data\\DLHC.csv.\n",
      "Updating data for KVHI...\n"
     ]
    },
    {
     "name": "stderr",
     "output_type": "stream",
     "text": [
      "\n",
      "Downloading data for IFIN: :   4%|██                                              | 270/6477 [05:41<2:09:07,  1.25s/it]"
     ]
    },
    {
     "name": "stdout",
     "output_type": "stream",
     "text": [
      "Data for KVHI updated in data\\KVHI.csv.\n",
      "Updating data for IFIN...\n"
     ]
    },
    {
     "name": "stderr",
     "output_type": "stream",
     "text": [
      "[*********************100%%**********************]  1 of 1 completed\n",
      "[*********************100%%**********************]  1 of 1 completed              | 271/6477 [05:42<2:08:02,  1.24s/it]"
     ]
    },
    {
     "name": "stdout",
     "output_type": "stream",
     "text": [
      "Data for IFIN updated in data\\IFIN.csv.\n",
      "Updating data for GAINL...\n"
     ]
    },
    {
     "name": "stderr",
     "output_type": "stream",
     "text": [
      "\n",
      "Downloading data for ENPH: :   4%|██                                              | 272/6477 [05:44<2:06:55,  1.23s/it]"
     ]
    },
    {
     "name": "stdout",
     "output_type": "stream",
     "text": [
      "Data for GAINL updated in data\\GAINL.csv.\n",
      "Updating data for ENPH...\n"
     ]
    },
    {
     "name": "stderr",
     "output_type": "stream",
     "text": [
      "[*********************100%%**********************]  1 of 1 completed\n",
      "Downloading data for RCI: :   4%|██                                               | 273/6477 [05:45<2:14:14,  1.30s/it]"
     ]
    },
    {
     "name": "stdout",
     "output_type": "stream",
     "text": [
      "Data for ENPH updated in data\\ENPH.csv.\n",
      "Updating data for RCI...\n"
     ]
    },
    {
     "name": "stderr",
     "output_type": "stream",
     "text": [
      "[*********************100%%**********************]  1 of 1 completed\n",
      "[*********************100%%**********************]  1 of 1 completed              | 274/6477 [05:46<2:12:56,  1.29s/it]"
     ]
    },
    {
     "name": "stdout",
     "output_type": "stream",
     "text": [
      "Data for RCI updated in data\\RCI.csv.\n",
      "Updating data for XTNT...\n"
     ]
    },
    {
     "name": "stderr",
     "output_type": "stream",
     "text": [
      "\n",
      "Downloading data for AFGE: :   4%|██                                              | 275/6477 [05:47<2:10:27,  1.26s/it]"
     ]
    },
    {
     "name": "stdout",
     "output_type": "stream",
     "text": [
      "Data for XTNT updated in data\\XTNT.csv.\n",
      "Updating data for AFGE...\n"
     ]
    },
    {
     "name": "stderr",
     "output_type": "stream",
     "text": [
      "[*********************100%%**********************]  1 of 1 completed\n",
      "[*********************100%%**********************]  1 of 1 completed              | 276/6477 [05:49<2:09:05,  1.25s/it]"
     ]
    },
    {
     "name": "stdout",
     "output_type": "stream",
     "text": [
      "Data for AFGE updated in data\\AFGE.csv.\n",
      "Updating data for HTHT...\n"
     ]
    },
    {
     "name": "stderr",
     "output_type": "stream",
     "text": [
      "\n",
      "[*********************100%%**********************]  1 of 1 completed              | 277/6477 [05:50<2:07:47,  1.24s/it]"
     ]
    },
    {
     "name": "stdout",
     "output_type": "stream",
     "text": [
      "Data for HTHT updated in data\\HTHT.csv.\n",
      "Updating data for CURIW...\n"
     ]
    },
    {
     "name": "stderr",
     "output_type": "stream",
     "text": [
      "\n",
      "[*********************100%%**********************]  1 of 1 completed              | 278/6477 [05:51<2:06:24,  1.22s/it]"
     ]
    },
    {
     "name": "stdout",
     "output_type": "stream",
     "text": [
      "Data for CURIW updated in data\\CURIW.csv.\n",
      "Updating data for AACI...\n"
     ]
    },
    {
     "name": "stderr",
     "output_type": "stream",
     "text": [
      "\n",
      "[*********************100%%**********************]  1 of 1 completed              | 279/6477 [05:52<2:05:35,  1.22s/it]"
     ]
    },
    {
     "name": "stdout",
     "output_type": "stream",
     "text": [
      "Data for AACI updated in data\\AACI.csv.\n",
      "Updating data for AREN...\n"
     ]
    },
    {
     "name": "stderr",
     "output_type": "stream",
     "text": [
      "\n",
      "Downloading data for QNST: :   4%|██                                              | 280/6477 [05:54<2:05:30,  1.22s/it]"
     ]
    },
    {
     "name": "stdout",
     "output_type": "stream",
     "text": [
      "Data for AREN updated in data\\AREN.csv.\n",
      "Updating data for QNST...\n"
     ]
    },
    {
     "name": "stderr",
     "output_type": "stream",
     "text": [
      "[*********************100%%**********************]  1 of 1 completed\n",
      "Downloading data for PRSO: :   4%|██                                              | 281/6477 [05:55<2:05:14,  1.21s/it]"
     ]
    },
    {
     "name": "stdout",
     "output_type": "stream",
     "text": [
      "Data for QNST updated in data\\QNST.csv.\n",
      "Updating data for PRSO...\n"
     ]
    },
    {
     "name": "stderr",
     "output_type": "stream",
     "text": [
      "[*********************100%%**********************]  1 of 1 completed\n",
      "Downloading data for NNBR: :   4%|██                                              | 282/6477 [05:56<2:06:40,  1.23s/it]"
     ]
    },
    {
     "name": "stdout",
     "output_type": "stream",
     "text": [
      "Data for PRSO updated in data\\PRSO.csv.\n",
      "Updating data for NNBR...\n"
     ]
    },
    {
     "name": "stderr",
     "output_type": "stream",
     "text": [
      "[*********************100%%**********************]  1 of 1 completed\n",
      "Downloading data for TCS: :   4%|██▏                                              | 283/6477 [05:57<2:15:05,  1.31s/it]"
     ]
    },
    {
     "name": "stdout",
     "output_type": "stream",
     "text": [
      "Data for NNBR updated in data\\NNBR.csv.\n",
      "Updating data for TCS...\n"
     ]
    },
    {
     "name": "stderr",
     "output_type": "stream",
     "text": [
      "[*********************100%%**********************]  1 of 1 completed\n",
      "[*********************100%%**********************]  1 of 1 completed              | 284/6477 [05:59<2:28:05,  1.43s/it]"
     ]
    },
    {
     "name": "stdout",
     "output_type": "stream",
     "text": [
      "Data for TCS updated in data\\TCS.csv.\n",
      "Updating data for IVDA...\n"
     ]
    },
    {
     "name": "stderr",
     "output_type": "stream",
     "text": [
      "\n",
      "[*********************100%%**********************]  1 of 1 completed              | 285/6477 [06:00<2:21:30,  1.37s/it]"
     ]
    },
    {
     "name": "stdout",
     "output_type": "stream",
     "text": [
      "Data for IVDA updated in data\\IVDA.csv.\n",
      "Updating data for MRKR...\n"
     ]
    },
    {
     "name": "stderr",
     "output_type": "stream",
     "text": [
      "\n",
      "Downloading data for GENK: :   4%|██                                              | 286/6477 [06:02<2:16:26,  1.32s/it]"
     ]
    },
    {
     "name": "stdout",
     "output_type": "stream",
     "text": [
      "Data for MRKR updated in data\\MRKR.csv.\n",
      "Updating data for GENK...\n"
     ]
    },
    {
     "name": "stderr",
     "output_type": "stream",
     "text": [
      "[*********************100%%**********************]  1 of 1 completed\n",
      "Downloading data for BIGC: :   4%|██▏                                             | 287/6477 [06:03<2:13:05,  1.29s/it]"
     ]
    },
    {
     "name": "stdout",
     "output_type": "stream",
     "text": [
      "Data for GENK updated in data\\GENK.csv.\n",
      "Updating data for BIGC...\n"
     ]
    },
    {
     "name": "stderr",
     "output_type": "stream",
     "text": [
      "[*********************100%%**********************]  1 of 1 completed\n",
      "Downloading data for XFLT: :   4%|██▏                                             | 288/6477 [06:04<2:10:58,  1.27s/it]"
     ]
    },
    {
     "name": "stdout",
     "output_type": "stream",
     "text": [
      "Data for BIGC updated in data\\BIGC.csv.\n",
      "Updating data for XFLT...\n"
     ]
    },
    {
     "name": "stderr",
     "output_type": "stream",
     "text": [
      "[*********************100%%**********************]  1 of 1 completed\n",
      "[*********************100%%**********************]  1 of 1 completed              | 289/6477 [06:05<2:09:31,  1.26s/it]"
     ]
    },
    {
     "name": "stdout",
     "output_type": "stream",
     "text": [
      "Data for XFLT updated in data\\XFLT.csv.\n",
      "Updating data for TPCS...\n"
     ]
    },
    {
     "name": "stderr",
     "output_type": "stream",
     "text": [
      "\n",
      "[*********************100%%**********************]  1 of 1 completed              | 290/6477 [06:07<2:07:52,  1.24s/it]"
     ]
    },
    {
     "name": "stdout",
     "output_type": "stream",
     "text": [
      "Data for TPCS updated in data\\TPCS.csv.\n",
      "Updating data for ZG...\n"
     ]
    },
    {
     "name": "stderr",
     "output_type": "stream",
     "text": [
      "\n",
      "[*********************100%%**********************]  1 of 1 completed              | 291/6477 [06:08<2:07:25,  1.24s/it]"
     ]
    },
    {
     "name": "stdout",
     "output_type": "stream",
     "text": [
      "Data for ZG updated in data\\ZG.csv.\n",
      "Updating data for STRC...\n"
     ]
    },
    {
     "name": "stderr",
     "output_type": "stream",
     "text": [
      "\n",
      "Downloading data for PMX: :   5%|██▏                                              | 292/6477 [06:09<2:06:25,  1.23s/it]"
     ]
    },
    {
     "name": "stdout",
     "output_type": "stream",
     "text": [
      "Data for STRC updated in data\\STRC.csv.\n",
      "Updating data for PMX...\n"
     ]
    },
    {
     "name": "stderr",
     "output_type": "stream",
     "text": [
      "[*********************100%%**********************]  1 of 1 completed\n",
      "[*********************100%%**********************]  1 of 1 completed              | 293/6477 [06:10<2:07:04,  1.23s/it]"
     ]
    },
    {
     "name": "stdout",
     "output_type": "stream",
     "text": [
      "Data for PMX updated in data\\PMX.csv.\n",
      "Updating data for AVIR...\n"
     ]
    },
    {
     "name": "stderr",
     "output_type": "stream",
     "text": [
      "\n",
      "[*********************100%%**********************]  1 of 1 completed              | 294/6477 [06:11<2:05:44,  1.22s/it]"
     ]
    },
    {
     "name": "stdout",
     "output_type": "stream",
     "text": [
      "Data for AVIR updated in data\\AVIR.csv.\n",
      "Updating data for LAES...\n"
     ]
    },
    {
     "name": "stderr",
     "output_type": "stream",
     "text": [
      "\n",
      "[*********************100%%**********************]  1 of 1 completed              | 295/6477 [06:13<2:05:32,  1.22s/it]"
     ]
    },
    {
     "name": "stdout",
     "output_type": "stream",
     "text": [
      "Data for LAES updated in data\\LAES.csv.\n",
      "Updating data for MDRRP...\n"
     ]
    },
    {
     "name": "stderr",
     "output_type": "stream",
     "text": [
      "\n",
      "[*********************100%%**********************]  1 of 1 completed              | 296/6477 [06:14<2:05:00,  1.21s/it]"
     ]
    },
    {
     "name": "stdout",
     "output_type": "stream",
     "text": [
      "Data for MDRRP updated in data\\MDRRP.csv.\n",
      "Updating data for CTM...\n"
     ]
    },
    {
     "name": "stderr",
     "output_type": "stream",
     "text": [
      "\n",
      "Downloading data for ATLO: :   5%|██▏                                             | 297/6477 [06:15<2:04:25,  1.21s/it]"
     ]
    },
    {
     "name": "stdout",
     "output_type": "stream",
     "text": [
      "Data for CTM updated in data\\CTM.csv.\n",
      "Updating data for ATLO...\n"
     ]
    },
    {
     "name": "stderr",
     "output_type": "stream",
     "text": [
      "[*********************100%%**********************]  1 of 1 completed\n",
      "[*********************100%%**********************]  1 of 1 completed              | 298/6477 [06:16<2:05:45,  1.22s/it]"
     ]
    },
    {
     "name": "stdout",
     "output_type": "stream",
     "text": [
      "Data for ATLO updated in data\\ATLO.csv.\n",
      "Updating data for ATEN...\n"
     ]
    },
    {
     "name": "stderr",
     "output_type": "stream",
     "text": [
      "\n",
      "Downloading data for KOS: :   5%|██▎                                              | 299/6477 [06:17<2:05:27,  1.22s/it]"
     ]
    },
    {
     "name": "stdout",
     "output_type": "stream",
     "text": [
      "Data for ATEN updated in data\\ATEN.csv.\n",
      "Updating data for KOS...\n"
     ]
    },
    {
     "name": "stderr",
     "output_type": "stream",
     "text": [
      "[*********************100%%**********************]  1 of 1 completed\n",
      "Downloading data for TBLA: :   5%|██▏                                             | 300/6477 [06:19<2:05:57,  1.22s/it]"
     ]
    },
    {
     "name": "stdout",
     "output_type": "stream",
     "text": [
      "Data for KOS updated in data\\KOS.csv.\n",
      "Updating data for TBLA...\n"
     ]
    },
    {
     "name": "stderr",
     "output_type": "stream",
     "text": [
      "[*********************100%%**********************]  1 of 1 completed\n",
      "[*********************100%%**********************]  1 of 1 completed              | 301/6477 [06:20<2:12:31,  1.29s/it]"
     ]
    },
    {
     "name": "stdout",
     "output_type": "stream",
     "text": [
      "Data for TBLA updated in data\\TBLA.csv.\n",
      "Updating data for JBLU...\n"
     ]
    },
    {
     "name": "stderr",
     "output_type": "stream",
     "text": [
      "\n",
      "[*********************100%%**********************]  1 of 1 completed              | 302/6477 [06:21<2:10:57,  1.27s/it]"
     ]
    },
    {
     "name": "stdout",
     "output_type": "stream",
     "text": [
      "Data for JBLU updated in data\\JBLU.csv.\n",
      "Updating data for ZLS...\n"
     ]
    },
    {
     "name": "stderr",
     "output_type": "stream",
     "text": [
      "\n",
      "[*********************100%%**********************]  1 of 1 completed              | 303/6477 [06:23<2:08:38,  1.25s/it]"
     ]
    },
    {
     "name": "stdout",
     "output_type": "stream",
     "text": [
      "Data for ZLS updated in data\\ZLS.csv.\n",
      "Updating data for TWST...\n"
     ]
    },
    {
     "name": "stderr",
     "output_type": "stream",
     "text": [
      "\n",
      "[*********************100%%**********************]  1 of 1 completed              | 304/6477 [06:24<2:06:58,  1.23s/it]"
     ]
    },
    {
     "name": "stdout",
     "output_type": "stream",
     "text": [
      "Data for TWST updated in data\\TWST.csv.\n",
      "Updating data for JFR...\n"
     ]
    },
    {
     "name": "stderr",
     "output_type": "stream",
     "text": [
      "\n",
      "Downloading data for ALX: :   5%|██▎                                              | 305/6477 [06:25<2:07:01,  1.23s/it]"
     ]
    },
    {
     "name": "stdout",
     "output_type": "stream",
     "text": [
      "Data for JFR updated in data\\JFR.csv.\n",
      "Updating data for ALX...\n"
     ]
    },
    {
     "name": "stderr",
     "output_type": "stream",
     "text": [
      "[*********************100%%**********************]  1 of 1 completed\n",
      "Downloading data for LIN: :   5%|██▎                                              | 306/6477 [06:26<2:08:14,  1.25s/it]"
     ]
    },
    {
     "name": "stdout",
     "output_type": "stream",
     "text": [
      "Data for ALX updated in data\\ALX.csv.\n",
      "Updating data for LIN...\n"
     ]
    },
    {
     "name": "stderr",
     "output_type": "stream",
     "text": [
      "[*********************100%%**********************]  1 of 1 completed\n",
      "[*********************100%%**********************]  1 of 1 completed              | 307/6477 [06:28<2:08:52,  1.25s/it]"
     ]
    },
    {
     "name": "stdout",
     "output_type": "stream",
     "text": [
      "Data for LIN updated in data\\LIN.csv.\n",
      "Updating data for IHS...\n"
     ]
    },
    {
     "name": "stderr",
     "output_type": "stream",
     "text": [
      "\n",
      "[*********************100%%**********************]  1 of 1 completed              | 308/6477 [06:29<2:07:27,  1.24s/it]"
     ]
    },
    {
     "name": "stdout",
     "output_type": "stream",
     "text": [
      "Data for IHS updated in data\\IHS.csv.\n",
      "Updating data for SKGRU...\n"
     ]
    },
    {
     "name": "stderr",
     "output_type": "stream",
     "text": [
      "\n",
      "[*********************100%%**********************]  1 of 1 completed              | 309/6477 [06:30<2:06:16,  1.23s/it]"
     ]
    },
    {
     "name": "stdout",
     "output_type": "stream",
     "text": [
      "Data for SKGRU updated in data\\SKGRU.csv.\n",
      "Updating data for STRRP...\n"
     ]
    },
    {
     "name": "stderr",
     "output_type": "stream",
     "text": [
      "\n",
      "[*********************100%%**********************]  1 of 1 completed              | 310/6477 [06:31<2:05:34,  1.22s/it]"
     ]
    },
    {
     "name": "stdout",
     "output_type": "stream",
     "text": [
      "Data for STRRP updated in data\\STRRP.csv.\n",
      "Updating data for WK...\n"
     ]
    },
    {
     "name": "stderr",
     "output_type": "stream",
     "text": [
      "\n",
      "[*********************100%%**********************]  1 of 1 completed              | 311/6477 [06:32<2:05:18,  1.22s/it]"
     ]
    },
    {
     "name": "stdout",
     "output_type": "stream",
     "text": [
      "Data for WK updated in data\\WK.csv.\n",
      "Updating data for CVCO...\n"
     ]
    },
    {
     "name": "stderr",
     "output_type": "stream",
     "text": [
      "\n",
      "[*********************100%%**********************]  1 of 1 completed              | 312/6477 [06:34<2:05:33,  1.22s/it]"
     ]
    },
    {
     "name": "stdout",
     "output_type": "stream",
     "text": [
      "Data for CVCO updated in data\\CVCO.csv.\n",
      "Updating data for JBGS...\n"
     ]
    },
    {
     "name": "stderr",
     "output_type": "stream",
     "text": [
      "\n",
      "Downloading data for CASY: :   5%|██▎                                             | 313/6477 [06:35<2:05:15,  1.22s/it]"
     ]
    },
    {
     "name": "stdout",
     "output_type": "stream",
     "text": [
      "Data for JBGS updated in data\\JBGS.csv.\n",
      "Updating data for CASY...\n"
     ]
    },
    {
     "name": "stderr",
     "output_type": "stream",
     "text": [
      "[*********************100%%**********************]  1 of 1 completed\n",
      "[*********************100%%**********************]  1 of 1 completed              | 314/6477 [06:36<2:14:41,  1.31s/it]"
     ]
    },
    {
     "name": "stdout",
     "output_type": "stream",
     "text": [
      "Data for CASY updated in data\\CASY.csv.\n",
      "Updating data for TGVC...\n"
     ]
    },
    {
     "name": "stderr",
     "output_type": "stream",
     "text": [
      "\n",
      "Downloading data for BKNG: :   5%|██▎                                             | 315/6477 [06:38<2:11:11,  1.28s/it]"
     ]
    },
    {
     "name": "stdout",
     "output_type": "stream",
     "text": [
      "Data for TGVC updated in data\\TGVC.csv.\n",
      "Updating data for BKNG...\n"
     ]
    },
    {
     "name": "stderr",
     "output_type": "stream",
     "text": [
      "[*********************100%%**********************]  1 of 1 completed\n",
      "Downloading data for VTN: :   5%|██▍                                              | 316/6477 [06:39<2:17:17,  1.34s/it]"
     ]
    },
    {
     "name": "stdout",
     "output_type": "stream",
     "text": [
      "Data for BKNG updated in data\\BKNG.csv.\n",
      "Updating data for VTN...\n"
     ]
    },
    {
     "name": "stderr",
     "output_type": "stream",
     "text": [
      "[*********************100%%**********************]  1 of 1 completed\n",
      "Downloading data for ODVWZ: :   5%|██▎                                            | 317/6477 [06:40<2:15:56,  1.32s/it]"
     ]
    },
    {
     "name": "stdout",
     "output_type": "stream",
     "text": [
      "Data for VTN updated in data\\VTN.csv.\n",
      "Updating data for ODVWZ...\n"
     ]
    },
    {
     "name": "stderr",
     "output_type": "stream",
     "text": [
      "[*********************100%%**********************]  1 of 1 completed\n",
      "[*********************100%%**********************]  1 of 1 completed              | 318/6477 [06:42<2:12:52,  1.29s/it]"
     ]
    },
    {
     "name": "stdout",
     "output_type": "stream",
     "text": [
      "Data for ODVWZ updated in data\\ODVWZ.csv.\n",
      "Updating data for DFLIW...\n"
     ]
    },
    {
     "name": "stderr",
     "output_type": "stream",
     "text": [
      "\n",
      "Downloading data for CREX: :   5%|██▎                                             | 319/6477 [06:43<2:09:31,  1.26s/it]"
     ]
    },
    {
     "name": "stdout",
     "output_type": "stream",
     "text": [
      "Data for DFLIW updated in data\\DFLIW.csv.\n",
      "Updating data for CREX...\n"
     ]
    },
    {
     "name": "stderr",
     "output_type": "stream",
     "text": [
      "[*********************100%%**********************]  1 of 1 completed\n",
      "Downloading data for SEB: :   5%|██▍                                              | 320/6477 [06:44<2:14:59,  1.32s/it]"
     ]
    },
    {
     "name": "stdout",
     "output_type": "stream",
     "text": [
      "Data for CREX updated in data\\CREX.csv.\n",
      "Updating data for SEB...\n"
     ]
    },
    {
     "name": "stderr",
     "output_type": "stream",
     "text": [
      "[*********************100%%**********************]  1 of 1 completed\n",
      "[*********************100%%**********************]  1 of 1 completed              | 321/6477 [06:45<2:13:23,  1.30s/it]"
     ]
    },
    {
     "name": "stdout",
     "output_type": "stream",
     "text": [
      "Data for SEB updated in data\\SEB.csv.\n",
      "Updating data for CENN...\n"
     ]
    },
    {
     "name": "stderr",
     "output_type": "stream",
     "text": [
      "\n",
      "Downloading data for MUC: :   5%|██▍                                              | 322/6477 [06:47<2:10:19,  1.27s/it]"
     ]
    },
    {
     "name": "stdout",
     "output_type": "stream",
     "text": [
      "Data for CENN updated in data\\CENN.csv.\n",
      "Updating data for MUC...\n"
     ]
    },
    {
     "name": "stderr",
     "output_type": "stream",
     "text": [
      "[*********************100%%**********************]  1 of 1 completed\n",
      "Downloading data for COGT: :   5%|██▍                                             | 323/6477 [06:48<2:10:19,  1.27s/it]"
     ]
    },
    {
     "name": "stdout",
     "output_type": "stream",
     "text": [
      "Data for MUC updated in data\\MUC.csv.\n",
      "Updating data for COGT...\n"
     ]
    },
    {
     "name": "stderr",
     "output_type": "stream",
     "text": [
      "[*********************100%%**********************]  1 of 1 completed\n",
      "Downloading data for GAM: :   5%|██▍                                              | 324/6477 [06:49<2:08:45,  1.26s/it]"
     ]
    },
    {
     "name": "stdout",
     "output_type": "stream",
     "text": [
      "Data for COGT updated in data\\COGT.csv.\n",
      "Updating data for GAM...\n"
     ]
    },
    {
     "name": "stderr",
     "output_type": "stream",
     "text": [
      "[*********************100%%**********************]  1 of 1 completed\n",
      "[*********************100%%**********************]  1 of 1 completed              | 325/6477 [06:50<2:09:49,  1.27s/it]"
     ]
    },
    {
     "name": "stdout",
     "output_type": "stream",
     "text": [
      "Data for GAM updated in data\\GAM.csv.\n",
      "Updating data for RXST...\n"
     ]
    },
    {
     "name": "stderr",
     "output_type": "stream",
     "text": [
      "\n",
      "[*********************100%%**********************]  1 of 1 completed              | 326/6477 [06:52<2:07:59,  1.25s/it]"
     ]
    },
    {
     "name": "stdout",
     "output_type": "stream",
     "text": [
      "Data for RXST updated in data\\RXST.csv.\n",
      "Updating data for TCON...\n"
     ]
    },
    {
     "name": "stderr",
     "output_type": "stream",
     "text": [
      "\n",
      "[*********************100%%**********************]  1 of 1 completed              | 327/6477 [06:53<2:07:08,  1.24s/it]"
     ]
    },
    {
     "name": "stdout",
     "output_type": "stream",
     "text": [
      "Data for TCON updated in data\\TCON.csv.\n",
      "Updating data for UZF...\n"
     ]
    },
    {
     "name": "stderr",
     "output_type": "stream",
     "text": [
      "\n",
      "Downloading data for PDSB: :   5%|██▍                                             | 328/6477 [06:54<2:05:43,  1.23s/it]"
     ]
    },
    {
     "name": "stdout",
     "output_type": "stream",
     "text": [
      "Data for UZF updated in data\\UZF.csv.\n",
      "Updating data for PDSB...\n"
     ]
    },
    {
     "name": "stderr",
     "output_type": "stream",
     "text": [
      "[*********************100%%**********************]  1 of 1 completed\n",
      "[*********************100%%**********************]  1 of 1 completed              | 329/6477 [06:55<2:12:55,  1.30s/it]"
     ]
    },
    {
     "name": "stdout",
     "output_type": "stream",
     "text": [
      "Data for PDSB updated in data\\PDSB.csv.\n",
      "Updating data for EKSO...\n"
     ]
    },
    {
     "name": "stderr",
     "output_type": "stream",
     "text": [
      "\n",
      "Downloading data for EFSC: :   5%|██▍                                             | 330/6477 [06:57<2:10:24,  1.27s/it]"
     ]
    },
    {
     "name": "stdout",
     "output_type": "stream",
     "text": [
      "Data for EKSO updated in data\\EKSO.csv.\n",
      "Updating data for EFSC...\n"
     ]
    },
    {
     "name": "stderr",
     "output_type": "stream",
     "text": [
      "[*********************100%%**********************]  1 of 1 completed\n",
      "Downloading data for MSA: :   5%|██▌                                              | 331/6477 [06:58<2:09:53,  1.27s/it]"
     ]
    },
    {
     "name": "stdout",
     "output_type": "stream",
     "text": [
      "Data for EFSC updated in data\\EFSC.csv.\n",
      "Updating data for MSA...\n"
     ]
    },
    {
     "name": "stderr",
     "output_type": "stream",
     "text": [
      "[*********************100%%**********************]  1 of 1 completed\n",
      "[*********************100%%**********************]  1 of 1 completed              | 332/6477 [06:59<2:10:54,  1.28s/it]"
     ]
    },
    {
     "name": "stdout",
     "output_type": "stream",
     "text": [
      "Data for MSA updated in data\\MSA.csv.\n",
      "Updating data for GATE...\n"
     ]
    },
    {
     "name": "stderr",
     "output_type": "stream",
     "text": [
      "\n",
      "Downloading data for EQH: :   5%|██▌                                              | 333/6477 [07:00<2:08:19,  1.25s/it]"
     ]
    },
    {
     "name": "stdout",
     "output_type": "stream",
     "text": [
      "Data for GATE updated in data\\GATE.csv.\n",
      "Updating data for EQH...\n"
     ]
    },
    {
     "name": "stderr",
     "output_type": "stream",
     "text": [
      "[*********************100%%**********************]  1 of 1 completed\n",
      "[*********************100%%**********************]  1 of 1 completed              | 334/6477 [07:02<2:14:28,  1.31s/it]"
     ]
    },
    {
     "name": "stdout",
     "output_type": "stream",
     "text": [
      "Data for EQH updated in data\\EQH.csv.\n",
      "Updating data for ADN...\n"
     ]
    },
    {
     "name": "stderr",
     "output_type": "stream",
     "text": [
      "\n",
      "Downloading data for LBRDP: :   5%|██▍                                            | 335/6477 [07:03<2:10:50,  1.28s/it]"
     ]
    },
    {
     "name": "stdout",
     "output_type": "stream",
     "text": [
      "Data for ADN updated in data\\ADN.csv.\n",
      "Updating data for LBRDP...\n"
     ]
    },
    {
     "name": "stderr",
     "output_type": "stream",
     "text": [
      "[*********************100%%**********************]  1 of 1 completed\n",
      "Downloading data for AC: :   5%|██▌                                               | 336/6477 [07:05<2:15:51,  1.33s/it]"
     ]
    },
    {
     "name": "stdout",
     "output_type": "stream",
     "text": [
      "Data for LBRDP updated in data\\LBRDP.csv.\n",
      "Updating data for AC...\n"
     ]
    },
    {
     "name": "stderr",
     "output_type": "stream",
     "text": [
      "[*********************100%%**********************]  1 of 1 completed\n",
      "Downloading data for BHE: :   5%|██▌                                              | 337/6477 [07:06<2:14:16,  1.31s/it]"
     ]
    },
    {
     "name": "stdout",
     "output_type": "stream",
     "text": [
      "Data for AC updated in data\\AC.csv.\n",
      "Updating data for BHE...\n"
     ]
    },
    {
     "name": "stderr",
     "output_type": "stream",
     "text": [
      "[*********************100%%**********************]  1 of 1 completed\n",
      "[*********************100%%**********************]  1 of 1 completed              | 338/6477 [07:07<2:12:05,  1.29s/it]"
     ]
    },
    {
     "name": "stdout",
     "output_type": "stream",
     "text": [
      "Data for BHE updated in data\\BHE.csv.\n",
      "Updating data for NVT...\n"
     ]
    },
    {
     "name": "stderr",
     "output_type": "stream",
     "text": [
      "\n",
      "[*********************100%%**********************]  1 of 1 completed              | 339/6477 [07:08<2:09:12,  1.26s/it]"
     ]
    },
    {
     "name": "stdout",
     "output_type": "stream",
     "text": [
      "Data for NVT updated in data\\NVT.csv.\n",
      "Updating data for LBRDA...\n"
     ]
    },
    {
     "name": "stderr",
     "output_type": "stream",
     "text": [
      "\n",
      "Downloading data for BMR: :   5%|██▌                                              | 340/6477 [07:09<2:07:46,  1.25s/it]"
     ]
    },
    {
     "name": "stdout",
     "output_type": "stream",
     "text": [
      "Data for LBRDA updated in data\\LBRDA.csv.\n",
      "Updating data for BMR...\n"
     ]
    },
    {
     "name": "stderr",
     "output_type": "stream",
     "text": [
      "[*********************100%%**********************]  1 of 1 completed\n",
      "[*********************100%%**********************]  1 of 1 completed              | 341/6477 [07:11<2:06:38,  1.24s/it]"
     ]
    },
    {
     "name": "stdout",
     "output_type": "stream",
     "text": [
      "Data for BMR updated in data\\BMR.csv.\n",
      "Updating data for DAN...\n"
     ]
    },
    {
     "name": "stderr",
     "output_type": "stream",
     "text": [
      "\n",
      "[*********************100%%**********************]  1 of 1 completed              | 342/6477 [07:12<2:05:47,  1.23s/it]"
     ]
    },
    {
     "name": "stdout",
     "output_type": "stream",
     "text": [
      "Data for DAN updated in data\\DAN.csv.\n",
      "Updating data for ALIM...\n"
     ]
    },
    {
     "name": "stderr",
     "output_type": "stream",
     "text": [
      "\n",
      "Downloading data for ARCC: :   5%|██▌                                             | 343/6477 [07:13<2:04:47,  1.22s/it]"
     ]
    },
    {
     "name": "stdout",
     "output_type": "stream",
     "text": [
      "Data for ALIM updated in data\\ALIM.csv.\n",
      "Updating data for ARCC...\n"
     ]
    },
    {
     "name": "stderr",
     "output_type": "stream",
     "text": [
      "[*********************100%%**********************]  1 of 1 completed\n",
      "Downloading data for RSVR: :   5%|██▌                                             | 344/6477 [07:15<2:13:03,  1.30s/it]"
     ]
    },
    {
     "name": "stdout",
     "output_type": "stream",
     "text": [
      "Data for ARCC updated in data\\ARCC.csv.\n",
      "Updating data for RSVR...\n"
     ]
    },
    {
     "name": "stderr",
     "output_type": "stream",
     "text": [
      "[*********************100%%**********************]  1 of 1 completed\n",
      "Downloading data for CAC: :   5%|██▌                                              | 345/6477 [07:16<2:10:20,  1.28s/it]"
     ]
    },
    {
     "name": "stdout",
     "output_type": "stream",
     "text": [
      "Data for RSVR updated in data\\RSVR.csv.\n",
      "Updating data for CAC...\n"
     ]
    },
    {
     "name": "stderr",
     "output_type": "stream",
     "text": [
      "[*********************100%%**********************]  1 of 1 completed\n",
      "Downloading data for ZIONO: :   5%|██▌                                            | 346/6477 [07:17<2:16:42,  1.34s/it]"
     ]
    },
    {
     "name": "stdout",
     "output_type": "stream",
     "text": [
      "Data for CAC updated in data\\CAC.csv.\n",
      "Updating data for ZIONO...\n"
     ]
    },
    {
     "name": "stderr",
     "output_type": "stream",
     "text": [
      "[*********************100%%**********************]  1 of 1 completed\n",
      "Downloading data for NYMTL: :   5%|██▌                                            | 347/6477 [07:19<2:13:18,  1.30s/it]"
     ]
    },
    {
     "name": "stdout",
     "output_type": "stream",
     "text": [
      "Data for ZIONO updated in data\\ZIONO.csv.\n",
      "Updating data for NYMTL...\n"
     ]
    },
    {
     "name": "stderr",
     "output_type": "stream",
     "text": [
      "[*********************100%%**********************]  1 of 1 completed\n",
      "[*********************100%%**********************]  1 of 1 completed              | 348/6477 [07:20<2:11:02,  1.28s/it]"
     ]
    },
    {
     "name": "stdout",
     "output_type": "stream",
     "text": [
      "Data for NYMTL updated in data\\NYMTL.csv.\n",
      "Updating data for XWEL...\n"
     ]
    },
    {
     "name": "stderr",
     "output_type": "stream",
     "text": [
      "\n",
      "Downloading data for AMPL: :   5%|██▌                                             | 349/6477 [07:21<2:08:53,  1.26s/it]"
     ]
    },
    {
     "name": "stdout",
     "output_type": "stream",
     "text": [
      "Data for XWEL updated in data\\XWEL.csv.\n",
      "Updating data for AMPL...\n"
     ]
    },
    {
     "name": "stderr",
     "output_type": "stream",
     "text": [
      "[*********************100%%**********************]  1 of 1 completed\n",
      "[*********************100%%**********************]  1 of 1 completed              | 350/6477 [07:22<2:13:44,  1.31s/it]"
     ]
    },
    {
     "name": "stdout",
     "output_type": "stream",
     "text": [
      "Data for AMPL updated in data\\AMPL.csv.\n",
      "Updating data for HRT...\n"
     ]
    },
    {
     "name": "stderr",
     "output_type": "stream",
     "text": [
      "\n",
      "Downloading data for DCOM: :   5%|██▌                                             | 351/6477 [07:24<2:10:35,  1.28s/it]"
     ]
    },
    {
     "name": "stdout",
     "output_type": "stream",
     "text": [
      "Data for HRT updated in data\\HRT.csv.\n",
      "Updating data for DCOM...\n"
     ]
    },
    {
     "name": "stderr",
     "output_type": "stream",
     "text": [
      "[*********************100%%**********************]  1 of 1 completed\n",
      "Downloading data for EQT: :   5%|██▋                                              | 352/6477 [07:25<2:17:15,  1.34s/it]"
     ]
    },
    {
     "name": "stdout",
     "output_type": "stream",
     "text": [
      "Data for DCOM updated in data\\DCOM.csv.\n",
      "Updating data for EQT...\n"
     ]
    },
    {
     "name": "stderr",
     "output_type": "stream",
     "text": [
      "[*********************100%%**********************]  1 of 1 completed\n",
      "[*********************100%%**********************]  1 of 1 completed              | 353/6477 [07:26<2:15:25,  1.33s/it]"
     ]
    },
    {
     "name": "stdout",
     "output_type": "stream",
     "text": [
      "Data for EQT updated in data\\EQT.csv.\n",
      "Updating data for PCTTU...\n"
     ]
    },
    {
     "name": "stderr",
     "output_type": "stream",
     "text": [
      "\n",
      "Downloading data for ETJ: :   5%|██▋                                              | 354/6477 [07:28<2:11:39,  1.29s/it]"
     ]
    },
    {
     "name": "stdout",
     "output_type": "stream",
     "text": [
      "Data for PCTTU updated in data\\PCTTU.csv.\n",
      "Updating data for ETJ...\n"
     ]
    },
    {
     "name": "stderr",
     "output_type": "stream",
     "text": [
      "[*********************100%%**********************]  1 of 1 completed\n",
      "Downloading data for BKE: :   5%|██▋                                              | 355/6477 [07:29<2:10:26,  1.28s/it]"
     ]
    },
    {
     "name": "stdout",
     "output_type": "stream",
     "text": [
      "Data for ETJ updated in data\\ETJ.csv.\n",
      "Updating data for BKE...\n"
     ]
    },
    {
     "name": "stderr",
     "output_type": "stream",
     "text": [
      "[*********************100%%**********************]  1 of 1 completed\n",
      "[*********************100%%**********************]  1 of 1 completed              | 356/6477 [07:30<2:10:17,  1.28s/it]"
     ]
    },
    {
     "name": "stdout",
     "output_type": "stream",
     "text": [
      "Data for BKE updated in data\\BKE.csv.\n",
      "Updating data for ABTS...\n"
     ]
    },
    {
     "name": "stderr",
     "output_type": "stream",
     "text": [
      "\n",
      "Downloading data for BAFN: :   6%|██▋                                             | 357/6477 [07:31<2:08:01,  1.26s/it]"
     ]
    },
    {
     "name": "stdout",
     "output_type": "stream",
     "text": [
      "Data for ABTS updated in data\\ABTS.csv.\n",
      "Updating data for BAFN...\n"
     ]
    },
    {
     "name": "stderr",
     "output_type": "stream",
     "text": [
      "[*********************100%%**********************]  1 of 1 completed\n",
      "Downloading data for LVS: :   6%|██▋                                              | 358/6477 [07:33<2:06:46,  1.24s/it]"
     ]
    },
    {
     "name": "stdout",
     "output_type": "stream",
     "text": [
      "Data for BAFN updated in data\\BAFN.csv.\n",
      "Updating data for LVS...\n"
     ]
    },
    {
     "name": "stderr",
     "output_type": "stream",
     "text": [
      "[*********************100%%**********************]  1 of 1 completed\n",
      "Downloading data for BYND: :   6%|██▋                                             | 359/6477 [07:34<2:06:34,  1.24s/it]"
     ]
    },
    {
     "name": "stdout",
     "output_type": "stream",
     "text": [
      "Data for LVS updated in data\\LVS.csv.\n",
      "Updating data for BYND...\n"
     ]
    },
    {
     "name": "stderr",
     "output_type": "stream",
     "text": [
      "[*********************100%%**********************]  1 of 1 completed\n",
      "[*********************100%%**********************]  1 of 1 completed              | 360/6477 [07:35<2:06:12,  1.24s/it]"
     ]
    },
    {
     "name": "stdout",
     "output_type": "stream",
     "text": [
      "Data for BYND updated in data\\BYND.csv.\n",
      "Updating data for THAR...\n"
     ]
    },
    {
     "name": "stderr",
     "output_type": "stream",
     "text": [
      "\n",
      "Downloading data for LASR: :   6%|██▋                                             | 361/6477 [07:36<2:05:11,  1.23s/it]"
     ]
    },
    {
     "name": "stdout",
     "output_type": "stream",
     "text": [
      "Data for THAR updated in data\\THAR.csv.\n",
      "Updating data for LASR...\n"
     ]
    },
    {
     "name": "stderr",
     "output_type": "stream",
     "text": [
      "[*********************100%%**********************]  1 of 1 completed\n",
      "Downloading data for ATR: :   6%|██▋                                              | 362/6477 [07:38<2:12:06,  1.30s/it]"
     ]
    },
    {
     "name": "stdout",
     "output_type": "stream",
     "text": [
      "Data for LASR updated in data\\LASR.csv.\n",
      "Updating data for ATR...\n"
     ]
    },
    {
     "name": "stderr",
     "output_type": "stream",
     "text": [
      "[*********************100%%**********************]  1 of 1 completed\n",
      "Downloading data for KO: :   6%|██▊                                               | 363/6477 [07:39<2:10:56,  1.28s/it]"
     ]
    },
    {
     "name": "stdout",
     "output_type": "stream",
     "text": [
      "Data for ATR updated in data\\ATR.csv.\n",
      "Updating data for KO...\n"
     ]
    },
    {
     "name": "stderr",
     "output_type": "stream",
     "text": [
      "[*********************100%%**********************]  1 of 1 completed\n",
      "[*********************100%%**********************]  1 of 1 completed              | 364/6477 [07:40<2:12:29,  1.30s/it]"
     ]
    },
    {
     "name": "stdout",
     "output_type": "stream",
     "text": [
      "Data for KO updated in data\\KO.csv.\n",
      "Updating data for MBRX...\n"
     ]
    },
    {
     "name": "stderr",
     "output_type": "stream",
     "text": [
      "\n",
      "Downloading data for APLM: :   6%|██▋                                             | 365/6477 [07:41<2:09:42,  1.27s/it]"
     ]
    },
    {
     "name": "stdout",
     "output_type": "stream",
     "text": [
      "Data for MBRX updated in data\\MBRX.csv.\n",
      "Updating data for APLM...\n"
     ]
    },
    {
     "name": "stderr",
     "output_type": "stream",
     "text": [
      "[*********************100%%**********************]  1 of 1 completed\n",
      "[*********************100%%**********************]  1 of 1 completed              | 366/6477 [07:43<2:14:55,  1.32s/it]"
     ]
    },
    {
     "name": "stdout",
     "output_type": "stream",
     "text": [
      "Data for APLM updated in data\\APLM.csv.\n",
      "Updating data for FTHM...\n"
     ]
    },
    {
     "name": "stderr",
     "output_type": "stream",
     "text": [
      "\n",
      "[*********************100%%**********************]  1 of 1 completed              | 367/6477 [07:44<2:11:17,  1.29s/it]"
     ]
    },
    {
     "name": "stdout",
     "output_type": "stream",
     "text": [
      "Data for FTHM updated in data\\FTHM.csv.\n",
      "Updating data for BPYPN...\n"
     ]
    },
    {
     "name": "stderr",
     "output_type": "stream",
     "text": [
      "\n",
      "[*********************100%%**********************]  1 of 1 completed              | 368/6477 [07:45<2:08:56,  1.27s/it]"
     ]
    },
    {
     "name": "stdout",
     "output_type": "stream",
     "text": [
      "Data for BPYPN updated in data\\BPYPN.csv.\n",
      "Updating data for DMYY...\n"
     ]
    },
    {
     "name": "stderr",
     "output_type": "stream",
     "text": [
      "\n",
      "Downloading data for TIMB: :   6%|██▋                                             | 369/6477 [07:47<2:06:40,  1.24s/it]"
     ]
    },
    {
     "name": "stdout",
     "output_type": "stream",
     "text": [
      "Data for DMYY updated in data\\DMYY.csv.\n",
      "Updating data for TIMB...\n"
     ]
    },
    {
     "name": "stderr",
     "output_type": "stream",
     "text": [
      "[*********************100%%**********************]  1 of 1 completed\n",
      "Downloading data for GBX: :   6%|██▊                                              | 370/6477 [07:48<2:16:57,  1.35s/it]"
     ]
    },
    {
     "name": "stdout",
     "output_type": "stream",
     "text": [
      "Data for TIMB updated in data\\TIMB.csv.\n",
      "Updating data for GBX...\n"
     ]
    },
    {
     "name": "stderr",
     "output_type": "stream",
     "text": [
      "[*********************100%%**********************]  1 of 1 completed\n",
      "Downloading data for SBAC: :   6%|██▋                                             | 371/6477 [07:49<2:14:10,  1.32s/it]"
     ]
    },
    {
     "name": "stdout",
     "output_type": "stream",
     "text": [
      "Data for GBX updated in data\\GBX.csv.\n",
      "Updating data for SBAC...\n"
     ]
    },
    {
     "name": "stderr",
     "output_type": "stream",
     "text": [
      "[*********************100%%**********************]  1 of 1 completed\n",
      "Downloading data for FAM: :   6%|██▊                                              | 372/6477 [07:51<2:11:51,  1.30s/it]"
     ]
    },
    {
     "name": "stdout",
     "output_type": "stream",
     "text": [
      "Data for SBAC updated in data\\SBAC.csv.\n",
      "Updating data for FAM...\n"
     ]
    },
    {
     "name": "stderr",
     "output_type": "stream",
     "text": [
      "[*********************100%%**********************]  1 of 1 completed\n",
      "Downloading data for USB: :   6%|██▊                                              | 373/6477 [07:52<2:11:22,  1.29s/it]"
     ]
    },
    {
     "name": "stdout",
     "output_type": "stream",
     "text": [
      "Data for FAM updated in data\\FAM.csv.\n",
      "Updating data for USB...\n"
     ]
    },
    {
     "name": "stderr",
     "output_type": "stream",
     "text": [
      "[*********************100%%**********************]  1 of 1 completed\n",
      "Downloading data for WABC: :   6%|██▊                                             | 374/6477 [07:53<2:18:33,  1.36s/it]"
     ]
    },
    {
     "name": "stdout",
     "output_type": "stream",
     "text": [
      "Data for USB updated in data\\USB.csv.\n",
      "Updating data for WABC...\n"
     ]
    },
    {
     "name": "stderr",
     "output_type": "stream",
     "text": [
      "[*********************100%%**********************]  1 of 1 completed\n",
      "[*********************100%%**********************]  1 of 1 completed              | 375/6477 [07:55<2:17:18,  1.35s/it]"
     ]
    },
    {
     "name": "stdout",
     "output_type": "stream",
     "text": [
      "Data for WABC updated in data\\WABC.csv.\n",
      "Updating data for RFL...\n"
     ]
    },
    {
     "name": "stderr",
     "output_type": "stream",
     "text": [
      "\n",
      "[*********************100%%**********************]  1 of 1 completed              | 376/6477 [07:56<2:12:17,  1.30s/it]"
     ]
    },
    {
     "name": "stdout",
     "output_type": "stream",
     "text": [
      "Data for RFL updated in data\\RFL.csv.\n",
      "Updating data for MYSZ...\n"
     ]
    },
    {
     "name": "stderr",
     "output_type": "stream",
     "text": [
      "\n",
      "Downloading data for CNC: :   6%|██▊                                              | 377/6477 [07:57<2:09:15,  1.27s/it]"
     ]
    },
    {
     "name": "stdout",
     "output_type": "stream",
     "text": [
      "Data for MYSZ updated in data\\MYSZ.csv.\n",
      "Updating data for CNC...\n"
     ]
    },
    {
     "name": "stderr",
     "output_type": "stream",
     "text": [
      "[*********************100%%**********************]  1 of 1 completed\n",
      "Downloading data for CHKEL: :   6%|██▋                                            | 378/6477 [07:58<2:08:52,  1.27s/it]"
     ]
    },
    {
     "name": "stdout",
     "output_type": "stream",
     "text": [
      "Data for CNC updated in data\\CNC.csv.\n",
      "Updating data for CHKEL...\n"
     ]
    },
    {
     "name": "stderr",
     "output_type": "stream",
     "text": [
      "[*********************100%%**********************]  1 of 1 completed\n",
      "Downloading data for IGI: :   6%|██▊                                              | 379/6477 [08:00<2:14:20,  1.32s/it]"
     ]
    },
    {
     "name": "stdout",
     "output_type": "stream",
     "text": [
      "Data for CHKEL updated in data\\CHKEL.csv.\n",
      "Updating data for IGI...\n"
     ]
    },
    {
     "name": "stderr",
     "output_type": "stream",
     "text": [
      "[*********************100%%**********************]  1 of 1 completed\n",
      "[*********************100%%**********************]  1 of 1 completed              | 380/6477 [08:01<2:12:17,  1.30s/it]"
     ]
    },
    {
     "name": "stdout",
     "output_type": "stream",
     "text": [
      "Data for IGI updated in data\\IGI.csv.\n",
      "Updating data for LX...\n"
     ]
    },
    {
     "name": "stderr",
     "output_type": "stream",
     "text": [
      "\n",
      "[*********************100%%**********************]  1 of 1 completed              | 381/6477 [08:02<2:08:59,  1.27s/it]"
     ]
    },
    {
     "name": "stdout",
     "output_type": "stream",
     "text": [
      "Data for LX updated in data\\LX.csv.\n",
      "Updating data for GRI...\n"
     ]
    },
    {
     "name": "stderr",
     "output_type": "stream",
     "text": [
      "\n",
      "Downloading data for CPF: :   6%|██▉                                              | 382/6477 [08:03<2:06:52,  1.25s/it]"
     ]
    },
    {
     "name": "stdout",
     "output_type": "stream",
     "text": [
      "Data for GRI updated in data\\GRI.csv.\n",
      "Updating data for CPF...\n"
     ]
    },
    {
     "name": "stderr",
     "output_type": "stream",
     "text": [
      "[*********************100%%**********************]  1 of 1 completed\n",
      "Downloading data for ENTX: :   6%|██▊                                             | 383/6477 [08:05<2:07:44,  1.26s/it]"
     ]
    },
    {
     "name": "stdout",
     "output_type": "stream",
     "text": [
      "Data for CPF updated in data\\CPF.csv.\n",
      "Updating data for ENTX...\n"
     ]
    },
    {
     "name": "stderr",
     "output_type": "stream",
     "text": [
      "[*********************100%%**********************]  1 of 1 completed\n",
      "[*********************100%%**********************]  1 of 1 completed              | 384/6477 [08:06<2:12:55,  1.31s/it]"
     ]
    },
    {
     "name": "stdout",
     "output_type": "stream",
     "text": [
      "Data for ENTX updated in data\\ENTX.csv.\n",
      "Updating data for TDOC...\n"
     ]
    },
    {
     "name": "stderr",
     "output_type": "stream",
     "text": [
      "\n",
      "[*********************100%%**********************]  1 of 1 completed              | 385/6477 [08:07<2:09:42,  1.28s/it]"
     ]
    },
    {
     "name": "stdout",
     "output_type": "stream",
     "text": [
      "Data for TDOC updated in data\\TDOC.csv.\n",
      "Updating data for NYMTZ...\n"
     ]
    },
    {
     "name": "stderr",
     "output_type": "stream",
     "text": [
      "\n",
      "Downloading data for ETX           : :   6%|██▎                                   | 386/6477 [08:09<2:07:40,  1.26s/it]"
     ]
    },
    {
     "name": "stdout",
     "output_type": "stream",
     "text": [
      "Data for NYMTZ updated in data\\NYMTZ.csv.\n",
      "Updating data for ETX           ...\n"
     ]
    },
    {
     "name": "stderr",
     "output_type": "stream",
     "text": [
      "[*********************100%%**********************]  1 of 1 completed\n",
      "[*********************100%%**********************]  1 of 1 completed              | 387/6477 [08:10<2:07:03,  1.25s/it]"
     ]
    },
    {
     "name": "stdout",
     "output_type": "stream",
     "text": [
      "Data for ETX            updated in data\\ETX           .csv.\n",
      "Updating data for LYRA...\n"
     ]
    },
    {
     "name": "stderr",
     "output_type": "stream",
     "text": [
      "\n",
      "[*********************100%%**********************]  1 of 1 completed              | 388/6477 [08:11<2:05:29,  1.24s/it]"
     ]
    },
    {
     "name": "stdout",
     "output_type": "stream",
     "text": [
      "Data for LYRA updated in data\\LYRA.csv.\n",
      "Updating data for KEYS...\n"
     ]
    },
    {
     "name": "stderr",
     "output_type": "stream",
     "text": [
      "\n",
      "[*********************100%%**********************]  1 of 1 completed              | 389/6477 [08:12<2:04:37,  1.23s/it]"
     ]
    },
    {
     "name": "stdout",
     "output_type": "stream",
     "text": [
      "Data for KEYS updated in data\\KEYS.csv.\n",
      "Updating data for SBBA...\n"
     ]
    },
    {
     "name": "stderr",
     "output_type": "stream",
     "text": [
      "\n",
      "Downloading data for SNT: :   6%|██▉                                              | 390/6477 [08:13<2:03:20,  1.22s/it]"
     ]
    },
    {
     "name": "stdout",
     "output_type": "stream",
     "text": [
      "Data for SBBA updated in data\\SBBA.csv.\n",
      "Updating data for SNT...\n"
     ]
    },
    {
     "name": "stderr",
     "output_type": "stream",
     "text": [
      "[*********************100%%**********************]  1 of 1 completed\n",
      "[*********************100%%**********************]  1 of 1 completed              | 391/6477 [08:15<2:12:15,  1.30s/it]"
     ]
    },
    {
     "name": "stdout",
     "output_type": "stream",
     "text": [
      "Data for SNT updated in data\\SNT.csv.\n",
      "Updating data for TENKR...\n"
     ]
    },
    {
     "name": "stderr",
     "output_type": "stream",
     "text": [
      "\n",
      "[*********************100%%**********************]  1 of 1 completed              | 392/6477 [08:16<2:08:26,  1.27s/it]"
     ]
    },
    {
     "name": "stdout",
     "output_type": "stream",
     "text": [
      "Data for TENKR updated in data\\TENKR.csv.\n",
      "Updating data for UNMA...\n"
     ]
    },
    {
     "name": "stderr",
     "output_type": "stream",
     "text": [
      "\n",
      "[*********************100%%**********************]  1 of 1 completed              | 393/6477 [08:17<2:07:28,  1.26s/it]"
     ]
    },
    {
     "name": "stdout",
     "output_type": "stream",
     "text": [
      "Data for UNMA updated in data\\UNMA.csv.\n",
      "Updating data for LIFE...\n"
     ]
    },
    {
     "name": "stderr",
     "output_type": "stream",
     "text": [
      "\n",
      "Downloading data for MYPS: :   6%|██▉                                             | 394/6477 [08:19<2:05:46,  1.24s/it]"
     ]
    },
    {
     "name": "stdout",
     "output_type": "stream",
     "text": [
      "Data for LIFE updated in data\\LIFE.csv.\n",
      "Updating data for MYPS...\n"
     ]
    },
    {
     "name": "stderr",
     "output_type": "stream",
     "text": [
      "[*********************100%%**********************]  1 of 1 completed\n",
      "[*********************100%%**********************]  1 of 1 completed              | 395/6477 [08:20<2:11:59,  1.30s/it]"
     ]
    },
    {
     "name": "stdout",
     "output_type": "stream",
     "text": [
      "Data for MYPS updated in data\\MYPS.csv.\n",
      "Updating data for TRTL...\n"
     ]
    },
    {
     "name": "stderr",
     "output_type": "stream",
     "text": [
      "\n",
      "Downloading data for TVC: :   6%|██▉                                              | 396/6477 [08:21<2:08:22,  1.27s/it]"
     ]
    },
    {
     "name": "stdout",
     "output_type": "stream",
     "text": [
      "Data for TRTL updated in data\\TRTL.csv.\n",
      "Updating data for TVC...\n"
     ]
    },
    {
     "name": "stderr",
     "output_type": "stream",
     "text": [
      "[*********************100%%**********************]  1 of 1 completed\n",
      "[*********************100%%**********************]  1 of 1 completed              | 397/6477 [08:22<2:07:36,  1.26s/it]"
     ]
    },
    {
     "name": "stdout",
     "output_type": "stream",
     "text": [
      "Data for TVC updated in data\\TVC.csv.\n",
      "Updating data for BYSI...\n"
     ]
    },
    {
     "name": "stderr",
     "output_type": "stream",
     "text": [
      "\n",
      "Downloading data for CPK: :   6%|███                                              | 398/6477 [08:24<2:05:53,  1.24s/it]"
     ]
    },
    {
     "name": "stdout",
     "output_type": "stream",
     "text": [
      "Data for BYSI updated in data\\BYSI.csv.\n",
      "Updating data for CPK...\n"
     ]
    },
    {
     "name": "stderr",
     "output_type": "stream",
     "text": [
      "[*********************100%%**********************]  1 of 1 completed\n",
      "Downloading data for SPI: :   6%|███                                              | 399/6477 [08:25<2:13:33,  1.32s/it]"
     ]
    },
    {
     "name": "stdout",
     "output_type": "stream",
     "text": [
      "Data for CPK updated in data\\CPK.csv.\n",
      "Updating data for SPI...\n"
     ]
    },
    {
     "name": "stderr",
     "output_type": "stream",
     "text": [
      "[*********************100%%**********************]  1 of 1 completed\n",
      "Downloading data for NXC: :   6%|███                                              | 400/6477 [08:27<2:17:28,  1.36s/it]"
     ]
    },
    {
     "name": "stdout",
     "output_type": "stream",
     "text": [
      "Data for SPI updated in data\\SPI.csv.\n",
      "Updating data for NXC...\n"
     ]
    },
    {
     "name": "stderr",
     "output_type": "stream",
     "text": [
      "[*********************100%%**********************]  1 of 1 completed\n",
      "Downloading data for TZOO: :   6%|██▉                                             | 401/6477 [08:28<2:16:49,  1.35s/it]"
     ]
    },
    {
     "name": "stdout",
     "output_type": "stream",
     "text": [
      "Data for NXC updated in data\\NXC.csv.\n",
      "Updating data for TZOO...\n"
     ]
    },
    {
     "name": "stderr",
     "output_type": "stream",
     "text": [
      "[*********************100%%**********************]  1 of 1 completed\n",
      "Downloading data for PNF: :   6%|███                                              | 402/6477 [08:29<2:13:10,  1.32s/it]"
     ]
    },
    {
     "name": "stdout",
     "output_type": "stream",
     "text": [
      "Data for TZOO updated in data\\TZOO.csv.\n",
      "Updating data for PNF...\n"
     ]
    },
    {
     "name": "stderr",
     "output_type": "stream",
     "text": [
      "[*********************100%%**********************]  1 of 1 completed\n",
      "[*********************100%%**********************]  1 of 1 completed              | 403/6477 [08:31<2:18:49,  1.37s/it]"
     ]
    },
    {
     "name": "stdout",
     "output_type": "stream",
     "text": [
      "Data for PNF updated in data\\PNF.csv.\n",
      "Updating data for GHIX...\n"
     ]
    },
    {
     "name": "stderr",
     "output_type": "stream",
     "text": [
      "\n",
      "Downloading data for WDFC: :   6%|██▉                                             | 404/6477 [08:32<2:13:29,  1.32s/it]"
     ]
    },
    {
     "name": "stdout",
     "output_type": "stream",
     "text": [
      "Data for GHIX updated in data\\GHIX.csv.\n",
      "Updating data for WDFC...\n"
     ]
    },
    {
     "name": "stderr",
     "output_type": "stream",
     "text": [
      "[*********************100%%**********************]  1 of 1 completed\n",
      "[*********************100%%**********************]  1 of 1 completed              | 405/6477 [08:33<2:13:02,  1.31s/it]"
     ]
    },
    {
     "name": "stdout",
     "output_type": "stream",
     "text": [
      "Data for WDFC updated in data\\WDFC.csv.\n",
      "Updating data for GEOS...\n"
     ]
    },
    {
     "name": "stderr",
     "output_type": "stream",
     "text": [
      "\n",
      "Downloading data for BACA: :   6%|███                                             | 406/6477 [08:34<2:10:24,  1.29s/it]"
     ]
    },
    {
     "name": "stdout",
     "output_type": "stream",
     "text": [
      "Data for GEOS updated in data\\GEOS.csv.\n",
      "Updating data for BACA...\n"
     ]
    },
    {
     "name": "stderr",
     "output_type": "stream",
     "text": [
      "[*********************100%%**********************]  1 of 1 completed\n",
      "Downloading data for OPAD: :   6%|███                                             | 407/6477 [08:36<2:14:21,  1.33s/it]"
     ]
    },
    {
     "name": "stdout",
     "output_type": "stream",
     "text": [
      "Data for BACA updated in data\\BACA.csv.\n",
      "Updating data for OPAD...\n"
     ]
    },
    {
     "name": "stderr",
     "output_type": "stream",
     "text": [
      "[*********************100%%**********************]  1 of 1 completed\n",
      "[*********************100%%**********************]  1 of 1 completed              | 408/6477 [08:37<2:14:52,  1.33s/it]"
     ]
    },
    {
     "name": "stdout",
     "output_type": "stream",
     "text": [
      "Data for OPAD updated in data\\OPAD.csv.\n",
      "Updating data for IT...\n"
     ]
    },
    {
     "name": "stderr",
     "output_type": "stream",
     "text": [
      "\n",
      "Downloading data for AHT: :   6%|███                                              | 409/6477 [08:38<2:11:23,  1.30s/it]"
     ]
    },
    {
     "name": "stdout",
     "output_type": "stream",
     "text": [
      "Data for IT updated in data\\IT.csv.\n",
      "Updating data for AHT...\n"
     ]
    },
    {
     "name": "stderr",
     "output_type": "stream",
     "text": [
      "[*********************100%%**********************]  1 of 1 completed\n",
      "Downloading data for ETD: :   6%|███                                              | 410/6477 [08:40<2:16:18,  1.35s/it]"
     ]
    },
    {
     "name": "stdout",
     "output_type": "stream",
     "text": [
      "Data for AHT updated in data\\AHT.csv.\n",
      "Updating data for ETD...\n"
     ]
    },
    {
     "name": "stderr",
     "output_type": "stream",
     "text": [
      "[*********************100%%**********************]  1 of 1 completed\n",
      "Downloading data for UXIN: :   6%|███                                             | 411/6477 [08:41<2:20:33,  1.39s/it]"
     ]
    },
    {
     "name": "stdout",
     "output_type": "stream",
     "text": [
      "Data for ETD updated in data\\ETD.csv.\n",
      "Updating data for UXIN...\n"
     ]
    },
    {
     "name": "stderr",
     "output_type": "stream",
     "text": [
      "[*********************100%%**********************]  1 of 1 completed\n",
      "Downloading data for BCS: :   6%|███                                              | 412/6477 [08:43<2:16:02,  1.35s/it]"
     ]
    },
    {
     "name": "stdout",
     "output_type": "stream",
     "text": [
      "Data for UXIN updated in data\\UXIN.csv.\n",
      "Updating data for BCS...\n"
     ]
    },
    {
     "name": "stderr",
     "output_type": "stream",
     "text": [
      "[*********************100%%**********************]  1 of 1 completed\n",
      "Downloading data for ESE: :   6%|███                                              | 413/6477 [08:44<2:14:07,  1.33s/it]"
     ]
    },
    {
     "name": "stdout",
     "output_type": "stream",
     "text": [
      "Data for BCS updated in data\\BCS.csv.\n",
      "Updating data for ESE...\n"
     ]
    },
    {
     "name": "stderr",
     "output_type": "stream",
     "text": [
      "[*********************100%%**********************]  1 of 1 completed\n",
      "Downloading data for GRTX: :   6%|███                                             | 414/6477 [08:45<2:12:04,  1.31s/it]"
     ]
    },
    {
     "name": "stdout",
     "output_type": "stream",
     "text": [
      "Data for ESE updated in data\\ESE.csv.\n",
      "Updating data for GRTX...\n"
     ]
    },
    {
     "name": "stderr",
     "output_type": "stream",
     "text": [
      "[*********************100%%**********************]  1 of 1 completed\n",
      "[*********************100%%**********************]  1 of 1 completed              | 415/6477 [08:46<2:09:30,  1.28s/it]"
     ]
    },
    {
     "name": "stdout",
     "output_type": "stream",
     "text": [
      "Data for GRTX updated in data\\GRTX.csv.\n",
      "Updating data for VVOS...\n"
     ]
    },
    {
     "name": "stderr",
     "output_type": "stream",
     "text": [
      "\n",
      "Downloading data for AXGN: :   6%|███                                             | 416/6477 [08:48<2:06:50,  1.26s/it]"
     ]
    },
    {
     "name": "stdout",
     "output_type": "stream",
     "text": [
      "Data for VVOS updated in data\\VVOS.csv.\n",
      "Updating data for AXGN...\n"
     ]
    },
    {
     "name": "stderr",
     "output_type": "stream",
     "text": [
      "[*********************100%%**********************]  1 of 1 completed\n",
      "[*********************100%%**********************]  1 of 1 completed              | 417/6477 [08:49<2:07:12,  1.26s/it]"
     ]
    },
    {
     "name": "stdout",
     "output_type": "stream",
     "text": [
      "Data for AXGN updated in data\\AXGN.csv.\n",
      "Updating data for MITT...\n"
     ]
    },
    {
     "name": "stderr",
     "output_type": "stream",
     "text": [
      "\n",
      "[*********************100%%**********************]  1 of 1 completed              | 418/6477 [08:50<2:06:18,  1.25s/it]"
     ]
    },
    {
     "name": "stdout",
     "output_type": "stream",
     "text": [
      "Data for MITT updated in data\\MITT.csv.\n",
      "Updating data for HLVX...\n"
     ]
    },
    {
     "name": "stderr",
     "output_type": "stream",
     "text": [
      "\n",
      "[*********************100%%**********************]  1 of 1 completed              | 419/6477 [08:51<2:04:21,  1.23s/it]"
     ]
    },
    {
     "name": "stdout",
     "output_type": "stream",
     "text": [
      "Data for HLVX updated in data\\HLVX.csv.\n",
      "Updating data for YALA...\n"
     ]
    },
    {
     "name": "stderr",
     "output_type": "stream",
     "text": [
      "\n",
      "Downloading data for FCRX: :   6%|███                                             | 420/6477 [08:52<2:03:10,  1.22s/it]"
     ]
    },
    {
     "name": "stdout",
     "output_type": "stream",
     "text": [
      "Data for YALA updated in data\\YALA.csv.\n",
      "Updating data for FCRX...\n"
     ]
    },
    {
     "name": "stderr",
     "output_type": "stream",
     "text": [
      "[*********************100%%**********************]  1 of 1 completed\n",
      "Downloading data for HP: :   6%|███▏                                              | 421/6477 [08:54<2:03:14,  1.22s/it]"
     ]
    },
    {
     "name": "stdout",
     "output_type": "stream",
     "text": [
      "Data for FCRX updated in data\\FCRX.csv.\n",
      "Updating data for HP...\n"
     ]
    },
    {
     "name": "stderr",
     "output_type": "stream",
     "text": [
      "[*********************100%%**********************]  1 of 1 completed\n",
      "[*********************100%%**********************]  1 of 1 completed              | 422/6477 [08:55<2:07:14,  1.26s/it]"
     ]
    },
    {
     "name": "stdout",
     "output_type": "stream",
     "text": [
      "Data for HP updated in data\\HP.csv.\n",
      "Updating data for ALLR...\n"
     ]
    },
    {
     "name": "stderr",
     "output_type": "stream",
     "text": [
      "\n",
      "[*********************100%%**********************]  1 of 1 completed              | 423/6477 [08:56<2:05:21,  1.24s/it]"
     ]
    },
    {
     "name": "stdout",
     "output_type": "stream",
     "text": [
      "Data for ALLR updated in data\\ALLR.csv.\n",
      "Updating data for DCOMP...\n"
     ]
    },
    {
     "name": "stderr",
     "output_type": "stream",
     "text": [
      "\n",
      "[*********************100%%**********************]  1 of 1 completed              | 424/6477 [08:57<2:04:07,  1.23s/it]"
     ]
    },
    {
     "name": "stdout",
     "output_type": "stream",
     "text": [
      "Data for DCOMP updated in data\\DCOMP.csv.\n",
      "Updating data for TTI...\n"
     ]
    },
    {
     "name": "stderr",
     "output_type": "stream",
     "text": [
      "\n",
      "Downloading data for LYTS: :   7%|███▏                                            | 425/6477 [08:59<2:04:22,  1.23s/it]"
     ]
    },
    {
     "name": "stdout",
     "output_type": "stream",
     "text": [
      "Data for TTI updated in data\\TTI.csv.\n",
      "Updating data for LYTS...\n"
     ]
    },
    {
     "name": "stderr",
     "output_type": "stream",
     "text": [
      "[*********************100%%**********************]  1 of 1 completed\n",
      "Downloading data for EB: :   7%|███▎                                              | 426/6477 [09:00<2:05:46,  1.25s/it]"
     ]
    },
    {
     "name": "stdout",
     "output_type": "stream",
     "text": [
      "Data for LYTS updated in data\\LYTS.csv.\n",
      "Updating data for EB...\n"
     ]
    },
    {
     "name": "stderr",
     "output_type": "stream",
     "text": [
      "[*********************100%%**********************]  1 of 1 completed\n",
      "Downloading data for AKR: :   7%|███▏                                             | 427/6477 [09:02<2:27:54,  1.47s/it]"
     ]
    },
    {
     "name": "stdout",
     "output_type": "stream",
     "text": [
      "Data for EB updated in data\\EB.csv.\n",
      "Updating data for AKR...\n"
     ]
    },
    {
     "name": "stderr",
     "output_type": "stream",
     "text": [
      "[*********************100%%**********************]  1 of 1 completed\n",
      "[*********************100%%**********************]  1 of 1 completed              | 428/6477 [09:03<2:28:35,  1.47s/it]"
     ]
    },
    {
     "name": "stdout",
     "output_type": "stream",
     "text": [
      "Data for AKR updated in data\\AKR.csv.\n",
      "Updating data for BCYC...\n"
     ]
    },
    {
     "name": "stderr",
     "output_type": "stream",
     "text": [
      "\n",
      "[*********************100%%**********************]  1 of 1 completed              | 429/6477 [09:05<2:19:48,  1.39s/it]"
     ]
    },
    {
     "name": "stdout",
     "output_type": "stream",
     "text": [
      "Data for BCYC updated in data\\BCYC.csv.\n",
      "Updating data for WFRD...\n"
     ]
    },
    {
     "name": "stderr",
     "output_type": "stream",
     "text": [
      "\n",
      "Downloading data for MSFT: :   7%|███▏                                            | 430/6477 [09:06<2:14:28,  1.33s/it]"
     ]
    },
    {
     "name": "stdout",
     "output_type": "stream",
     "text": [
      "Data for WFRD updated in data\\WFRD.csv.\n",
      "Updating data for MSFT...\n"
     ]
    },
    {
     "name": "stderr",
     "output_type": "stream",
     "text": [
      "[*********************100%%**********************]  1 of 1 completed\n",
      "[*********************100%%**********************]  1 of 1 completed              | 431/6477 [09:07<2:12:31,  1.32s/it]"
     ]
    },
    {
     "name": "stdout",
     "output_type": "stream",
     "text": [
      "Data for MSFT updated in data\\MSFT.csv.\n",
      "Updating data for FLT...\n"
     ]
    },
    {
     "name": "stderr",
     "output_type": "stream",
     "text": [
      "\n",
      "[*********************100%%**********************]  1 of 1 completed              | 432/6477 [09:08<2:09:07,  1.28s/it]"
     ]
    },
    {
     "name": "stdout",
     "output_type": "stream",
     "text": [
      "Data for FLT updated in data\\FLT.csv.\n",
      "Updating data for RMCOW...\n"
     ]
    },
    {
     "name": "stderr",
     "output_type": "stream",
     "text": [
      "\n",
      "[*********************100%%**********************]  1 of 1 completed              | 433/6477 [09:09<2:06:06,  1.25s/it]"
     ]
    },
    {
     "name": "stdout",
     "output_type": "stream",
     "text": [
      "Data for RMCOW updated in data\\RMCOW.csv.\n",
      "Updating data for DTI...\n"
     ]
    },
    {
     "name": "stderr",
     "output_type": "stream",
     "text": [
      "\n",
      "[*********************100%%**********************]  1 of 1 completed              | 434/6477 [09:11<2:04:14,  1.23s/it]"
     ]
    },
    {
     "name": "stdout",
     "output_type": "stream",
     "text": [
      "Data for DTI updated in data\\DTI.csv.\n",
      "Updating data for BNR...\n"
     ]
    },
    {
     "name": "stderr",
     "output_type": "stream",
     "text": [
      "\n",
      "Downloading data for TNK: :   7%|███▎                                             | 435/6477 [09:12<2:03:22,  1.23s/it]"
     ]
    },
    {
     "name": "stdout",
     "output_type": "stream",
     "text": [
      "Data for BNR updated in data\\BNR.csv.\n",
      "Updating data for TNK...\n"
     ]
    },
    {
     "name": "stderr",
     "output_type": "stream",
     "text": [
      "[*********************100%%**********************]  1 of 1 completed\n",
      "Downloading data for IEX: :   7%|███▎                                             | 436/6477 [09:13<2:10:47,  1.30s/it]"
     ]
    },
    {
     "name": "stdout",
     "output_type": "stream",
     "text": [
      "Data for TNK updated in data\\TNK.csv.\n",
      "Updating data for IEX...\n"
     ]
    },
    {
     "name": "stderr",
     "output_type": "stream",
     "text": [
      "[*********************100%%**********************]  1 of 1 completed\n",
      "[*********************100%%**********************]  1 of 1 completed              | 437/6477 [09:15<2:09:19,  1.28s/it]"
     ]
    },
    {
     "name": "stdout",
     "output_type": "stream",
     "text": [
      "Data for IEX updated in data\\IEX.csv.\n",
      "Updating data for DVA...\n"
     ]
    },
    {
     "name": "stderr",
     "output_type": "stream",
     "text": [
      "\n",
      "[*********************100%%**********************]  1 of 1 completed              | 438/6477 [09:16<2:07:07,  1.26s/it]"
     ]
    },
    {
     "name": "stdout",
     "output_type": "stream",
     "text": [
      "Data for DVA updated in data\\DVA.csv.\n",
      "Updating data for VOC...\n"
     ]
    },
    {
     "name": "stderr",
     "output_type": "stream",
     "text": [
      "\n",
      "[*********************100%%**********************]  1 of 1 completed              | 439/6477 [09:17<2:06:10,  1.25s/it]"
     ]
    },
    {
     "name": "stdout",
     "output_type": "stream",
     "text": [
      "Data for VOC updated in data\\VOC.csv.\n",
      "Updating data for NVVE...\n"
     ]
    },
    {
     "name": "stderr",
     "output_type": "stream",
     "text": [
      "\n",
      "[*********************100%%**********************]  1 of 1 completed              | 440/6477 [09:18<2:04:44,  1.24s/it]"
     ]
    },
    {
     "name": "stdout",
     "output_type": "stream",
     "text": [
      "Data for NVVE updated in data\\NVVE.csv.\n",
      "Updating data for RICK...\n"
     ]
    },
    {
     "name": "stderr",
     "output_type": "stream",
     "text": [
      "\n",
      "Downloading data for SLAMU: :   7%|███▏                                           | 441/6477 [09:19<2:04:48,  1.24s/it]"
     ]
    },
    {
     "name": "stdout",
     "output_type": "stream",
     "text": [
      "Data for RICK updated in data\\RICK.csv.\n",
      "Updating data for SLAMU...\n"
     ]
    },
    {
     "name": "stderr",
     "output_type": "stream",
     "text": [
      "[*********************100%%**********************]  1 of 1 completed\n",
      "Downloading data for ADBE: :   7%|███▎                                            | 442/6477 [09:21<2:11:08,  1.30s/it]"
     ]
    },
    {
     "name": "stdout",
     "output_type": "stream",
     "text": [
      "Data for SLAMU updated in data\\SLAMU.csv.\n",
      "Updating data for ADBE...\n"
     ]
    },
    {
     "name": "stderr",
     "output_type": "stream",
     "text": [
      "[*********************100%%**********************]  1 of 1 completed\n",
      "Downloading data for AOS: :   7%|███▎                                             | 443/6477 [09:22<2:09:33,  1.29s/it]"
     ]
    },
    {
     "name": "stdout",
     "output_type": "stream",
     "text": [
      "Data for ADBE updated in data\\ADBE.csv.\n",
      "Updating data for AOS...\n"
     ]
    },
    {
     "name": "stderr",
     "output_type": "stream",
     "text": [
      "[*********************100%%**********************]  1 of 1 completed\n",
      "[*********************100%%**********************]  1 of 1 completed              | 444/6477 [09:23<2:09:55,  1.29s/it]"
     ]
    },
    {
     "name": "stdout",
     "output_type": "stream",
     "text": [
      "Data for AOS updated in data\\AOS.csv.\n",
      "Updating data for XELB...\n"
     ]
    },
    {
     "name": "stderr",
     "output_type": "stream",
     "text": [
      "\n",
      "Downloading data for CVGI: :   7%|███▎                                            | 445/6477 [09:25<2:07:25,  1.27s/it]"
     ]
    },
    {
     "name": "stdout",
     "output_type": "stream",
     "text": [
      "Data for XELB updated in data\\XELB.csv.\n",
      "Updating data for CVGI...\n"
     ]
    },
    {
     "name": "stderr",
     "output_type": "stream",
     "text": [
      "[*********************100%%**********************]  1 of 1 completed\n",
      "[*********************100%%**********************]  1 of 1 completed              | 446/6477 [09:26<2:13:23,  1.33s/it]"
     ]
    },
    {
     "name": "stdout",
     "output_type": "stream",
     "text": [
      "Data for CVGI updated in data\\CVGI.csv.\n",
      "Updating data for EEFT...\n"
     ]
    },
    {
     "name": "stderr",
     "output_type": "stream",
     "text": [
      "\n",
      "Downloading data for FFIEW: :   7%|███▏                                           | 447/6477 [09:27<2:10:22,  1.30s/it]"
     ]
    },
    {
     "name": "stdout",
     "output_type": "stream",
     "text": [
      "Data for EEFT updated in data\\EEFT.csv.\n",
      "Updating data for FFIEW...\n"
     ]
    },
    {
     "name": "stderr",
     "output_type": "stream",
     "text": [
      "[*********************100%%**********************]  1 of 1 completed\n",
      "[*********************100%%**********************]  1 of 1 completed              | 448/6477 [09:29<2:07:27,  1.27s/it]"
     ]
    },
    {
     "name": "stdout",
     "output_type": "stream",
     "text": [
      "Data for FFIEW updated in data\\FFIEW.csv.\n",
      "Updating data for MHO...\n"
     ]
    },
    {
     "name": "stderr",
     "output_type": "stream",
     "text": [
      "\n",
      "[*********************100%%**********************]  1 of 1 completed              | 449/6477 [09:30<2:06:44,  1.26s/it]"
     ]
    },
    {
     "name": "stdout",
     "output_type": "stream",
     "text": [
      "Data for MHO updated in data\\MHO.csv.\n",
      "Updating data for NWE...\n"
     ]
    },
    {
     "name": "stderr",
     "output_type": "stream",
     "text": [
      "\n",
      "Downloading data for FLO: :   7%|███▍                                             | 450/6477 [09:31<2:05:40,  1.25s/it]"
     ]
    },
    {
     "name": "stdout",
     "output_type": "stream",
     "text": [
      "Data for NWE updated in data\\NWE.csv.\n",
      "Updating data for FLO...\n"
     ]
    },
    {
     "name": "stderr",
     "output_type": "stream",
     "text": [
      "[*********************100%%**********************]  1 of 1 completed\n",
      "Downloading data for HTOOW: :   7%|███▎                                           | 451/6477 [09:32<2:07:02,  1.26s/it]"
     ]
    },
    {
     "name": "stdout",
     "output_type": "stream",
     "text": [
      "Data for FLO updated in data\\FLO.csv.\n",
      "Updating data for HTOOW...\n"
     ]
    },
    {
     "name": "stderr",
     "output_type": "stream",
     "text": [
      "[*********************100%%**********************]  1 of 1 completed\n",
      "Downloading data for CRH: :   7%|███▍                                             | 452/6477 [09:34<2:12:44,  1.32s/it]"
     ]
    },
    {
     "name": "stdout",
     "output_type": "stream",
     "text": [
      "Data for HTOOW updated in data\\HTOOW.csv.\n",
      "Updating data for CRH...\n"
     ]
    },
    {
     "name": "stderr",
     "output_type": "stream",
     "text": [
      "[*********************100%%**********************]  1 of 1 completed\n",
      "Downloading data for XOM: :   7%|███▍                                             | 453/6477 [09:35<2:11:15,  1.31s/it]"
     ]
    },
    {
     "name": "stdout",
     "output_type": "stream",
     "text": [
      "Data for CRH updated in data\\CRH.csv.\n",
      "Updating data for XOM...\n"
     ]
    },
    {
     "name": "stderr",
     "output_type": "stream",
     "text": [
      "[*********************100%%**********************]  1 of 1 completed\n",
      "Downloading data for EWBC: :   7%|███▎                                            | 454/6477 [09:36<2:13:00,  1.33s/it]"
     ]
    },
    {
     "name": "stdout",
     "output_type": "stream",
     "text": [
      "Data for XOM updated in data\\XOM.csv.\n",
      "Updating data for EWBC...\n"
     ]
    },
    {
     "name": "stderr",
     "output_type": "stream",
     "text": [
      "[*********************100%%**********************]  1 of 1 completed\n",
      "Downloading data for BA: :   7%|███▌                                              | 455/6477 [09:38<2:10:47,  1.30s/it]"
     ]
    },
    {
     "name": "stdout",
     "output_type": "stream",
     "text": [
      "Data for EWBC updated in data\\EWBC.csv.\n",
      "Updating data for BA...\n"
     ]
    },
    {
     "name": "stderr",
     "output_type": "stream",
     "text": [
      "[*********************100%%**********************]  1 of 1 completed\n",
      "Downloading data for PBR.A: :   7%|███▎                                           | 456/6477 [09:39<2:12:48,  1.32s/it]"
     ]
    },
    {
     "name": "stdout",
     "output_type": "stream",
     "text": [
      "Data for BA updated in data\\BA.csv.\n"
     ]
    },
    {
     "name": "stderr",
     "output_type": "stream",
     "text": [
      "[*********************100%%**********************]  1 of 1 completed\n",
      "\n",
      "1 Failed download:\n",
      "['PBR.A']: Exception('%ticker%: No timezone found, symbol may be delisted')\n",
      "[*********************100%%**********************]  1 of 1 completed              | 457/6477 [09:43<3:27:59,  2.07s/it]"
     ]
    },
    {
     "name": "stdout",
     "output_type": "stream",
     "text": [
      "No data found for PBR.A.\n",
      "Updating data for HSPO...\n"
     ]
    },
    {
     "name": "stderr",
     "output_type": "stream",
     "text": [
      "\n",
      "[*********************100%%**********************]  1 of 1 completed              | 458/6477 [09:44<3:01:50,  1.81s/it]"
     ]
    },
    {
     "name": "stdout",
     "output_type": "stream",
     "text": [
      "Data for HSPO updated in data\\HSPO.csv.\n",
      "Updating data for CWD...\n"
     ]
    },
    {
     "name": "stderr",
     "output_type": "stream",
     "text": [
      "\n",
      "Downloading data for ENCPW: :   7%|███▎                                           | 459/6477 [09:45<2:43:46,  1.63s/it]"
     ]
    },
    {
     "name": "stdout",
     "output_type": "stream",
     "text": [
      "Data for CWD updated in data\\CWD.csv.\n",
      "Updating data for ENCPW...\n"
     ]
    },
    {
     "name": "stderr",
     "output_type": "stream",
     "text": [
      "[*********************100%%**********************]  1 of 1 completed\n",
      "[*********************100%%**********************]  1 of 1 completed              | 460/6477 [09:47<2:37:55,  1.57s/it]"
     ]
    },
    {
     "name": "stdout",
     "output_type": "stream",
     "text": [
      "Data for ENCPW updated in data\\ENCPW.csv.\n",
      "Updating data for TW...\n"
     ]
    },
    {
     "name": "stderr",
     "output_type": "stream",
     "text": [
      "\n",
      "Downloading data for EFT: :   7%|███▍                                             | 461/6477 [09:48<2:26:28,  1.46s/it]"
     ]
    },
    {
     "name": "stdout",
     "output_type": "stream",
     "text": [
      "Data for TW updated in data\\TW.csv.\n",
      "Updating data for EFT...\n"
     ]
    },
    {
     "name": "stderr",
     "output_type": "stream",
     "text": [
      "[*********************100%%**********************]  1 of 1 completed\n",
      "Downloading data for SCVL: :   7%|███▍                                            | 462/6477 [09:49<2:20:08,  1.40s/it]"
     ]
    },
    {
     "name": "stdout",
     "output_type": "stream",
     "text": [
      "Data for EFT updated in data\\EFT.csv.\n",
      "Updating data for SCVL...\n"
     ]
    },
    {
     "name": "stderr",
     "output_type": "stream",
     "text": [
      "[*********************100%%**********************]  1 of 1 completed\n",
      "[*********************100%%**********************]  1 of 1 completed              | 463/6477 [09:50<2:15:46,  1.35s/it]"
     ]
    },
    {
     "name": "stdout",
     "output_type": "stream",
     "text": [
      "Data for SCVL updated in data\\SCVL.csv.\n",
      "Updating data for SBFG...\n"
     ]
    },
    {
     "name": "stderr",
     "output_type": "stream",
     "text": [
      "\n",
      "[*********************100%%**********************]  1 of 1 completed              | 464/6477 [09:52<2:12:14,  1.32s/it]"
     ]
    },
    {
     "name": "stdout",
     "output_type": "stream",
     "text": [
      "Data for SBFG updated in data\\SBFG.csv.\n",
      "Updating data for LDP...\n"
     ]
    },
    {
     "name": "stderr",
     "output_type": "stream",
     "text": [
      "\n",
      "Downloading data for MDC: :   7%|███▌                                             | 465/6477 [09:53<2:09:29,  1.29s/it]"
     ]
    },
    {
     "name": "stdout",
     "output_type": "stream",
     "text": [
      "Data for LDP updated in data\\LDP.csv.\n",
      "Updating data for MDC...\n"
     ]
    },
    {
     "name": "stderr",
     "output_type": "stream",
     "text": [
      "[*********************100%%**********************]  1 of 1 completed\n",
      "Downloading data for DFIN: :   7%|███▍                                            | 466/6477 [09:54<2:09:29,  1.29s/it]"
     ]
    },
    {
     "name": "stdout",
     "output_type": "stream",
     "text": [
      "Data for MDC updated in data\\MDC.csv.\n",
      "Updating data for DFIN...\n"
     ]
    },
    {
     "name": "stderr",
     "output_type": "stream",
     "text": [
      "[*********************100%%**********************]  1 of 1 completed\n",
      "[*********************100%%**********************]  1 of 1 completed              | 467/6477 [09:55<2:07:11,  1.27s/it]"
     ]
    },
    {
     "name": "stdout",
     "output_type": "stream",
     "text": [
      "Data for DFIN updated in data\\DFIN.csv.\n",
      "Updating data for AMPX...\n"
     ]
    },
    {
     "name": "stderr",
     "output_type": "stream",
     "text": [
      "\n",
      "Downloading data for GBLI: :   7%|███▍                                            | 468/6477 [09:57<2:05:26,  1.25s/it]"
     ]
    },
    {
     "name": "stdout",
     "output_type": "stream",
     "text": [
      "Data for AMPX updated in data\\AMPX.csv.\n",
      "Updating data for GBLI...\n"
     ]
    },
    {
     "name": "stderr",
     "output_type": "stream",
     "text": [
      "[*********************100%%**********************]  1 of 1 completed\n",
      "Downloading data for TS: :   7%|███▌                                              | 469/6477 [09:58<2:12:01,  1.32s/it]"
     ]
    },
    {
     "name": "stdout",
     "output_type": "stream",
     "text": [
      "Data for GBLI updated in data\\GBLI.csv.\n",
      "Updating data for TS...\n"
     ]
    },
    {
     "name": "stderr",
     "output_type": "stream",
     "text": [
      "[*********************100%%**********************]  1 of 1 completed\n",
      "Downloading data for BOXL: :   7%|███▍                                            | 470/6477 [09:59<2:09:40,  1.30s/it]"
     ]
    },
    {
     "name": "stdout",
     "output_type": "stream",
     "text": [
      "Data for TS updated in data\\TS.csv.\n",
      "Updating data for BOXL...\n"
     ]
    },
    {
     "name": "stderr",
     "output_type": "stream",
     "text": [
      "[*********************100%%**********************]  1 of 1 completed\n",
      "Downloading data for OWLT: :   7%|███▍                                            | 471/6477 [10:01<2:13:23,  1.33s/it]"
     ]
    },
    {
     "name": "stdout",
     "output_type": "stream",
     "text": [
      "Data for BOXL updated in data\\BOXL.csv.\n",
      "Updating data for OWLT...\n"
     ]
    },
    {
     "name": "stderr",
     "output_type": "stream",
     "text": [
      "[*********************100%%**********************]  1 of 1 completed\n",
      "Downloading data for IPXXW: :   7%|███▍                                           | 472/6477 [10:02<2:16:43,  1.37s/it]"
     ]
    },
    {
     "name": "stdout",
     "output_type": "stream",
     "text": [
      "Data for OWLT updated in data\\OWLT.csv.\n",
      "Updating data for IPXXW...\n"
     ]
    },
    {
     "name": "stderr",
     "output_type": "stream",
     "text": [
      "[*********************100%%**********************]  1 of 1 completed\n",
      "[*********************100%%**********************]  1 of 1 completed              | 473/6477 [10:04<2:19:24,  1.39s/it]"
     ]
    },
    {
     "name": "stdout",
     "output_type": "stream",
     "text": [
      "Data for IPXXW updated in data\\IPXXW.csv.\n",
      "Updating data for NEGG...\n"
     ]
    },
    {
     "name": "stderr",
     "output_type": "stream",
     "text": [
      "\n",
      "Downloading data for VISL: :   7%|███▌                                            | 474/6477 [10:05<2:14:16,  1.34s/it]"
     ]
    },
    {
     "name": "stdout",
     "output_type": "stream",
     "text": [
      "Data for NEGG updated in data\\NEGG.csv.\n",
      "Updating data for VISL...\n"
     ]
    },
    {
     "name": "stderr",
     "output_type": "stream",
     "text": [
      "[*********************100%%**********************]  1 of 1 completed\n",
      "Downloading data for DGICA: :   7%|███▍                                           | 475/6477 [10:06<2:17:00,  1.37s/it]"
     ]
    },
    {
     "name": "stdout",
     "output_type": "stream",
     "text": [
      "Data for VISL updated in data\\VISL.csv.\n",
      "Updating data for DGICA...\n"
     ]
    },
    {
     "name": "stderr",
     "output_type": "stream",
     "text": [
      "[*********************100%%**********************]  1 of 1 completed\n",
      "Downloading data for MFC: :   7%|███▌                                             | 476/6477 [10:08<2:13:34,  1.34s/it]"
     ]
    },
    {
     "name": "stdout",
     "output_type": "stream",
     "text": [
      "Data for DGICA updated in data\\DGICA.csv.\n",
      "Updating data for MFC...\n"
     ]
    },
    {
     "name": "stderr",
     "output_type": "stream",
     "text": [
      "[*********************100%%**********************]  1 of 1 completed\n",
      "Downloading data for STWD: :   7%|███▌                                            | 477/6477 [10:09<2:10:53,  1.31s/it]"
     ]
    },
    {
     "name": "stdout",
     "output_type": "stream",
     "text": [
      "Data for MFC updated in data\\MFC.csv.\n",
      "Updating data for STWD...\n"
     ]
    },
    {
     "name": "stderr",
     "output_type": "stream",
     "text": [
      "[*********************100%%**********************]  1 of 1 completed\n",
      "[*********************100%%**********************]  1 of 1 completed              | 478/6477 [10:10<2:15:50,  1.36s/it]"
     ]
    },
    {
     "name": "stdout",
     "output_type": "stream",
     "text": [
      "Data for STWD updated in data\\STWD.csv.\n",
      "Updating data for GBIO...\n"
     ]
    },
    {
     "name": "stderr",
     "output_type": "stream",
     "text": [
      "\n",
      "Downloading data for REE: :   7%|███▌                                             | 479/6477 [10:11<2:10:48,  1.31s/it]"
     ]
    },
    {
     "name": "stdout",
     "output_type": "stream",
     "text": [
      "Data for GBIO updated in data\\GBIO.csv.\n",
      "Updating data for REE...\n"
     ]
    },
    {
     "name": "stderr",
     "output_type": "stream",
     "text": [
      "[*********************100%%**********************]  1 of 1 completed\n",
      "[*********************100%%**********************]  1 of 1 completed              | 480/6477 [10:13<2:14:54,  1.35s/it]"
     ]
    },
    {
     "name": "stdout",
     "output_type": "stream",
     "text": [
      "Data for REE updated in data\\REE.csv.\n",
      "Updating data for BARK...\n"
     ]
    },
    {
     "name": "stderr",
     "output_type": "stream",
     "text": [
      "\n",
      "Downloading data for BCSAW: :   7%|███▍                                           | 481/6477 [10:14<2:10:44,  1.31s/it]"
     ]
    },
    {
     "name": "stdout",
     "output_type": "stream",
     "text": [
      "Data for BARK updated in data\\BARK.csv.\n",
      "Updating data for BCSAW...\n"
     ]
    },
    {
     "name": "stderr",
     "output_type": "stream",
     "text": [
      "[*********************100%%**********************]  1 of 1 completed\n",
      "Downloading data for CQP: :   7%|███▋                                             | 482/6477 [10:15<2:07:51,  1.28s/it]"
     ]
    },
    {
     "name": "stdout",
     "output_type": "stream",
     "text": [
      "Data for BCSAW updated in data\\BCSAW.csv.\n",
      "Updating data for CQP...\n"
     ]
    },
    {
     "name": "stderr",
     "output_type": "stream",
     "text": [
      "[*********************100%%**********************]  1 of 1 completed\n",
      "[*********************100%%**********************]  1 of 1 completed              | 483/6477 [10:17<2:06:43,  1.27s/it]"
     ]
    },
    {
     "name": "stdout",
     "output_type": "stream",
     "text": [
      "Data for CQP updated in data\\CQP.csv.\n",
      "Updating data for WCC...\n"
     ]
    },
    {
     "name": "stderr",
     "output_type": "stream",
     "text": [
      "\n",
      "[*********************100%%**********************]  1 of 1 completed              | 484/6477 [10:18<2:05:13,  1.25s/it]"
     ]
    },
    {
     "name": "stdout",
     "output_type": "stream",
     "text": [
      "Data for WCC updated in data\\WCC.csv.\n",
      "Updating data for SATLW...\n"
     ]
    },
    {
     "name": "stderr",
     "output_type": "stream",
     "text": [
      "\n",
      "Downloading data for XAIR: :   7%|███▌                                            | 485/6477 [10:19<2:03:21,  1.24s/it]"
     ]
    },
    {
     "name": "stdout",
     "output_type": "stream",
     "text": [
      "Data for SATLW updated in data\\SATLW.csv.\n",
      "Updating data for XAIR...\n"
     ]
    },
    {
     "name": "stderr",
     "output_type": "stream",
     "text": [
      "[*********************100%%**********************]  1 of 1 completed\n",
      "Downloading data for GNTX: :   8%|███▌                                            | 486/6477 [10:20<2:02:34,  1.23s/it]"
     ]
    },
    {
     "name": "stdout",
     "output_type": "stream",
     "text": [
      "Data for XAIR updated in data\\XAIR.csv.\n",
      "Updating data for GNTX...\n"
     ]
    },
    {
     "name": "stderr",
     "output_type": "stream",
     "text": [
      "[*********************100%%**********************]  1 of 1 completed\n",
      "[*********************100%%**********************]  1 of 1 completed              | 487/6477 [10:21<2:03:10,  1.23s/it]"
     ]
    },
    {
     "name": "stdout",
     "output_type": "stream",
     "text": [
      "Data for GNTX updated in data\\GNTX.csv.\n",
      "Updating data for CEIX...\n"
     ]
    },
    {
     "name": "stderr",
     "output_type": "stream",
     "text": [
      "\n",
      "Downloading data for ST: :   8%|███▊                                              | 488/6477 [10:23<2:02:29,  1.23s/it]"
     ]
    },
    {
     "name": "stdout",
     "output_type": "stream",
     "text": [
      "Data for CEIX updated in data\\CEIX.csv.\n",
      "Updating data for ST...\n"
     ]
    },
    {
     "name": "stderr",
     "output_type": "stream",
     "text": [
      "[*********************100%%**********************]  1 of 1 completed\n",
      "[*********************100%%**********************]  1 of 1 completed              | 489/6477 [10:24<2:02:41,  1.23s/it]"
     ]
    },
    {
     "name": "stdout",
     "output_type": "stream",
     "text": [
      "Data for ST updated in data\\ST.csv.\n",
      "Updating data for BTCM...\n"
     ]
    },
    {
     "name": "stderr",
     "output_type": "stream",
     "text": [
      "\n",
      "[*********************100%%**********************]  1 of 1 completed              | 490/6477 [10:25<2:01:52,  1.22s/it]"
     ]
    },
    {
     "name": "stdout",
     "output_type": "stream",
     "text": [
      "Data for BTCM updated in data\\BTCM.csv.\n",
      "Updating data for AHR...\n"
     ]
    },
    {
     "name": "stderr",
     "output_type": "stream",
     "text": [
      "\n",
      "Downloading data for CMCT: :   8%|███▋                                            | 491/6477 [10:26<2:01:30,  1.22s/it]"
     ]
    },
    {
     "name": "stdout",
     "output_type": "stream",
     "text": [
      "Data for AHR updated in data\\AHR.csv.\n",
      "Updating data for CMCT...\n"
     ]
    },
    {
     "name": "stderr",
     "output_type": "stream",
     "text": [
      "[*********************100%%**********************]  1 of 1 completed\n",
      "Downloading data for NAT: :   8%|███▋                                             | 492/6477 [10:28<2:03:01,  1.23s/it]"
     ]
    },
    {
     "name": "stdout",
     "output_type": "stream",
     "text": [
      "Data for CMCT updated in data\\CMCT.csv.\n",
      "Updating data for NAT...\n"
     ]
    },
    {
     "name": "stderr",
     "output_type": "stream",
     "text": [
      "[*********************100%%**********************]  1 of 1 completed\n",
      "Downloading data for NOVT: :   8%|███▋                                            | 493/6477 [10:29<2:04:22,  1.25s/it]"
     ]
    },
    {
     "name": "stdout",
     "output_type": "stream",
     "text": [
      "Data for NAT updated in data\\NAT.csv.\n",
      "Updating data for NOVT...\n"
     ]
    },
    {
     "name": "stderr",
     "output_type": "stream",
     "text": [
      "[*********************100%%**********************]  1 of 1 completed\n",
      "Downloading data for CTVA: :   8%|███▋                                            | 494/6477 [10:30<2:04:12,  1.25s/it]"
     ]
    },
    {
     "name": "stdout",
     "output_type": "stream",
     "text": [
      "Data for NOVT updated in data\\NOVT.csv.\n",
      "Updating data for CTVA...\n"
     ]
    },
    {
     "name": "stderr",
     "output_type": "stream",
     "text": [
      "[*********************100%%**********************]  1 of 1 completed\n",
      "Downloading data for RVLV: :   8%|███▋                                            | 495/6477 [10:31<2:03:10,  1.24s/it]"
     ]
    },
    {
     "name": "stdout",
     "output_type": "stream",
     "text": [
      "Data for CTVA updated in data\\CTVA.csv.\n",
      "Updating data for RVLV...\n"
     ]
    },
    {
     "name": "stderr",
     "output_type": "stream",
     "text": [
      "[*********************100%%**********************]  1 of 1 completed\n",
      "[*********************100%%**********************]  1 of 1 completed              | 496/6477 [10:33<2:02:53,  1.23s/it]"
     ]
    },
    {
     "name": "stdout",
     "output_type": "stream",
     "text": [
      "Data for RVLV updated in data\\RVLV.csv.\n",
      "Updating data for GB...\n"
     ]
    },
    {
     "name": "stderr",
     "output_type": "stream",
     "text": [
      "\n",
      "Downloading data for CPT: :   8%|███▊                                             | 497/6477 [10:34<2:02:15,  1.23s/it]"
     ]
    },
    {
     "name": "stdout",
     "output_type": "stream",
     "text": [
      "Data for GB updated in data\\GB.csv.\n",
      "Updating data for CPT...\n"
     ]
    },
    {
     "name": "stderr",
     "output_type": "stream",
     "text": [
      "[*********************100%%**********************]  1 of 1 completed\n",
      "Downloading data for WMK: :   8%|███▊                                             | 498/6477 [10:35<2:11:03,  1.32s/it]"
     ]
    },
    {
     "name": "stdout",
     "output_type": "stream",
     "text": [
      "Data for CPT updated in data\\CPT.csv.\n",
      "Updating data for WMK...\n"
     ]
    },
    {
     "name": "stderr",
     "output_type": "stream",
     "text": [
      "[*********************100%%**********************]  1 of 1 completed\n",
      "[*********************100%%**********************]  1 of 1 completed              | 499/6477 [10:37<2:17:20,  1.38s/it]"
     ]
    },
    {
     "name": "stdout",
     "output_type": "stream",
     "text": [
      "Data for WMK updated in data\\WMK.csv.\n",
      "Updating data for HYZNW...\n"
     ]
    },
    {
     "name": "stderr",
     "output_type": "stream",
     "text": [
      "\n",
      "Downloading data for KAMN: :   8%|███▋                                            | 500/6477 [10:38<2:12:17,  1.33s/it]"
     ]
    },
    {
     "name": "stdout",
     "output_type": "stream",
     "text": [
      "Data for HYZNW updated in data\\HYZNW.csv.\n",
      "Updating data for KAMN...\n"
     ]
    },
    {
     "name": "stderr",
     "output_type": "stream",
     "text": [
      "[*********************100%%**********************]  1 of 1 completed\n",
      "Downloading data for SM: :   8%|███▊                                              | 501/6477 [10:39<2:11:02,  1.32s/it]"
     ]
    },
    {
     "name": "stdout",
     "output_type": "stream",
     "text": [
      "Data for KAMN updated in data\\KAMN.csv.\n",
      "Updating data for SM...\n"
     ]
    },
    {
     "name": "stderr",
     "output_type": "stream",
     "text": [
      "[*********************100%%**********************]  1 of 1 completed\n",
      "[*********************100%%**********************]  1 of 1 completed              | 502/6477 [10:41<2:09:33,  1.30s/it]"
     ]
    },
    {
     "name": "stdout",
     "output_type": "stream",
     "text": [
      "Data for SM updated in data\\SM.csv.\n",
      "Updating data for RHE...\n"
     ]
    },
    {
     "name": "stderr",
     "output_type": "stream",
     "text": [
      "\n",
      "Downloading data for SKT: :   8%|███▊                                             | 503/6477 [10:42<2:06:27,  1.27s/it]"
     ]
    },
    {
     "name": "stdout",
     "output_type": "stream",
     "text": [
      "Data for RHE updated in data\\RHE.csv.\n",
      "Updating data for SKT...\n"
     ]
    },
    {
     "name": "stderr",
     "output_type": "stream",
     "text": [
      "[*********************100%%**********************]  1 of 1 completed\n",
      "[*********************100%%**********************]  1 of 1 completed              | 504/6477 [10:43<2:06:26,  1.27s/it]"
     ]
    },
    {
     "name": "stdout",
     "output_type": "stream",
     "text": [
      "Data for SKT updated in data\\SKT.csv.\n",
      "Updating data for HYPR...\n"
     ]
    },
    {
     "name": "stderr",
     "output_type": "stream",
     "text": [
      "\n",
      "Downloading data for ACU: :   8%|███▊                                             | 505/6477 [10:44<2:03:54,  1.24s/it]"
     ]
    },
    {
     "name": "stdout",
     "output_type": "stream",
     "text": [
      "Data for HYPR updated in data\\HYPR.csv.\n",
      "Updating data for ACU...\n"
     ]
    },
    {
     "name": "stderr",
     "output_type": "stream",
     "text": [
      "[*********************100%%**********************]  1 of 1 completed\n",
      "[*********************100%%**********************]  1 of 1 completed              | 506/6477 [10:45<2:04:45,  1.25s/it]"
     ]
    },
    {
     "name": "stdout",
     "output_type": "stream",
     "text": [
      "Data for ACU updated in data\\ACU.csv.\n",
      "Updating data for PGZ...\n"
     ]
    },
    {
     "name": "stderr",
     "output_type": "stream",
     "text": [
      "\n",
      "Downloading data for IVR: :   8%|███▊                                             | 507/6477 [10:47<2:03:46,  1.24s/it]"
     ]
    },
    {
     "name": "stdout",
     "output_type": "stream",
     "text": [
      "Data for PGZ updated in data\\PGZ.csv.\n",
      "Updating data for IVR...\n"
     ]
    },
    {
     "name": "stderr",
     "output_type": "stream",
     "text": [
      "[*********************100%%**********************]  1 of 1 completed\n",
      "Downloading data for VATE: :   8%|███▊                                            | 508/6477 [10:48<2:03:38,  1.24s/it]"
     ]
    },
    {
     "name": "stdout",
     "output_type": "stream",
     "text": [
      "Data for IVR updated in data\\IVR.csv.\n",
      "Updating data for VATE...\n"
     ]
    },
    {
     "name": "stderr",
     "output_type": "stream",
     "text": [
      "[*********************100%%**********************]  1 of 1 completed\n",
      "Downloading data for IRIX: :   8%|███▊                                            | 509/6477 [10:49<2:03:20,  1.24s/it]"
     ]
    },
    {
     "name": "stdout",
     "output_type": "stream",
     "text": [
      "Data for VATE updated in data\\VATE.csv.\n",
      "Updating data for IRIX...\n"
     ]
    },
    {
     "name": "stderr",
     "output_type": "stream",
     "text": [
      "[*********************100%%**********************]  1 of 1 completed\n",
      "[*********************100%%**********************]  1 of 1 completed              | 510/6477 [10:50<2:03:35,  1.24s/it]"
     ]
    },
    {
     "name": "stdout",
     "output_type": "stream",
     "text": [
      "Data for IRIX updated in data\\IRIX.csv.\n",
      "Updating data for TGTX...\n"
     ]
    },
    {
     "name": "stderr",
     "output_type": "stream",
     "text": [
      "\n",
      "Downloading data for JFBRW: :   8%|███▋                                           | 511/6477 [10:52<2:02:39,  1.23s/it]"
     ]
    },
    {
     "name": "stdout",
     "output_type": "stream",
     "text": [
      "Data for TGTX updated in data\\TGTX.csv.\n",
      "Updating data for JFBRW...\n"
     ]
    },
    {
     "name": "stderr",
     "output_type": "stream",
     "text": [
      "[*********************100%%**********************]  1 of 1 completed\n",
      "[*********************100%%**********************]  1 of 1 completed              | 512/6477 [10:53<2:08:52,  1.30s/it]"
     ]
    },
    {
     "name": "stdout",
     "output_type": "stream",
     "text": [
      "Data for JFBRW updated in data\\JFBRW.csv.\n",
      "Updating data for XNCR...\n"
     ]
    },
    {
     "name": "stderr",
     "output_type": "stream",
     "text": [
      "\n",
      "Downloading data for AGYS: :   8%|███▊                                            | 513/6477 [10:54<2:05:48,  1.27s/it]"
     ]
    },
    {
     "name": "stdout",
     "output_type": "stream",
     "text": [
      "Data for XNCR updated in data\\XNCR.csv.\n",
      "Updating data for AGYS...\n"
     ]
    },
    {
     "name": "stderr",
     "output_type": "stream",
     "text": [
      "[*********************100%%**********************]  1 of 1 completed\n",
      "[*********************100%%**********************]  1 of 1 completed              | 514/6477 [10:56<2:06:18,  1.27s/it]"
     ]
    },
    {
     "name": "stdout",
     "output_type": "stream",
     "text": [
      "Data for AGYS updated in data\\AGYS.csv.\n",
      "Updating data for AIP...\n"
     ]
    },
    {
     "name": "stderr",
     "output_type": "stream",
     "text": [
      "\n",
      "[*********************100%%**********************]  1 of 1 completed              | 515/6477 [10:57<2:03:57,  1.25s/it]"
     ]
    },
    {
     "name": "stdout",
     "output_type": "stream",
     "text": [
      "Data for AIP updated in data\\AIP.csv.\n",
      "Updating data for GASS...\n"
     ]
    },
    {
     "name": "stderr",
     "output_type": "stream",
     "text": [
      "\n",
      "[*********************100%%**********************]  1 of 1 completed              | 516/6477 [10:58<2:02:54,  1.24s/it]"
     ]
    },
    {
     "name": "stdout",
     "output_type": "stream",
     "text": [
      "Data for GASS updated in data\\GASS.csv.\n",
      "Updating data for JAMF...\n"
     ]
    },
    {
     "name": "stderr",
     "output_type": "stream",
     "text": [
      "\n",
      "[*********************100%%**********************]  1 of 1 completed              | 517/6477 [10:59<2:01:40,  1.22s/it]"
     ]
    },
    {
     "name": "stdout",
     "output_type": "stream",
     "text": [
      "Data for JAMF updated in data\\JAMF.csv.\n",
      "Updating data for ACLS...\n"
     ]
    },
    {
     "name": "stderr",
     "output_type": "stream",
     "text": [
      "\n",
      "Downloading data for USAU: :   8%|███▊                                            | 518/6477 [11:00<2:01:10,  1.22s/it]"
     ]
    },
    {
     "name": "stdout",
     "output_type": "stream",
     "text": [
      "Data for ACLS updated in data\\ACLS.csv.\n",
      "Updating data for USAU...\n"
     ]
    },
    {
     "name": "stderr",
     "output_type": "stream",
     "text": [
      "[*********************100%%**********************]  1 of 1 completed\n",
      "[*********************100%%**********************]  1 of 1 completed              | 519/6477 [11:02<2:01:46,  1.23s/it]"
     ]
    },
    {
     "name": "stdout",
     "output_type": "stream",
     "text": [
      "Data for USAU updated in data\\USAU.csv.\n",
      "Updating data for AVAH...\n"
     ]
    },
    {
     "name": "stderr",
     "output_type": "stream",
     "text": [
      "\n",
      "Downloading data for PM: :   8%|████                                              | 520/6477 [11:03<2:00:42,  1.22s/it]"
     ]
    },
    {
     "name": "stdout",
     "output_type": "stream",
     "text": [
      "Data for AVAH updated in data\\AVAH.csv.\n",
      "Updating data for PM...\n"
     ]
    },
    {
     "name": "stderr",
     "output_type": "stream",
     "text": [
      "[*********************100%%**********************]  1 of 1 completed\n",
      "[*********************100%%**********************]  1 of 1 completed              | 521/6477 [11:04<2:01:17,  1.22s/it]"
     ]
    },
    {
     "name": "stdout",
     "output_type": "stream",
     "text": [
      "Data for PM updated in data\\PM.csv.\n",
      "Updating data for ORMP...\n"
     ]
    },
    {
     "name": "stderr",
     "output_type": "stream",
     "text": [
      "\n",
      "[*********************100%%**********************]  1 of 1 completed              | 522/6477 [11:05<2:01:01,  1.22s/it]"
     ]
    },
    {
     "name": "stdout",
     "output_type": "stream",
     "text": [
      "Data for ORMP updated in data\\ORMP.csv.\n",
      "Updating data for APXI...\n"
     ]
    },
    {
     "name": "stderr",
     "output_type": "stream",
     "text": [
      "\n",
      "Downloading data for CATX: :   8%|███▉                                            | 523/6477 [11:06<2:00:41,  1.22s/it]"
     ]
    },
    {
     "name": "stdout",
     "output_type": "stream",
     "text": [
      "Data for APXI updated in data\\APXI.csv.\n",
      "Updating data for CATX...\n"
     ]
    },
    {
     "name": "stderr",
     "output_type": "stream",
     "text": [
      "[*********************100%%**********************]  1 of 1 completed\n",
      "Downloading data for SBCF: :   8%|███▉                                            | 524/6477 [11:08<2:01:04,  1.22s/it]"
     ]
    },
    {
     "name": "stdout",
     "output_type": "stream",
     "text": [
      "Data for CATX updated in data\\CATX.csv.\n",
      "Updating data for SBCF...\n"
     ]
    },
    {
     "name": "stderr",
     "output_type": "stream",
     "text": [
      "[*********************100%%**********************]  1 of 1 completed\n",
      "[*********************100%%**********************]  1 of 1 completed              | 525/6477 [11:09<2:03:22,  1.24s/it]"
     ]
    },
    {
     "name": "stdout",
     "output_type": "stream",
     "text": [
      "Data for SBCF updated in data\\SBCF.csv.\n",
      "Updating data for BACK...\n"
     ]
    },
    {
     "name": "stderr",
     "output_type": "stream",
     "text": [
      "\n",
      "Downloading data for AR: :   8%|████                                              | 526/6477 [11:10<2:02:10,  1.23s/it]"
     ]
    },
    {
     "name": "stdout",
     "output_type": "stream",
     "text": [
      "Data for BACK updated in data\\BACK.csv.\n",
      "Updating data for AR...\n"
     ]
    },
    {
     "name": "stderr",
     "output_type": "stream",
     "text": [
      "[*********************100%%**********************]  1 of 1 completed\n",
      "Downloading data for TMUS: :   8%|███▉                                            | 527/6477 [11:12<2:08:54,  1.30s/it]"
     ]
    },
    {
     "name": "stdout",
     "output_type": "stream",
     "text": [
      "Data for AR updated in data\\AR.csv.\n",
      "Updating data for TMUS...\n"
     ]
    },
    {
     "name": "stderr",
     "output_type": "stream",
     "text": [
      "[*********************100%%**********************]  1 of 1 completed\n",
      "Downloading data for GOF: :   8%|███▉                                             | 528/6477 [11:13<2:06:40,  1.28s/it]"
     ]
    },
    {
     "name": "stdout",
     "output_type": "stream",
     "text": [
      "Data for TMUS updated in data\\TMUS.csv.\n",
      "Updating data for GOF...\n"
     ]
    },
    {
     "name": "stderr",
     "output_type": "stream",
     "text": [
      "[*********************100%%**********************]  1 of 1 completed\n",
      "Downloading data for ADEA: :   8%|███▉                                            | 529/6477 [11:14<2:05:40,  1.27s/it]"
     ]
    },
    {
     "name": "stdout",
     "output_type": "stream",
     "text": [
      "Data for GOF updated in data\\GOF.csv.\n",
      "Updating data for ADEA...\n"
     ]
    },
    {
     "name": "stderr",
     "output_type": "stream",
     "text": [
      "[*********************100%%**********************]  1 of 1 completed\n",
      "[*********************100%%**********************]  1 of 1 completed              | 530/6477 [11:16<2:11:18,  1.32s/it]"
     ]
    },
    {
     "name": "stdout",
     "output_type": "stream",
     "text": [
      "Data for ADEA updated in data\\ADEA.csv.\n",
      "Updating data for GTES...\n"
     ]
    },
    {
     "name": "stderr",
     "output_type": "stream",
     "text": [
      "\n",
      "[*********************100%%**********************]  1 of 1 completed              | 532/6477 [11:17<2:07:18,  1.28s/it]"
     ]
    },
    {
     "name": "stdout",
     "output_type": "stream",
     "text": [
      "Data for GTES updated in data\\GTES.csv.\n",
      "Updating data for CNEY...\n",
      "Updating data for BHACW...\n"
     ]
    },
    {
     "name": "stderr",
     "output_type": "stream",
     "text": [
      "\n",
      "\n",
      "1 Failed download:\n",
      "['BHACW']: Exception(\"%ticker%: Period 'max' is invalid, must be one of ['1d', '5d']\")\n",
      "Downloading data for ABBV: :   8%|███▉                                            | 534/6477 [11:17<1:13:00,  1.36it/s]"
     ]
    },
    {
     "name": "stdout",
     "output_type": "stream",
     "text": [
      "No new data available for BHACW.\n",
      "Updating data for FOXA...\n",
      "Updating data for ABBV...\n"
     ]
    },
    {
     "name": "stderr",
     "output_type": "stream",
     "text": [
      "[*********************100%%**********************]  1 of 1 completed\n",
      "Downloading data for FNVTW: :   8%|███▉                                           | 541/6477 [11:18<1:12:53,  1.36it/s]"
     ]
    },
    {
     "name": "stdout",
     "output_type": "stream",
     "text": [
      "Data for ABBV updated in data\\ABBV.csv.\n",
      "Updating data for IBN...\n",
      "Updating data for BTE...\n",
      "Updating data for CVU...\n",
      "Updating data for PLXS...\n",
      "Updating data for CLOV...\n",
      "Updating data for SWKS...\n",
      "Updating data for FNVTW...\n"
     ]
    },
    {
     "name": "stderr",
     "output_type": "stream",
     "text": [
      "[*********************100%%**********************]  1 of 1 completed\n",
      "[*********************100%%**********************]  1 of 1 completed                | 543/6477 [11:20<36:11,  2.73it/s]"
     ]
    },
    {
     "name": "stdout",
     "output_type": "stream",
     "text": [
      "Data for FNVTW updated in data\\FNVTW.csv.\n",
      "Updating data for AZUL...\n",
      "Updating data for DELL...\n"
     ]
    },
    {
     "name": "stderr",
     "output_type": "stream",
     "text": [
      "\n",
      "Downloading data for MBTC: :   8%|████▏                                             | 550/6477 [11:21<41:19,  2.39it/s]"
     ]
    },
    {
     "name": "stdout",
     "output_type": "stream",
     "text": [
      "Data for DELL updated in data\\DELL.csv.\n",
      "Updating data for NXDT...\n",
      "Updating data for AVPTW...\n",
      "Updating data for HKIT...\n",
      "Updating data for AIG...\n",
      "Updating data for SMFG...\n",
      "Updating data for INPX...\n",
      "Updating data for MBTC...\n"
     ]
    },
    {
     "name": "stderr",
     "output_type": "stream",
     "text": [
      "[*********************100%%**********************]  1 of 1 completed\n",
      "Downloading data for IMRN: :   9%|████▎                                             | 559/6477 [11:22<29:00,  3.40it/s]"
     ]
    },
    {
     "name": "stdout",
     "output_type": "stream",
     "text": [
      "Data for MBTC updated in data\\MBTC.csv.\n",
      "Updating data for EMF...\n",
      "Updating data for VCTR...\n",
      "Updating data for LII...\n",
      "Updating data for USAP...\n",
      "Updating data for ABCB...\n",
      "Updating data for PWFL...\n",
      "Updating data for NTST...\n",
      "Updating data for NBSE...\n",
      "Updating data for IMRN...\n"
     ]
    },
    {
     "name": "stderr",
     "output_type": "stream",
     "text": [
      "[*********************100%%**********************]  1 of 1 completed\n",
      "Downloading data for SXTPW: :   9%|████▍                                            | 579/6477 [11:24<10:49,  9.08it/s]"
     ]
    },
    {
     "name": "stdout",
     "output_type": "stream",
     "text": [
      "Data for IMRN updated in data\\IMRN.csv.\n",
      "Updating data for IRTC...\n",
      "Updating data for NZF...\n",
      "Updating data for NTB...\n",
      "Updating data for BOE...\n",
      "Updating data for PMN...\n",
      "Updating data for SHG...\n",
      "Updating data for AGNCN...\n",
      "Updating data for AMCR...\n",
      "Updating data for RGT...\n",
      "Updating data for GCMG...\n",
      "Updating data for BZUN...\n",
      "Updating data for ALHC...\n",
      "Updating data for DRH...\n",
      "Updating data for IOSP...\n",
      "Updating data for OFLX...\n",
      "Updating data for SNCRL...\n",
      "Updating data for SLN...\n",
      "Updating data for ANSS...\n",
      "Updating data for ATEX...\n",
      "Updating data for SXTPW...\n"
     ]
    },
    {
     "name": "stderr",
     "output_type": "stream",
     "text": [
      "[*********************100%%**********************]  1 of 1 completed\n",
      "Downloading data for BDSX: :   9%|████▋                                             | 600/6477 [11:25<08:58, 10.91it/s]"
     ]
    },
    {
     "name": "stdout",
     "output_type": "stream",
     "text": [
      "Data for SXTPW updated in data\\SXTPW.csv.\n",
      "Updating data for PANL...\n",
      "Updating data for GPN...\n",
      "Updating data for GNW...\n",
      "Updating data for CAPT...\n",
      "Updating data for GSIT...\n",
      "Updating data for CLWT...\n",
      "Updating data for MAPS...\n",
      "Updating data for NSP...\n",
      "Updating data for IDCC...\n",
      "Updating data for MGR...\n",
      "Updating data for BKH...\n",
      "Updating data for HCMAW...\n",
      "Updating data for AUMN...\n",
      "Updating data for VRNA...\n",
      "Updating data for AEG...\n",
      "Updating data for BBAR...\n",
      "Updating data for GLUE...\n",
      "Updating data for GFS...\n",
      "Updating data for MLTX...\n",
      "Updating data for INSE...\n"
     ]
    },
    {
     "name": "stderr",
     "output_type": "stream",
     "text": [
      "Downloading data for DAVA: :   9%|████▋                                             | 604/6477 [11:25<08:58, 10.91it/s]"
     ]
    },
    {
     "name": "stdout",
     "output_type": "stream",
     "text": [
      "Updating data for BDSX...\n",
      "Updating data for ECBK...\n",
      "Updating data for SBRA...\n",
      "Updating data for NTRSO...\n",
      "Updating data for DAVA...\n"
     ]
    },
    {
     "name": "stderr",
     "output_type": "stream",
     "text": [
      "[*********************100%%**********************]  1 of 1 completed\n",
      "Downloading data for SSBI: :  10%|████▊                                             | 618/6477 [11:27<07:38, 12.79it/s]"
     ]
    },
    {
     "name": "stdout",
     "output_type": "stream",
     "text": [
      "Data for DAVA updated in data\\DAVA.csv.\n",
      "Updating data for KORE...\n",
      "Updating data for PCSA...\n",
      "Updating data for GOODO...\n",
      "Updating data for FFIN...\n",
      "Updating data for FITBO...\n",
      "Updating data for CANF...\n",
      "Updating data for NRK...\n",
      "Updating data for INBS...\n",
      "Updating data for GHC...\n",
      "Updating data for SOI...\n",
      "Updating data for BCX...\n",
      "Updating data for SRI...\n",
      "Updating data for WTMA...\n",
      "Updating data for SSBI...\n"
     ]
    },
    {
     "name": "stderr",
     "output_type": "stream",
     "text": [
      "[*********************100%%**********************]  1 of 1 completed\n",
      "Downloading data for BKDT: :  10%|████▊                                             | 621/6477 [11:28<09:59,  9.76it/s]"
     ]
    },
    {
     "name": "stdout",
     "output_type": "stream",
     "text": [
      "Data for SSBI updated in data\\SSBI.csv.\n",
      "Updating data for ITT...\n",
      "Updating data for WTFC...\n",
      "Updating data for BKDT...\n"
     ]
    },
    {
     "name": "stderr",
     "output_type": "stream",
     "text": [
      "[*********************100%%**********************]  1 of 1 completed\n",
      "Downloading data for TPR: :  10%|█████                                              | 638/6477 [11:29<13:14,  7.34it/s]"
     ]
    },
    {
     "name": "stdout",
     "output_type": "stream",
     "text": [
      "Data for BKDT updated in data\\BKDT.csv.\n",
      "Updating data for CAPL...\n",
      "Updating data for IKNA...\n",
      "Updating data for SMLP...\n",
      "Updating data for FCNCP...\n",
      "Updating data for TIVC...\n",
      "Updating data for SXTP...\n",
      "Updating data for CLGN...\n",
      "Updating data for ANGH...\n",
      "Updating data for SHFS...\n",
      "Updating data for DSM...\n",
      "Updating data for CJET...\n",
      "Updating data for IPI...\n",
      "Updating data for PHAR...\n",
      "Updating data for NAMS...\n",
      "Updating data for XMTR...\n",
      "Updating data for PRST...\n",
      "Updating data for TPR...\n"
     ]
    },
    {
     "name": "stderr",
     "output_type": "stream",
     "text": [
      "[*********************100%%**********************]  1 of 1 completed\n",
      "[*********************100%%**********************]  1 of 1 completed                | 639/6477 [11:30<10:45,  9.04it/s]"
     ]
    },
    {
     "name": "stdout",
     "output_type": "stream",
     "text": [
      "Data for TPR updated in data\\TPR.csv.\n",
      "Updating data for XP...\n"
     ]
    },
    {
     "name": "stderr",
     "output_type": "stream",
     "text": [
      "\n",
      "Downloading data for CEADW: :  10%|████▉                                            | 651/6477 [11:32<14:06,  6.89it/s]"
     ]
    },
    {
     "name": "stdout",
     "output_type": "stream",
     "text": [
      "Data for XP updated in data\\XP.csv.\n",
      "Updating data for MLP...\n",
      "Updating data for WEN...\n",
      "Updating data for RYAM...\n",
      "Updating data for GLDD...\n",
      "Updating data for MGYR...\n",
      "Updating data for BTT...\n",
      "Updating data for PLL...\n",
      "Updating data for GNSS...\n",
      "Updating data for AUBN...\n",
      "Updating data for NOA...\n",
      "Updating data for GES...\n",
      "Updating data for CEADW...\n"
     ]
    },
    {
     "name": "stderr",
     "output_type": "stream",
     "text": [
      "[*********************100%%**********************]  1 of 1 completed\n",
      "Downloading data for MAQCW: :  10%|████▉                                            | 655/6477 [11:33<13:34,  7.15it/s]"
     ]
    },
    {
     "name": "stdout",
     "output_type": "stream",
     "text": [
      "Data for CEADW updated in data\\CEADW.csv.\n",
      "Updating data for RDFN...\n",
      "Updating data for SINT...\n",
      "Updating data for DASH...\n",
      "Updating data for MAQCW...\n"
     ]
    },
    {
     "name": "stderr",
     "output_type": "stream",
     "text": [
      "[*********************100%%**********************]  1 of 1 completed\n",
      "[*********************100%%**********************]  1 of 1 completed                | 657/6477 [11:34<16:21,  5.93it/s]"
     ]
    },
    {
     "name": "stdout",
     "output_type": "stream",
     "text": [
      "Data for MAQCW updated in data\\MAQCW.csv.\n",
      "Updating data for SPEC...\n",
      "Updating data for VTRU...\n"
     ]
    },
    {
     "name": "stderr",
     "output_type": "stream",
     "text": [
      "\n",
      "Downloading data for TCOA: :  10%|█████▏                                            | 665/6477 [11:36<20:46,  4.66it/s]"
     ]
    },
    {
     "name": "stdout",
     "output_type": "stream",
     "text": [
      "Data for VTRU updated in data\\VTRU.csv.\n",
      "Updating data for KTB...\n",
      "Updating data for JBI...\n",
      "Updating data for GF...\n",
      "Updating data for TREE...\n",
      "Updating data for HFWA...\n",
      "Updating data for GGROW...\n",
      "Updating data for CIG...\n",
      "Updating data for TCOA...\n"
     ]
    },
    {
     "name": "stderr",
     "output_type": "stream",
     "text": [
      "[*********************100%%**********************]  1 of 1 completed\n",
      "Downloading data for AMS: :  10%|█████▎                                             | 668/6477 [11:37<19:01,  5.09it/s]"
     ]
    },
    {
     "name": "stdout",
     "output_type": "stream",
     "text": [
      "Data for TCOA updated in data\\TCOA.csv.\n",
      "Updating data for PVL...\n",
      "Updating data for BK...\n",
      "Updating data for AMS...\n"
     ]
    },
    {
     "name": "stderr",
     "output_type": "stream",
     "text": [
      "[*********************100%%**********************]  1 of 1 completed\n",
      "Downloading data for AUUDW: :  10%|█████                                            | 672/6477 [11:38<22:46,  4.25it/s]"
     ]
    },
    {
     "name": "stdout",
     "output_type": "stream",
     "text": [
      "Data for AMS updated in data\\AMS.csv.\n",
      "Updating data for K...\n",
      "Updating data for TTD...\n",
      "Updating data for CHD...\n",
      "Updating data for AUUDW...\n"
     ]
    },
    {
     "name": "stderr",
     "output_type": "stream",
     "text": [
      "[*********************100%%**********************]  1 of 1 completed\n",
      "Downloading data for SCCD: :  10%|█████▏                                            | 680/6477 [11:39<24:28,  3.95it/s]"
     ]
    },
    {
     "name": "stdout",
     "output_type": "stream",
     "text": [
      "Data for AUUDW updated in data\\AUUDW.csv.\n",
      "Updating data for XOSWW...\n",
      "Updating data for EGF...\n",
      "Updating data for SPRC...\n",
      "Updating data for EC...\n",
      "Updating data for KGC...\n",
      "Updating data for BALL...\n",
      "Updating data for GNTY...\n",
      "Updating data for SCCD...\n"
     ]
    },
    {
     "name": "stderr",
     "output_type": "stream",
     "text": [
      "[*********************100%%**********************]  1 of 1 completed\n",
      "Downloading data for LQDA: :  11%|█████▎                                            | 689/6477 [11:41<21:51,  4.41it/s]"
     ]
    },
    {
     "name": "stdout",
     "output_type": "stream",
     "text": [
      "Data for SCCD updated in data\\SCCD.csv.\n",
      "Updating data for LBRT...\n",
      "Updating data for PRKS...\n",
      "Updating data for EFTR...\n",
      "Updating data for ORGS...\n",
      "Updating data for HOG...\n",
      "Updating data for PW...\n",
      "Updating data for EFXT...\n",
      "Updating data for GWRS...\n",
      "Updating data for LQDA...\n"
     ]
    },
    {
     "name": "stderr",
     "output_type": "stream",
     "text": [
      "[*********************100%%**********************]  1 of 1 completed\n",
      "Downloading data for PTWOU: :  11%|█████▏                                           | 690/6477 [11:42<18:35,  5.19it/s]"
     ]
    },
    {
     "name": "stdout",
     "output_type": "stream",
     "text": [
      "Data for LQDA updated in data\\LQDA.csv.\n",
      "Updating data for PTWOU...\n"
     ]
    },
    {
     "name": "stderr",
     "output_type": "stream",
     "text": [
      "[*********************100%%**********************]  1 of 1 completed\n",
      "Downloading data for LARK: :  11%|█████▎                                            | 691/6477 [11:44<25:42,  3.75it/s]"
     ]
    },
    {
     "name": "stdout",
     "output_type": "stream",
     "text": [
      "Data for PTWOU updated in data\\PTWOU.csv.\n",
      "Updating data for LARK...\n"
     ]
    },
    {
     "name": "stderr",
     "output_type": "stream",
     "text": [
      "[*********************100%%**********************]  1 of 1 completed\n",
      "Downloading data for DXYN: :  11%|█████▎                                            | 696/6477 [11:45<33:20,  2.89it/s]"
     ]
    },
    {
     "name": "stdout",
     "output_type": "stream",
     "text": [
      "Data for LARK updated in data\\LARK.csv.\n",
      "Updating data for BANFP...\n",
      "Updating data for EVTL...\n",
      "Updating data for MTEM...\n",
      "Updating data for FA...\n",
      "Updating data for DXYN...\n"
     ]
    },
    {
     "name": "stderr",
     "output_type": "stream",
     "text": [
      "[*********************100%%**********************]  1 of 1 completed\n",
      "Downloading data for MSTR: :  11%|█████▍                                            | 707/6477 [11:46<31:48,  3.02it/s]"
     ]
    },
    {
     "name": "stdout",
     "output_type": "stream",
     "text": [
      "Data for DXYN updated in data\\DXYN.csv.\n",
      "Updating data for AVTX...\n",
      "Updating data for TARS...\n",
      "Updating data for LZM...\n",
      "Updating data for PTY...\n",
      "Updating data for BANX...\n",
      "Updating data for HRMY...\n",
      "Updating data for WNW...\n",
      "Updating data for BRFS...\n",
      "Updating data for LPG...\n",
      "Updating data for TWOA...\n",
      "Updating data for MSTR...\n"
     ]
    },
    {
     "name": "stderr",
     "output_type": "stream",
     "text": [
      "[*********************100%%**********************]  1 of 1 completed\n",
      "Downloading data for OC: :  11%|█████▋                                              | 710/6477 [11:48<22:05,  4.35it/s]"
     ]
    },
    {
     "name": "stdout",
     "output_type": "stream",
     "text": [
      "Data for MSTR updated in data\\MSTR.csv.\n",
      "Updating data for MGAM...\n",
      "Updating data for JAZZ...\n",
      "Updating data for OC...\n"
     ]
    },
    {
     "name": "stderr",
     "output_type": "stream",
     "text": [
      "[*********************100%%**********************]  1 of 1 completed\n",
      "Downloading data for IVCBW: :  11%|█████▌                                           | 735/6477 [11:49<11:14,  8.51it/s]"
     ]
    },
    {
     "name": "stdout",
     "output_type": "stream",
     "text": [
      "Data for OC updated in data\\OC.csv.\n",
      "Updating data for VOXR...\n",
      "Updating data for NXLIW...\n",
      "Updating data for RLAY...\n",
      "Updating data for PTON...\n",
      "Updating data for OPBK...\n",
      "Updating data for MARPS...\n",
      "Updating data for STEP...\n",
      "Updating data for ALCC...\n",
      "Updating data for VRCA...\n",
      "Updating data for PHVS...\n",
      "Updating data for BMEA...\n",
      "Updating data for LOMA...\n",
      "Updating data for SGMA...\n",
      "Updating data for ELTK...\n",
      "Updating data for AIRG...\n",
      "Updating data for LICY...\n",
      "Updating data for NFGC...\n",
      "Updating data for FRPT...\n",
      "Updating data for KNTK...\n",
      "Updating data for BZFDW...\n",
      "Updating data for CVLG...\n",
      "Updating data for HITI...\n",
      "Updating data for FIS...\n",
      "Updating data for GAME...\n",
      "Updating data for IVCBW...\n"
     ]
    },
    {
     "name": "stderr",
     "output_type": "stream",
     "text": [
      "[*********************100%%**********************]  1 of 1 completed\n",
      "Downloading data for ASTI: :  12%|█████▊                                            | 758/6477 [11:51<07:29, 12.72it/s]"
     ]
    },
    {
     "name": "stdout",
     "output_type": "stream",
     "text": [
      "Data for IVCBW updated in data\\IVCBW.csv.\n",
      "Updating data for CNI...\n",
      "Updating data for BILL...\n",
      "Updating data for IMMP...\n",
      "Updating data for PRIM...\n",
      "Updating data for FUNC...\n",
      "Updating data for EL...\n",
      "Updating data for GOLF...\n",
      "Updating data for EOT...\n",
      "Updating data for IMCC...\n",
      "Updating data for SYRE...\n",
      "Updating data for TSQ...\n",
      "Updating data for RILYP...\n",
      "Updating data for ALTU...\n",
      "Updating data for ALEX...\n",
      "Updating data for DB...\n",
      "Updating data for FCUV...\n",
      "Updating data for KREF...\n",
      "Updating data for XFOR...\n",
      "Updating data for REXR...\n",
      "Updating data for NOC...\n",
      "Updating data for NYMT...\n",
      "Updating data for CAE...\n",
      "Updating data for ASTI...\n"
     ]
    },
    {
     "name": "stderr",
     "output_type": "stream",
     "text": [
      "[*********************100%%**********************]  1 of 1 completed\n",
      "Downloading data for AFRI: :  12%|█████▉                                            | 763/6477 [11:52<09:37,  9.90it/s]"
     ]
    },
    {
     "name": "stdout",
     "output_type": "stream",
     "text": [
      "Data for ASTI updated in data\\ASTI.csv.\n",
      "Updating data for HIX...\n",
      "Updating data for CROX...\n",
      "Updating data for LFST...\n",
      "Updating data for MYRG...\n",
      "Updating data for AFRI...\n"
     ]
    },
    {
     "name": "stderr",
     "output_type": "stream",
     "text": [
      "[*********************100%%**********************]  1 of 1 completed\n",
      "Downloading data for SRE: :  12%|██████                                             | 767/6477 [11:53<12:23,  7.68it/s]"
     ]
    },
    {
     "name": "stdout",
     "output_type": "stream",
     "text": [
      "Data for AFRI updated in data\\AFRI.csv.\n",
      "Updating data for MCAAW...\n",
      "Updating data for ISPR...\n",
      "Updating data for SUPV...\n",
      "Updating data for SRE...\n"
     ]
    },
    {
     "name": "stderr",
     "output_type": "stream",
     "text": [
      "[*********************100%%**********************]  1 of 1 completed\n",
      "Downloading data for CETU: :  12%|█████▉                                            | 769/6477 [11:55<15:23,  6.18it/s]"
     ]
    },
    {
     "name": "stdout",
     "output_type": "stream",
     "text": [
      "Data for SRE updated in data\\SRE.csv.\n",
      "Updating data for QD...\n",
      "Updating data for CETU...\n"
     ]
    },
    {
     "name": "stderr",
     "output_type": "stream",
     "text": [
      "[*********************100%%**********************]  1 of 1 completed\n",
      "Downloading data for TENKU: :  12%|█████▊                                           | 772/6477 [11:56<18:55,  5.02it/s]"
     ]
    },
    {
     "name": "stdout",
     "output_type": "stream",
     "text": [
      "Data for CETU updated in data\\CETU.csv.\n",
      "Updating data for ECPG...\n",
      "Updating data for HR...\n",
      "Updating data for TENKU...\n"
     ]
    },
    {
     "name": "stderr",
     "output_type": "stream",
     "text": [
      "[*********************100%%**********************]  1 of 1 completed\n",
      "Downloading data for ONYXW: :  12%|██████                                           | 794/6477 [11:57<11:48,  8.02it/s]"
     ]
    },
    {
     "name": "stdout",
     "output_type": "stream",
     "text": [
      "Data for TENKU updated in data\\TENKU.csv.\n",
      "Updating data for PEV...\n",
      "Updating data for BFAC...\n",
      "Updating data for WPP...\n",
      "Updating data for HCA...\n",
      "Updating data for ASUR...\n",
      "Updating data for EDRY...\n",
      "Updating data for EOLS...\n",
      "Updating data for NAPA...\n",
      "Updating data for FUSB...\n",
      "Updating data for AIH...\n",
      "Updating data for PEG...\n",
      "Updating data for IHD...\n",
      "Updating data for ALAR...\n",
      "Updating data for BTBT...\n",
      "Updating data for RBOT...\n",
      "Updating data for MUJ...\n",
      "Updating data for RVMD...\n",
      "Updating data for HWCPZ...\n",
      "Updating data for LECO...\n",
      "Updating data for GHI...\n",
      "Updating data for XERS...\n",
      "Updating data for ONYXW...\n"
     ]
    },
    {
     "name": "stderr",
     "output_type": "stream",
     "text": [
      "[*********************100%%**********************]  1 of 1 completed\n",
      "\n",
      "1 Failed download:\n",
      "['ONYXW']: Exception(\"%ticker%: Period 'max' is invalid, must be one of ['1d', '5d']\")\n",
      "[*********************100%%**********************]  1 of 1 completed                | 796/6477 [11:58<08:24, 11.26it/s]"
     ]
    },
    {
     "name": "stdout",
     "output_type": "stream",
     "text": [
      "No new data available for ONYXW.\n",
      "Updating data for YSG...\n",
      "Updating data for WAVSW...\n"
     ]
    },
    {
     "name": "stderr",
     "output_type": "stream",
     "text": [
      "\n",
      "Downloading data for MCVT: :  12%|██████▏                                           | 801/6477 [11:59<11:34,  8.17it/s]"
     ]
    },
    {
     "name": "stdout",
     "output_type": "stream",
     "text": [
      "Data for WAVSW updated in data\\WAVSW.csv.\n",
      "Updating data for OBT...\n",
      "Updating data for BATL...\n",
      "Updating data for HCP...\n",
      "Updating data for SPFI...\n",
      "Updating data for MCVT...\n"
     ]
    },
    {
     "name": "stderr",
     "output_type": "stream",
     "text": [
      "[*********************100%%**********************]  1 of 1 completed\n",
      "Downloading data for CFFI: :  13%|██████▎                                           | 814/6477 [12:00<17:02,  5.54it/s]"
     ]
    },
    {
     "name": "stdout",
     "output_type": "stream",
     "text": [
      "Data for MCVT updated in data\\MCVT.csv.\n",
      "Updating data for PDT...\n",
      "Updating data for ITGR...\n",
      "Updating data for CUZ...\n",
      "Updating data for DOCS...\n",
      "Updating data for CINGW...\n",
      "Updating data for KB...\n",
      "Updating data for SMTI...\n",
      "Updating data for ECVT...\n",
      "Updating data for FIGS...\n",
      "Updating data for KIM...\n",
      "Updating data for UWMC...\n",
      "Updating data for LYG...\n",
      "Updating data for CFFI...\n"
     ]
    },
    {
     "name": "stderr",
     "output_type": "stream",
     "text": [
      "[*********************100%%**********************]  1 of 1 completed\n",
      "Downloading data for GBBKR: :  13%|██████▎                                          | 827/6477 [12:02<09:25, 10.00it/s]"
     ]
    },
    {
     "name": "stdout",
     "output_type": "stream",
     "text": [
      "Data for CFFI updated in data\\CFFI.csv.\n",
      "Updating data for CODA...\n",
      "Updating data for AMN...\n",
      "Updating data for MVT...\n",
      "Updating data for POWL...\n",
      "Updating data for TPIC...\n",
      "Updating data for ENS...\n",
      "Updating data for TRST...\n",
      "Updating data for AMAL...\n",
      "Updating data for TMCI...\n",
      "Updating data for MHD...\n",
      "Updating data for SWVL...\n",
      "Updating data for LDTCW...\n",
      "Updating data for GBBKR...\n"
     ]
    },
    {
     "name": "stderr",
     "output_type": "stream",
     "text": [
      "[*********************100%%**********************]  1 of 1 completed\n",
      "Downloading data for CMCA: :  13%|██████▍                                           | 831/6477 [12:03<12:41,  7.42it/s]"
     ]
    },
    {
     "name": "stdout",
     "output_type": "stream",
     "text": [
      "Data for GBBKR updated in data\\GBBKR.csv.\n",
      "Updating data for CCBG...\n",
      "Updating data for CLDT...\n",
      "Updating data for IMTXW...\n",
      "Updating data for CMCA...\n"
     ]
    },
    {
     "name": "stderr",
     "output_type": "stream",
     "text": [
      "[*********************100%%**********************]  1 of 1 completed\n",
      "Downloading data for SISI: :  13%|██████▌                                           | 850/6477 [12:04<08:31, 11.01it/s]"
     ]
    },
    {
     "name": "stdout",
     "output_type": "stream",
     "text": [
      "Data for CMCA updated in data\\CMCA.csv.\n",
      "Updating data for CUE...\n",
      "Updating data for FGB...\n",
      "Updating data for GRNT...\n",
      "Updating data for CL...\n",
      "Updating data for TVGNW...\n",
      "Updating data for WMG...\n",
      "Updating data for DH...\n",
      "Updating data for HIG...\n",
      "Updating data for BJ...\n",
      "Updating data for DTC...\n",
      "Updating data for LILA...\n",
      "Updating data for MTH...\n",
      "Updating data for EACPW...\n",
      "Updating data for BKYI...\n",
      "Updating data for SLQT...\n",
      "Updating data for MKL...\n",
      "Updating data for IART...\n",
      "Updating data for BNED...\n",
      "Updating data for SISI...\n"
     ]
    },
    {
     "name": "stderr",
     "output_type": "stream",
     "text": [
      "[*********************100%%**********************]  1 of 1 completed\n",
      "Downloading data for FREEW: :  13%|██████▌                                          | 868/6477 [12:06<06:42, 13.94it/s]"
     ]
    },
    {
     "name": "stdout",
     "output_type": "stream",
     "text": [
      "Data for SISI updated in data\\SISI.csv.\n",
      "Updating data for RITM...\n",
      "Updating data for TMHC...\n",
      "Updating data for AWI...\n",
      "Updating data for APWC...\n",
      "Updating data for FLS...\n",
      "Updating data for VSTM...\n",
      "Updating data for EXAI...\n",
      "Updating data for IVVD...\n",
      "Updating data for ENX...\n",
      "Updating data for UROY...\n",
      "Updating data for CLBK...\n",
      "Updating data for REVBW...\n",
      "Updating data for BFZ...\n",
      "Updating data for HGASW...\n",
      "Updating data for KN...\n",
      "Updating data for ASND...\n",
      "Updating data for ZTO...\n",
      "Updating data for FREEW...\n"
     ]
    },
    {
     "name": "stderr",
     "output_type": "stream",
     "text": [
      "[*********************100%%**********************]  1 of 1 completed\n",
      "Downloading data for MAQC: :  14%|██████▊                                           | 882/6477 [12:07<09:06, 10.25it/s]"
     ]
    },
    {
     "name": "stdout",
     "output_type": "stream",
     "text": [
      "Data for FREEW updated in data\\FREEW.csv.\n",
      "Updating data for GILD...\n",
      "Updating data for EOSE...\n",
      "Updating data for CASS...\n",
      "Updating data for TYGO...\n",
      "Updating data for DAY...\n",
      "Updating data for SILC...\n",
      "Updating data for AOSL...\n",
      "Updating data for SDPI...\n",
      "Updating data for AIF...\n",
      "Updating data for ALRN...\n",
      "Updating data for KALU...\n",
      "Updating data for FLUT...\n",
      "Updating data for KMDA...\n",
      "Updating data for MAQC...\n"
     ]
    },
    {
     "name": "stderr",
     "output_type": "stream",
     "text": [
      "[*********************100%%**********************]  1 of 1 completed\n",
      "[*********************100%%**********************]  1 of 1 completed                | 883/6477 [12:08<09:42,  9.60it/s]"
     ]
    },
    {
     "name": "stdout",
     "output_type": "stream",
     "text": [
      "Data for MAQC updated in data\\MAQC.csv.\n",
      "Updating data for WLDSW...\n"
     ]
    },
    {
     "name": "stderr",
     "output_type": "stream",
     "text": [
      "\n",
      "[*********************100%%**********************]  1 of 1 completed                | 884/6477 [12:09<09:42,  9.60it/s]"
     ]
    },
    {
     "name": "stdout",
     "output_type": "stream",
     "text": [
      "Data for WLDSW updated in data\\WLDSW.csv.\n",
      "Updating data for INVZW...\n"
     ]
    },
    {
     "name": "stderr",
     "output_type": "stream",
     "text": [
      "\n",
      "Downloading data for VAQC: :  14%|██████▊                                           | 886/6477 [12:11<09:42,  9.60it/s]"
     ]
    },
    {
     "name": "stdout",
     "output_type": "stream",
     "text": [
      "Data for INVZW updated in data\\INVZW.csv.\n",
      "Updating data for RGEN...\n",
      "Updating data for VAQC...\n"
     ]
    },
    {
     "name": "stderr",
     "output_type": "stream",
     "text": [
      "[*********************100%%**********************]  1 of 1 completed\n",
      "Downloading data for XPDB: :  14%|███████                                           | 908/6477 [12:12<13:00,  7.14it/s]"
     ]
    },
    {
     "name": "stdout",
     "output_type": "stream",
     "text": [
      "Data for VAQC updated in data\\VAQC.csv.\n",
      "Updating data for TCMD...\n",
      "Updating data for YUMC...\n",
      "Updating data for GRABW...\n",
      "Updating data for LEXX...\n",
      "Updating data for BHF...\n",
      "Updating data for PCYO...\n",
      "Updating data for ESS...\n",
      "Updating data for WAFDP...\n",
      "Updating data for ASA...\n",
      "Updating data for CLVRW...\n",
      "Updating data for CAL...\n",
      "Updating data for BEAT...\n",
      "Updating data for CMSA...\n",
      "Updating data for BFRGW...\n",
      "Updating data for ACRS...\n",
      "Updating data for ITI...\n",
      "Updating data for WAB...\n",
      "Updating data for CVGW...\n",
      "Updating data for UCL...\n",
      "Updating data for MHNC...\n",
      "Updating data for FUND...\n"
     ]
    },
    {
     "name": "stderr",
     "output_type": "stream",
     "text": [
      "Downloading data for CNGL: :  14%|███████                                           | 916/6477 [12:12<08:32, 10.85it/s]"
     ]
    },
    {
     "name": "stdout",
     "output_type": "stream",
     "text": [
      "Updating data for XPDB...\n",
      "Updating data for AQN...\n",
      "Updating data for PROP...\n",
      "Updating data for MFIN...\n",
      "Updating data for TSE...\n",
      "Updating data for RIVN...\n",
      "Updating data for AN...\n",
      "Updating data for AIMDW...\n",
      "Updating data for CNGL...\n"
     ]
    },
    {
     "name": "stderr",
     "output_type": "stream",
     "text": [
      "[*********************100%%**********************]  1 of 1 completed\n",
      "[*********************100%%**********************]  1 of 1 completed                | 917/6477 [12:13<08:32, 10.85it/s]"
     ]
    },
    {
     "name": "stdout",
     "output_type": "stream",
     "text": [
      "Data for CNGL updated in data\\CNGL.csv.\n",
      "Updating data for WFCF...\n"
     ]
    },
    {
     "name": "stderr",
     "output_type": "stream",
     "text": [
      "\n",
      "Downloading data for VEL: :  14%|███████▎                                           | 923/6477 [12:14<13:42,  6.76it/s]"
     ]
    },
    {
     "name": "stdout",
     "output_type": "stream",
     "text": [
      "Data for WFCF updated in data\\WFCF.csv.\n",
      "Updating data for MGIH...\n",
      "Updating data for OCSL...\n",
      "Updating data for CRI...\n",
      "Updating data for QBTS...\n",
      "Updating data for BRFH...\n",
      "Updating data for VEL...\n"
     ]
    },
    {
     "name": "stderr",
     "output_type": "stream",
     "text": [
      "[*********************100%%**********************]  1 of 1 completed\n",
      "Downloading data for WDC: :  14%|███████▍                                           | 939/6477 [12:16<10:16,  8.98it/s]"
     ]
    },
    {
     "name": "stdout",
     "output_type": "stream",
     "text": [
      "Data for VEL updated in data\\VEL.csv.\n",
      "Updating data for PSN...\n",
      "Updating data for LFT...\n",
      "Updating data for OIA...\n",
      "Updating data for OMAB...\n",
      "Updating data for ONCY...\n",
      "Updating data for XPL...\n",
      "Updating data for EMD...\n",
      "Updating data for QRTEA...\n",
      "Updating data for VZIO...\n",
      "Updating data for CNET...\n",
      "Updating data for LFWD...\n",
      "Updating data for CAF...\n",
      "Updating data for ORLY...\n",
      "Updating data for CMPS...\n",
      "Updating data for FET...\n",
      "Updating data for WDC...\n"
     ]
    },
    {
     "name": "stderr",
     "output_type": "stream",
     "text": [
      "[*********************100%%**********************]  1 of 1 completed\n",
      "Downloading data for ALSAW: :  15%|███████▏                                         | 943/6477 [12:17<12:24,  7.43it/s]"
     ]
    },
    {
     "name": "stdout",
     "output_type": "stream",
     "text": [
      "Data for WDC updated in data\\WDC.csv.\n",
      "Updating data for CBRL...\n",
      "Updating data for AUPH...\n",
      "Updating data for DRTSW...\n",
      "Updating data for ALSAW...\n"
     ]
    },
    {
     "name": "stderr",
     "output_type": "stream",
     "text": [
      "[*********************100%%**********************]  1 of 1 completed\n",
      "Downloading data for DHAC: :  15%|███████▎                                          | 946/6477 [12:19<12:24,  7.43it/s]"
     ]
    },
    {
     "name": "stdout",
     "output_type": "stream",
     "text": [
      "Data for ALSAW updated in data\\ALSAW.csv.\n",
      "Updating data for SOGP...\n",
      "Updating data for GRAB...\n",
      "Updating data for DHAC...\n"
     ]
    },
    {
     "name": "stderr",
     "output_type": "stream",
     "text": [
      "[*********************100%%**********************]  1 of 1 completed\n",
      "Downloading data for DHAC: :  15%|███████                                         | 946/6477 [12:20<1:12:08,  1.28it/s]\n"
     ]
    },
    {
     "ename": "KeyboardInterrupt",
     "evalue": "",
     "output_type": "error",
     "traceback": [
      "\u001b[1;31m---------------------------------------------------------------------------\u001b[0m",
      "\u001b[1;31mKeyboardInterrupt\u001b[0m                         Traceback (most recent call last)",
      "Cell \u001b[1;32mIn[6], line 2\u001b[0m\n\u001b[0;32m      1\u001b[0m stock_symbols_pickle \u001b[38;5;241m=\u001b[39m \u001b[38;5;124m'\u001b[39m\u001b[38;5;124mstock_symbols.pkl\u001b[39m\u001b[38;5;124m'\u001b[39m  \u001b[38;5;66;03m# Name of the pickle file\u001b[39;00m\n\u001b[1;32m----> 2\u001b[0m \u001b[43mTS\u001b[49m\u001b[38;5;241;43m.\u001b[39;49m\u001b[43mSAU\u001b[49m\u001b[38;5;241;43m.\u001b[39;49m\u001b[43mupdate_stock_data\u001b[49m\u001b[43m(\u001b[49m\u001b[43mpickle_file\u001b[49m\u001b[38;5;241;43m=\u001b[39;49m\u001b[43mstock_symbols_pickle\u001b[49m\u001b[43m)\u001b[49m\n",
      "File \u001b[1;32m~\\Documents\\GitHub\\mathematricks\\stock_automation_utils.py:97\u001b[0m, in \u001b[0;36mStockAutomationUtils.update_stock_data\u001b[1;34m(self, pickle_file, data_folder, throttle_secs)\u001b[0m\n\u001b[0;32m     94\u001b[0m new_data \u001b[38;5;241m=\u001b[39m yf\u001b[38;5;241m.\u001b[39mdownload(symbol, start\u001b[38;5;241m=\u001b[39mlast_date \u001b[38;5;241m+\u001b[39m pd\u001b[38;5;241m.\u001b[39moffsets\u001b[38;5;241m.\u001b[39mBDay())\n\u001b[0;32m     96\u001b[0m \u001b[38;5;28;01mif\u001b[39;00m \u001b[38;5;129;01mnot\u001b[39;00m new_data\u001b[38;5;241m.\u001b[39mempty:\n\u001b[1;32m---> 97\u001b[0m     \u001b[43mtime\u001b[49m\u001b[38;5;241;43m.\u001b[39;49m\u001b[43msleep\u001b[49m\u001b[43m(\u001b[49m\u001b[43mthrottle_secs\u001b[49m\u001b[43m)\u001b[49m\n\u001b[0;32m     98\u001b[0m     updated_data \u001b[38;5;241m=\u001b[39m pd\u001b[38;5;241m.\u001b[39mconcat([existing_data, new_data])\n\u001b[0;32m     99\u001b[0m     updated_data\u001b[38;5;241m.\u001b[39miloc[:\u001b[38;5;241m-\u001b[39m\u001b[38;5;241m1\u001b[39m]\u001b[38;5;241m.\u001b[39mto_csv(csv_file_path)\n",
      "\u001b[1;31mKeyboardInterrupt\u001b[0m: "
     ]
    }
   ],
   "source": [
    "stock_symbols_pickle = 'stock_symbols.pkl'  # Name of the pickle file\n",
    "TS.SAU.update_stock_data(pickle_file=stock_symbols_pickle)"
   ]
  },
  {
   "cell_type": "code",
   "execution_count": 7,
   "id": "d80a7b57-abf7-4a2a-8d60-eb522a7db2c9",
   "metadata": {},
   "outputs": [],
   "source": [
    "# Imports\n",
    "from datetime import datetime\n",
    "\n",
    "# Optional Imports\n",
    "import numpy as np\n",
    "import matplotlib.pyplot as plt"
   ]
  },
  {
   "cell_type": "code",
   "execution_count": 8,
   "id": "49dae4d2-b655-4c7a-b4a7-5f5676af2ef1",
   "metadata": {},
   "outputs": [],
   "source": [
    "symbols = ['HDB', 'BIIB', 'BNTX', 'MRNA', 'CHTR', 'AWK', 'SNAP', 'TFC', 'ES', 'KDP', 'HSY', 'NEE', 'TTWO', 'EL', 'JD', 'BA', 'EQNR', 'HUM', 'NTR', 'WPM', 'WPM', 'WBA', 'SBAC', 'MMM', 'BTI', 'ILMN', 'WDS', 'ADM', 'PFE', 'ALNY', 'FNV', 'NEM', 'WBD']\n"
   ]
  },
  {
   "cell_type": "code",
   "execution_count": 9,
   "id": "2769bc09-d232-43db-bd97-5393d298abc6",
   "metadata": {},
   "outputs": [
    {
     "name": "stdout",
     "output_type": "stream",
     "text": [
      "NOTICE: self.strategy: Need to use strategy_vault to automatically load the strategy based on strategy name (need to basically do a dynamic import\n"
     ]
    },
    {
     "name": "stderr",
     "output_type": "stream",
     "text": [
      "Running backtest: 2020-12-16 - 2020-12-30: 100%|██████████████████████| 73/73 [00:02<00:00, 29.31it/s, Profit=-1349.81]\n"
     ]
    },
    {
     "name": "stdout",
     "output_type": "stream",
     "text": [
      "Backtest results saved to backtests/BaseStrategy_2018-01-01_2020-12-31_15_10_5_110000_0.1_False_1.0.pkl\n"
     ]
    },
    {
     "name": "stderr",
     "output_type": "stream",
     "text": [
      "Running backtest: 2020-12-16 - 2020-12-30: 100%|██████████████████████| 73/73 [00:02<00:00, 29.41it/s, Profit=-1.31e+4]\n"
     ]
    },
    {
     "name": "stdout",
     "output_type": "stream",
     "text": [
      "Backtest results saved to backtests/BaseStrategy_2018-01-01_2020-12-31_15_10_5_110000_0.1_False_5.0.pkl\n"
     ]
    }
   ],
   "source": [
    "from backtest_utils import TradingSimulator\n",
    "TS = TradingSimulator(strategy_name)\n",
    "start_date = '2018-01-01'\n",
    "end_date = '2020-12-31'\n",
    "start_date_dt = datetime.strptime(start_date, \"%Y-%m-%d\")\n",
    "end_date_dt = datetime.strptime(end_date, \"%Y-%m-%d\")\n",
    "rebalance_frequency = 15  # In days\n",
    "# create a numpy array of numbers 15 days apart from 0 to 365\n",
    "long_count = 10\n",
    "short_count = 5\n",
    "portfolio_starting_value = 110000\n",
    "risk_pct = 0.1\n",
    "reinvest_profits_bool = False\n",
    "\n",
    "# Run the backtest\n",
    "test_no_leverage = TS.run_backtest(symbols, start_date_dt, end_date_dt, rebalance_frequency, long_count, short_count, portfolio_starting_value, risk_pct, reinvest_profits_bool, leverage_multiplier=1.0)\n",
    "test_w_leverage = TS.run_backtest(symbols, start_date_dt, end_date_dt, rebalance_frequency, long_count, short_count, portfolio_starting_value, risk_pct, reinvest_profits_bool, leverage_multiplier=5.0)\n",
    "\n"
   ]
  },
  {
   "cell_type": "code",
   "execution_count": 10,
   "id": "e64821e0-31f1-4e72-aba3-b82c5a371733",
   "metadata": {},
   "outputs": [],
   "source": [
    "from analysis_utils import BacktestAnalyzer, compare_two_backtests"
   ]
  },
  {
   "cell_type": "code",
   "execution_count": 13,
   "id": "09280d6b-e45f-4261-bf16-35b5d807d1d7",
   "metadata": {},
   "outputs": [
    {
     "name": "stdout",
     "output_type": "stream",
     "text": [
      "backtests/BaseStrategy_2018-01-01_2020-12-31_15_10_5_110000_0.1_False_1.0_analysis.pkl\n",
      "Backtest analysis saved to backtests/BaseStrategy_2018-01-01_2020-12-31_15_10_5_110000_0.1_False_1.0_analysis.pkl\n",
      "backtests/BaseStrategy_2018-01-01_2020-12-31_15_10_5_110000_0.1_False_5.0_analysis.pkl\n",
      "Backtest analysis saved to backtests/BaseStrategy_2018-01-01_2020-12-31_15_10_5_110000_0.1_False_5.0_analysis.pkl\n"
     ]
    },
    {
     "name": "stderr",
     "output_type": "stream",
     "text": [
      "C:\\Users\\joses\\Documents\\GitHub\\mathematricks\\analysis_utils.py:127: RuntimeWarning: invalid value encountered in scalar power\n",
      "  long_cagr = (long_cumulative_returns[-1] / [x for x in long_cumulative_returns if x != 0][0]) ** (1 / len(long_profits)) - 1\n"
     ]
    },
    {
     "data": {
      "text/html": [
       "<div>\n",
       "<style scoped>\n",
       "    .dataframe tbody tr th:only-of-type {\n",
       "        vertical-align: middle;\n",
       "    }\n",
       "\n",
       "    .dataframe tbody tr th {\n",
       "        vertical-align: top;\n",
       "    }\n",
       "\n",
       "    .dataframe thead tr th {\n",
       "        text-align: left;\n",
       "    }\n",
       "</style>\n",
       "<table border=\"1\" class=\"dataframe\">\n",
       "  <thead>\n",
       "    <tr>\n",
       "      <th>lst</th>\n",
       "      <th colspan=\"2\" halign=\"left\">total</th>\n",
       "    </tr>\n",
       "    <tr>\n",
       "      <th>test</th>\n",
       "      <th>1.0</th>\n",
       "      <th>5.0</th>\n",
       "    </tr>\n",
       "  </thead>\n",
       "  <tbody>\n",
       "    <tr>\n",
       "      <th>cagr</th>\n",
       "      <td>0.076974</td>\n",
       "      <td>0.054716</td>\n",
       "    </tr>\n",
       "    <tr>\n",
       "      <th>max_drawdown</th>\n",
       "      <td>496666.065758</td>\n",
       "      <td>126142.134597</td>\n",
       "    </tr>\n",
       "    <tr>\n",
       "      <th>sharpe_ratio</th>\n",
       "      <td>-0.358348</td>\n",
       "      <td>-0.565219</td>\n",
       "    </tr>\n",
       "    <tr>\n",
       "      <th>sortino_ratio</th>\n",
       "      <td>-0.706337</td>\n",
       "      <td>-0.814657</td>\n",
       "    </tr>\n",
       "    <tr>\n",
       "      <th>profit_to_drawdown_ratio</th>\n",
       "      <td>-0.952713</td>\n",
       "      <td>-0.959291</td>\n",
       "    </tr>\n",
       "    <tr>\n",
       "      <th>beta</th>\n",
       "      <td>1.402848</td>\n",
       "      <td>0.275241</td>\n",
       "    </tr>\n",
       "    <tr>\n",
       "      <th>alpha</th>\n",
       "      <td>-7894.752984</td>\n",
       "      <td>-1934.830245</td>\n",
       "    </tr>\n",
       "    <tr>\n",
       "      <th>total_return</th>\n",
       "      <td>-473180.350737</td>\n",
       "      <td>-121007.070648</td>\n",
       "    </tr>\n",
       "    <tr>\n",
       "      <th>positive_returns</th>\n",
       "      <td>284252.136038</td>\n",
       "      <td>40160.658981</td>\n",
       "    </tr>\n",
       "    <tr>\n",
       "      <th>negative_returns</th>\n",
       "      <td>-757432.486775</td>\n",
       "      <td>-161167.729629</td>\n",
       "    </tr>\n",
       "    <tr>\n",
       "      <th>pct_profitable_bets</th>\n",
       "      <td>0.431050</td>\n",
       "      <td>0.397260</td>\n",
       "    </tr>\n",
       "    <tr>\n",
       "      <th>pct_negative_bets</th>\n",
       "      <td>0.568037</td>\n",
       "      <td>0.599087</td>\n",
       "    </tr>\n",
       "    <tr>\n",
       "      <th>median_gain</th>\n",
       "      <td>9074.877577</td>\n",
       "      <td>2465.165285</td>\n",
       "    </tr>\n",
       "    <tr>\n",
       "      <th>average_loss</th>\n",
       "      <td>-14291.178996</td>\n",
       "      <td>-2827.504029</td>\n",
       "    </tr>\n",
       "    <tr>\n",
       "      <th>median_gain_to_average_loss</th>\n",
       "      <td>-0.634999</td>\n",
       "      <td>-0.871852</td>\n",
       "    </tr>\n",
       "    <tr>\n",
       "      <th>test_score</th>\n",
       "      <td>0.754764</td>\n",
       "      <td>0.209539</td>\n",
       "    </tr>\n",
       "    <tr>\n",
       "      <th>pct_positive_returns</th>\n",
       "      <td>NaN</td>\n",
       "      <td>NaN</td>\n",
       "    </tr>\n",
       "    <tr>\n",
       "      <th>pct_negative_returns</th>\n",
       "      <td>NaN</td>\n",
       "      <td>NaN</td>\n",
       "    </tr>\n",
       "  </tbody>\n",
       "</table>\n",
       "</div>"
      ],
      "text/plain": [
       "lst                                  total               \n",
       "test                                   1.0            5.0\n",
       "cagr                              0.076974       0.054716\n",
       "max_drawdown                 496666.065758  126142.134597\n",
       "sharpe_ratio                     -0.358348      -0.565219\n",
       "sortino_ratio                    -0.706337      -0.814657\n",
       "profit_to_drawdown_ratio         -0.952713      -0.959291\n",
       "beta                              1.402848       0.275241\n",
       "alpha                         -7894.752984   -1934.830245\n",
       "total_return                -473180.350737 -121007.070648\n",
       "positive_returns             284252.136038   40160.658981\n",
       "negative_returns            -757432.486775 -161167.729629\n",
       "pct_profitable_bets               0.431050       0.397260\n",
       "pct_negative_bets                 0.568037       0.599087\n",
       "median_gain                    9074.877577    2465.165285\n",
       "average_loss                 -14291.178996   -2827.504029\n",
       "median_gain_to_average_loss      -0.634999      -0.871852\n",
       "test_score                        0.754764       0.209539\n",
       "pct_positive_returns                   NaN            NaN\n",
       "pct_negative_returns                   NaN            NaN"
      ]
     },
     "metadata": {},
     "output_type": "display_data"
    },
    {
     "data": {
      "text/html": [
       "<div>\n",
       "<style scoped>\n",
       "    .dataframe tbody tr th:only-of-type {\n",
       "        vertical-align: middle;\n",
       "    }\n",
       "\n",
       "    .dataframe tbody tr th {\n",
       "        vertical-align: top;\n",
       "    }\n",
       "\n",
       "    .dataframe thead tr th {\n",
       "        text-align: left;\n",
       "    }\n",
       "</style>\n",
       "<table border=\"1\" class=\"dataframe\">\n",
       "  <thead>\n",
       "    <tr>\n",
       "      <th>lst</th>\n",
       "      <th colspan=\"2\" halign=\"left\">long</th>\n",
       "    </tr>\n",
       "    <tr>\n",
       "      <th>test</th>\n",
       "      <th>1.0</th>\n",
       "      <th>5.0</th>\n",
       "    </tr>\n",
       "  </thead>\n",
       "  <tbody>\n",
       "    <tr>\n",
       "      <th>cagr</th>\n",
       "      <td>NaN</td>\n",
       "      <td>0.067759</td>\n",
       "    </tr>\n",
       "    <tr>\n",
       "      <th>max_drawdown</th>\n",
       "      <td>350989.963386</td>\n",
       "      <td>76596.363862</td>\n",
       "    </tr>\n",
       "    <tr>\n",
       "      <th>sharpe_ratio</th>\n",
       "      <td>-0.157781</td>\n",
       "      <td>-0.297348</td>\n",
       "    </tr>\n",
       "    <tr>\n",
       "      <th>sortino_ratio</th>\n",
       "      <td>-0.305830</td>\n",
       "      <td>-0.456876</td>\n",
       "    </tr>\n",
       "    <tr>\n",
       "      <th>profit_to_drawdown_ratio</th>\n",
       "      <td>-0.627762</td>\n",
       "      <td>-0.876368</td>\n",
       "    </tr>\n",
       "    <tr>\n",
       "      <th>beta</th>\n",
       "      <td>2.010871</td>\n",
       "      <td>0.347599</td>\n",
       "    </tr>\n",
       "    <tr>\n",
       "      <th>alpha</th>\n",
       "      <td>-5043.510009</td>\n",
       "      <td>-1269.614583</td>\n",
       "    </tr>\n",
       "    <tr>\n",
       "      <th>total_return</th>\n",
       "      <td>-220338.073906</td>\n",
       "      <td>-67126.574569</td>\n",
       "    </tr>\n",
       "    <tr>\n",
       "      <th>positive_returns</th>\n",
       "      <td>NaN</td>\n",
       "      <td>NaN</td>\n",
       "    </tr>\n",
       "    <tr>\n",
       "      <th>negative_returns</th>\n",
       "      <td>NaN</td>\n",
       "      <td>NaN</td>\n",
       "    </tr>\n",
       "    <tr>\n",
       "      <th>pct_profitable_bets</th>\n",
       "      <td>1.000000</td>\n",
       "      <td>1.000000</td>\n",
       "    </tr>\n",
       "    <tr>\n",
       "      <th>pct_negative_bets</th>\n",
       "      <td>NaN</td>\n",
       "      <td>NaN</td>\n",
       "    </tr>\n",
       "    <tr>\n",
       "      <th>median_gain</th>\n",
       "      <td>7598.438379</td>\n",
       "      <td>2491.762255</td>\n",
       "    </tr>\n",
       "    <tr>\n",
       "      <th>average_loss</th>\n",
       "      <td>-12876.711609</td>\n",
       "      <td>-2493.991837</td>\n",
       "    </tr>\n",
       "    <tr>\n",
       "      <th>median_gain_to_average_loss</th>\n",
       "      <td>-0.590092</td>\n",
       "      <td>-0.999106</td>\n",
       "    </tr>\n",
       "    <tr>\n",
       "      <th>test_score</th>\n",
       "      <td>0.357393</td>\n",
       "      <td>0.259971</td>\n",
       "    </tr>\n",
       "    <tr>\n",
       "      <th>pct_positive_returns</th>\n",
       "      <td>5095.762467</td>\n",
       "      <td>822.835742</td>\n",
       "    </tr>\n",
       "    <tr>\n",
       "      <th>pct_negative_returns</th>\n",
       "      <td>-8114.092247</td>\n",
       "      <td>-1742.377859</td>\n",
       "    </tr>\n",
       "  </tbody>\n",
       "</table>\n",
       "</div>"
      ],
      "text/plain": [
       "lst                                   long              \n",
       "test                                   1.0           5.0\n",
       "cagr                                   NaN      0.067759\n",
       "max_drawdown                 350989.963386  76596.363862\n",
       "sharpe_ratio                     -0.157781     -0.297348\n",
       "sortino_ratio                    -0.305830     -0.456876\n",
       "profit_to_drawdown_ratio         -0.627762     -0.876368\n",
       "beta                              2.010871      0.347599\n",
       "alpha                         -5043.510009  -1269.614583\n",
       "total_return                -220338.073906 -67126.574569\n",
       "positive_returns                       NaN           NaN\n",
       "negative_returns                       NaN           NaN\n",
       "pct_profitable_bets               1.000000      1.000000\n",
       "pct_negative_bets                      NaN           NaN\n",
       "median_gain                    7598.438379   2491.762255\n",
       "average_loss                 -12876.711609  -2493.991837\n",
       "median_gain_to_average_loss      -0.590092     -0.999106\n",
       "test_score                        0.357393      0.259971\n",
       "pct_positive_returns           5095.762467    822.835742\n",
       "pct_negative_returns          -8114.092247  -1742.377859"
      ]
     },
     "metadata": {},
     "output_type": "display_data"
    },
    {
     "data": {
      "text/html": [
       "<div>\n",
       "<style scoped>\n",
       "    .dataframe tbody tr th:only-of-type {\n",
       "        vertical-align: middle;\n",
       "    }\n",
       "\n",
       "    .dataframe tbody tr th {\n",
       "        vertical-align: top;\n",
       "    }\n",
       "\n",
       "    .dataframe thead tr th {\n",
       "        text-align: left;\n",
       "    }\n",
       "</style>\n",
       "<table border=\"1\" class=\"dataframe\">\n",
       "  <thead>\n",
       "    <tr>\n",
       "      <th>lst</th>\n",
       "      <th colspan=\"2\" halign=\"left\">short</th>\n",
       "    </tr>\n",
       "    <tr>\n",
       "      <th>test</th>\n",
       "      <th>1.0</th>\n",
       "      <th>5.0</th>\n",
       "    </tr>\n",
       "  </thead>\n",
       "  <tbody>\n",
       "    <tr>\n",
       "      <th>cagr</th>\n",
       "      <td>0.046760</td>\n",
       "      <td>0.055730</td>\n",
       "    </tr>\n",
       "    <tr>\n",
       "      <th>max_drawdown</th>\n",
       "      <td>51963.678882</td>\n",
       "      <td>248977.543753</td>\n",
       "    </tr>\n",
       "    <tr>\n",
       "      <th>sharpe_ratio</th>\n",
       "      <td>-1.014567</td>\n",
       "      <td>-0.660523</td>\n",
       "    </tr>\n",
       "    <tr>\n",
       "      <th>sortino_ratio</th>\n",
       "      <td>-1.578958</td>\n",
       "      <td>-1.271115</td>\n",
       "    </tr>\n",
       "    <tr>\n",
       "      <th>profit_to_drawdown_ratio</th>\n",
       "      <td>-1.036888</td>\n",
       "      <td>-1.015522</td>\n",
       "    </tr>\n",
       "    <tr>\n",
       "      <th>beta</th>\n",
       "      <td>-0.072358</td>\n",
       "      <td>-0.608023</td>\n",
       "    </tr>\n",
       "    <tr>\n",
       "      <th>alpha</th>\n",
       "      <td>-665.215662</td>\n",
       "      <td>-2851.242975</td>\n",
       "    </tr>\n",
       "    <tr>\n",
       "      <th>total_return</th>\n",
       "      <td>-53880.496079</td>\n",
       "      <td>-252842.276831</td>\n",
       "    </tr>\n",
       "    <tr>\n",
       "      <th>positive_returns</th>\n",
       "      <td>NaN</td>\n",
       "      <td>NaN</td>\n",
       "    </tr>\n",
       "    <tr>\n",
       "      <th>negative_returns</th>\n",
       "      <td>NaN</td>\n",
       "      <td>NaN</td>\n",
       "    </tr>\n",
       "    <tr>\n",
       "      <th>pct_profitable_bets</th>\n",
       "      <td>1.000000</td>\n",
       "      <td>1.000000</td>\n",
       "    </tr>\n",
       "    <tr>\n",
       "      <th>pct_negative_bets</th>\n",
       "      <td>NaN</td>\n",
       "      <td>NaN</td>\n",
       "    </tr>\n",
       "    <tr>\n",
       "      <th>median_gain</th>\n",
       "      <td>217.993701</td>\n",
       "      <td>3386.978897</td>\n",
       "    </tr>\n",
       "    <tr>\n",
       "      <th>average_loss</th>\n",
       "      <td>-1038.568769</td>\n",
       "      <td>-4816.334863</td>\n",
       "    </tr>\n",
       "    <tr>\n",
       "      <th>median_gain_to_average_loss</th>\n",
       "      <td>-0.209898</td>\n",
       "      <td>-0.703227</td>\n",
       "    </tr>\n",
       "    <tr>\n",
       "      <th>test_score</th>\n",
       "      <td>0.959563</td>\n",
       "      <td>0.726578</td>\n",
       "    </tr>\n",
       "    <tr>\n",
       "      <th>pct_positive_returns</th>\n",
       "      <td>72.848270</td>\n",
       "      <td>758.947321</td>\n",
       "    </tr>\n",
       "    <tr>\n",
       "      <th>pct_negative_returns</th>\n",
       "      <td>-810.937258</td>\n",
       "      <td>-4222.540154</td>\n",
       "    </tr>\n",
       "  </tbody>\n",
       "</table>\n",
       "</div>"
      ],
      "text/plain": [
       "lst                                 short               \n",
       "test                                  1.0            5.0\n",
       "cagr                             0.046760       0.055730\n",
       "max_drawdown                 51963.678882  248977.543753\n",
       "sharpe_ratio                    -1.014567      -0.660523\n",
       "sortino_ratio                   -1.578958      -1.271115\n",
       "profit_to_drawdown_ratio        -1.036888      -1.015522\n",
       "beta                            -0.072358      -0.608023\n",
       "alpha                         -665.215662   -2851.242975\n",
       "total_return                -53880.496079 -252842.276831\n",
       "positive_returns                      NaN            NaN\n",
       "negative_returns                      NaN            NaN\n",
       "pct_profitable_bets              1.000000       1.000000\n",
       "pct_negative_bets                     NaN            NaN\n",
       "median_gain                    217.993701    3386.978897\n",
       "average_loss                 -1038.568769   -4816.334863\n",
       "median_gain_to_average_loss     -0.209898      -0.703227\n",
       "test_score                       0.959563       0.726578\n",
       "pct_positive_returns            72.848270     758.947321\n",
       "pct_negative_returns          -810.937258   -4222.540154"
      ]
     },
     "metadata": {},
     "output_type": "display_data"
    }
   ],
   "source": [
    "no_leverage_analysis = BacktestAnalyzer(test_no_leverage)\n",
    "leveraged_analysis = BacktestAnalyzer(test_w_leverage)\n",
    "\n",
    "total_comparison, long_comparison, short_comparison = compare_two_backtests(no_leverage_analysis, leveraged_analysis)\n",
    "\n",
    "from IPython.display import display, HTML\n",
    "display(total_comparison)\n",
    "display(long_comparison)\n",
    "display(short_comparison)"
   ]
  },
  {
   "cell_type": "code",
   "execution_count": 89,
   "id": "d611a87d-0ce0-46d9-9d4f-11a3fa34d26a",
   "metadata": {},
   "outputs": [],
   "source": [
    "benchmark_returns = TS.get_benchmark_returns(start_date_dt, end_date_dt, test_no_leverage['rebalance_periods'], portfolio_starting_value, benchmark_name='^IXIC')"
   ]
  },
  {
   "cell_type": "code",
   "execution_count": 90,
   "id": "71530eec-53d1-43a7-a424-87c19b01b353",
   "metadata": {},
   "outputs": [
    {
     "data": {
      "image/png": "[encoded data removed]",
      "text/plain": [
       "<Figure size 1600x900 with 1 Axes>"
      ]
     },
     "metadata": {},
     "output_type": "display_data"
    }
   ],
   "source": [
    "# Plot the backtest profits and the benchmark_data\n",
    "plt.figure(figsize=(16, 9))\n",
    "plt.plot(np.array(test_no_leverage['rebalance_periods'])[:, 1], np.cumsum(test_no_leverage['backtest_profits']), label='No Leverage Profits')\n",
    "plt.plot(np.array(test_w_leverage['rebalance_periods'])[:, 1], np.cumsum(test_w_leverage['backtest_profits']), label='5.0 Leverage Profits')\n",
    "\n",
    "plt.plot(np.array(test_no_leverage['rebalance_periods'])[:, 1], np.cumsum(benchmark_returns), label='Nasdaq Returns')\n",
    "# Show labels\n",
    "plt.legend()\n",
    "# Show the plot\n",
    "plt.show()"
   ]
  },
  {
   "cell_type": "code",
   "execution_count": null,
   "id": "555ccfbe-8475-4c8a-a686-3e6364725c00",
   "metadata": {},
   "outputs": [],
   "source": []
  }
 ],
 "metadata": {
  "kernelspec": {
   "display_name": "Python 3 (ipykernel)",
   "language": "python",
   "name": "python3"
  },
  "language_info": {
   "codemirror_mode": {
    "name": "ipython",
    "version": 3
   },
   "file_extension": ".py",
   "mimetype": "text/x-python",
   "name": "python",
   "nbconvert_exporter": "python",
   "pygments_lexer": "ipython3",
   "version": "3.10.13"
  }
 },
 "nbformat": 4,
 "nbformat_minor": 5
}
