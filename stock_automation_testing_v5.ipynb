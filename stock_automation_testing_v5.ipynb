{
 "cells": [
  {
   "cell_type": "code",
   "execution_count": 91,
   "id": "dd746c26-b087-47d4-8d0e-943f42d2e993",
   "metadata": {},
   "outputs": [
    {
     "name": "stdout",
     "output_type": "stream",
     "text": [
      "The autoreload extension is already loaded. To reload it, use:\n",
      "  %reload_ext autoreload\n"
     ]
    }
   ],
   "source": [
    "%load_ext autoreload\n",
    "%autoreload 2"
   ]
  },
  {
   "cell_type": "code",
   "execution_count": 92,
   "id": "8d1b4752-fa95-4da2-a52c-35aabbb2308f",
   "metadata": {},
   "outputs": [],
   "source": [
    "# Imports\n",
    "from backtest_utils import TradingSimulator\n",
    "import pickle"
   ]
  },
  {
   "cell_type": "code",
   "execution_count": 93,
   "id": "13d2b63e-9aa4-401a-8bb9-36300bd04c2d",
   "metadata": {},
   "outputs": [
    {
     "name": "stdout",
     "output_type": "stream",
     "text": [
      "NOTICE: self.strategy: Need to use strategy_vault to automatically load the strategy based on strategy name (need to basically do a dynamic import\n"
     ]
    }
   ],
   "source": [
    "strategy_name = 'dumb_strategy'\n",
    "TS = TradingSimulator(strategy_name)"
   ]
  },
  {
   "cell_type": "code",
   "execution_count": 94,
   "id": "d52d19b5-00ff-4eaa-a26c-e7fd31b459ae",
   "metadata": {},
   "outputs": [],
   "source": [
    "# Dump New symbols into the stock_symbols.pkl\n",
    "stock_symbols_pickle = 'stock_symbols.pkl'  # Name of the pickle file\n",
    "symbols = []  # Example list of stock symbols\n",
    "if len(symbols) > 0:\n",
    "    TS.SAU.add_stock_symbols_to_pickle(symbols, stock_symbols_pickle)"
   ]
  },
  {
   "cell_type": "code",
   "execution_count": 95,
   "id": "33c3c691-4f55-455c-848b-48272ab94415",
   "metadata": {},
   "outputs": [],
   "source": [
    "# Load the data from 'stock_symbols.pkl' into a variable called 'symbols'\n",
    "with open(stock_symbols_pickle, 'rb') as file:\n",
    "    symbols = pickle.load(file)"
   ]
  },
  {
   "cell_type": "code",
   "execution_count": 96,
   "id": "c7548bf6-a26d-41f2-bdb4-4babfce55b30",
   "metadata": {},
   "outputs": [
    {
     "name": "stderr",
     "output_type": "stream",
     "text": [
      "Downloading data for LIFW: :   0%|                                                            | 0/6477 [00:00<?, ?it/s]"
     ]
    },
    {
     "name": "stdout",
     "output_type": "stream",
     "text": [
      "Updating data for LIFW...\n"
     ]
    },
    {
     "name": "stderr",
     "output_type": "stream",
     "text": [
      "[*********************100%%**********************]  1 of 1 completed\n",
      "Downloading data for SRL: :   0%|                                                   | 1/6477 [00:01<2:54:01,  1.61s/it]"
     ]
    },
    {
     "name": "stdout",
     "output_type": "stream",
     "text": [
      "Data for LIFW updated in data\\LIFW.csv.\n",
      "Updating data for SRL...\n"
     ]
    },
    {
     "name": "stderr",
     "output_type": "stream",
     "text": [
      "[*********************100%%**********************]  1 of 1 completed\n",
      "Downloading data for SRL: :   0%|                                                   | 1/6477 [00:02<5:06:48,  2.84s/it]\n"
     ]
    },
    {
     "ename": "KeyboardInterrupt",
     "evalue": "",
     "output_type": "error",
     "traceback": [
      "\u001b[1;31m---------------------------------------------------------------------------\u001b[0m",
      "\u001b[1;31mKeyboardInterrupt\u001b[0m                         Traceback (most recent call last)",
      "Cell \u001b[1;32mIn[96], line 2\u001b[0m\n\u001b[0;32m      1\u001b[0m stock_symbols_pickle \u001b[38;5;241m=\u001b[39m \u001b[38;5;124m'\u001b[39m\u001b[38;5;124mstock_symbols.pkl\u001b[39m\u001b[38;5;124m'\u001b[39m  \u001b[38;5;66;03m# Name of the pickle file\u001b[39;00m\n\u001b[1;32m----> 2\u001b[0m \u001b[43mTS\u001b[49m\u001b[38;5;241;43m.\u001b[39;49m\u001b[43mSAU\u001b[49m\u001b[38;5;241;43m.\u001b[39;49m\u001b[43mupdate_stock_data\u001b[49m\u001b[43m(\u001b[49m\u001b[43mpickle_file\u001b[49m\u001b[38;5;241;43m=\u001b[39;49m\u001b[43mstock_symbols_pickle\u001b[49m\u001b[43m)\u001b[49m\n",
      "File \u001b[1;32m~\\Documents\\GitHub\\mathematricks\\stock_automation_utils.py:110\u001b[0m, in \u001b[0;36mStockAutomationUtils.update_stock_data\u001b[1;34m(self, pickle_file, data_folder, throttle_secs)\u001b[0m\n\u001b[0;32m    107\u001b[0m new_data \u001b[38;5;241m=\u001b[39m yf\u001b[38;5;241m.\u001b[39mdownload(symbol, start\u001b[38;5;241m=\u001b[39mlast_date \u001b[38;5;241m+\u001b[39m pd\u001b[38;5;241m.\u001b[39moffsets\u001b[38;5;241m.\u001b[39mBDay())\n\u001b[0;32m    109\u001b[0m \u001b[38;5;28;01mif\u001b[39;00m \u001b[38;5;129;01mnot\u001b[39;00m new_data\u001b[38;5;241m.\u001b[39mempty:\n\u001b[1;32m--> 110\u001b[0m     \u001b[43mtime\u001b[49m\u001b[38;5;241;43m.\u001b[39;49m\u001b[43msleep\u001b[49m\u001b[43m(\u001b[49m\u001b[43mthrottle_secs\u001b[49m\u001b[43m)\u001b[49m\n\u001b[0;32m    111\u001b[0m     updated_data \u001b[38;5;241m=\u001b[39m pd\u001b[38;5;241m.\u001b[39mconcat([existing_data, new_data])\n\u001b[0;32m    112\u001b[0m     updated_data\u001b[38;5;241m.\u001b[39miloc[:\u001b[38;5;241m-\u001b[39m\u001b[38;5;241m1\u001b[39m]\u001b[38;5;241m.\u001b[39mto_csv(csv_file_path)\n",
      "\u001b[1;31mKeyboardInterrupt\u001b[0m: "
     ]
    }
   ],
   "source": [
    "stock_symbols_pickle = 'stock_symbols.pkl'  # Name of the pickle file\n",
    "TS.SAU.update_stock_data(pickle_file=stock_symbols_pickle)"
   ]
  },
  {
   "cell_type": "code",
   "execution_count": 97,
   "id": "d80a7b57-abf7-4a2a-8d60-eb522a7db2c9",
   "metadata": {},
   "outputs": [],
   "source": [
    "# Imports\n",
    "from datetime import datetime\n",
    "\n",
    "# Optional Imports\n",
    "import numpy as np\n",
    "import matplotlib.pyplot as plt"
   ]
  },
  {
   "cell_type": "code",
   "execution_count": 98,
   "id": "49dae4d2-b655-4c7a-b4a7-5f5676af2ef1",
   "metadata": {},
   "outputs": [],
   "source": [
    "symbols = ['HDB', 'BIIB', 'BNTX', 'MRNA', 'CHTR', 'AWK', 'SNAP', 'TFC', 'ES', 'KDP', 'HSY', 'NEE', 'TTWO', 'EL', 'JD', 'BA', 'EQNR', 'HUM', 'NTR', 'WPM', 'WPM', 'WBA', 'SBAC', 'MMM', 'BTI', 'ILMN', 'WDS', 'ADM', 'PFE', 'ALNY', 'FNV', 'NEM', 'WBD']\n"
   ]
  },
  {
   "cell_type": "code",
   "execution_count": 99,
   "id": "2769bc09-d232-43db-bd97-5393d298abc6",
   "metadata": {},
   "outputs": [
    {
     "name": "stdout",
     "output_type": "stream",
     "text": [
      "NOTICE: self.strategy: Need to use strategy_vault to automatically load the strategy based on strategy name (need to basically do a dynamic import\n"
     ]
    },
    {
     "name": "stderr",
     "output_type": "stream",
     "text": [
      "Running backtest: 2020-12-16 - 2020-12-30: 100%|██████████████████████| 73/73 [00:02<00:00, 29.51it/s, Profit=-2422.11]\n"
     ]
    },
    {
     "name": "stdout",
     "output_type": "stream",
     "text": [
      "Backtest results saved to backtests/Test_59.pkl\n",
      "NOTICE: self.strategy: Need to use strategy_vault to automatically load the strategy based on strategy name (need to basically do a dynamic import\n"
     ]
    },
    {
     "name": "stderr",
     "output_type": "stream",
     "text": [
      "Running backtest: 2018-05-31 - 2018-06-14:  14%|███                   | 10/73 [00:00<00:02, 28.59it/s, Profit=-2.23e+4]"
     ]
    },
    {
     "name": "stdout",
     "output_type": "stream",
     "text": [
      "Backtest results saved to backtests/Test_60.pkl\n"
     ]
    },
    {
     "name": "stderr",
     "output_type": "stream",
     "text": [
      "\n"
     ]
    }
   ],
   "source": [
    "from backtest_utils import TradingSimulator\n",
    "start_date = '2018-01-01'\n",
    "end_date = '2020-12-31'\n",
    "start_date_dt = datetime.strptime(start_date, \"%Y-%m-%d\")\n",
    "end_date_dt = datetime.strptime(end_date, \"%Y-%m-%d\")\n",
    "rebalance_frequency = 15  # In days\n",
    "# create a numpy array of numbers 15 days apart from 0 to 365\n",
    "long_count = 10\n",
    "short_count = 5\n",
    "portfolio_starting_value = 110000\n",
    "risk_pct = 0.1\n",
    "reinvest_profits_bool = False\n",
    "\n",
    "# Run the backtest\n",
    "TS_no_leverage = TradingSimulator(strategy_name)\n",
    "test_no_leverage = TS_no_leverage.run_backtest(symbols, start_date_dt, end_date_dt, rebalance_frequency, long_count, short_count, portfolio_starting_value, risk_pct, reinvest_profits_bool, leverage_multiplier=1.0, save_test=True)\n",
    "TS_leverage = TradingSimulator(strategy_name)\n",
    "test_w_leverage = TS_leverage.run_backtest(symbols, start_date_dt, end_date_dt, rebalance_frequency, long_count, short_count, portfolio_starting_value, risk_pct, reinvest_profits_bool, leverage_multiplier=5.0, save_test=True)\n",
    "\n"
   ]
  },
  {
   "cell_type": "code",
   "execution_count": 100,
   "id": "e64821e0-31f1-4e72-aba3-b82c5a371733",
   "metadata": {},
   "outputs": [],
   "source": [
    "from analysis_utils import BacktestAnalyzer, compare_two_backtests"
   ]
  },
  {
   "cell_type": "code",
   "execution_count": 101,
   "id": "09280d6b-e45f-4261-bf16-35b5d807d1d7",
   "metadata": {},
   "outputs": [
    {
     "name": "stdout",
     "output_type": "stream",
     "text": [
      "backtests/Test_1_analysis.pkl\n",
      "Backtest analysis saved to backtests/Test_1_analysis.pkl\n",
      "backtests/Test_2_analysis.pkl\n",
      "Backtest analysis saved to backtests/Test_2_analysis.pkl\n"
     ]
    },
    {
     "data": {
      "text/html": [
       "<div>\n",
       "<style scoped>\n",
       "    .dataframe tbody tr th:only-of-type {\n",
       "        vertical-align: middle;\n",
       "    }\n",
       "\n",
       "    .dataframe tbody tr th {\n",
       "        vertical-align: top;\n",
       "    }\n",
       "\n",
       "    .dataframe thead tr th {\n",
       "        text-align: left;\n",
       "    }\n",
       "</style>\n",
       "<table border=\"1\" class=\"dataframe\">\n",
       "  <thead>\n",
       "    <tr>\n",
       "      <th>lst</th>\n",
       "      <th colspan=\"2\" halign=\"left\">total</th>\n",
       "    </tr>\n",
       "    <tr>\n",
       "      <th>test</th>\n",
       "      <th>leverage_multiplier=1.0</th>\n",
       "      <th>leverage_multiplier=5.0</th>\n",
       "    </tr>\n",
       "  </thead>\n",
       "  <tbody>\n",
       "    <tr>\n",
       "      <th>cagr</th>\n",
       "      <td>-0.2818</td>\n",
       "      <td>-2.4460</td>\n",
       "    </tr>\n",
       "    <tr>\n",
       "      <th>max_drawdown</th>\n",
       "      <td>0.8183</td>\n",
       "      <td>0.8097</td>\n",
       "    </tr>\n",
       "    <tr>\n",
       "      <th>pct_periods_up</th>\n",
       "      <td>0.3425</td>\n",
       "      <td>0.1818</td>\n",
       "    </tr>\n",
       "    <tr>\n",
       "      <th>pct_periods_down</th>\n",
       "      <td>0.6575</td>\n",
       "      <td>0.8182</td>\n",
       "    </tr>\n",
       "    <tr>\n",
       "      <th>pct_up_bets</th>\n",
       "      <td>0.4393</td>\n",
       "      <td>0.3758</td>\n",
       "    </tr>\n",
       "    <tr>\n",
       "      <th>pct_down_bets</th>\n",
       "      <td>0.5562</td>\n",
       "      <td>0.6242</td>\n",
       "    </tr>\n",
       "    <tr>\n",
       "      <th>median_gain_to_average_loss</th>\n",
       "      <td>-0.5135</td>\n",
       "      <td>-0.7175</td>\n",
       "    </tr>\n",
       "    <tr>\n",
       "      <th>profit_factor</th>\n",
       "      <td>-1.0191</td>\n",
       "      <td>-1.2415</td>\n",
       "    </tr>\n",
       "    <tr>\n",
       "      <th>sharpe_ratio</th>\n",
       "      <td>-2.2252</td>\n",
       "      <td>-4.6314</td>\n",
       "    </tr>\n",
       "    <tr>\n",
       "      <th>beta</th>\n",
       "      <td>0.2785</td>\n",
       "      <td>-0.7221</td>\n",
       "    </tr>\n",
       "    <tr>\n",
       "      <th>sortino_ratio</th>\n",
       "      <td>-3.3754</td>\n",
       "      <td>-4.9489</td>\n",
       "    </tr>\n",
       "    <tr>\n",
       "      <th>test_score</th>\n",
       "      <td>0.4162</td>\n",
       "      <td>0.1200</td>\n",
       "    </tr>\n",
       "  </tbody>\n",
       "</table>\n",
       "</div>"
      ],
      "text/plain": [
       "lst                                           total                        \n",
       "test                        leverage_multiplier=1.0 leverage_multiplier=5.0\n",
       "cagr                                        -0.2818                 -2.4460\n",
       "max_drawdown                                 0.8183                  0.8097\n",
       "pct_periods_up                               0.3425                  0.1818\n",
       "pct_periods_down                             0.6575                  0.8182\n",
       "pct_up_bets                                  0.4393                  0.3758\n",
       "pct_down_bets                                0.5562                  0.6242\n",
       "median_gain_to_average_loss                 -0.5135                 -0.7175\n",
       "profit_factor                               -1.0191                 -1.2415\n",
       "sharpe_ratio                                -2.2252                 -4.6314\n",
       "beta                                         0.2785                 -0.7221\n",
       "sortino_ratio                               -3.3754                 -4.9489\n",
       "test_score                                   0.4162                  0.1200"
      ]
     },
     "metadata": {},
     "output_type": "display_data"
    },
    {
     "data": {
      "text/html": [
       "<div>\n",
       "<style scoped>\n",
       "    .dataframe tbody tr th:only-of-type {\n",
       "        vertical-align: middle;\n",
       "    }\n",
       "\n",
       "    .dataframe tbody tr th {\n",
       "        vertical-align: top;\n",
       "    }\n",
       "\n",
       "    .dataframe thead tr th {\n",
       "        text-align: left;\n",
       "    }\n",
       "</style>\n",
       "<table border=\"1\" class=\"dataframe\">\n",
       "  <thead>\n",
       "    <tr>\n",
       "      <th>lst</th>\n",
       "      <th colspan=\"2\" halign=\"left\">long</th>\n",
       "    </tr>\n",
       "    <tr>\n",
       "      <th>test</th>\n",
       "      <th>leverage_multiplier=1.0</th>\n",
       "      <th>leverage_multiplier=5.0</th>\n",
       "    </tr>\n",
       "  </thead>\n",
       "  <tbody>\n",
       "    <tr>\n",
       "      <th>cagr</th>\n",
       "      <td>-0.1205</td>\n",
       "      <td>-1.6645</td>\n",
       "    </tr>\n",
       "    <tr>\n",
       "      <th>max_drawdown</th>\n",
       "      <td>0.3606</td>\n",
       "      <td>0.5403</td>\n",
       "    </tr>\n",
       "    <tr>\n",
       "      <th>pct_periods_up</th>\n",
       "      <td>0.4110</td>\n",
       "      <td>0.2727</td>\n",
       "    </tr>\n",
       "    <tr>\n",
       "      <th>pct_periods_down</th>\n",
       "      <td>0.5890</td>\n",
       "      <td>0.7273</td>\n",
       "    </tr>\n",
       "    <tr>\n",
       "      <th>pct_up_bets</th>\n",
       "      <td>0.5082</td>\n",
       "      <td>0.3727</td>\n",
       "    </tr>\n",
       "    <tr>\n",
       "      <th>pct_down_bets</th>\n",
       "      <td>0.4877</td>\n",
       "      <td>0.6273</td>\n",
       "    </tr>\n",
       "    <tr>\n",
       "      <th>median_gain_to_average_loss</th>\n",
       "      <td>-0.8627</td>\n",
       "      <td>-0.1131</td>\n",
       "    </tr>\n",
       "    <tr>\n",
       "      <th>profit_factor</th>\n",
       "      <td>-0.9890</td>\n",
       "      <td>-1.2659</td>\n",
       "    </tr>\n",
       "    <tr>\n",
       "      <th>sharpe_ratio</th>\n",
       "      <td>-0.8775</td>\n",
       "      <td>-3.7162</td>\n",
       "    </tr>\n",
       "    <tr>\n",
       "      <th>beta</th>\n",
       "      <td>0.3683</td>\n",
       "      <td>0.1887</td>\n",
       "    </tr>\n",
       "    <tr>\n",
       "      <th>sortino_ratio</th>\n",
       "      <td>-1.4062</td>\n",
       "      <td>-3.9096</td>\n",
       "    </tr>\n",
       "    <tr>\n",
       "      <th>test_score</th>\n",
       "      <td>0.9567</td>\n",
       "      <td>0.6619</td>\n",
       "    </tr>\n",
       "  </tbody>\n",
       "</table>\n",
       "</div>"
      ],
      "text/plain": [
       "lst                                            long                        \n",
       "test                        leverage_multiplier=1.0 leverage_multiplier=5.0\n",
       "cagr                                        -0.1205                 -1.6645\n",
       "max_drawdown                                 0.3606                  0.5403\n",
       "pct_periods_up                               0.4110                  0.2727\n",
       "pct_periods_down                             0.5890                  0.7273\n",
       "pct_up_bets                                  0.5082                  0.3727\n",
       "pct_down_bets                                0.4877                  0.6273\n",
       "median_gain_to_average_loss                 -0.8627                 -0.1131\n",
       "profit_factor                               -0.9890                 -1.2659\n",
       "sharpe_ratio                                -0.8775                 -3.7162\n",
       "beta                                         0.3683                  0.1887\n",
       "sortino_ratio                               -1.4062                 -3.9096\n",
       "test_score                                   0.9567                  0.6619"
      ]
     },
     "metadata": {},
     "output_type": "display_data"
    },
    {
     "data": {
      "text/html": [
       "<div>\n",
       "<style scoped>\n",
       "    .dataframe tbody tr th:only-of-type {\n",
       "        vertical-align: middle;\n",
       "    }\n",
       "\n",
       "    .dataframe tbody tr th {\n",
       "        vertical-align: top;\n",
       "    }\n",
       "\n",
       "    .dataframe thead tr th {\n",
       "        text-align: left;\n",
       "    }\n",
       "</style>\n",
       "<table border=\"1\" class=\"dataframe\">\n",
       "  <thead>\n",
       "    <tr>\n",
       "      <th>lst</th>\n",
       "      <th colspan=\"2\" halign=\"left\">short</th>\n",
       "    </tr>\n",
       "    <tr>\n",
       "      <th>test</th>\n",
       "      <th>leverage_multiplier=1.0</th>\n",
       "      <th>leverage_multiplier=5.0</th>\n",
       "    </tr>\n",
       "  </thead>\n",
       "  <tbody>\n",
       "    <tr>\n",
       "      <th>cagr</th>\n",
       "      <td>-0.1613</td>\n",
       "      <td>-0.7815</td>\n",
       "    </tr>\n",
       "    <tr>\n",
       "      <th>max_drawdown</th>\n",
       "      <td>0.4731</td>\n",
       "      <td>0.2797</td>\n",
       "    </tr>\n",
       "    <tr>\n",
       "      <th>pct_periods_up</th>\n",
       "      <td>0.1370</td>\n",
       "      <td>0.2727</td>\n",
       "    </tr>\n",
       "    <tr>\n",
       "      <th>pct_periods_down</th>\n",
       "      <td>0.8630</td>\n",
       "      <td>0.7273</td>\n",
       "    </tr>\n",
       "    <tr>\n",
       "      <th>pct_up_bets</th>\n",
       "      <td>0.3014</td>\n",
       "      <td>0.3818</td>\n",
       "    </tr>\n",
       "    <tr>\n",
       "      <th>pct_down_bets</th>\n",
       "      <td>0.6932</td>\n",
       "      <td>0.6182</td>\n",
       "    </tr>\n",
       "    <tr>\n",
       "      <th>median_gain_to_average_loss</th>\n",
       "      <td>-0.5101</td>\n",
       "      <td>-0.2223</td>\n",
       "    </tr>\n",
       "    <tr>\n",
       "      <th>profit_factor</th>\n",
       "      <td>-1.0090</td>\n",
       "      <td>-1.1481</td>\n",
       "    </tr>\n",
       "    <tr>\n",
       "      <th>sharpe_ratio</th>\n",
       "      <td>-4.7823</td>\n",
       "      <td>-4.1841</td>\n",
       "    </tr>\n",
       "    <tr>\n",
       "      <th>beta</th>\n",
       "      <td>-0.0898</td>\n",
       "      <td>-0.9108</td>\n",
       "    </tr>\n",
       "    <tr>\n",
       "      <th>sortino_ratio</th>\n",
       "      <td>-7.4099</td>\n",
       "      <td>-5.0119</td>\n",
       "    </tr>\n",
       "    <tr>\n",
       "      <th>test_score</th>\n",
       "      <td>0.4765</td>\n",
       "      <td>0.1300</td>\n",
       "    </tr>\n",
       "  </tbody>\n",
       "</table>\n",
       "</div>"
      ],
      "text/plain": [
       "lst                                           short                        \n",
       "test                        leverage_multiplier=1.0 leverage_multiplier=5.0\n",
       "cagr                                        -0.1613                 -0.7815\n",
       "max_drawdown                                 0.4731                  0.2797\n",
       "pct_periods_up                               0.1370                  0.2727\n",
       "pct_periods_down                             0.8630                  0.7273\n",
       "pct_up_bets                                  0.3014                  0.3818\n",
       "pct_down_bets                                0.6932                  0.6182\n",
       "median_gain_to_average_loss                 -0.5101                 -0.2223\n",
       "profit_factor                               -1.0090                 -1.1481\n",
       "sharpe_ratio                                -4.7823                 -4.1841\n",
       "beta                                        -0.0898                 -0.9108\n",
       "sortino_ratio                               -7.4099                 -5.0119\n",
       "test_score                                   0.4765                  0.1300"
      ]
     },
     "metadata": {},
     "output_type": "display_data"
    }
   ],
   "source": [
    "no_leverage_analyzer = BacktestAnalyzer(test_no_leverage)\n",
    "leveraged_analyzer = BacktestAnalyzer(test_w_leverage)\n",
    "\n",
    "total_comparison, long_comparison, short_comparison, no_leverage_analysis, leveraged_analysis = (\n",
    "    compare_two_backtests(no_leverage_analyzer, leveraged_analyzer)\n",
    ")\n",
    "\n",
    "from IPython.display import display, HTML\n",
    "import pandas as pd\n",
    "\n",
    "pd.options.display.float_format = '{:,.4f}'.format\n",
    "\n",
    "display(total_comparison)\n",
    "display(long_comparison)\n",
    "display(short_comparison)"
   ]
  },
  {
   "cell_type": "code",
   "execution_count": 102,
   "id": "d611a87d-0ce0-46d9-9d4f-11a3fa34d26a",
   "metadata": {},
   "outputs": [],
   "source": [
    "benchmark_profits = TS.get_benchmark_returns(start_date_dt, end_date_dt, test_no_leverage['rebalance_periods'], portfolio_starting_value, benchmark_name='^IXIC')"
   ]
  },
  {
   "cell_type": "code",
   "execution_count": 103,
   "id": "71530eec-53d1-43a7-a424-87c19b01b353",
   "metadata": {},
   "outputs": [
    {
     "data": {
      "image/png": "[encoded data removed]",
      "text/plain": [
       "<Figure size 1600x900 with 1 Axes>"
      ]
     },
     "metadata": {},
     "output_type": "display_data"
    }
   ],
   "source": [
    "# Plot the backtest profits and the benchmark_data\n",
    "test_no_leverage_returns = [x/test_no_leverage['inputs']['portfolio_starting_value'] for x in test_no_leverage['backtest_profits']]\n",
    "test_w_leverage_returns =  [x/test_w_leverage['inputs']['portfolio_starting_value'] for x in test_w_leverage['backtest_profits']]\n",
    "\n",
    "benchmark_returns = benchmark_profits/(\n",
    "        test_no_leverage['inputs']['portfolio_starting_value'])\n",
    "\n",
    "plt.figure(figsize=(16, 9))\n",
    "plt.plot(np.array(test_no_leverage['rebalance_periods'])[:, 1], np.cumsum(test_no_leverage_returns), label=total_comparison.columns[0][1])\n",
    "plt.plot(np.array(test_w_leverage['rebalance_periods'])[:, 1], np.cumsum(test_w_leverage_returns), label=total_comparison.columns[1][1])\n",
    "plt.plot(np.array(test_no_leverage['rebalance_periods'])[:, 1], np.cumsum(benchmark_returns), label='Nasdaq Returns')\n",
    "\n",
    "# Show labels\n",
    "plt.legend()\n",
    "# Show the plot\n",
    "plt.show()"
   ]
  },
  {
   "cell_type": "code",
   "execution_count": 104,
   "id": "555ccfbe-8475-4c8a-a686-3e6364725c00",
   "metadata": {},
   "outputs": [
    {
     "name": "stdout",
     "output_type": "stream",
     "text": [
      "-0.8339023235004605\n"
     ]
    }
   ],
   "source": [
    "print(np.sum(test_no_leverage_returns))"
   ]
  },
  {
   "cell_type": "code",
   "execution_count": null,
   "id": "2cf2def9-402d-49e9-835e-904e02c48c19",
   "metadata": {},
   "outputs": [],
   "source": []
  }
 ],
 "metadata": {
  "kernelspec": {
   "display_name": "Python 3 (ipykernel)",
   "language": "python",
   "name": "python3"
  },
  "language_info": {
   "codemirror_mode": {
    "name": "ipython",
    "version": 3
   },
   "file_extension": ".py",
   "mimetype": "text/x-python",
   "name": "python",
   "nbconvert_exporter": "python",
   "pygments_lexer": "ipython3",
   "version": "3.10.13"
  }
 },
 "nbformat": 4,
 "nbformat_minor": 5
}
