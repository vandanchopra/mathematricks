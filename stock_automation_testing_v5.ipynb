{
 "cells": [
  {
   "cell_type": "code",
   "execution_count": 1,
   "id": "dd746c26-b087-47d4-8d0e-943f42d2e993",
   "metadata": {},
   "outputs": [],
   "source": [
    "%load_ext autoreload\n",
    "%autoreload 2"
   ]
  },
  {
   "cell_type": "code",
   "execution_count": 2,
   "id": "8d1b4752-fa95-4da2-a52c-35aabbb2308f",
   "metadata": {},
   "outputs": [],
   "source": [
    "# Imports\n",
    "from backtest_utils import TradingSimulator\n",
    "import pickle"
   ]
  },
  {
   "cell_type": "code",
   "execution_count": 3,
   "id": "13d2b63e-9aa4-401a-8bb9-36300bd04c2d",
   "metadata": {},
   "outputs": [
    {
     "name": "stdout",
     "output_type": "stream",
     "text": [
      "NOTICE: self.strategy: Need to use strategy_vault to automatically load the strategy based on strategy name (need to basically do a dynamic import\n"
     ]
    }
   ],
   "source": [
    "strategy_name = 'dumb_strategy'\n",
    "TS = TradingSimulator(strategy_name)"
   ]
  },
  {
   "cell_type": "code",
   "execution_count": 4,
   "id": "d52d19b5-00ff-4eaa-a26c-e7fd31b459ae",
   "metadata": {},
   "outputs": [],
   "source": [
    "# Dump New symbols into the stock_symbols.pkl\n",
    "stock_symbols_pickle = 'stock_symbols.pkl'  # Name of the pickle file\n",
    "symbols = []  # Example list of stock symbols\n",
    "if len(symbols) > 0:\n",
    "    TS.SAU.add_stock_symbols_to_pickle(symbols, stock_symbols_pickle)"
   ]
  },
  {
   "cell_type": "code",
   "execution_count": 5,
   "id": "33c3c691-4f55-455c-848b-48272ab94415",
   "metadata": {},
   "outputs": [],
   "source": [
    "# Load the data from 'stock_symbols.pkl' into a variable called 'symbols'\n",
    "with open(stock_symbols_pickle, 'rb') as file:\n",
    "    symbols = pickle.load(file)"
   ]
  },
  {
   "cell_type": "code",
   "execution_count": 6,
   "id": "c7548bf6-a26d-41f2-bdb4-4babfce55b30",
   "metadata": {},
   "outputs": [
    {
     "name": "stderr",
     "output_type": "stream",
     "text": [
      "Downloading data for SRL: :   0%|                                                    | 1/6477 [00:00<00:55, 117.52it/s]"
     ]
    },
    {
     "name": "stdout",
     "output_type": "stream",
     "text": [
      "Updating data for LIFW...\n",
      "Updating data for SRL...\n"
     ]
    },
    {
     "name": "stderr",
     "output_type": "stream",
     "text": [
      "[*********************100%%**********************]  1 of 1 completed\n",
      "Downloading data for SRL: :   0%|                                                   | 1/6477 [00:02<3:35:57,  2.00s/it]\n"
     ]
    },
    {
     "ename": "KeyboardInterrupt",
     "evalue": "",
     "output_type": "error",
     "traceback": [
      "\u001b[1;31m---------------------------------------------------------------------------\u001b[0m",
      "\u001b[1;31mKeyboardInterrupt\u001b[0m                         Traceback (most recent call last)",
      "Cell \u001b[1;32mIn[6], line 2\u001b[0m\n\u001b[0;32m      1\u001b[0m stock_symbols_pickle \u001b[38;5;241m=\u001b[39m \u001b[38;5;124m'\u001b[39m\u001b[38;5;124mstock_symbols.pkl\u001b[39m\u001b[38;5;124m'\u001b[39m  \u001b[38;5;66;03m# Name of the pickle file\u001b[39;00m\n\u001b[1;32m----> 2\u001b[0m \u001b[43mTS\u001b[49m\u001b[38;5;241;43m.\u001b[39;49m\u001b[43mSAU\u001b[49m\u001b[38;5;241;43m.\u001b[39;49m\u001b[43mupdate_stock_data\u001b[49m\u001b[43m(\u001b[49m\u001b[43mpickle_file\u001b[49m\u001b[38;5;241;43m=\u001b[39;49m\u001b[43mstock_symbols_pickle\u001b[49m\u001b[43m)\u001b[49m\n",
      "File \u001b[1;32m~\\Documents\\GitHub\\mathematricks\\stock_automation_utils.py:110\u001b[0m, in \u001b[0;36mStockAutomationUtils.update_stock_data\u001b[1;34m(self, pickle_file, data_folder, throttle_secs)\u001b[0m\n\u001b[0;32m    107\u001b[0m new_data \u001b[38;5;241m=\u001b[39m yf\u001b[38;5;241m.\u001b[39mdownload(symbol, start\u001b[38;5;241m=\u001b[39mlast_date \u001b[38;5;241m+\u001b[39m pd\u001b[38;5;241m.\u001b[39moffsets\u001b[38;5;241m.\u001b[39mBDay())\n\u001b[0;32m    109\u001b[0m \u001b[38;5;28;01mif\u001b[39;00m \u001b[38;5;129;01mnot\u001b[39;00m new_data\u001b[38;5;241m.\u001b[39mempty:\n\u001b[1;32m--> 110\u001b[0m     \u001b[43mtime\u001b[49m\u001b[38;5;241;43m.\u001b[39;49m\u001b[43msleep\u001b[49m\u001b[43m(\u001b[49m\u001b[43mthrottle_secs\u001b[49m\u001b[43m)\u001b[49m\n\u001b[0;32m    111\u001b[0m     updated_data \u001b[38;5;241m=\u001b[39m pd\u001b[38;5;241m.\u001b[39mconcat([existing_data, new_data])\n\u001b[0;32m    112\u001b[0m     updated_data\u001b[38;5;241m.\u001b[39miloc[:\u001b[38;5;241m-\u001b[39m\u001b[38;5;241m1\u001b[39m]\u001b[38;5;241m.\u001b[39mto_csv(csv_file_path)\n",
      "\u001b[1;31mKeyboardInterrupt\u001b[0m: "
     ]
    }
   ],
   "source": [
    "stock_symbols_pickle = 'stock_symbols.pkl'  # Name of the pickle file\n",
    "TS.SAU.update_stock_data(pickle_file=stock_symbols_pickle)"
   ]
  },
  {
   "cell_type": "code",
   "execution_count": 7,
   "id": "d80a7b57-abf7-4a2a-8d60-eb522a7db2c9",
   "metadata": {},
   "outputs": [],
   "source": [
    "# Imports\n",
    "from datetime import datetime\n",
    "\n",
    "# Optional Imports\n",
    "import numpy as np\n",
    "import matplotlib.pyplot as plt"
   ]
  },
  {
   "cell_type": "code",
   "execution_count": 8,
   "id": "49dae4d2-b655-4c7a-b4a7-5f5676af2ef1",
   "metadata": {},
   "outputs": [],
   "source": [
    "symbols = ['HDB', 'BIIB', 'BNTX', 'MRNA', 'CHTR', 'AWK', 'SNAP', 'TFC', 'ES', 'KDP', 'HSY', 'NEE', 'TTWO', 'EL', 'JD', 'BA', 'EQNR', 'HUM', 'NTR', 'WPM', 'WPM', 'WBA', 'SBAC', 'MMM', 'BTI', 'ILMN', 'WDS', 'ADM', 'PFE', 'ALNY', 'FNV', 'NEM', 'WBD']\n"
   ]
  },
  {
   "cell_type": "code",
   "execution_count": 9,
   "id": "2769bc09-d232-43db-bd97-5393d298abc6",
   "metadata": {},
   "outputs": [
    {
     "name": "stdout",
     "output_type": "stream",
     "text": [
      "NOTICE: self.strategy: Need to use strategy_vault to automatically load the strategy based on strategy name (need to basically do a dynamic import\n"
     ]
    },
    {
     "name": "stderr",
     "output_type": "stream",
     "text": [
      "Running backtest: 2020-12-16 - 2020-12-30: 100%|██████████████████████| 73/73 [00:02<00:00, 32.80it/s, Profit=-1256.21]\n"
     ]
    },
    {
     "name": "stdout",
     "output_type": "stream",
     "text": [
      "Backtest results saved to backtests/Test_61.pkl\n",
      "NOTICE: self.strategy: Need to use strategy_vault to automatically load the strategy based on strategy name (need to basically do a dynamic import\n"
     ]
    },
    {
     "name": "stderr",
     "output_type": "stream",
     "text": [
      "Running backtest: 2018-07-15 - 2018-07-29:  18%|███▉                  | 13/73 [00:00<00:01, 30.24it/s, Profit=-3.15e+4]"
     ]
    },
    {
     "name": "stdout",
     "output_type": "stream",
     "text": [
      "Backtest results saved to backtests/Test_62.pkl\n"
     ]
    },
    {
     "name": "stderr",
     "output_type": "stream",
     "text": [
      "\n"
     ]
    }
   ],
   "source": [
    "from backtest_utils import TradingSimulator\n",
    "start_date = '2018-01-01'\n",
    "end_date = '2020-12-31'\n",
    "start_date_dt = datetime.strptime(start_date, \"%Y-%m-%d\")\n",
    "end_date_dt = datetime.strptime(end_date, \"%Y-%m-%d\")\n",
    "rebalance_frequency = 15  # In days\n",
    "# create a numpy array of numbers 15 days apart from 0 to 365\n",
    "long_count = 10\n",
    "short_count = 5\n",
    "portfolio_starting_value = 110000\n",
    "risk_pct = 0.1\n",
    "reinvest_profits_bool = False\n",
    "\n",
    "# Run the backtest\n",
    "TS_no_leverage = TradingSimulator(strategy_name)\n",
    "test_no_leverage = TS_no_leverage.run_backtest(symbols, start_date_dt, end_date_dt, rebalance_frequency, long_count, short_count, portfolio_starting_value, risk_pct, reinvest_profits_bool, leverage_multiplier=1.0, save_test=True)\n",
    "TS_leverage = TradingSimulator(strategy_name)\n",
    "test_w_leverage = TS_leverage.run_backtest(symbols, start_date_dt, end_date_dt, rebalance_frequency, long_count, short_count, portfolio_starting_value, risk_pct, reinvest_profits_bool, leverage_multiplier=5.0, save_test=True)\n",
    "\n"
   ]
  },
  {
   "cell_type": "code",
   "execution_count": 10,
   "id": "e64821e0-31f1-4e72-aba3-b82c5a371733",
   "metadata": {},
   "outputs": [],
   "source": [
    "from analysis_utils import BacktestAnalyzer, compare_two_backtests"
   ]
  },
  {
   "cell_type": "code",
   "execution_count": 15,
   "id": "09280d6b-e45f-4261-bf16-35b5d807d1d7",
   "metadata": {},
   "outputs": [
    {
     "name": "stdout",
     "output_type": "stream",
     "text": [
      "backtests/Test_1_analysis.pkl\n",
      "Backtest analysis saved to backtests/Test_1_analysis.pkl\n",
      "backtests/Test_2_analysis.pkl\n",
      "Backtest analysis saved to backtests/Test_2_analysis.pkl\n"
     ]
    },
    {
     "data": {
      "text/html": [
       "<div>\n",
       "<style scoped>\n",
       "    .dataframe tbody tr th:only-of-type {\n",
       "        vertical-align: middle;\n",
       "    }\n",
       "\n",
       "    .dataframe tbody tr th {\n",
       "        vertical-align: top;\n",
       "    }\n",
       "\n",
       "    .dataframe thead tr th {\n",
       "        text-align: left;\n",
       "    }\n",
       "</style>\n",
       "<table border=\"1\" class=\"dataframe\">\n",
       "  <thead>\n",
       "    <tr>\n",
       "      <th>lst</th>\n",
       "      <th colspan=\"2\" halign=\"left\">total</th>\n",
       "    </tr>\n",
       "    <tr>\n",
       "      <th>test</th>\n",
       "      <th>leverage_multiplier=1.0</th>\n",
       "      <th>leverage_multiplier=5.0</th>\n",
       "    </tr>\n",
       "  </thead>\n",
       "  <tbody>\n",
       "    <tr>\n",
       "      <th>cagr</th>\n",
       "      <td>-0.2082</td>\n",
       "      <td>-1.2024</td>\n",
       "    </tr>\n",
       "    <tr>\n",
       "      <th>max_drawdown</th>\n",
       "      <td>0.6373</td>\n",
       "      <td>3.8875</td>\n",
       "    </tr>\n",
       "    <tr>\n",
       "      <th>pct_periods_up</th>\n",
       "      <td>0.3151</td>\n",
       "      <td>0.3151</td>\n",
       "    </tr>\n",
       "    <tr>\n",
       "      <th>pct_periods_down</th>\n",
       "      <td>0.6849</td>\n",
       "      <td>0.6849</td>\n",
       "    </tr>\n",
       "    <tr>\n",
       "      <th>pct_up_bets</th>\n",
       "      <td>0.4393</td>\n",
       "      <td>0.4155</td>\n",
       "    </tr>\n",
       "    <tr>\n",
       "      <th>pct_down_bets</th>\n",
       "      <td>0.5589</td>\n",
       "      <td>0.5836</td>\n",
       "    </tr>\n",
       "    <tr>\n",
       "      <th>median_gain_to_average_loss</th>\n",
       "      <td>-0.5135</td>\n",
       "      <td>-0.5135</td>\n",
       "    </tr>\n",
       "    <tr>\n",
       "      <th>profit_factor</th>\n",
       "      <td>-0.9666</td>\n",
       "      <td>-0.9152</td>\n",
       "    </tr>\n",
       "    <tr>\n",
       "      <th>sharpe_ratio</th>\n",
       "      <td>-1.3947</td>\n",
       "      <td>-1.4876</td>\n",
       "    </tr>\n",
       "    <tr>\n",
       "      <th>beta</th>\n",
       "      <td>0.3223</td>\n",
       "      <td>1.5304</td>\n",
       "    </tr>\n",
       "    <tr>\n",
       "      <th>sortino_ratio</th>\n",
       "      <td>-2.3964</td>\n",
       "      <td>-3.1900</td>\n",
       "    </tr>\n",
       "    <tr>\n",
       "      <th>test_score</th>\n",
       "      <td>0.9027</td>\n",
       "      <td>0.5336</td>\n",
       "    </tr>\n",
       "  </tbody>\n",
       "</table>\n",
       "</div>"
      ],
      "text/plain": [
       "lst                                           total                        \n",
       "test                        leverage_multiplier=1.0 leverage_multiplier=5.0\n",
       "cagr                                        -0.2082                 -1.2024\n",
       "max_drawdown                                 0.6373                  3.8875\n",
       "pct_periods_up                               0.3151                  0.3151\n",
       "pct_periods_down                             0.6849                  0.6849\n",
       "pct_up_bets                                  0.4393                  0.4155\n",
       "pct_down_bets                                0.5589                  0.5836\n",
       "median_gain_to_average_loss                 -0.5135                 -0.5135\n",
       "profit_factor                               -0.9666                 -0.9152\n",
       "sharpe_ratio                                -1.3947                 -1.4876\n",
       "beta                                         0.3223                  1.5304\n",
       "sortino_ratio                               -2.3964                 -3.1900\n",
       "test_score                                   0.9027                  0.5336"
      ]
     },
     "metadata": {},
     "output_type": "display_data"
    },
    {
     "data": {
      "text/html": [
       "<div>\n",
       "<style scoped>\n",
       "    .dataframe tbody tr th:only-of-type {\n",
       "        vertical-align: middle;\n",
       "    }\n",
       "\n",
       "    .dataframe tbody tr th {\n",
       "        vertical-align: top;\n",
       "    }\n",
       "\n",
       "    .dataframe thead tr th {\n",
       "        text-align: left;\n",
       "    }\n",
       "</style>\n",
       "<table border=\"1\" class=\"dataframe\">\n",
       "  <thead>\n",
       "    <tr>\n",
       "      <th>lst</th>\n",
       "      <th colspan=\"2\" halign=\"left\">long</th>\n",
       "    </tr>\n",
       "    <tr>\n",
       "      <th>test</th>\n",
       "      <th>leverage_multiplier=1.0</th>\n",
       "      <th>leverage_multiplier=5.0</th>\n",
       "    </tr>\n",
       "  </thead>\n",
       "  <tbody>\n",
       "    <tr>\n",
       "      <th>cagr</th>\n",
       "      <td>-0.0561</td>\n",
       "      <td>-0.3831</td>\n",
       "    </tr>\n",
       "    <tr>\n",
       "      <th>max_drawdown</th>\n",
       "      <td>0.3490</td>\n",
       "      <td>2.4597</td>\n",
       "    </tr>\n",
       "    <tr>\n",
       "      <th>pct_periods_up</th>\n",
       "      <td>0.4110</td>\n",
       "      <td>0.4247</td>\n",
       "    </tr>\n",
       "    <tr>\n",
       "      <th>pct_periods_down</th>\n",
       "      <td>0.5890</td>\n",
       "      <td>0.5753</td>\n",
       "    </tr>\n",
       "    <tr>\n",
       "      <th>pct_up_bets</th>\n",
       "      <td>0.5041</td>\n",
       "      <td>0.4781</td>\n",
       "    </tr>\n",
       "    <tr>\n",
       "      <th>pct_down_bets</th>\n",
       "      <td>0.4945</td>\n",
       "      <td>0.5205</td>\n",
       "    </tr>\n",
       "    <tr>\n",
       "      <th>median_gain_to_average_loss</th>\n",
       "      <td>-0.7587</td>\n",
       "      <td>-0.8583</td>\n",
       "    </tr>\n",
       "    <tr>\n",
       "      <th>profit_factor</th>\n",
       "      <td>-0.4754</td>\n",
       "      <td>-0.4609</td>\n",
       "    </tr>\n",
       "    <tr>\n",
       "      <th>sharpe_ratio</th>\n",
       "      <td>-0.3556</td>\n",
       "      <td>-0.4452</td>\n",
       "    </tr>\n",
       "    <tr>\n",
       "      <th>beta</th>\n",
       "      <td>0.4186</td>\n",
       "      <td>1.9836</td>\n",
       "    </tr>\n",
       "    <tr>\n",
       "      <th>sortino_ratio</th>\n",
       "      <td>-0.6128</td>\n",
       "      <td>-1.0087</td>\n",
       "    </tr>\n",
       "    <tr>\n",
       "      <th>test_score</th>\n",
       "      <td>0.3891</td>\n",
       "      <td>0.3519</td>\n",
       "    </tr>\n",
       "  </tbody>\n",
       "</table>\n",
       "</div>"
      ],
      "text/plain": [
       "lst                                            long                        \n",
       "test                        leverage_multiplier=1.0 leverage_multiplier=5.0\n",
       "cagr                                        -0.0561                 -0.3831\n",
       "max_drawdown                                 0.3490                  2.4597\n",
       "pct_periods_up                               0.4110                  0.4247\n",
       "pct_periods_down                             0.5890                  0.5753\n",
       "pct_up_bets                                  0.5041                  0.4781\n",
       "pct_down_bets                                0.4945                  0.5205\n",
       "median_gain_to_average_loss                 -0.7587                 -0.8583\n",
       "profit_factor                               -0.4754                 -0.4609\n",
       "sharpe_ratio                                -0.3556                 -0.4452\n",
       "beta                                         0.4186                  1.9836\n",
       "sortino_ratio                               -0.6128                 -1.0087\n",
       "test_score                                   0.3891                  0.3519"
      ]
     },
     "metadata": {},
     "output_type": "display_data"
    },
    {
     "data": {
      "text/html": [
       "<div>\n",
       "<style scoped>\n",
       "    .dataframe tbody tr th:only-of-type {\n",
       "        vertical-align: middle;\n",
       "    }\n",
       "\n",
       "    .dataframe tbody tr th {\n",
       "        vertical-align: top;\n",
       "    }\n",
       "\n",
       "    .dataframe thead tr th {\n",
       "        text-align: left;\n",
       "    }\n",
       "</style>\n",
       "<table border=\"1\" class=\"dataframe\">\n",
       "  <thead>\n",
       "    <tr>\n",
       "      <th>lst</th>\n",
       "      <th colspan=\"2\" halign=\"left\">short</th>\n",
       "    </tr>\n",
       "    <tr>\n",
       "      <th>test</th>\n",
       "      <th>leverage_multiplier=1.0</th>\n",
       "      <th>leverage_multiplier=5.0</th>\n",
       "    </tr>\n",
       "  </thead>\n",
       "  <tbody>\n",
       "    <tr>\n",
       "      <th>cagr</th>\n",
       "      <td>-0.1521</td>\n",
       "      <td>-0.8193</td>\n",
       "    </tr>\n",
       "    <tr>\n",
       "      <th>max_drawdown</th>\n",
       "      <td>0.4406</td>\n",
       "      <td>2.3558</td>\n",
       "    </tr>\n",
       "    <tr>\n",
       "      <th>pct_periods_up</th>\n",
       "      <td>0.2055</td>\n",
       "      <td>0.1918</td>\n",
       "    </tr>\n",
       "    <tr>\n",
       "      <th>pct_periods_down</th>\n",
       "      <td>0.7945</td>\n",
       "      <td>0.8082</td>\n",
       "    </tr>\n",
       "    <tr>\n",
       "      <th>pct_up_bets</th>\n",
       "      <td>0.3096</td>\n",
       "      <td>0.2904</td>\n",
       "    </tr>\n",
       "    <tr>\n",
       "      <th>pct_down_bets</th>\n",
       "      <td>0.6877</td>\n",
       "      <td>0.7096</td>\n",
       "    </tr>\n",
       "    <tr>\n",
       "      <th>median_gain_to_average_loss</th>\n",
       "      <td>-0.2984</td>\n",
       "      <td>-0.3709</td>\n",
       "    </tr>\n",
       "    <tr>\n",
       "      <th>profit_factor</th>\n",
       "      <td>-1.0215</td>\n",
       "      <td>-1.0290</td>\n",
       "    </tr>\n",
       "    <tr>\n",
       "      <th>sharpe_ratio</th>\n",
       "      <td>-3.9208</td>\n",
       "      <td>-4.3187</td>\n",
       "    </tr>\n",
       "    <tr>\n",
       "      <th>beta</th>\n",
       "      <td>-0.0963</td>\n",
       "      <td>-0.4532</td>\n",
       "    </tr>\n",
       "    <tr>\n",
       "      <th>sortino_ratio</th>\n",
       "      <td>-6.1031</td>\n",
       "      <td>-7.5409</td>\n",
       "    </tr>\n",
       "    <tr>\n",
       "      <th>test_score</th>\n",
       "      <td>0.4768</td>\n",
       "      <td>0.3202</td>\n",
       "    </tr>\n",
       "  </tbody>\n",
       "</table>\n",
       "</div>"
      ],
      "text/plain": [
       "lst                                           short                        \n",
       "test                        leverage_multiplier=1.0 leverage_multiplier=5.0\n",
       "cagr                                        -0.1521                 -0.8193\n",
       "max_drawdown                                 0.4406                  2.3558\n",
       "pct_periods_up                               0.2055                  0.1918\n",
       "pct_periods_down                             0.7945                  0.8082\n",
       "pct_up_bets                                  0.3096                  0.2904\n",
       "pct_down_bets                                0.6877                  0.7096\n",
       "median_gain_to_average_loss                 -0.2984                 -0.3709\n",
       "profit_factor                               -1.0215                 -1.0290\n",
       "sharpe_ratio                                -3.9208                 -4.3187\n",
       "beta                                        -0.0963                 -0.4532\n",
       "sortino_ratio                               -6.1031                 -7.5409\n",
       "test_score                                   0.4768                  0.3202"
      ]
     },
     "metadata": {},
     "output_type": "display_data"
    }
   ],
   "source": [
    "no_leverage_analyzer = BacktestAnalyzer.by_test(test_no_leverage)\n",
    "leveraged_analyzer = BacktestAnalyzer.by_test(test_w_leverage)\n",
    "\n",
    "total_comparison, long_comparison, short_comparison, no_leverage_analysis, leveraged_analysis = (\n",
    "    compare_two_backtests(no_leverage_analyzer, leveraged_analyzer)\n",
    ")\n",
    "\n",
    "from IPython.display import display, HTML\n",
    "import pandas as pd\n",
    "\n",
    "pd.options.display.float_format = '{:,.4f}'.format\n",
    "\n",
    "display(total_comparison)\n",
    "display(long_comparison)\n",
    "display(short_comparison)"
   ]
  },
  {
   "cell_type": "code",
   "execution_count": 13,
   "id": "d611a87d-0ce0-46d9-9d4f-11a3fa34d26a",
   "metadata": {},
   "outputs": [],
   "source": [
    "benchmark_profits = TS.get_benchmark_returns(start_date_dt, end_date_dt, test_no_leverage['rebalance_periods'], portfolio_starting_value, benchmark_name='^IXIC')"
   ]
  },
  {
   "cell_type": "code",
   "execution_count": 14,
   "id": "71530eec-53d1-43a7-a424-87c19b01b353",
   "metadata": {},
   "outputs": [
    {
     "ename": "ValueError",
     "evalue": "x and y must have same first dimension, but have shapes (73,) and (14,)",
     "output_type": "error",
     "traceback": [
      "\u001b[1;31m---------------------------------------------------------------------------\u001b[0m",
      "\u001b[1;31mValueError\u001b[0m                                Traceback (most recent call last)",
      "Cell \u001b[1;32mIn[14], line 10\u001b[0m\n\u001b[0;32m      8\u001b[0m plt\u001b[38;5;241m.\u001b[39mfigure(figsize\u001b[38;5;241m=\u001b[39m(\u001b[38;5;241m16\u001b[39m, \u001b[38;5;241m9\u001b[39m))\n\u001b[0;32m      9\u001b[0m plt\u001b[38;5;241m.\u001b[39mplot(np\u001b[38;5;241m.\u001b[39marray(test_no_leverage[\u001b[38;5;124m'\u001b[39m\u001b[38;5;124mrebalance_periods\u001b[39m\u001b[38;5;124m'\u001b[39m])[:, \u001b[38;5;241m1\u001b[39m], np\u001b[38;5;241m.\u001b[39mcumsum(test_no_leverage_returns), label\u001b[38;5;241m=\u001b[39mtotal_comparison\u001b[38;5;241m.\u001b[39mcolumns[\u001b[38;5;241m0\u001b[39m][\u001b[38;5;241m1\u001b[39m])\n\u001b[1;32m---> 10\u001b[0m \u001b[43mplt\u001b[49m\u001b[38;5;241;43m.\u001b[39;49m\u001b[43mplot\u001b[49m\u001b[43m(\u001b[49m\u001b[43mnp\u001b[49m\u001b[38;5;241;43m.\u001b[39;49m\u001b[43marray\u001b[49m\u001b[43m(\u001b[49m\u001b[43mtest_w_leverage\u001b[49m\u001b[43m[\u001b[49m\u001b[38;5;124;43m'\u001b[39;49m\u001b[38;5;124;43mrebalance_periods\u001b[39;49m\u001b[38;5;124;43m'\u001b[39;49m\u001b[43m]\u001b[49m\u001b[43m)\u001b[49m\u001b[43m[\u001b[49m\u001b[43m:\u001b[49m\u001b[43m,\u001b[49m\u001b[43m \u001b[49m\u001b[38;5;241;43m1\u001b[39;49m\u001b[43m]\u001b[49m\u001b[43m,\u001b[49m\u001b[43m \u001b[49m\u001b[43mnp\u001b[49m\u001b[38;5;241;43m.\u001b[39;49m\u001b[43mcumsum\u001b[49m\u001b[43m(\u001b[49m\u001b[43mtest_w_leverage_returns\u001b[49m\u001b[43m)\u001b[49m\u001b[43m,\u001b[49m\u001b[43m \u001b[49m\u001b[43mlabel\u001b[49m\u001b[38;5;241;43m=\u001b[39;49m\u001b[43mtotal_comparison\u001b[49m\u001b[38;5;241;43m.\u001b[39;49m\u001b[43mcolumns\u001b[49m\u001b[43m[\u001b[49m\u001b[38;5;241;43m1\u001b[39;49m\u001b[43m]\u001b[49m\u001b[43m[\u001b[49m\u001b[38;5;241;43m1\u001b[39;49m\u001b[43m]\u001b[49m\u001b[43m)\u001b[49m\n\u001b[0;32m     11\u001b[0m plt\u001b[38;5;241m.\u001b[39mplot(np\u001b[38;5;241m.\u001b[39marray(test_no_leverage[\u001b[38;5;124m'\u001b[39m\u001b[38;5;124mrebalance_periods\u001b[39m\u001b[38;5;124m'\u001b[39m])[:, \u001b[38;5;241m1\u001b[39m], np\u001b[38;5;241m.\u001b[39mcumsum(benchmark_returns), label\u001b[38;5;241m=\u001b[39m\u001b[38;5;124m'\u001b[39m\u001b[38;5;124mNasdaq Returns\u001b[39m\u001b[38;5;124m'\u001b[39m)\n\u001b[0;32m     13\u001b[0m \u001b[38;5;66;03m# Show labels\u001b[39;00m\n",
      "File \u001b[1;32m~\\.conda\\envs\\mathematricks\\lib\\site-packages\\matplotlib\\pyplot.py:3578\u001b[0m, in \u001b[0;36mplot\u001b[1;34m(scalex, scaley, data, *args, **kwargs)\u001b[0m\n\u001b[0;32m   3570\u001b[0m \u001b[38;5;129m@_copy_docstring_and_deprecators\u001b[39m(Axes\u001b[38;5;241m.\u001b[39mplot)\n\u001b[0;32m   3571\u001b[0m \u001b[38;5;28;01mdef\u001b[39;00m \u001b[38;5;21mplot\u001b[39m(\n\u001b[0;32m   3572\u001b[0m     \u001b[38;5;241m*\u001b[39margs: \u001b[38;5;28mfloat\u001b[39m \u001b[38;5;241m|\u001b[39m ArrayLike \u001b[38;5;241m|\u001b[39m \u001b[38;5;28mstr\u001b[39m,\n\u001b[1;32m   (...)\u001b[0m\n\u001b[0;32m   3576\u001b[0m     \u001b[38;5;241m*\u001b[39m\u001b[38;5;241m*\u001b[39mkwargs,\n\u001b[0;32m   3577\u001b[0m ) \u001b[38;5;241m-\u001b[39m\u001b[38;5;241m>\u001b[39m \u001b[38;5;28mlist\u001b[39m[Line2D]:\n\u001b[1;32m-> 3578\u001b[0m     \u001b[38;5;28;01mreturn\u001b[39;00m gca()\u001b[38;5;241m.\u001b[39mplot(\n\u001b[0;32m   3579\u001b[0m         \u001b[38;5;241m*\u001b[39margs,\n\u001b[0;32m   3580\u001b[0m         scalex\u001b[38;5;241m=\u001b[39mscalex,\n\u001b[0;32m   3581\u001b[0m         scaley\u001b[38;5;241m=\u001b[39mscaley,\n\u001b[0;32m   3582\u001b[0m         \u001b[38;5;241m*\u001b[39m\u001b[38;5;241m*\u001b[39m({\u001b[38;5;124m\"\u001b[39m\u001b[38;5;124mdata\u001b[39m\u001b[38;5;124m\"\u001b[39m: data} \u001b[38;5;28;01mif\u001b[39;00m data \u001b[38;5;129;01mis\u001b[39;00m \u001b[38;5;129;01mnot\u001b[39;00m \u001b[38;5;28;01mNone\u001b[39;00m \u001b[38;5;28;01melse\u001b[39;00m {}),\n\u001b[0;32m   3583\u001b[0m         \u001b[38;5;241m*\u001b[39m\u001b[38;5;241m*\u001b[39mkwargs,\n\u001b[0;32m   3584\u001b[0m     )\n",
      "File \u001b[1;32m~\\.conda\\envs\\mathematricks\\lib\\site-packages\\matplotlib\\axes\\_axes.py:1721\u001b[0m, in \u001b[0;36mAxes.plot\u001b[1;34m(self, scalex, scaley, data, *args, **kwargs)\u001b[0m\n\u001b[0;32m   1478\u001b[0m \u001b[38;5;250m\u001b[39m\u001b[38;5;124;03m\"\"\"\u001b[39;00m\n\u001b[0;32m   1479\u001b[0m \u001b[38;5;124;03mPlot y versus x as lines and/or markers.\u001b[39;00m\n\u001b[0;32m   1480\u001b[0m \n\u001b[1;32m   (...)\u001b[0m\n\u001b[0;32m   1718\u001b[0m \u001b[38;5;124;03m(``'green'``) or hex strings (``'#008000'``).\u001b[39;00m\n\u001b[0;32m   1719\u001b[0m \u001b[38;5;124;03m\"\"\"\u001b[39;00m\n\u001b[0;32m   1720\u001b[0m kwargs \u001b[38;5;241m=\u001b[39m cbook\u001b[38;5;241m.\u001b[39mnormalize_kwargs(kwargs, mlines\u001b[38;5;241m.\u001b[39mLine2D)\n\u001b[1;32m-> 1721\u001b[0m lines \u001b[38;5;241m=\u001b[39m [\u001b[38;5;241m*\u001b[39m\u001b[38;5;28mself\u001b[39m\u001b[38;5;241m.\u001b[39m_get_lines(\u001b[38;5;28mself\u001b[39m, \u001b[38;5;241m*\u001b[39margs, data\u001b[38;5;241m=\u001b[39mdata, \u001b[38;5;241m*\u001b[39m\u001b[38;5;241m*\u001b[39mkwargs)]\n\u001b[0;32m   1722\u001b[0m \u001b[38;5;28;01mfor\u001b[39;00m line \u001b[38;5;129;01min\u001b[39;00m lines:\n\u001b[0;32m   1723\u001b[0m     \u001b[38;5;28mself\u001b[39m\u001b[38;5;241m.\u001b[39madd_line(line)\n",
      "File \u001b[1;32m~\\.conda\\envs\\mathematricks\\lib\\site-packages\\matplotlib\\axes\\_base.py:303\u001b[0m, in \u001b[0;36m_process_plot_var_args.__call__\u001b[1;34m(self, axes, data, *args, **kwargs)\u001b[0m\n\u001b[0;32m    301\u001b[0m     this \u001b[38;5;241m+\u001b[39m\u001b[38;5;241m=\u001b[39m args[\u001b[38;5;241m0\u001b[39m],\n\u001b[0;32m    302\u001b[0m     args \u001b[38;5;241m=\u001b[39m args[\u001b[38;5;241m1\u001b[39m:]\n\u001b[1;32m--> 303\u001b[0m \u001b[38;5;28;01myield from\u001b[39;00m \u001b[38;5;28;43mself\u001b[39;49m\u001b[38;5;241;43m.\u001b[39;49m\u001b[43m_plot_args\u001b[49m\u001b[43m(\u001b[49m\n\u001b[0;32m    304\u001b[0m \u001b[43m    \u001b[49m\u001b[43maxes\u001b[49m\u001b[43m,\u001b[49m\u001b[43m \u001b[49m\u001b[43mthis\u001b[49m\u001b[43m,\u001b[49m\u001b[43m \u001b[49m\u001b[43mkwargs\u001b[49m\u001b[43m,\u001b[49m\u001b[43m \u001b[49m\u001b[43mambiguous_fmt_datakey\u001b[49m\u001b[38;5;241;43m=\u001b[39;49m\u001b[43mambiguous_fmt_datakey\u001b[49m\u001b[43m)\u001b[49m\n",
      "File \u001b[1;32m~\\.conda\\envs\\mathematricks\\lib\\site-packages\\matplotlib\\axes\\_base.py:499\u001b[0m, in \u001b[0;36m_process_plot_var_args._plot_args\u001b[1;34m(self, axes, tup, kwargs, return_kwargs, ambiguous_fmt_datakey)\u001b[0m\n\u001b[0;32m    496\u001b[0m     axes\u001b[38;5;241m.\u001b[39myaxis\u001b[38;5;241m.\u001b[39mupdate_units(y)\n\u001b[0;32m    498\u001b[0m \u001b[38;5;28;01mif\u001b[39;00m x\u001b[38;5;241m.\u001b[39mshape[\u001b[38;5;241m0\u001b[39m] \u001b[38;5;241m!=\u001b[39m y\u001b[38;5;241m.\u001b[39mshape[\u001b[38;5;241m0\u001b[39m]:\n\u001b[1;32m--> 499\u001b[0m     \u001b[38;5;28;01mraise\u001b[39;00m \u001b[38;5;167;01mValueError\u001b[39;00m(\u001b[38;5;124mf\u001b[39m\u001b[38;5;124m\"\u001b[39m\u001b[38;5;124mx and y must have same first dimension, but \u001b[39m\u001b[38;5;124m\"\u001b[39m\n\u001b[0;32m    500\u001b[0m                      \u001b[38;5;124mf\u001b[39m\u001b[38;5;124m\"\u001b[39m\u001b[38;5;124mhave shapes \u001b[39m\u001b[38;5;132;01m{\u001b[39;00mx\u001b[38;5;241m.\u001b[39mshape\u001b[38;5;132;01m}\u001b[39;00m\u001b[38;5;124m and \u001b[39m\u001b[38;5;132;01m{\u001b[39;00my\u001b[38;5;241m.\u001b[39mshape\u001b[38;5;132;01m}\u001b[39;00m\u001b[38;5;124m\"\u001b[39m)\n\u001b[0;32m    501\u001b[0m \u001b[38;5;28;01mif\u001b[39;00m x\u001b[38;5;241m.\u001b[39mndim \u001b[38;5;241m>\u001b[39m \u001b[38;5;241m2\u001b[39m \u001b[38;5;129;01mor\u001b[39;00m y\u001b[38;5;241m.\u001b[39mndim \u001b[38;5;241m>\u001b[39m \u001b[38;5;241m2\u001b[39m:\n\u001b[0;32m    502\u001b[0m     \u001b[38;5;28;01mraise\u001b[39;00m \u001b[38;5;167;01mValueError\u001b[39;00m(\u001b[38;5;124mf\u001b[39m\u001b[38;5;124m\"\u001b[39m\u001b[38;5;124mx and y can be no greater than 2D, but have \u001b[39m\u001b[38;5;124m\"\u001b[39m\n\u001b[0;32m    503\u001b[0m                      \u001b[38;5;124mf\u001b[39m\u001b[38;5;124m\"\u001b[39m\u001b[38;5;124mshapes \u001b[39m\u001b[38;5;132;01m{\u001b[39;00mx\u001b[38;5;241m.\u001b[39mshape\u001b[38;5;132;01m}\u001b[39;00m\u001b[38;5;124m and \u001b[39m\u001b[38;5;132;01m{\u001b[39;00my\u001b[38;5;241m.\u001b[39mshape\u001b[38;5;132;01m}\u001b[39;00m\u001b[38;5;124m\"\u001b[39m)\n",
      "\u001b[1;31mValueError\u001b[0m: x and y must have same first dimension, but have shapes (73,) and (14,)"
     ]
    },
    {
     "data": {
      "image/png": "[encoded data removed]",
      "text/plain": [
       "<Figure size 1600x900 with 1 Axes>"
      ]
     },
     "metadata": {},
     "output_type": "display_data"
    }
   ],
   "source": [
    "# Plot the backtest profits and the benchmark_data\n",
    "test_no_leverage_returns = [x/test_no_leverage['inputs']['portfolio_starting_value'] for x in test_no_leverage['backtest_profits']]\n",
    "test_w_leverage_returns =  [x/test_w_leverage['inputs']['portfolio_starting_value'] for x in test_w_leverage['backtest_profits']]\n",
    "\n",
    "benchmark_returns = benchmark_profits/(\n",
    "        test_no_leverage['inputs']['portfolio_starting_value'])\n",
    "\n",
    "plt.figure(figsize=(16, 9))\n",
    "plt.plot(np.array(test_no_leverage['rebalance_periods'])[:, 1], np.cumsum(test_no_leverage_returns), label=total_comparison.columns[0][1])\n",
    "plt.plot(np.array(test_w_leverage['rebalance_periods'])[:, 1], np.cumsum(test_w_leverage_returns), label=total_comparison.columns[1][1])\n",
    "plt.plot(np.array(test_no_leverage['rebalance_periods'])[:, 1], np.cumsum(benchmark_returns), label='Nasdaq Returns')\n",
    "\n",
    "# Show labels\n",
    "plt.legend()\n",
    "# Show the plot\n",
    "plt.show()"
   ]
  },
  {
   "cell_type": "code",
   "execution_count": null,
   "id": "555ccfbe-8475-4c8a-a686-3e6364725c00",
   "metadata": {},
   "outputs": [],
   "source": [
    "print(np.sum(test_no_leverage_returns))"
   ]
  },
  {
   "cell_type": "code",
   "execution_count": null,
   "id": "2cf2def9-402d-49e9-835e-904e02c48c19",
   "metadata": {},
   "outputs": [],
   "source": []
  }
 ],
 "metadata": {
  "kernelspec": {
   "display_name": "Python 3 (ipykernel)",
   "language": "python",
   "name": "python3"
  },
  "language_info": {
   "codemirror_mode": {
    "name": "ipython",
    "version": 3
   },
   "file_extension": ".py",
   "mimetype": "text/x-python",
   "name": "python",
   "nbconvert_exporter": "python",
   "pygments_lexer": "ipython3",
   "version": "3.10.13"
  }
 },
 "nbformat": 4,
 "nbformat_minor": 5
}
