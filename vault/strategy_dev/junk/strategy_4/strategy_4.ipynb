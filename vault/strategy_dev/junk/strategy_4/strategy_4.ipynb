{
 "cells": [
  {
   "cell_type": "code",
   "execution_count": 1,
   "metadata": {},
   "outputs": [],
   "source": [
    "import sys\n",
    "sys.path.append('/Users/vandanchopra/Vandan_Personal_Folder/CODE_STUFF/Projects/mathematricks')\n",
    "import pandas as pd\n",
    "from datetime import datetime\n",
    "from systems.datafetcher import DataFetcher\n",
    "from systems.utils import create_logger, sleeper, load_symbols_universe_df, MarketDataExtractor\n",
    "import numpy as np"
   ]
  },
  {
   "cell_type": "code",
   "execution_count": 20,
   "metadata": {},
   "outputs": [
    {
     "name": "stderr",
     "output_type": "stream",
     "text": [
      "Fetching 1d CSV data & Bifurcating Batches:   0%|          | 0/412 [00:00<?, ?it/s]2024-12-10 13:06:46,369 - IBKR-data - DEBUG - {'interval': '1d', 'last_expected_timestamp': '2024-11-29 19:00:00-05:00', 'end_date': Timestamp('2024-11-29 19:00:00-0500', tz='EST')} - ibkr.py:323\n",
      "Fetching 1d CSV data & Bifurcating Batches: 100%|██████████| 412/412 [00:07<00:00, 51.82it/s]\n",
      "2024-12-10 13:06:54,320 - IBKR-data - INFO - {'interval': '1d', 'stock_symbols_no_data': 0, 'stock_symbols_with_partial_data': 0, 'stock_symbols_with_full_data': 412} - ibkr.py:373\n",
      "Get the data for the ones that have full data: 100%|██████████| 412/412 [00:00<00:00, 466.04it/s]\n",
      "/Users/vandanchopra/Vandan_Personal_Folder/CODE_STUFF/Projects/mathematricks/systems/datafetcher.py:34: FutureWarning: DataFrame.fillna with 'method' is deprecated and will raise in a future version. Use obj.ffill() or obj.bfill() instead.\n",
      "  market_data_df = market_data_df.fillna(method='ffill')\n",
      "/Users/vandanchopra/Vandan_Personal_Folder/CODE_STUFF/Projects/mathematricks/systems/datafetcher.py:34: FutureWarning: Downcasting object dtype arrays on .fillna, .ffill, .bfill is deprecated and will change in a future version. Call result.infer_objects(copy=False) instead. To opt-in to the future behavior, set `pd.set_option('future.no_silent_downcasting', True)`\n",
      "  market_data_df = market_data_df.fillna(method='ffill')\n",
      "/Users/vandanchopra/Vandan_Personal_Folder/CODE_STUFF/Projects/mathematricks/systems/datafetcher.py:35: FutureWarning: DataFrame.fillna with 'method' is deprecated and will raise in a future version. Use obj.ffill() or obj.bfill() instead.\n",
      "  market_data_df = market_data_df.fillna(method='bfill')\n",
      "2024-12-10 13:07:29,120 - datafetcher - WARNING - We are not maintaining the matrix for ffill and bfill. This needs to be implemented - datafetcher.py:36\n"
     ]
    }
   ],
   "source": [
    "interval_inputs = {'1d': {'columns': ['open', 'high', 'close', 'volume'], 'lookback': 100}}\n",
    "start_date = pd.Timestamp(datetime(2024,1,1)).tz_localize('UTC').tz_convert('EST')\n",
    "end_date = pd.Timestamp(datetime(2024,11,30)).tz_localize('UTC').tz_convert('EST')\n",
    "lookback = {'1d': 100}\n",
    "market_data_extractor = MarketDataExtractor()\n",
    "list_of_symbols = ['D', 'IDXX', 'F', 'WM', 'UBER', 'COP', 'RBLX', 'HWM', 'FCNCA', 'CCL', 'NXPI', 'HBANM', 'SPGI', 'CMI', 'CVS', 'TMUS', 'ALL', 'TSM', 'GIS', 'CPRT', 'LNG', 'MDT', 'EOG', 'DUK', 'MCO', 'ARM', 'IT', 'BAC', 'YUM', 'VRT', 'ALNY', 'ABT', 'WTW', 'USB', 'CME', 'IR', 'MO', 'UNP', 'RACE', 'NU', 'WELL', 'MSTR', 'NGG', 'ASML', 'AXON', 'FMX', 'BMO', 'LOW', 'DEO', 'ANET', 'HLT', 'CCEP', 'ELV', 'AEP', 'PCAR', 'VEEV', 'TM', 'CVX', 'PEG', 'BA', 'PGR', 'ORLY', 'WEC', 'TTE', 'SNPS', 'NDAQ', 'DB', 'TRP', 'GEV', 'CDNS', 'CEG', 'PCG', 'BK', 'COST', 'PANW', 'ARGX', 'DHI', 'DELL', 'ADP', 'CMG', 'O', 'VALE', 'RSG', 'CMCSA', 'FCX', 'STLA', 'EXR', 'HPQ', 'XYL', 'NEE', 'VZ', 'BMY', 'KMB', 'MSI', 'HDB', 'MPC', 'BABA', 'ORCL', 'WCN', 'SYY', 'EW', 'OWL', 'AAPL', 'XEL', 'DLR', 'TEAM', 'JD', 'SPOT', 'GWW', 'HSY', 'CNI', 'TBC', 'UPS', 'AMX', 'AMZN', 'TMO', 'ARES', 'HUBS', 'SHEL', 'ROP', 'VMC', 'EXC', 'PFE', 'DAL', 'ETR', 'KR', 'FICO', 'RCL', 'VRTX', 'MSFT', 'BSX', 'LVS', 'ITUB', 'HMC', 'ABEV', 'NWG', 'BRO', 'RJF', 'MFC', 'VRSK', 'SCHW', 'LMT', 'BDX', 'DIS', 'BP', 'MPLX', 'TFC', 'FLUT', 'DDOG', 'TSLA', 'CM', 'APO', 'ROK', 'KVUE', 'BLK', 'IRM', 'RELX', 'DD', 'FERG', 'ZS', 'CSGP', 'TDG', 'INFY', 'XOM', 'ISRG', 'TTWO', 'PLTR', 'DOW', 'ICE', 'NTES', 'PNC', 'KDP', 'NSC', 'GOOG', 'SRE', 'CHTR', 'BSBR', 'HEI', 'SHW', 'MMM', 'JNJ', 'CCI', 'DE', 'NET', 'NVDA', 'DHR', 'IMO', 'SPG', 'SHOP', 'PSX', 'CRWD', 'RTX', 'IBN', 'UBS', 'WDAY', 'OXY', 'HSBC', 'JCI', 'COIN', 'SO', 'WIT', 'AMAT', 'HD', 'NEM', 'INTC', 'AMP', 'AVB', 'PWR', 'CSX', 'PAYX', 'MCHP', 'PM', 'CP', 'MRVL', 'BHP', 'EMR', 'EA', 'CARR', 'EIX', 'EFX', 'FDX', 'PDD', 'V', 'BX', 'SE', 'ING', 'AMGN', 'BKR', 'TCOM', 'NOC', 'ED', 'HUM', 'MA', 'SLF', 'GLW', 'WFC', 'CRH', 'META', 'AJG', 'CTAS', 'INTU', 'EQNR', 'HLN', 'APP', 'HIG', 'NKE', 'ALC', 'LLY', 'CB', 'NUE', 'SQ', 'APH', 'PBR', 'TRI', 'BN', 'PLD', 'OTIS', 'MFG', 'AZO', 'AEM', 'UAL', 'ROST', 'ABBV', 'RIO', 'COF', 'AZN', 'T', 'LRCX', 'TJX', 'SMFG', 'BNS', 'TRV', 'SNOW', 'TTD', 'URI', 'TSCO', 'E', 'APD', 'CBRE', 'TD', 'AON', 'GEHC', 'PSA', 'LYG', 'FAST', 'AXP', 'LHX', 'FANG', 'REGN', 'MRK', 'MMC', 'TRGP', 'TXN', 'A', 'SLB', 'MELI', 'CL', 'LULU', 'STZ', 'BBVA', 'FIS', 'CCZ', 'PRU', 'BUD', 'DASH', 'CVNA', 'ABNB', 'LEN', 'WMB', 'UNH', 'ETN', 'IQV', 'HBANL', 'SAN', 'MU', 'ODFL', 'CTVA', 'PH', 'MSCI', 'SU', 'SAP', 'TW', 'MCK', 'CTSH', 'FITB', 'MAR', 'AMD', 'CNQ', 'TAK', 'UL', 'C', 'WMT', 'MS', 'SBUX', 'KKR', 'VICI', 'AIG', 'HCA', 'RMD', 'IBM', 'MET', 'EPD', 'AMT', 'GM', 'SYK', 'MCD', 'AME', 'PG', 'SNY', 'WAB', 'SCCO', 'ADBE', 'HES', 'DFS', 'ADI', 'GOOGL', 'GILD', 'VLO', 'ITW', 'VST', 'TEL', 'PYPL', 'MLM', 'GSK', 'MTB', 'ET', 'FTNT', 'ONON', 'AFL', 'KLAC', 'ZTS', 'GS', 'CPNG', 'SONY', 'CRM', 'GD', 'ACN', 'NVO', 'PEP', 'TBB', 'NVS', 'BCS', 'MUFG', 'OKE', 'ENB', 'AVGO', 'CAT', 'KO', 'TGT', 'FI', 'ADSK', 'KMI', 'CI', 'CUK', 'NFLX', 'GRMN', 'BKNG', 'CSCO', 'JPM', 'GE', 'EQIX', 'BTI', 'HON', 'COR', 'KHC', 'RY', 'ACGL', 'NOW', 'QCOM', 'TT', 'MDLZ', 'ECL']\n",
    "# list_of_symbols = list_of_symbols[:10]\n",
    "config_dict = {'run_mode': 3, 'base_currency': 'CAD', 'trading_currency': 'USD', 'base_currency_to_trading_currency_exchange_rate': 0.7246376811594204, 'backtest_inputs': {'start_time': start_date, 'end_time': end_date, 'save_backtest_results': True}, 'strategies': ['strategy_dev.strategy_3_1'], 'data_update_inputs': {'data_sources': {'sim': 'ibkr', 'live': 'ibkr'}}, 'sleep_time': 60, 'account_info': {'ibkr': {'DU7994930': {'CAD': {}}}, 'sim': {'sim_1': {'CAD': {'total_account_value': 100000, 'buying_power_available': 300000, 'buying_power_used': 0, 'cushion': 0, 'pledge_to_margin_used': 0, 'pledge_to_margin_availble': 100000, 'margin_multiplier': 3.0, 'total_buying_power': 300000.0, 'pct_of_margin_used': 0.0}}}}, 'base_account_numbers': {'sim': 'sim_1', 'ibkr': 'DU7994930'}, 'risk_management': {'max_risk_per_bet': 0.05, 'maximum_margin_used_pct': 0.65}, 'update_telegram': False, 'timezone': 'US/Eastern', 'datafeeder_config': {'data_inputs': {'1d': {'columns': ['open', 'high', 'low', 'close', 'volume'], 'lookback': 365}}, 'list_of_symbols': list_of_symbols}}\n",
    "lookback_dict = {}\n",
    "for interval in config_dict['datafeeder_config']['data_inputs']:\n",
    "    lookback = config_dict['datafeeder_config']['data_inputs'][interval]['lookback']\n",
    "    lookback_dict[interval] = lookback\n",
    "datafetcher = DataFetcher(config_dict, market_data_extractor)\n",
    "market_data_df_loaded = datafetcher.fetch_updated_price_data(start_date=start_date, end_date=end_date, throttle_secs=10, lookback=lookback_dict, run_mode=config_dict['run_mode'], live_bool=False)"
   ]
  },
  {
   "cell_type": "code",
   "execution_count": 21,
   "metadata": {},
   "outputs": [],
   "source": [
    "# keep 100 random symbols from market_data_df, drop the rest\n",
    "symbols = list(market_data_df_loaded.columns)\n",
    "np.random.shuffle(symbols)\n",
    "symbols = symbols[:100]\n",
    "market_data_df = market_data_df_loaded[symbols]"
   ]
  },
  {
   "cell_type": "code",
   "execution_count": 22,
   "metadata": {},
   "outputs": [],
   "source": [
    "# Create a .apply function that calculates the sharpe ratio for the last 60 days\n",
    "def calculate_sharpe_ratio(returns):\n",
    "    volatility = returns.std()\n",
    "    sharpe_ratio = returns.mean() / volatility\n",
    "    return sharpe_ratio"
   ]
  },
  {
   "cell_type": "code",
   "execution_count": 23,
   "metadata": {},
   "outputs": [],
   "source": [
    "# Create a .apply function to sharpe_ratios df that it returns .nlargest(n) as a bool matrix\n",
    "def get_top_n_sharpe_ratios(sharpe_ratios, n):\n",
    "    top_n_sharpe_ratios = sharpe_ratios.nlargest(n)\n",
    "    top_n_sharpe_ratios_bool = sharpe_ratios.isin(top_n_sharpe_ratios)\n",
    "    return top_n_sharpe_ratios_bool\n",
    "\n",
    "def get_bottom_n_sharpe_ratios(sharpe_ratios, n):\n",
    "    bottom_n_sharpe_ratios = sharpe_ratios.nsmallest(n)\n",
    "    bottom_n_sharpe_ratios_bool = sharpe_ratios.isin(bottom_n_sharpe_ratios)\n",
    "    return bottom_n_sharpe_ratios_bool"
   ]
  },
  {
   "cell_type": "code",
   "execution_count": 24,
   "metadata": {},
   "outputs": [],
   "source": [
    "d_data = market_data_df.loc['1d']\n",
    "close = d_data['close']\n",
    "# Normalize the close prices buy doing a min-max scaling\n",
    "close_scaled = (close - close.min()) / (close.max() - close.min())\n",
    "close = close_scaled\n",
    "# volume = d_data['volume']"
   ]
  },
  {
   "cell_type": "code",
   "execution_count": 25,
   "metadata": {},
   "outputs": [],
   "source": [
    "daily_returns = close.pct_change()"
   ]
  },
  {
   "cell_type": "code",
   "execution_count": 26,
   "metadata": {},
   "outputs": [],
   "source": [
    "# Use the .rolling() method to calculate the sharpe ratio for the last 60 days\n",
    "sharpe_ratios = close.rolling(window=60).apply(calculate_sharpe_ratio)\n",
    "sharpe_ratios.dropna(inplace=True)\n",
    "# Normalize the sharpe_ratio by doing a min-max scaling\n",
    "sharpe_ratios_scaled = (sharpe_ratios - sharpe_ratios.min()) / (sharpe_ratios.max() - sharpe_ratios.min())\n",
    "sharpe_ratios = sharpe_ratios_scaled"
   ]
  },
  {
   "cell_type": "code",
   "execution_count": null,
   "metadata": {},
   "outputs": [
    {
     "name": "stdout",
     "output_type": "stream",
     "text": [
      "{'n': 10}\n"
     ]
    }
   ],
   "source": [
    "n = int(len(market_data_df.columns)/10)  # You can change this value to any number you want\n",
    "print({'n': n})\n",
    "top_asset_bool = sharpe_ratios.apply(get_top_n_sharpe_ratios, axis=1, n=n)\n",
    "bottom_asset_bool = sharpe_ratios.apply(get_bottom_n_sharpe_ratios, axis=1, n=n)\n",
    "signals_long = top_asset_bool.astype(int)\n",
    "signals_short = bottom_asset_bool.astype(int) * -1"
   ]
  },
  {
   "cell_type": "code",
   "execution_count": 45,
   "metadata": {},
   "outputs": [],
   "source": [
    "# Apply the signal to daily returns to compute strategy returns\n",
    "strategy_returns_long = signals_long.shift(4) * daily_returns\n",
    "strategy_returns_short = signals_short.shift(4) * daily_returns"
   ]
  },
  {
   "cell_type": "code",
   "execution_count": 46,
   "metadata": {},
   "outputs": [
    {
     "name": "stderr",
     "output_type": "stream",
     "text": [
      "/Users/vandanchopra/Vandan_Personal_Folder/CODE_STUFF/Projects/venvs/mathematricks_venv/lib/python3.10/site-packages/numpy/_core/fromnumeric.py:57: RuntimeWarning: invalid value encountered in accumulate\n",
      "  return bound(*args, **kwds)\n"
     ]
    }
   ],
   "source": [
    "# Calculate cumulative returns for long\n",
    "cumulative_returns_long = (1 + strategy_returns_long).cumprod()\n",
    "cumulative_returns_long.fillna(0, inplace=True)\n",
    "cumulative_returns_long.replace([float('inf'), float('-inf')], 0, inplace=True)\n",
    "cumulative_returns_long = cumulative_returns_long - 1\n",
    "# Calculate cumulative returns for short\n",
    "cumulative_returns_short = (1 + strategy_returns_short).cumprod()\n",
    "cumulative_returns_short.fillna(0, inplace=True)\n",
    "cumulative_returns_short.replace([float('inf'), float('-inf')], 0, inplace=True)\n",
    "cumulative_returns_short = cumulative_returns_short - 1\n",
    "# Total Retuns\n",
    "total_returns = (cumulative_returns_long.sum(axis=1)[1:] + cumulative_returns_short.sum(axis=1)[1:])"
   ]
  },
  {
   "cell_type": "code",
   "execution_count": 50,
   "metadata": {},
   "outputs": [
    {
     "data": {
      "text/plain": [
       "<Axes: xlabel='date'>"
      ]
     },
     "execution_count": 50,
     "metadata": {},
     "output_type": "execute_result"
    },
    {
     "data": {
      "image/png": "[encoded data removed]",
      "text/plain": [
       "<Figure size 640x480 with 1 Axes>"
      ]
     },
     "metadata": {},
     "output_type": "display_data"
    }
   ],
   "source": [
    "total_returns[62:].plot()"
   ]
  },
  {
   "cell_type": "code",
   "execution_count": null,
   "metadata": {},
   "outputs": [],
   "source": [
    "# Randomly pick a symbol from signals_long.columns\n",
    "symbol = np.random.choice(signals_long.columns)\n",
    "print(f\"Symbol: {symbol}\")\n",
    "signals_long[symbol].plot()\n",
    "signals_short[symbol].plot()\n",
    "(strategy_returns_long[symbol].cumsum() + strategy_returns_short[symbol].cumsum()).plot()\n",
    "# plot close[symbol].plot() on a new axis\n",
    "close[symbol].plot(secondary_y=True)"
   ]
  },
  {
   "cell_type": "code",
   "execution_count": null,
   "metadata": {},
   "outputs": [],
   "source": []
  }
 ],
 "metadata": {
  "kernelspec": {
   "display_name": "mathematricks_venv",
   "language": "python",
   "name": "python3"
  },
  "language_info": {
   "codemirror_mode": {
    "name": "ipython",
    "version": 3
   },
   "file_extension": ".py",
   "mimetype": "text/x-python",
   "name": "python",
   "nbconvert_exporter": "python",
   "pygments_lexer": "ipython3",
   "version": "3.10.2"
  }
 },
 "nbformat": 4,
 "nbformat_minor": 2
}
