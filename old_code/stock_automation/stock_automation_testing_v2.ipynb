{
 "cells": [
  {
   "cell_type": "code",
   "execution_count": 1,
   "metadata": {},
   "outputs": [],
   "source": [
    "%load_ext autoreload\n",
    "%autoreload 2"
   ]
  },
  {
   "cell_type": "code",
   "execution_count": 42,
   "metadata": {},
   "outputs": [],
   "source": [
    "import stock_automation_utils as SAU\n",
    "import backtest_utils as BU\n",
    "import pickle\n",
    "from datetime import datetime, timedelta\n",
    "import numpy as np"
   ]
  },
  {
   "cell_type": "code",
   "execution_count": 3,
   "metadata": {},
   "outputs": [],
   "source": [
    "stock_symbols_pickle = 'stock_symbols.pkl'  # Name of the pickle file"
   ]
  },
  {
   "cell_type": "code",
   "execution_count": 4,
   "metadata": {},
   "outputs": [],
   "source": [
    "# Load symbols into the stock_symbols.pkl\n",
    "symbols = []  # Example list of stock symbols\n",
    "if len(symbols) > 0:\n",
    "    SAU.add_stock_symbols_to_pickle(symbols, stock_symbols_pickle)"
   ]
  },
  {
   "cell_type": "code",
   "execution_count": 5,
   "metadata": {},
   "outputs": [],
   "source": [
    "# Load the data from 'stock_symbols.pkl' into a variable called 'symbols'\n",
    "with open(stock_symbols_pickle, 'rb') as file:\n",
    "    symbols = pickle.load(file)"
   ]
  },
  {
   "cell_type": "markdown",
   "metadata": {},
   "source": [
    "## BACKTEST"
   ]
  },
  {
   "cell_type": "code",
   "execution_count": 6,
   "metadata": {},
   "outputs": [],
   "source": [
    "# First load the data once. (from start_date-380 to end_date + (rebalance frq * 2)\n",
    "# For each rebalance period, run the analysis and get long short stocks.\n",
    "# Decide how much to invest in each stock and calculate qty int\n",
    "# now find out the buy price and stoploss (from the risk%)\n",
    "# now for each stock find out if in the test period if the stoploss is hit. if yes, book a loss.\n",
    "# for stocks that stoploss not hit, calculate the closing P/L for each rebalance freq. (print it)\n",
    "####### from prices_array, \n",
    "# In the end, sum up all the P/L.\n",
    "####### profits = sum(rebalance_periods_profit)"
   ]
  },
  {
   "cell_type": "code",
   "execution_count": 99,
   "metadata": {},
   "outputs": [],
   "source": [
    "def trading_simulation(portfolio_value, trading_symbols_interval, trading_data_interval, risk_pct):\n",
    "    def calculate_position_size(portfolio_value, trading_symbols_interval):\n",
    "        position_size = (np.array(range(len(trading_symbols_interval))) + 1)\n",
    "        position_size = portfolio_value/position_size\n",
    "        position_size = (position_size / np.sum(position_size)) * portfolio_value\n",
    "        position_size = position_size/sum(position_size)\n",
    "        position_size = (np.sqrt(position_size) + position_size)/2\n",
    "        position_size = position_size/sum(position_size)\n",
    "        position_size = position_size * portfolio_value\n",
    "        \n",
    "        return position_size\n",
    "    def get_buy_price(trading_data_interval):\n",
    "        buy_price = []\n",
    "        for symbol in trading_data_interval:\n",
    "            buy_price.append(trading_data_interval[symbol]['Adj Close'].iloc[0])\n",
    "        return np.array(buy_price)\n",
    "    def get_sell_price(trading_data_interval, stoploss):\n",
    "        sell_price = []\n",
    "        for count, symbol in enumerate(trading_data_interval):\n",
    "            if trading_data_interval[symbol]['Adj Close'].min() < stoploss[count]:\n",
    "                sell_price.append(stoploss[count])\n",
    "            else:\n",
    "                sell_price.append(trading_data_interval[symbol]['Adj Close'].iloc[-1])\n",
    "        return np.array(sell_price)\n",
    "    \n",
    "    position_size = calculate_position_size(portfolio_value, trading_symbols_interval)\n",
    "    buy_price = get_buy_price(trading_data_interval)\n",
    "    qty = np.array(position_size/buy_price, dtype=int)\n",
    "    stoploss = buy_price*(1-risk_pct)\n",
    "    sell_price = get_sell_price(trading_data_interval, stoploss)\n",
    "    profit = (sell_price - buy_price)*qty\n",
    "    trading_simulation_array = np.array([trading_symbols_interval, buy_price, qty, stoploss, sell_price, profit])\n",
    "    profit_interval = np.sum(profit)\n",
    "    \n",
    "    return trading_simulation_array, profit_interval"
   ]
  },
  {
   "cell_type": "code",
   "execution_count": 100,
   "metadata": {},
   "outputs": [],
   "source": [
    "start_date = '2022-01-01'\n",
    "end_date = '2022-12-31'\n",
    "start_date_dt = datetime.strptime(start_date, \"%Y-%m-%d\")\n",
    "end_date_dt = datetime.strptime(end_date, \"%Y-%m-%d\")\n",
    "rebalance_frequency = 15  # In days\n",
    "# create a numpy array of numbers 15 days apart from 0 to 365\n",
    "days_ago_list = list(range(0, 365, rebalance_frequency))\n",
    "long_count = 10\n",
    "short_count = 0\n",
    "portfolio_value = 50000\n",
    "risk_pct = 0.10"
   ]
  },
  {
   "cell_type": "code",
   "execution_count": 101,
   "metadata": {},
   "outputs": [],
   "source": [
    "# For each rxebalance period, run the analysis and get long short stocks.\n",
    "rebalance_periods = BU.calculate_rebalance_periods_with_dates(start_date_dt, end_date_dt, rebalance_frequency)\n",
    "rebalance_periods = [(datetime.combine(rebalance_periods[0], datetime.min.time()), datetime.combine(rebalance_periods[1], datetime.min.time())) for rebalance_periods in rebalance_periods]\n",
    "full_stock_data = SAU.load_all_stock_data(symbols, start_date_dt-timedelta(days=365+(rebalance_frequency*2)), end_date_dt+timedelta(days=rebalance_frequency*2))\n",
    "symbols = list(full_stock_data.keys())"
   ]
  },
  {
   "cell_type": "code",
   "execution_count": 103,
   "metadata": {},
   "outputs": [
    {
     "name": "stdout",
     "output_type": "stream",
     "text": [
      "{'Profit for the interval 2022-01-01 00:00:00 to 2022-01-15 00:00:00': -2763.280346298218}\n",
      "{'Profit for the interval 2022-01-16 00:00:00 to 2022-01-30 00:00:00': 403.7163721084589}\n",
      "{'Profit for the interval 2022-01-31 00:00:00 to 2022-02-14 00:00:00': 1946.5412015914917}\n",
      "{'Profit for the interval 2022-02-15 00:00:00 to 2022-03-01 00:00:00': 3241.3845567703233}\n",
      "{'Profit for the interval 2022-03-02 00:00:00 to 2022-03-16 00:00:00': -2300.020388126373}\n",
      "{'Profit for the interval 2022-03-17 00:00:00 to 2022-03-31 00:00:00': 308.0416267395044}\n",
      "{'Profit for the interval 2022-04-01 00:00:00 to 2022-04-15 00:00:00': 1919.5421090126038}\n",
      "{'Profit for the interval 2022-04-16 00:00:00 to 2022-04-30 00:00:00': -3223.736762809753}\n",
      "{'Profit for the interval 2022-05-01 00:00:00 to 2022-05-15 00:00:00': 1122.6821079254146}\n",
      "{'Profit for the interval 2022-05-16 00:00:00 to 2022-05-30 00:00:00': 3387.5600414276155}\n",
      "{'Profit for the interval 2022-05-31 00:00:00 to 2022-06-14 00:00:00': -1868.5465927124048}\n",
      "{'Profit for the interval 2022-06-15 00:00:00 to 2022-06-29 00:00:00': -4672.259047698973}\n",
      "{'Profit for the interval 2022-06-30 00:00:00 to 2022-07-14 00:00:00': -2030.2756237030026}\n",
      "{'Profit for the interval 2022-07-15 00:00:00 to 2022-07-29 00:00:00': 830.2446926116941}\n",
      "{'Profit for the interval 2022-07-30 00:00:00 to 2022-08-13 00:00:00': 283.18700008392494}\n",
      "{'Profit for the interval 2022-08-14 00:00:00 to 2022-08-28 00:00:00': 525.3284273147585}\n",
      "{'Profit for the interval 2022-08-29 00:00:00 to 2022-09-12 00:00:00': -2736.8486261367793}\n",
      "{'Profit for the interval 2022-09-13 00:00:00 to 2022-09-27 00:00:00': -3665.0298498153684}\n",
      "{'Profit for the interval 2022-09-28 00:00:00 to 2022-10-12 00:00:00': 923.6873680114743}\n",
      "{'Profit for the interval 2022-10-13 00:00:00 to 2022-10-27 00:00:00': 2847.9484996795672}\n",
      "{'Profit for the interval 2022-10-28 00:00:00 to 2022-11-11 00:00:00': 805.1218843460101}\n",
      "{'Profit for the interval 2022-11-12 00:00:00 to 2022-11-26 00:00:00': -444.88270568847656}\n",
      "{'Profit for the interval 2022-11-27 00:00:00 to 2022-12-11 00:00:00': -1782.0565628051754}\n",
      "{'Profit for the interval 2022-12-12 00:00:00 to 2022-12-26 00:00:00': -701.3265953063972}\n",
      "{'Profit for the interval 2022-12-27 00:00:00 to 2022-12-31 00:00:00': -466.85764122009124}\n"
     ]
    }
   ],
   "source": [
    "backtest_runs = []\n",
    "backtest_profits = []\n",
    "for rebal_internal in rebalance_periods:\n",
    "    start_date_interval = rebal_internal[0]\n",
    "    end_date_interval = rebal_internal[1]\n",
    "    # Run the test for one interval\n",
    "    # Load all stock data\n",
    "    historical_data_interval = SAU.get_data_for_interval(symbols, full_stock_data, start_date_interval-timedelta(days=365), start_date_interval-timedelta(days=1))\n",
    "\n",
    "    # Get the analysis array\n",
    "    symbols_interval, data_analysis_interval, data_index_interval, dates_interval = SAU.get_analysis_array(symbols, start_date_interval, historical_data_interval, days_ago_list)\n",
    "    # Get long and short stocks\n",
    "    long_symbols, short_symbols, symbols_array, data_array, data_index = BU.get_long_short_symbols(long_count, short_count, symbols_interval, data_analysis_interval, data_index_interval)\n",
    "    # Get the trading symbols\n",
    "    trading_symbols_interval = list(long_symbols) + list(short_symbols)\n",
    "    # Get the trading data for the interval\n",
    "    trading_data_interval = SAU.get_data_for_interval(trading_symbols_interval, full_stock_data, start_date_interval, end_date_interval)\n",
    "    # Run the trades\n",
    "    trading_simulation_array, profit_interval = trading_simulation(portfolio_value, trading_symbols_interval, trading_data_interval, risk_pct)\n",
    "    backtest_runs.append(trading_simulation_array)\n",
    "    backtest_profits.append(profit_interval)\n",
    "    print({f\"Profit for the interval {start_date_interval} to {end_date_interval}\": profit_interval})"
   ]
  },
  {
   "cell_type": "code",
   "execution_count": 106,
   "metadata": {},
   "outputs": [
    {
     "data": {
      "text/plain": [
       "-8110.134854698169"
      ]
     },
     "execution_count": 106,
     "metadata": {},
     "output_type": "execute_result"
    }
   ],
   "source": [
    "sum(backtest_profits)"
   ]
  },
  {
   "cell_type": "markdown",
   "metadata": {},
   "source": [
    "# Update data for all stocks.\n",
    "SAU.load_and_update_stock_data()"
   ]
  },
  {
   "cell_type": "markdown",
   "metadata": {},
   "source": [
    "#### Load up the Initial data for starting analysis"
   ]
  },
  {
   "cell_type": "code",
   "execution_count": null,
   "metadata": {},
   "outputs": [],
   "source": [
    "# symbols = ['META', 'NVDA', 'SYM', 'CRWD', 'AMD', 'URI']  # List of symbols\n",
    "start_date = \"2024-02-04\"  # Start date for analysis\n",
    "symbols_array, data_array, data_index = SAU.get_data_array_symbols(symbols, start_date)"
   ]
  },
  {
   "cell_type": "markdown",
   "metadata": {},
   "source": [
    "#### Run the analysis"
   ]
  },
  {
   "cell_type": "code",
   "execution_count": null,
   "metadata": {},
   "outputs": [],
   "source": [
    "long_count = 10\n",
    "short_count = 10\n",
    "long_symbols, short_symbols, symbols_array, data_array, data_index = BU.get_long_short_symbols(long_count, short_count, symbols_array, data_array, data_index)"
   ]
  },
  {
   "cell_type": "markdown",
   "metadata": {},
   "source": []
  },
  {
   "cell_type": "markdown",
   "metadata": {},
   "source": [
    "#### BACKTEST"
   ]
  },
  {
   "cell_type": "code",
   "execution_count": null,
   "metadata": {},
   "outputs": [],
   "source": [
    "start_date = '2022-01-01'\n",
    "end_date = '2022-12-31'\n",
    "rebalance_frequency = 15  # In days"
   ]
  },
  {
   "cell_type": "code",
   "execution_count": null,
   "metadata": {},
   "outputs": [],
   "source": [
    "# First load the data once. (from start_date-380 to end_date + (rebalance frq * 2)\n",
    "# For each rebalance period, run the analysis and get long short stocks.\n",
    "# Decide how much to invest in each stock and calculate qty int\n",
    "# now find out the buy price and stoploss (from the risk%)\n",
    "# now for each stock find out if in the test period if the stoploss is hit. if yes, book a loss.\n",
    "# for stocks that stoploss not hit, calculate the closing P/L for each rebalance freq. (print it)\n",
    "# In the end, sum up all the P/L.\n"
   ]
  },
  {
   "cell_type": "code",
   "execution_count": null,
   "metadata": {},
   "outputs": [],
   "source": []
  },
  {
   "cell_type": "code",
   "execution_count": null,
   "metadata": {},
   "outputs": [],
   "source": []
  },
  {
   "cell_type": "code",
   "execution_count": null,
   "metadata": {},
   "outputs": [],
   "source": [
    "''' \n",
    "TO DO: \n",
    "- Start creating the backtest\n",
    "- When the backtest is running, integrate with IBKR. Start with getting positions + cash.\n",
    "- Then calculate ideal portfolio, keeping in mind that you only want to use 75% of your total available margin.\n",
    "- Then figure out ideal vs current portfolio and calculate the orders that need to be sent.\n",
    "- Then figure out how to sent orders, with a stoploss built in.\n",
    "\n",
    "\n",
    "'''"
   ]
  },
  {
   "cell_type": "code",
   "execution_count": null,
   "metadata": {},
   "outputs": [],
   "source": []
  },
  {
   "cell_type": "code",
   "execution_count": null,
   "metadata": {},
   "outputs": [],
   "source": []
  },
  {
   "cell_type": "markdown",
   "metadata": {},
   "source": [
    "# BACKTESTING"
   ]
  },
  {
   "cell_type": "code",
   "execution_count": null,
   "metadata": {},
   "outputs": [],
   "source": [
    "# Example usage\n",
    "pickle_file = 'stock_symbols.pkl'\n",
    "start_date = '2022-01-01'\n",
    "end_date = '2022-12-31'\n",
    "rebalance_frequency = 15  # In days\n",
    "\n",
    "rebalance_periods = BU.calculate_rebalance_periods_with_dates(pickle_file, start_date, end_date, rebalance_frequency)\n",
    "for period in rebalance_periods:\n",
    "    print(f\"Rebalance Period: Start Date = {period[0]}, End Date = {period[1]}\")"
   ]
  },
  {
   "cell_type": "code",
   "execution_count": null,
   "metadata": {},
   "outputs": [],
   "source": [
    "rebalance_periods"
   ]
  },
  {
   "cell_type": "code",
   "execution_count": null,
   "metadata": {},
   "outputs": [],
   "source": []
  },
  {
   "cell_type": "code",
   "execution_count": null,
   "metadata": {},
   "outputs": [],
   "source": []
  }
 ],
 "metadata": {
  "kernelspec": {
   "display_name": "venv",
   "language": "python",
   "name": "python3"
  },
  "language_info": {
   "codemirror_mode": {
    "name": "ipython",
    "version": 3
   },
   "file_extension": ".py",
   "mimetype": "text/x-python",
   "name": "python",
   "nbconvert_exporter": "python",
   "pygments_lexer": "ipython3",
   "version": "3.10.2"
  }
 },
 "nbformat": 4,
 "nbformat_minor": 2
}
