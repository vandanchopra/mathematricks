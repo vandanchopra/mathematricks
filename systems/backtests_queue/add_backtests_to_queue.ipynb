{
 "cells": [
  {
   "cell_type": "code",
   "execution_count": 6,
   "metadata": {},
   "outputs": [],
   "source": [
    "import sys, time\n",
    "sys.path.append('/Users/vandanchopra/Vandan_Personal_Folder/CODE_STUFF/Projects/mathematricks/')"
   ]
  },
  {
   "cell_type": "code",
   "execution_count": 7,
   "metadata": {},
   "outputs": [],
   "source": [
    "from systems.backtests_queue.backtests_queue import BacktestQueue\n",
    "import pandas as pd\n",
    "from datetime import datetime\n",
    "import random"
   ]
  },
  {
   "cell_type": "code",
   "execution_count": 8,
   "metadata": {},
   "outputs": [],
   "source": [
    "bq = BacktestQueue()"
   ]
  },
  {
   "cell_type": "code",
   "execution_count": 12,
   "metadata": {},
   "outputs": [],
   "source": [
    "# Create random dates\n",
    "number_of_tests = 10\n",
    "random_dates = []\n",
    "for x in range(number_of_tests):\n",
    "    # Create a random start date in the format of pd.Timestamp(datetime(XXXX,XX,XX)).tz_localize('UTC').tz_convert('EST')\n",
    "    random_year = random.randint(1980, 2023)\n",
    "    random_month = random.randint(1, 12)\n",
    "    random_day = random.randint(1, 28)\n",
    "    random_date = pd.Timestamp(datetime(random_year, random_month, random_day)).tz_localize('UTC').tz_convert('EST')\n",
    "    random_dates.append(random_date)\n",
    "    "
   ]
  },
  {
   "cell_type": "code",
   "execution_count": 17,
   "metadata": {},
   "outputs": [],
   "source": [
    "random_dates = [pd.Timestamp(datetime(2005, 1, 19)).tz_localize('UTC').tz_convert('EST'), \n",
    "                pd.Timestamp(datetime(1997, 7, 18)).tz_localize('UTC').tz_convert('EST'),\n",
    "                pd.Timestamp(datetime(2007, 11, 25)).tz_localize('UTC').tz_convert('EST'),\n",
    "                pd.Timestamp(datetime(2005, 3, 11)).tz_localize('UTC').tz_convert('EST'),\n",
    "                pd.Timestamp(datetime(1993, 8, 13)).tz_localize('UTC').tz_convert('EST'),\n",
    "                pd.Timestamp(datetime(2005, 11, 27)).tz_localize('UTC').tz_convert('EST'),\n",
    "                pd.Timestamp(datetime(2022, 11, 27)).tz_localize('UTC').tz_convert('EST'),\n",
    "]\n"
   ]
  },
  {
   "cell_type": "code",
   "execution_count": 19,
   "metadata": {},
   "outputs": [
    {
     "name": "stdout",
     "output_type": "stream",
     "text": [
      "{'new_backtest_dict': {'backtest_name': 'LONG_SHORT_reduce_SL_changes__5_pct_risk__22a0bd6283066a4adbc57f47b9db6c45306e2e6bd09e4b68b3ea78c4197be5fa', 'start_time': '2005-01-18 19:00:00-05:00', 'end_time': '2005-05-18 19:00:00-05:00', 'strategies': \"['strategy_dev.strategy_3_2']\", 'data_source': \"['yahoo']\", 'risk_management': \"{'max_risk_per_bet': 0.1, 'maximum_marging_used_pct': 0.8}\", 'account_info': \"{'total_account_value': 100000, 'buying_power_available': 300000, 'buying_power_used': 0, 'cushion': 0, 'pledge_to_margin_used': 0, 'pledge_to_margin_availble': 100000}\"}}\n",
      "{'new_backtest_dict': {'backtest_name': 'LONG_SHORT_reduce_SL_changes__5_pct_risk__c560d42d952d0c00e0cabfc8ae5e2ab5a2a8cff682895e55f72c5595becf56b5', 'start_time': '1997-07-17 19:00:00-05:00', 'end_time': '1997-11-14 19:00:00-05:00', 'strategies': \"['strategy_dev.strategy_3_2']\", 'data_source': \"['yahoo']\", 'risk_management': \"{'max_risk_per_bet': 0.1, 'maximum_marging_used_pct': 0.8}\", 'account_info': \"{'total_account_value': 100000, 'buying_power_available': 300000, 'buying_power_used': 0, 'cushion': 0, 'pledge_to_margin_used': 0, 'pledge_to_margin_availble': 100000}\"}}\n",
      "{'new_backtest_dict': {'backtest_name': 'LONG_SHORT_reduce_SL_changes__5_pct_risk__7fbc58e37b4b5241f9b15199901cad90c4a5ff3dfd75021e8bfc033bbd43baf7', 'start_time': '2007-11-24 19:00:00-05:00', 'end_time': '2008-03-23 19:00:00-05:00', 'strategies': \"['strategy_dev.strategy_3_2']\", 'data_source': \"['yahoo']\", 'risk_management': \"{'max_risk_per_bet': 0.1, 'maximum_marging_used_pct': 0.8}\", 'account_info': \"{'total_account_value': 100000, 'buying_power_available': 300000, 'buying_power_used': 0, 'cushion': 0, 'pledge_to_margin_used': 0, 'pledge_to_margin_availble': 100000}\"}}\n",
      "{'new_backtest_dict': {'backtest_name': 'LONG_SHORT_reduce_SL_changes__5_pct_risk__947dbbfb7a7cd25423a9d9d07c55296384a7f0f9ae23d1dc8eb2d459616f13e1', 'start_time': '2005-03-10 19:00:00-05:00', 'end_time': '2005-07-08 19:00:00-05:00', 'strategies': \"['strategy_dev.strategy_3_2']\", 'data_source': \"['yahoo']\", 'risk_management': \"{'max_risk_per_bet': 0.1, 'maximum_marging_used_pct': 0.8}\", 'account_info': \"{'total_account_value': 100000, 'buying_power_available': 300000, 'buying_power_used': 0, 'cushion': 0, 'pledge_to_margin_used': 0, 'pledge_to_margin_availble': 100000}\"}}\n",
      "{'new_backtest_dict': {'backtest_name': 'LONG_SHORT_reduce_SL_changes__5_pct_risk__be61de919ae5b420cb1e6ffb988aed5c877fef5cb1894a93dc4657df8139f0a7', 'start_time': '1993-08-12 19:00:00-05:00', 'end_time': '1993-12-10 19:00:00-05:00', 'strategies': \"['strategy_dev.strategy_3_2']\", 'data_source': \"['yahoo']\", 'risk_management': \"{'max_risk_per_bet': 0.1, 'maximum_marging_used_pct': 0.8}\", 'account_info': \"{'total_account_value': 100000, 'buying_power_available': 300000, 'buying_power_used': 0, 'cushion': 0, 'pledge_to_margin_used': 0, 'pledge_to_margin_availble': 100000}\"}}\n",
      "{'new_backtest_dict': {'backtest_name': 'LONG_SHORT_reduce_SL_changes__5_pct_risk__b341381540bc263be3a092c95893d51246817fb94951fff984a501bbf1136748', 'start_time': '2005-11-26 19:00:00-05:00', 'end_time': '2006-03-26 19:00:00-05:00', 'strategies': \"['strategy_dev.strategy_3_2']\", 'data_source': \"['yahoo']\", 'risk_management': \"{'max_risk_per_bet': 0.1, 'maximum_marging_used_pct': 0.8}\", 'account_info': \"{'total_account_value': 100000, 'buying_power_available': 300000, 'buying_power_used': 0, 'cushion': 0, 'pledge_to_margin_used': 0, 'pledge_to_margin_availble': 100000}\"}}\n",
      "{'new_backtest_dict': {'backtest_name': 'LONG_SHORT_reduce_SL_changes__5_pct_risk__8bd3341f87826d406e3e14b8c068d1d66f9f1630353a084eee4928560f24ccd3', 'start_time': '2022-11-26 19:00:00-05:00', 'end_time': '2023-03-26 19:00:00-05:00', 'strategies': \"['strategy_dev.strategy_3_2']\", 'data_source': \"['yahoo']\", 'risk_management': \"{'max_risk_per_bet': 0.1, 'maximum_marging_used_pct': 0.8}\", 'account_info': \"{'total_account_value': 100000, 'buying_power_available': 300000, 'buying_power_used': 0, 'cushion': 0, 'pledge_to_margin_used': 0, 'pledge_to_margin_availble': 100000}\"}}\n"
     ]
    }
   ],
   "source": [
    "config_dict_variables = random_dates\n",
    "strategy_list = ['strategy_dev.strategy_3_2']\n",
    "\n",
    "for start_date in config_dict_variables:\n",
    "    for strategy_name in strategy_list:\n",
    "        # start_date = pd.Timestamp(datetime(2021,1,1)).tz_localize('UTC').tz_convert('EST')\n",
    "        end_date = start_date + pd.Timedelta(days=120)\n",
    "        sim_account_margin_multiplier = 3\n",
    "        sim_account_starting_value_base = 100000\n",
    "        base_currency = 'CAD'\n",
    "        trading_currency = 'USD'\n",
    "        base_currency_to_trading_currency_exchange_rate = 1/1.375\n",
    "        testname = \"7_pct_risk_\" if strategy_name == 'strategy_dev.strategy_3_1' else \"LONG_SHORT_reduce_SL_changes__5_pct_risk_\"\n",
    "\n",
    "        config_dict = {\n",
    "            'run_mode': 3, # 1: live trading - real money, 2: live trading - paper money, 3: backtesting, 4: data update only\n",
    "            'base_currency': base_currency,\n",
    "            'trading_currency': trading_currency,\n",
    "            'base_currency_to_trading_currency_exchange_rate': base_currency_to_trading_currency_exchange_rate,\n",
    "            'backtest_inputs': {\n",
    "                'start_time': start_date, \n",
    "                'end_time': end_date,\n",
    "                'save_backtest_results':True,\n",
    "                'backtest_name':testname,\n",
    "                },\n",
    "            'strategies':[strategy_name], # 'strategy_1', 'strategy_dev.strategy_3'\n",
    "            'data_update_inputs': {'data_sources':['yahoo']}, # 'yahoo', 'ibkr'\n",
    "            'sleep_time':60,\n",
    "            'account_info':{\n",
    "                            # 'ibkr':{'U13152795':{base_currency:{}\n",
    "                                                # }\n",
    "                                    # }, \n",
    "                            'sim':{'sim_1': {base_currency:{'total_account_value': sim_account_starting_value_base, \n",
    "                                                            'buying_power_available':sim_account_starting_value_base * sim_account_margin_multiplier, \n",
    "                                                            'buying_power_used':0, 'cushion':0, 'pledge_to_margin_used':0, \n",
    "                                                            'pledge_to_margin_availble':sim_account_starting_value_base\n",
    "                                                            }\n",
    "                                            }\n",
    "                                }\n",
    "                            },\n",
    "            'base_account_numbers':{'sim':'sim_1', 'ibkr':'U13152795'},\n",
    "            'risk_management': {'max_risk_per_bet':0.10, 'maximum_marging_used_pct':0.80}\n",
    "            }\n",
    "        backtest_entry = bq.create_backtest_entry_from_config_dict(config_dict)\n",
    "        bq.add_backtest_to_queue(backtest_entry)\n",
    "        # time.sleep(2)\n"
   ]
  },
  {
   "cell_type": "code",
   "execution_count": null,
   "metadata": {},
   "outputs": [],
   "source": []
  }
 ],
 "metadata": {
  "kernelspec": {
   "display_name": "mathematricks_venv",
   "language": "python",
   "name": "python3"
  },
  "language_info": {
   "codemirror_mode": {
    "name": "ipython",
    "version": 3
   },
   "file_extension": ".py",
   "mimetype": "text/x-python",
   "name": "python",
   "nbconvert_exporter": "python",
   "pygments_lexer": "ipython3",
   "version": "3.10.2"
  }
 },
 "nbformat": 4,
 "nbformat_minor": 2
}
