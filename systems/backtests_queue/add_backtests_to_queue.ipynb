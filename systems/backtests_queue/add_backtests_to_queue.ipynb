{
 "cells": [
  {
   "cell_type": "code",
   "execution_count": 1,
   "metadata": {},
   "outputs": [],
   "source": [
    "import sys, time\n",
    "sys.path.append('/Users/vandanchopra/Vandan_Personal_Folder/CODE_STUFF/Projects/mathematricks/')"
   ]
  },
  {
   "cell_type": "code",
   "execution_count": 2,
   "metadata": {},
   "outputs": [],
   "source": [
    "from systems.backtests_queue.backtests_queue import BacktestQueue\n",
    "import pandas as pd\n",
    "from datetime import datetime\n",
    "import random"
   ]
  },
  {
   "cell_type": "code",
   "execution_count": 3,
   "metadata": {},
   "outputs": [],
   "source": [
    "bq = BacktestQueue()"
   ]
  },
  {
   "cell_type": "code",
   "execution_count": 5,
   "metadata": {},
   "outputs": [],
   "source": [
    "# Create random dates\n",
    "number_of_tests = 10\n",
    "random_dates = []\n",
    "for x in range(number_of_tests):\n",
    "    # Create a random start date in the format of pd.Timestamp(datetime(XXXX,XX,XX)).tz_localize('UTC').tz_convert('EST')\n",
    "    random_year = random.randint(1980, 2021)\n",
    "    random_month = random.randint(1, 12)\n",
    "    random_day = random.randint(1, 28)\n",
    "    random_date = pd.Timestamp(datetime(random_year, random_month, random_day)).tz_localize('UTC').tz_convert('EST')\n",
    "    random_dates.append(random_date)"
   ]
  },
  {
   "cell_type": "code",
   "execution_count": 5,
   "metadata": {},
   "outputs": [],
   "source": [
    "# random_dates = [pd.Timestamp(datetime(2005, 1, 19)).tz_localize('UTC').tz_convert('EST'), \n",
    "#                 pd.Timestamp(datetime(1997, 7, 18)).tz_localize('UTC').tz_convert('EST'),\n",
    "#                 pd.Timestamp(datetime(2007, 11, 25)).tz_localize('UTC').tz_convert('EST'),\n",
    "#                 pd.Timestamp(datetime(2005, 3, 11)).tz_localize('UTC').tz_convert('EST'),\n",
    "#                 pd.Timestamp(datetime(1993, 8, 13)).tz_localize('UTC').tz_convert('EST'),\n",
    "#                 pd.Timestamp(datetime(2005, 11, 27)).tz_localize('UTC').tz_convert('EST'),\n",
    "#                 pd.Timestamp(datetime(2022, 11, 27)).tz_localize('UTC').tz_convert('EST'),\n",
    "# ]\n"
   ]
  },
  {
   "cell_type": "code",
   "execution_count": 7,
   "metadata": {},
   "outputs": [
    {
     "name": "stdout",
     "output_type": "stream",
     "text": [
      "{'new_backtest_dict': {'backtest_name': 'first_test__786ade12b625ef9e80a3d401c8dd05e13273929e0a45b5327f34b1c31b997c08', 'start_time': '2016-01-08 19:00:00-05:00', 'end_time': '2018-01-07 19:00:00-05:00', 'strategies': \"['strategy_dev.strategy_3']\", 'data_source': \"['yahoo']\", 'risk_management': \"{'max_risk_per_bet': 0.1, 'maximum_marging_used_pct': 0.8}\", 'account_info': \"{'total_account_value': 100000, 'buying_power_available': 300000, 'buying_power_used': 0, 'cushion': 0, 'pledge_to_margin_used': 0, 'pledge_to_margin_availble': 100000}\"}}\n",
      "{'new_backtest_dict': {'backtest_name': 'first_test__2a8f1ebfda8b2fc5be1c5ad9e358447f1aa2965f10baf8f34e16d1f5b55f000a', 'start_time': '2016-01-08 19:00:00-05:00', 'end_time': '2018-01-07 19:00:00-05:00', 'strategies': \"['strategy_dev.strategy_3_1pct_exit']\", 'data_source': \"['yahoo']\", 'risk_management': \"{'max_risk_per_bet': 0.1, 'maximum_marging_used_pct': 0.8}\", 'account_info': \"{'total_account_value': 100000, 'buying_power_available': 300000, 'buying_power_used': 0, 'cushion': 0, 'pledge_to_margin_used': 0, 'pledge_to_margin_availble': 100000}\"}}\n",
      "{'new_backtest_dict': {'backtest_name': 'first_test__f575ed36aaca0f88da96f881a7676d6231e1acc3fcd158951b9c5a54604ffe60', 'start_time': '2016-01-08 19:00:00-05:00', 'end_time': '2018-01-07 19:00:00-05:00', 'strategies': \"['strategy_dev.strategy_3_2pct_exit']\", 'data_source': \"['yahoo']\", 'risk_management': \"{'max_risk_per_bet': 0.1, 'maximum_marging_used_pct': 0.8}\", 'account_info': \"{'total_account_value': 100000, 'buying_power_available': 300000, 'buying_power_used': 0, 'cushion': 0, 'pledge_to_margin_used': 0, 'pledge_to_margin_availble': 100000}\"}}\n",
      "{'new_backtest_dict': {'backtest_name': 'first_test__f42a29725d112b43923cb5ef2c26fcd1b2d94624538a0f4067e699b789033a70', 'start_time': '2016-01-08 19:00:00-05:00', 'end_time': '2018-01-07 19:00:00-05:00', 'strategies': \"['strategy_dev.strategy_3_10pct_exit']\", 'data_source': \"['yahoo']\", 'risk_management': \"{'max_risk_per_bet': 0.1, 'maximum_marging_used_pct': 0.8}\", 'account_info': \"{'total_account_value': 100000, 'buying_power_available': 300000, 'buying_power_used': 0, 'cushion': 0, 'pledge_to_margin_used': 0, 'pledge_to_margin_availble': 100000}\"}}\n",
      "{'new_backtest_dict': {'backtest_name': 'first_test__df44f6627b77978798cf0cd3901020c9b4e578406f557cd1327239f0355b4649', 'start_time': '1995-09-01 19:00:00-05:00', 'end_time': '1997-08-31 19:00:00-05:00', 'strategies': \"['strategy_dev.strategy_3']\", 'data_source': \"['yahoo']\", 'risk_management': \"{'max_risk_per_bet': 0.1, 'maximum_marging_used_pct': 0.8}\", 'account_info': \"{'total_account_value': 100000, 'buying_power_available': 300000, 'buying_power_used': 0, 'cushion': 0, 'pledge_to_margin_used': 0, 'pledge_to_margin_availble': 100000}\"}}\n",
      "{'new_backtest_dict': {'backtest_name': 'first_test__d2ef5b3d1f140fef3fe3e191de13b34271ac3cf0a6c553b9c503d8126927c391', 'start_time': '1995-09-01 19:00:00-05:00', 'end_time': '1997-08-31 19:00:00-05:00', 'strategies': \"['strategy_dev.strategy_3_1pct_exit']\", 'data_source': \"['yahoo']\", 'risk_management': \"{'max_risk_per_bet': 0.1, 'maximum_marging_used_pct': 0.8}\", 'account_info': \"{'total_account_value': 100000, 'buying_power_available': 300000, 'buying_power_used': 0, 'cushion': 0, 'pledge_to_margin_used': 0, 'pledge_to_margin_availble': 100000}\"}}\n",
      "{'new_backtest_dict': {'backtest_name': 'first_test__748cbd4a27bea8faa017ea766b6e5aeda21ce97aa93dc1d3cb1406872591fc23', 'start_time': '1995-09-01 19:00:00-05:00', 'end_time': '1997-08-31 19:00:00-05:00', 'strategies': \"['strategy_dev.strategy_3_2pct_exit']\", 'data_source': \"['yahoo']\", 'risk_management': \"{'max_risk_per_bet': 0.1, 'maximum_marging_used_pct': 0.8}\", 'account_info': \"{'total_account_value': 100000, 'buying_power_available': 300000, 'buying_power_used': 0, 'cushion': 0, 'pledge_to_margin_used': 0, 'pledge_to_margin_availble': 100000}\"}}\n",
      "{'new_backtest_dict': {'backtest_name': 'first_test__7b8c2719ae1813d432123161a94e9c414cdf24878b377fc6491ac7e59483d872', 'start_time': '1995-09-01 19:00:00-05:00', 'end_time': '1997-08-31 19:00:00-05:00', 'strategies': \"['strategy_dev.strategy_3_10pct_exit']\", 'data_source': \"['yahoo']\", 'risk_management': \"{'max_risk_per_bet': 0.1, 'maximum_marging_used_pct': 0.8}\", 'account_info': \"{'total_account_value': 100000, 'buying_power_available': 300000, 'buying_power_used': 0, 'cushion': 0, 'pledge_to_margin_used': 0, 'pledge_to_margin_availble': 100000}\"}}\n",
      "{'new_backtest_dict': {'backtest_name': 'first_test__4f5e6e3cc6d8bf416280035279a0b1ec3199b019bc946a2aaf644224429048a2', 'start_time': '1998-02-21 19:00:00-05:00', 'end_time': '2000-02-21 19:00:00-05:00', 'strategies': \"['strategy_dev.strategy_3']\", 'data_source': \"['yahoo']\", 'risk_management': \"{'max_risk_per_bet': 0.1, 'maximum_marging_used_pct': 0.8}\", 'account_info': \"{'total_account_value': 100000, 'buying_power_available': 300000, 'buying_power_used': 0, 'cushion': 0, 'pledge_to_margin_used': 0, 'pledge_to_margin_availble': 100000}\"}}\n",
      "{'new_backtest_dict': {'backtest_name': 'first_test__ed18f838acbcd32fd1dfe7170200619b09bcd35f4ba0c581f80765e01727fc7a', 'start_time': '1998-02-21 19:00:00-05:00', 'end_time': '2000-02-21 19:00:00-05:00', 'strategies': \"['strategy_dev.strategy_3_1pct_exit']\", 'data_source': \"['yahoo']\", 'risk_management': \"{'max_risk_per_bet': 0.1, 'maximum_marging_used_pct': 0.8}\", 'account_info': \"{'total_account_value': 100000, 'buying_power_available': 300000, 'buying_power_used': 0, 'cushion': 0, 'pledge_to_margin_used': 0, 'pledge_to_margin_availble': 100000}\"}}\n",
      "{'new_backtest_dict': {'backtest_name': 'first_test__18b5fd1ce94b783f025da35a30dc588e676505ec75de28072acbabdeeb29e15c', 'start_time': '1998-02-21 19:00:00-05:00', 'end_time': '2000-02-21 19:00:00-05:00', 'strategies': \"['strategy_dev.strategy_3_2pct_exit']\", 'data_source': \"['yahoo']\", 'risk_management': \"{'max_risk_per_bet': 0.1, 'maximum_marging_used_pct': 0.8}\", 'account_info': \"{'total_account_value': 100000, 'buying_power_available': 300000, 'buying_power_used': 0, 'cushion': 0, 'pledge_to_margin_used': 0, 'pledge_to_margin_availble': 100000}\"}}\n",
      "{'new_backtest_dict': {'backtest_name': 'first_test__438967356b4f0eb682a4959539f38570c2d3460d0ac62c8ef499e580c6ec4442', 'start_time': '1998-02-21 19:00:00-05:00', 'end_time': '2000-02-21 19:00:00-05:00', 'strategies': \"['strategy_dev.strategy_3_10pct_exit']\", 'data_source': \"['yahoo']\", 'risk_management': \"{'max_risk_per_bet': 0.1, 'maximum_marging_used_pct': 0.8}\", 'account_info': \"{'total_account_value': 100000, 'buying_power_available': 300000, 'buying_power_used': 0, 'cushion': 0, 'pledge_to_margin_used': 0, 'pledge_to_margin_availble': 100000}\"}}\n",
      "{'new_backtest_dict': {'backtest_name': 'first_test__6e26171f26cb7eb3fbf66ea37a3e83576c5951ef3ea95e7e2622f24bea8cb9f7', 'start_time': '2020-06-09 19:00:00-05:00', 'end_time': '2022-06-09 19:00:00-05:00', 'strategies': \"['strategy_dev.strategy_3']\", 'data_source': \"['yahoo']\", 'risk_management': \"{'max_risk_per_bet': 0.1, 'maximum_marging_used_pct': 0.8}\", 'account_info': \"{'total_account_value': 100000, 'buying_power_available': 300000, 'buying_power_used': 0, 'cushion': 0, 'pledge_to_margin_used': 0, 'pledge_to_margin_availble': 100000}\"}}\n",
      "{'new_backtest_dict': {'backtest_name': 'first_test__598998ccc49bd1ea843de9f163768ffebf38e530988c0fd18ab56f6069ad691a', 'start_time': '2020-06-09 19:00:00-05:00', 'end_time': '2022-06-09 19:00:00-05:00', 'strategies': \"['strategy_dev.strategy_3_1pct_exit']\", 'data_source': \"['yahoo']\", 'risk_management': \"{'max_risk_per_bet': 0.1, 'maximum_marging_used_pct': 0.8}\", 'account_info': \"{'total_account_value': 100000, 'buying_power_available': 300000, 'buying_power_used': 0, 'cushion': 0, 'pledge_to_margin_used': 0, 'pledge_to_margin_availble': 100000}\"}}\n",
      "{'new_backtest_dict': {'backtest_name': 'first_test__23fe7b1f6a50ed15fad06277bdfd37e28dbc32d875939ddd0af22f227e75f22c', 'start_time': '2020-06-09 19:00:00-05:00', 'end_time': '2022-06-09 19:00:00-05:00', 'strategies': \"['strategy_dev.strategy_3_2pct_exit']\", 'data_source': \"['yahoo']\", 'risk_management': \"{'max_risk_per_bet': 0.1, 'maximum_marging_used_pct': 0.8}\", 'account_info': \"{'total_account_value': 100000, 'buying_power_available': 300000, 'buying_power_used': 0, 'cushion': 0, 'pledge_to_margin_used': 0, 'pledge_to_margin_availble': 100000}\"}}\n",
      "{'new_backtest_dict': {'backtest_name': 'first_test__fac2b35648a97f301cf6d5a158b7b53f68124cf2043414ca8302daf9afc8328a', 'start_time': '2020-06-09 19:00:00-05:00', 'end_time': '2022-06-09 19:00:00-05:00', 'strategies': \"['strategy_dev.strategy_3_10pct_exit']\", 'data_source': \"['yahoo']\", 'risk_management': \"{'max_risk_per_bet': 0.1, 'maximum_marging_used_pct': 0.8}\", 'account_info': \"{'total_account_value': 100000, 'buying_power_available': 300000, 'buying_power_used': 0, 'cushion': 0, 'pledge_to_margin_used': 0, 'pledge_to_margin_availble': 100000}\"}}\n",
      "{'new_backtest_dict': {'backtest_name': 'first_test__50030a4b30c272826ae3a92de5db6d6267e459ad0f81565bd2e612b6cb302090', 'start_time': '2000-07-19 19:00:00-05:00', 'end_time': '2002-07-19 19:00:00-05:00', 'strategies': \"['strategy_dev.strategy_3']\", 'data_source': \"['yahoo']\", 'risk_management': \"{'max_risk_per_bet': 0.1, 'maximum_marging_used_pct': 0.8}\", 'account_info': \"{'total_account_value': 100000, 'buying_power_available': 300000, 'buying_power_used': 0, 'cushion': 0, 'pledge_to_margin_used': 0, 'pledge_to_margin_availble': 100000}\"}}\n",
      "{'new_backtest_dict': {'backtest_name': 'first_test__abe32c0fbf90f54a60bda6a308273e57a4d35db453b1a0cfe962279177d08211', 'start_time': '2000-07-19 19:00:00-05:00', 'end_time': '2002-07-19 19:00:00-05:00', 'strategies': \"['strategy_dev.strategy_3_1pct_exit']\", 'data_source': \"['yahoo']\", 'risk_management': \"{'max_risk_per_bet': 0.1, 'maximum_marging_used_pct': 0.8}\", 'account_info': \"{'total_account_value': 100000, 'buying_power_available': 300000, 'buying_power_used': 0, 'cushion': 0, 'pledge_to_margin_used': 0, 'pledge_to_margin_availble': 100000}\"}}\n",
      "{'new_backtest_dict': {'backtest_name': 'first_test__b614408e1d1e5d58e6e867ec006536bb0a89641dcb9e0fd774e51a5d397cc081', 'start_time': '2000-07-19 19:00:00-05:00', 'end_time': '2002-07-19 19:00:00-05:00', 'strategies': \"['strategy_dev.strategy_3_2pct_exit']\", 'data_source': \"['yahoo']\", 'risk_management': \"{'max_risk_per_bet': 0.1, 'maximum_marging_used_pct': 0.8}\", 'account_info': \"{'total_account_value': 100000, 'buying_power_available': 300000, 'buying_power_used': 0, 'cushion': 0, 'pledge_to_margin_used': 0, 'pledge_to_margin_availble': 100000}\"}}\n",
      "{'new_backtest_dict': {'backtest_name': 'first_test__1526300e211ee74504c54adfab9e32f2dcc9e2673ad01ce28082afca06ce5eeb', 'start_time': '2000-07-19 19:00:00-05:00', 'end_time': '2002-07-19 19:00:00-05:00', 'strategies': \"['strategy_dev.strategy_3_10pct_exit']\", 'data_source': \"['yahoo']\", 'risk_management': \"{'max_risk_per_bet': 0.1, 'maximum_marging_used_pct': 0.8}\", 'account_info': \"{'total_account_value': 100000, 'buying_power_available': 300000, 'buying_power_used': 0, 'cushion': 0, 'pledge_to_margin_used': 0, 'pledge_to_margin_availble': 100000}\"}}\n",
      "{'new_backtest_dict': {'backtest_name': 'first_test__5e477026f6dc80c02e199b7692cc25a7522b90675799ea826af2ae3d1f81358a', 'start_time': '1983-03-02 19:00:00-05:00', 'end_time': '1985-03-01 19:00:00-05:00', 'strategies': \"['strategy_dev.strategy_3']\", 'data_source': \"['yahoo']\", 'risk_management': \"{'max_risk_per_bet': 0.1, 'maximum_marging_used_pct': 0.8}\", 'account_info': \"{'total_account_value': 100000, 'buying_power_available': 300000, 'buying_power_used': 0, 'cushion': 0, 'pledge_to_margin_used': 0, 'pledge_to_margin_availble': 100000}\"}}\n",
      "{'new_backtest_dict': {'backtest_name': 'first_test__0ada03c8f9f823c0f0ac05ad1305f5ffac98d437180235c32c1e06f350a33dc7', 'start_time': '1983-03-02 19:00:00-05:00', 'end_time': '1985-03-01 19:00:00-05:00', 'strategies': \"['strategy_dev.strategy_3_1pct_exit']\", 'data_source': \"['yahoo']\", 'risk_management': \"{'max_risk_per_bet': 0.1, 'maximum_marging_used_pct': 0.8}\", 'account_info': \"{'total_account_value': 100000, 'buying_power_available': 300000, 'buying_power_used': 0, 'cushion': 0, 'pledge_to_margin_used': 0, 'pledge_to_margin_availble': 100000}\"}}\n",
      "{'new_backtest_dict': {'backtest_name': 'first_test__1d39f53a568a3368f26c065d716793ed7537742a6acec57427417aa60cb29f58', 'start_time': '1983-03-02 19:00:00-05:00', 'end_time': '1985-03-01 19:00:00-05:00', 'strategies': \"['strategy_dev.strategy_3_2pct_exit']\", 'data_source': \"['yahoo']\", 'risk_management': \"{'max_risk_per_bet': 0.1, 'maximum_marging_used_pct': 0.8}\", 'account_info': \"{'total_account_value': 100000, 'buying_power_available': 300000, 'buying_power_used': 0, 'cushion': 0, 'pledge_to_margin_used': 0, 'pledge_to_margin_availble': 100000}\"}}\n",
      "{'new_backtest_dict': {'backtest_name': 'first_test__88e5387b14544fd55fc9f13d15540cf37edbe6b3c1ae87d34c72cfe50d8fdf35', 'start_time': '1983-03-02 19:00:00-05:00', 'end_time': '1985-03-01 19:00:00-05:00', 'strategies': \"['strategy_dev.strategy_3_10pct_exit']\", 'data_source': \"['yahoo']\", 'risk_management': \"{'max_risk_per_bet': 0.1, 'maximum_marging_used_pct': 0.8}\", 'account_info': \"{'total_account_value': 100000, 'buying_power_available': 300000, 'buying_power_used': 0, 'cushion': 0, 'pledge_to_margin_used': 0, 'pledge_to_margin_availble': 100000}\"}}\n",
      "{'new_backtest_dict': {'backtest_name': 'first_test__b2701a1ad38db45b07961136827eda29e2af89ddad4f199e0623e99f7eeca131', 'start_time': '1988-11-18 19:00:00-05:00', 'end_time': '1990-11-18 19:00:00-05:00', 'strategies': \"['strategy_dev.strategy_3']\", 'data_source': \"['yahoo']\", 'risk_management': \"{'max_risk_per_bet': 0.1, 'maximum_marging_used_pct': 0.8}\", 'account_info': \"{'total_account_value': 100000, 'buying_power_available': 300000, 'buying_power_used': 0, 'cushion': 0, 'pledge_to_margin_used': 0, 'pledge_to_margin_availble': 100000}\"}}\n",
      "{'new_backtest_dict': {'backtest_name': 'first_test__366ef4c9cca881c5bd028ec0ddeff7fc7fb0bfa96a5dd512c9e601e36a6c8785', 'start_time': '1988-11-18 19:00:00-05:00', 'end_time': '1990-11-18 19:00:00-05:00', 'strategies': \"['strategy_dev.strategy_3_1pct_exit']\", 'data_source': \"['yahoo']\", 'risk_management': \"{'max_risk_per_bet': 0.1, 'maximum_marging_used_pct': 0.8}\", 'account_info': \"{'total_account_value': 100000, 'buying_power_available': 300000, 'buying_power_used': 0, 'cushion': 0, 'pledge_to_margin_used': 0, 'pledge_to_margin_availble': 100000}\"}}\n",
      "{'new_backtest_dict': {'backtest_name': 'first_test__d0a9ddf3e61d785b647a0cda9cc3b6cc1255683f11ce124989b2471e5c8f7339', 'start_time': '1988-11-18 19:00:00-05:00', 'end_time': '1990-11-18 19:00:00-05:00', 'strategies': \"['strategy_dev.strategy_3_2pct_exit']\", 'data_source': \"['yahoo']\", 'risk_management': \"{'max_risk_per_bet': 0.1, 'maximum_marging_used_pct': 0.8}\", 'account_info': \"{'total_account_value': 100000, 'buying_power_available': 300000, 'buying_power_used': 0, 'cushion': 0, 'pledge_to_margin_used': 0, 'pledge_to_margin_availble': 100000}\"}}\n",
      "{'new_backtest_dict': {'backtest_name': 'first_test__17c77f1c45da63cce7d3069e8a94e85e7a46cdd96fabd7af6ee59686b5ac9ac6', 'start_time': '1988-11-18 19:00:00-05:00', 'end_time': '1990-11-18 19:00:00-05:00', 'strategies': \"['strategy_dev.strategy_3_10pct_exit']\", 'data_source': \"['yahoo']\", 'risk_management': \"{'max_risk_per_bet': 0.1, 'maximum_marging_used_pct': 0.8}\", 'account_info': \"{'total_account_value': 100000, 'buying_power_available': 300000, 'buying_power_used': 0, 'cushion': 0, 'pledge_to_margin_used': 0, 'pledge_to_margin_availble': 100000}\"}}\n",
      "{'new_backtest_dict': {'backtest_name': 'first_test__98a05771eca42a7f3f2157509a85373fd615ae70e25baf6a45a6e980b15c4c9f', 'start_time': '1995-05-17 19:00:00-05:00', 'end_time': '1997-05-16 19:00:00-05:00', 'strategies': \"['strategy_dev.strategy_3']\", 'data_source': \"['yahoo']\", 'risk_management': \"{'max_risk_per_bet': 0.1, 'maximum_marging_used_pct': 0.8}\", 'account_info': \"{'total_account_value': 100000, 'buying_power_available': 300000, 'buying_power_used': 0, 'cushion': 0, 'pledge_to_margin_used': 0, 'pledge_to_margin_availble': 100000}\"}}\n",
      "{'new_backtest_dict': {'backtest_name': 'first_test__1208309c653af538a306471f72af20f6013a791d7950e28a1024b3b30ba77334', 'start_time': '1995-05-17 19:00:00-05:00', 'end_time': '1997-05-16 19:00:00-05:00', 'strategies': \"['strategy_dev.strategy_3_1pct_exit']\", 'data_source': \"['yahoo']\", 'risk_management': \"{'max_risk_per_bet': 0.1, 'maximum_marging_used_pct': 0.8}\", 'account_info': \"{'total_account_value': 100000, 'buying_power_available': 300000, 'buying_power_used': 0, 'cushion': 0, 'pledge_to_margin_used': 0, 'pledge_to_margin_availble': 100000}\"}}\n",
      "{'new_backtest_dict': {'backtest_name': 'first_test__1bf70af93ed6614d21a1d2698fb54f9c91012becf9f17e8d5634bad8e0dc3ce3', 'start_time': '1995-05-17 19:00:00-05:00', 'end_time': '1997-05-16 19:00:00-05:00', 'strategies': \"['strategy_dev.strategy_3_2pct_exit']\", 'data_source': \"['yahoo']\", 'risk_management': \"{'max_risk_per_bet': 0.1, 'maximum_marging_used_pct': 0.8}\", 'account_info': \"{'total_account_value': 100000, 'buying_power_available': 300000, 'buying_power_used': 0, 'cushion': 0, 'pledge_to_margin_used': 0, 'pledge_to_margin_availble': 100000}\"}}\n",
      "{'new_backtest_dict': {'backtest_name': 'first_test__76a8409859b655ce71d115d6f700435e5a51eb8fe6317337bd8a7501c4232a01', 'start_time': '1995-05-17 19:00:00-05:00', 'end_time': '1997-05-16 19:00:00-05:00', 'strategies': \"['strategy_dev.strategy_3_10pct_exit']\", 'data_source': \"['yahoo']\", 'risk_management': \"{'max_risk_per_bet': 0.1, 'maximum_marging_used_pct': 0.8}\", 'account_info': \"{'total_account_value': 100000, 'buying_power_available': 300000, 'buying_power_used': 0, 'cushion': 0, 'pledge_to_margin_used': 0, 'pledge_to_margin_availble': 100000}\"}}\n",
      "{'new_backtest_dict': {'backtest_name': 'first_test__a3be58eeec141e9a566f7bd799450de2309e5c9aef152250c0bef95fd6dc50ae', 'start_time': '2013-07-14 19:00:00-05:00', 'end_time': '2015-07-14 19:00:00-05:00', 'strategies': \"['strategy_dev.strategy_3']\", 'data_source': \"['yahoo']\", 'risk_management': \"{'max_risk_per_bet': 0.1, 'maximum_marging_used_pct': 0.8}\", 'account_info': \"{'total_account_value': 100000, 'buying_power_available': 300000, 'buying_power_used': 0, 'cushion': 0, 'pledge_to_margin_used': 0, 'pledge_to_margin_availble': 100000}\"}}\n",
      "{'new_backtest_dict': {'backtest_name': 'first_test__0c5f3ef4defea256321e86f22ca9e1c070289e33f4407f66eee0b3ae4b30b217', 'start_time': '2013-07-14 19:00:00-05:00', 'end_time': '2015-07-14 19:00:00-05:00', 'strategies': \"['strategy_dev.strategy_3_1pct_exit']\", 'data_source': \"['yahoo']\", 'risk_management': \"{'max_risk_per_bet': 0.1, 'maximum_marging_used_pct': 0.8}\", 'account_info': \"{'total_account_value': 100000, 'buying_power_available': 300000, 'buying_power_used': 0, 'cushion': 0, 'pledge_to_margin_used': 0, 'pledge_to_margin_availble': 100000}\"}}\n",
      "{'new_backtest_dict': {'backtest_name': 'first_test__84c353b2923fb3bcd4fa3481e98f2381648ae9cf10d2adca72010f71c175b2e4', 'start_time': '2013-07-14 19:00:00-05:00', 'end_time': '2015-07-14 19:00:00-05:00', 'strategies': \"['strategy_dev.strategy_3_2pct_exit']\", 'data_source': \"['yahoo']\", 'risk_management': \"{'max_risk_per_bet': 0.1, 'maximum_marging_used_pct': 0.8}\", 'account_info': \"{'total_account_value': 100000, 'buying_power_available': 300000, 'buying_power_used': 0, 'cushion': 0, 'pledge_to_margin_used': 0, 'pledge_to_margin_availble': 100000}\"}}\n",
      "{'new_backtest_dict': {'backtest_name': 'first_test__879769d6b96d9c1b701f7f196754c2019c6f42da578644700f4b234c11a0dec5', 'start_time': '2013-07-14 19:00:00-05:00', 'end_time': '2015-07-14 19:00:00-05:00', 'strategies': \"['strategy_dev.strategy_3_10pct_exit']\", 'data_source': \"['yahoo']\", 'risk_management': \"{'max_risk_per_bet': 0.1, 'maximum_marging_used_pct': 0.8}\", 'account_info': \"{'total_account_value': 100000, 'buying_power_available': 300000, 'buying_power_used': 0, 'cushion': 0, 'pledge_to_margin_used': 0, 'pledge_to_margin_availble': 100000}\"}}\n",
      "{'new_backtest_dict': {'backtest_name': 'first_test__46a282b382d0f368ed2b006044b726a4c0322c4ab1cbd6ca703052791a8ad569', 'start_time': '1987-12-10 19:00:00-05:00', 'end_time': '1989-12-09 19:00:00-05:00', 'strategies': \"['strategy_dev.strategy_3']\", 'data_source': \"['yahoo']\", 'risk_management': \"{'max_risk_per_bet': 0.1, 'maximum_marging_used_pct': 0.8}\", 'account_info': \"{'total_account_value': 100000, 'buying_power_available': 300000, 'buying_power_used': 0, 'cushion': 0, 'pledge_to_margin_used': 0, 'pledge_to_margin_availble': 100000}\"}}\n",
      "{'new_backtest_dict': {'backtest_name': 'first_test__0cf66374d2d62d86bfd51501ca20efcbd734096ee60fa6f5e680098ac04bce65', 'start_time': '1987-12-10 19:00:00-05:00', 'end_time': '1989-12-09 19:00:00-05:00', 'strategies': \"['strategy_dev.strategy_3_1pct_exit']\", 'data_source': \"['yahoo']\", 'risk_management': \"{'max_risk_per_bet': 0.1, 'maximum_marging_used_pct': 0.8}\", 'account_info': \"{'total_account_value': 100000, 'buying_power_available': 300000, 'buying_power_used': 0, 'cushion': 0, 'pledge_to_margin_used': 0, 'pledge_to_margin_availble': 100000}\"}}\n",
      "{'new_backtest_dict': {'backtest_name': 'first_test__93ab5d3f6123e7a46224bacda86fe722dc04b52ca602c88e4f9a965108cedbe6', 'start_time': '1987-12-10 19:00:00-05:00', 'end_time': '1989-12-09 19:00:00-05:00', 'strategies': \"['strategy_dev.strategy_3_2pct_exit']\", 'data_source': \"['yahoo']\", 'risk_management': \"{'max_risk_per_bet': 0.1, 'maximum_marging_used_pct': 0.8}\", 'account_info': \"{'total_account_value': 100000, 'buying_power_available': 300000, 'buying_power_used': 0, 'cushion': 0, 'pledge_to_margin_used': 0, 'pledge_to_margin_availble': 100000}\"}}\n",
      "{'new_backtest_dict': {'backtest_name': 'first_test__b4b25b21c8bbe92850723fa56d92288b41e194b6c23785ba54214a31182c49d1', 'start_time': '1987-12-10 19:00:00-05:00', 'end_time': '1989-12-09 19:00:00-05:00', 'strategies': \"['strategy_dev.strategy_3_10pct_exit']\", 'data_source': \"['yahoo']\", 'risk_management': \"{'max_risk_per_bet': 0.1, 'maximum_marging_used_pct': 0.8}\", 'account_info': \"{'total_account_value': 100000, 'buying_power_available': 300000, 'buying_power_used': 0, 'cushion': 0, 'pledge_to_margin_used': 0, 'pledge_to_margin_availble': 100000}\"}}\n"
     ]
    }
   ],
   "source": [
    "config_dict_variables = random_dates\n",
    "strategy_list = ['strategy_dev.strategy_3', 'strategy_dev.strategy_3_1pct_exit', 'strategy_dev.strategy_3_2pct_exit', 'strategy_dev.strategy_3_10pct_exit']\n",
    "\n",
    "for start_date in config_dict_variables:\n",
    "    for strategy_name in strategy_list:\n",
    "        # start_date = pd.Timestamp(datetime(2021,1,1)).tz_localize('UTC').tz_convert('EST')\n",
    "        end_date = start_date + pd.Timedelta(days=365 * 2)\n",
    "        sim_account_margin_multiplier = 3\n",
    "        sim_account_starting_value_base = 100000\n",
    "        base_currency = 'CAD'\n",
    "        trading_currency = 'USD'\n",
    "        base_currency_to_trading_currency_exchange_rate = 1/1.375\n",
    "        testname = \"first_test_\"\n",
    "\n",
    "        config_dict = {\n",
    "            'run_mode': 3, # 1: live trading - real money, 2: live trading - paper money, 3: backtesting, 4: data update only\n",
    "            'base_currency': base_currency,\n",
    "            'trading_currency': trading_currency,\n",
    "            'base_currency_to_trading_currency_exchange_rate': base_currency_to_trading_currency_exchange_rate,\n",
    "            'backtest_inputs': {\n",
    "                'start_time': start_date, \n",
    "                'end_time': end_date,\n",
    "                'save_backtest_results':True,\n",
    "                'backtest_name':testname,\n",
    "                },\n",
    "            'strategies':[strategy_name], # 'strategy_1', 'strategy_dev.strategy_3'\n",
    "            'data_update_inputs': {'data_sources':['yahoo']}, # 'yahoo', 'ibkr'\n",
    "            'sleep_time':60,\n",
    "            'account_info':{\n",
    "                            # 'ibkr':{'U13152795':{base_currency:{}\n",
    "                                                # }\n",
    "                                    # }, \n",
    "                            'sim':{'sim_1': {base_currency:{'total_account_value': sim_account_starting_value_base, \n",
    "                                                            'buying_power_available':sim_account_starting_value_base * sim_account_margin_multiplier, \n",
    "                                                            'buying_power_used':0, 'cushion':0, 'pledge_to_margin_used':0, \n",
    "                                                            'pledge_to_margin_availble':sim_account_starting_value_base\n",
    "                                                            }\n",
    "                                            }\n",
    "                                }\n",
    "                            },\n",
    "            'base_account_numbers':{'sim':'sim_1', 'ibkr':'U13152795'},\n",
    "            'risk_management': {'max_risk_per_bet':0.10, 'maximum_marging_used_pct':0.80}\n",
    "            }\n",
    "        backtest_entry = bq.create_backtest_entry_from_config_dict(config_dict)\n",
    "        bq.add_backtest_to_queue(backtest_entry)\n",
    "        time.sleep(1) # Dont' remove this, otherwise google banns you for too many requests\n"
   ]
  },
  {
   "cell_type": "code",
   "execution_count": null,
   "metadata": {},
   "outputs": [],
   "source": []
  }
 ],
 "metadata": {
  "kernelspec": {
   "display_name": "mathematricks_venv",
   "language": "python",
   "name": "python3"
  },
  "language_info": {
   "codemirror_mode": {
    "name": "ipython",
    "version": 3
   },
   "file_extension": ".py",
   "mimetype": "text/x-python",
   "name": "python",
   "nbconvert_exporter": "python",
   "pygments_lexer": "ipython3",
   "version": "3.10.2"
  }
 },
 "nbformat": 4,
 "nbformat_minor": 2
}
