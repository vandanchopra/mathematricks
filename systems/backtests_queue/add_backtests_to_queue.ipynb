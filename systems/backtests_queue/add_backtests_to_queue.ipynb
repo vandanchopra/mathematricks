{
 "cells": [
  {
   "cell_type": "code",
   "execution_count": 12,
   "metadata": {},
   "outputs": [],
   "source": [
    "import sys, time\n",
    "sys.path.append('/Users/vandanchopra/Vandan_Personal_Folder/CODE_STUFF/Projects/mathematricks/')"
   ]
  },
  {
   "cell_type": "code",
   "execution_count": 13,
   "metadata": {},
   "outputs": [],
   "source": [
    "from systems.backtests_queue.backtests_queue import BacktestQueue\n",
    "import pandas as pd\n",
    "from datetime import datetime\n",
    "import random"
   ]
  },
  {
   "cell_type": "code",
   "execution_count": 14,
   "metadata": {},
   "outputs": [],
   "source": [
    "bq = BacktestQueue()"
   ]
  },
  {
   "cell_type": "code",
   "execution_count": 15,
   "metadata": {},
   "outputs": [],
   "source": [
    "# Create random dates\n",
    "number_of_tests = 10\n",
    "random_dates = []\n",
    "for x in range(number_of_tests):\n",
    "    # Create a random start date in the format of pd.Timestamp(datetime(XXXX,XX,XX)).tz_localize('UTC').tz_convert('EST')\n",
    "    random_year = random.randint(1980, 2021)\n",
    "    random_month = random.randint(1, 12)\n",
    "    random_day = random.randint(1, 28)\n",
    "    random_date = pd.Timestamp(datetime(random_year, random_month, random_day)).tz_localize('UTC').tz_convert('EST')\n",
    "    random_dates.append(random_date)"
   ]
  },
  {
   "cell_type": "code",
   "execution_count": 16,
   "metadata": {},
   "outputs": [],
   "source": [
    "start_date = random_dates[2]"
   ]
  },
  {
   "cell_type": "code",
   "execution_count": 17,
   "metadata": {},
   "outputs": [
    {
     "name": "stdout",
     "output_type": "stream",
     "text": [
      "{'new_backtest_dict': {'backtest_name': 'first_test__5c1a757af22a038e3c91dcf6ac232f1766a052c6e0faeb4aa3c4ccb66b177b14', 'start_time': '1995-09-17 19:00:00-05:00', 'end_time': '1997-09-16 19:00:00-05:00', 'strategies': \"['strategy_dev.strategy_3_1']\", 'data_source': \"{'sim': 'yahoo', 'live': 'ibkr'}\", 'risk_management': \"{'max_risk_per_bet': 0.1, 'maximum_margin_used_pct': 0.8}\", 'account_info': \"{'total_account_value': 100000, 'buying_power_available': 300000, 'buying_power_used': 0, 'cushion': 0, 'pledge_to_margin_used': 0, 'pledge_to_margin_availble': 100000}\"}}\n",
      "{'new_backtest_dict': {'backtest_name': 'first_test__78377556dbc27f453f6e52b7c15f4be8c6cbc674d08c7548eda23ba6c8003862', 'start_time': '1995-09-17 19:00:00-05:00', 'end_time': '1999-09-16 19:00:00-05:00', 'strategies': \"['strategy_dev.strategy_3_1']\", 'data_source': \"{'sim': 'yahoo', 'live': 'ibkr'}\", 'risk_management': \"{'max_risk_per_bet': 0.1, 'maximum_margin_used_pct': 0.8}\", 'account_info': \"{'total_account_value': 100000, 'buying_power_available': 300000, 'buying_power_used': 0, 'cushion': 0, 'pledge_to_margin_used': 0, 'pledge_to_margin_availble': 100000}\"}}\n",
      "{'new_backtest_dict': {'backtest_name': 'first_test__3d575a29c21bea0ce3ed3aa97d154f7ced6ab28fabd64a885927524a7877c0be', 'start_time': '1995-09-17 19:00:00-05:00', 'end_time': '2003-09-15 19:00:00-05:00', 'strategies': \"['strategy_dev.strategy_3_1']\", 'data_source': \"{'sim': 'yahoo', 'live': 'ibkr'}\", 'risk_management': \"{'max_risk_per_bet': 0.1, 'maximum_margin_used_pct': 0.8}\", 'account_info': \"{'total_account_value': 100000, 'buying_power_available': 300000, 'buying_power_used': 0, 'cushion': 0, 'pledge_to_margin_used': 0, 'pledge_to_margin_availble': 100000}\"}}\n",
      "{'new_backtest_dict': {'backtest_name': 'first_test__cecf3b3ea7aac78e0d3c55a218bfe032ac34cb5684482b8853a2ae97a81adeec', 'start_time': '1995-09-17 19:00:00-05:00', 'end_time': '2007-09-14 19:00:00-05:00', 'strategies': \"['strategy_dev.strategy_3_1']\", 'data_source': \"{'sim': 'yahoo', 'live': 'ibkr'}\", 'risk_management': \"{'max_risk_per_bet': 0.1, 'maximum_margin_used_pct': 0.8}\", 'account_info': \"{'total_account_value': 100000, 'buying_power_available': 300000, 'buying_power_used': 0, 'cushion': 0, 'pledge_to_margin_used': 0, 'pledge_to_margin_availble': 100000}\"}}\n",
      "{'new_backtest_dict': {'backtest_name': 'first_test__d7897e06e9bc93f879e5cd749e8fef4efe150bc304d7b8002847dc21b39bb3b2', 'start_time': '1995-09-17 19:00:00-05:00', 'end_time': '2011-09-13 19:00:00-05:00', 'strategies': \"['strategy_dev.strategy_3_1']\", 'data_source': \"{'sim': 'yahoo', 'live': 'ibkr'}\", 'risk_management': \"{'max_risk_per_bet': 0.1, 'maximum_margin_used_pct': 0.8}\", 'account_info': \"{'total_account_value': 100000, 'buying_power_available': 300000, 'buying_power_used': 0, 'cushion': 0, 'pledge_to_margin_used': 0, 'pledge_to_margin_availble': 100000}\"}}\n",
      "{'new_backtest_dict': {'backtest_name': 'first_test__2c1091c5ab906c6601f51b97177aae082a4eaf729c9063aef52f2a2f19f75faa', 'start_time': '1995-09-17 19:00:00-05:00', 'end_time': '2015-09-12 19:00:00-05:00', 'strategies': \"['strategy_dev.strategy_3_1']\", 'data_source': \"{'sim': 'yahoo', 'live': 'ibkr'}\", 'risk_management': \"{'max_risk_per_bet': 0.1, 'maximum_margin_used_pct': 0.8}\", 'account_info': \"{'total_account_value': 100000, 'buying_power_available': 300000, 'buying_power_used': 0, 'cushion': 0, 'pledge_to_margin_used': 0, 'pledge_to_margin_availble': 100000}\"}}\n"
     ]
    }
   ],
   "source": [
    "config_dict_variables = random_dates\n",
    "# strategy_list = ['strategy_dev.strategy_3_1_short_only',\n",
    "#                  'strategy_dev.strategy_3_1_market_cap_10bn', 'strategy_dev.strategy_3_1_market_cap_20bn', 'strategy_dev.strategy_3_1_market_cap_30bn', 'strategy_dev.strategy_3_1_market_cap_40bn', 'strategy_dev.strategy_3_1_market_cap_50bn', 'strategy_dev.strategy_3_1_market_cap_60bn', \n",
    "#                  'strategy_dev.strategy_3_1_ucurve_0_10', 'strategy_dev.strategy_3_1_ucurve_10_20', 'strategy_dev.strategy_3_1_ucurve_10_30, strategy_dev.strategy_3_1_ucurve_10_0', 'strategy_dev.strategy_3_1_ucurve_20_10', 'strategy_dev.strategy_3_1_ucurve_30_10', 'strategy_dev.strategy_3_1_ucurve_10_10',\n",
    "#                 #  'strategy_dev.strategy_3_1_fixed_exit_5_days', 'strategy_dev.strategy_3_1_fixed_exit_10_days', 'strategy_dev.strategy_3_1_fixed_exit_2_days',\n",
    "#                  'strategy_dev.strategy_3', 'strategy_dev.strategy_3_1']\n",
    "strategy_list = ['strategy_dev.strategy_3_1']\n",
    "\n",
    "for strategy_name in strategy_list:\n",
    "    # for start_date in config_dict_variables:\n",
    "    for num_of_years in [2,4,8,12,16,20]:\n",
    "        # start_date = pd.Timestamp(datetime(2021,1,1)).tz_localize('UTC').tz_convert('EST')\n",
    "        end_date = start_date + pd.Timedelta(days=365 * num_of_years)\n",
    "        sim_account_margin_multiplier = 3\n",
    "        sim_account_starting_value_base = 100000\n",
    "        base_currency = 'CAD'\n",
    "        trading_currency = 'USD'\n",
    "        base_currency_to_trading_currency_exchange_rate = 1/1.375\n",
    "        testname = \"first_test_\"\n",
    "\n",
    "        config_dict = {\n",
    "            'run_mode': 3, # 1: live trading - real money, 2: live trading - paper money, 3: backtesting, 4: data update only\n",
    "            'base_currency': base_currency,\n",
    "            'trading_currency': trading_currency,\n",
    "            'base_currency_to_trading_currency_exchange_rate': base_currency_to_trading_currency_exchange_rate,\n",
    "            'backtest_inputs': {\n",
    "                'start_time': start_date, \n",
    "                'end_time': end_date,\n",
    "                'save_backtest_results':True,\n",
    "                'backtest_name':testname,\n",
    "                },\n",
    "            'strategies':[strategy_name], # 'strategy_1', 'strategy_dev.strategy_3'\n",
    "            'data_update_inputs': {'data_sources':{'sim':'yahoo', 'live':'ibkr'}}, # 'yahoo', 'ibkr'\n",
    "            'sleep_time':60,\n",
    "            'account_info':{\n",
    "                            # 'ibkr':{'U13152795':{base_currency:{}\n",
    "                                                # }\n",
    "                                    # }, \n",
    "                            'sim':{'sim_1': {base_currency:{'total_account_value': sim_account_starting_value_base, \n",
    "                                                            'buying_power_available':sim_account_starting_value_base * sim_account_margin_multiplier, \n",
    "                                                            'buying_power_used':0, 'cushion':0, 'pledge_to_margin_used':0, \n",
    "                                                            'pledge_to_margin_availble':sim_account_starting_value_base\n",
    "                                                            }\n",
    "                                            }\n",
    "                                }\n",
    "                            },\n",
    "            'base_account_numbers':{'sim':'sim_1', 'ibkr':'U13152795'},\n",
    "            'risk_management': {'max_risk_per_bet':0.10, 'maximum_margin_used_pct':0.80}\n",
    "            }\n",
    "        backtest_entry = bq.create_backtest_entry_from_config_dict(config_dict)\n",
    "        bq.add_backtest_to_queue(backtest_entry)\n",
    "        time.sleep(1) # Dont' remove this, otherwise google banns you for too many requests\n"
   ]
  },
  {
   "cell_type": "code",
   "execution_count": null,
   "metadata": {},
   "outputs": [],
   "source": []
  }
 ],
 "metadata": {
  "kernelspec": {
   "display_name": "mathematricks_venv",
   "language": "python",
   "name": "python3"
  },
  "language_info": {
   "codemirror_mode": {
    "name": "ipython",
    "version": 3
   },
   "file_extension": ".py",
   "mimetype": "text/x-python",
   "name": "python",
   "nbconvert_exporter": "python",
   "pygments_lexer": "ipython3",
   "version": "3.10.2"
  }
 },
 "nbformat": 4,
 "nbformat_minor": 2
}
