{
 "cells": [
  {
   "cell_type": "code",
   "execution_count": 6,
   "metadata": {},
   "outputs": [],
   "source": [
    "import sys, time\n",
    "sys.path.append('/Users/vandanchopra/Vandan_Personal_Folder/CODE_STUFF/Projects/mathematricks/')"
   ]
  },
  {
   "cell_type": "code",
   "execution_count": 7,
   "metadata": {},
   "outputs": [],
   "source": [
    "from systems.backtests_queue.backtests_queue import BacktestQueue\n",
    "import pandas as pd\n",
    "from datetime import datetime\n",
    "import random"
   ]
  },
  {
   "cell_type": "code",
   "execution_count": 8,
   "metadata": {},
   "outputs": [],
   "source": [
    "bq = BacktestQueue()"
   ]
  },
  {
   "cell_type": "code",
   "execution_count": 9,
   "metadata": {},
   "outputs": [],
   "source": [
    "# Create random dates\n",
    "number_of_tests = 50\n",
    "random_dates = []\n",
    "for x in range(number_of_tests):\n",
    "    # Create a random start date in the format of pd.Timestamp(datetime(XXXX,XX,XX)).tz_localize('UTC').tz_convert('EST')\n",
    "    random_year = random.randint(1980, 2021)\n",
    "    random_month = random.randint(1, 12)\n",
    "    random_day = random.randint(1, 28)\n",
    "    random_date = pd.Timestamp(datetime(random_year, random_month, random_day)).tz_localize('UTC').tz_convert('EST')\n",
    "    random_dates.append(random_date)\n",
    "    "
   ]
  },
  {
   "cell_type": "code",
   "execution_count": 10,
   "metadata": {},
   "outputs": [],
   "source": [
    "# random_dates = [pd.Timestamp(datetime(2005, 1, 19)).tz_localize('UTC').tz_convert('EST'), \n",
    "#                 pd.Timestamp(datetime(1997, 7, 18)).tz_localize('UTC').tz_convert('EST'),\n",
    "#                 pd.Timestamp(datetime(2007, 11, 25)).tz_localize('UTC').tz_convert('EST'),\n",
    "#                 pd.Timestamp(datetime(2005, 3, 11)).tz_localize('UTC').tz_convert('EST'),\n",
    "#                 pd.Timestamp(datetime(1993, 8, 13)).tz_localize('UTC').tz_convert('EST'),\n",
    "#                 pd.Timestamp(datetime(2005, 11, 27)).tz_localize('UTC').tz_convert('EST'),\n",
    "#                 pd.Timestamp(datetime(2022, 11, 27)).tz_localize('UTC').tz_convert('EST'),\n",
    "# ]\n"
   ]
  },
  {
   "cell_type": "code",
   "execution_count": 11,
   "metadata": {},
   "outputs": [
    {
     "name": "stdout",
     "output_type": "stream",
     "text": [
      "{'new_backtest_dict': {'backtest_name': 'first_test__0f692d0f2680e9e4ed00758add3e9062f28493f9281cc0fa0b4b7b5a264478e4', 'start_time': '1998-11-05 19:00:00-05:00', 'end_time': '2000-11-04 19:00:00-05:00', 'strategies': \"['strategy_dev.strategy_3']\", 'data_source': \"['yahoo']\", 'risk_management': \"{'max_risk_per_bet': 0.1, 'maximum_marging_used_pct': 0.8}\", 'account_info': \"{'total_account_value': 100000, 'buying_power_available': 300000, 'buying_power_used': 0, 'cushion': 0, 'pledge_to_margin_used': 0, 'pledge_to_margin_availble': 100000}\"}}\n",
      "{'new_backtest_dict': {'backtest_name': 'first_test__53b7e0148c2b60172677c0ccebabdb6706c3353aaa0d5ae871cc3ee656eac3c7', 'start_time': '2016-06-13 19:00:00-05:00', 'end_time': '2018-06-13 19:00:00-05:00', 'strategies': \"['strategy_dev.strategy_3']\", 'data_source': \"['yahoo']\", 'risk_management': \"{'max_risk_per_bet': 0.1, 'maximum_marging_used_pct': 0.8}\", 'account_info': \"{'total_account_value': 100000, 'buying_power_available': 300000, 'buying_power_used': 0, 'cushion': 0, 'pledge_to_margin_used': 0, 'pledge_to_margin_availble': 100000}\"}}\n",
      "{'new_backtest_dict': {'backtest_name': 'first_test__baae225705278f8ea87c94c132ebbeb382a2d6c51f00b09ab1e760ce71cf8a7a', 'start_time': '1986-04-09 19:00:00-05:00', 'end_time': '1988-04-08 19:00:00-05:00', 'strategies': \"['strategy_dev.strategy_3']\", 'data_source': \"['yahoo']\", 'risk_management': \"{'max_risk_per_bet': 0.1, 'maximum_marging_used_pct': 0.8}\", 'account_info': \"{'total_account_value': 100000, 'buying_power_available': 300000, 'buying_power_used': 0, 'cushion': 0, 'pledge_to_margin_used': 0, 'pledge_to_margin_availble': 100000}\"}}\n",
      "{'new_backtest_dict': {'backtest_name': 'first_test__b98b335c3b0f4e86372675c8c3cf41e2fb77f1fd421c3d3c3f2fa858fb48ef97', 'start_time': '1988-11-15 19:00:00-05:00', 'end_time': '1990-11-15 19:00:00-05:00', 'strategies': \"['strategy_dev.strategy_3']\", 'data_source': \"['yahoo']\", 'risk_management': \"{'max_risk_per_bet': 0.1, 'maximum_marging_used_pct': 0.8}\", 'account_info': \"{'total_account_value': 100000, 'buying_power_available': 300000, 'buying_power_used': 0, 'cushion': 0, 'pledge_to_margin_used': 0, 'pledge_to_margin_availble': 100000}\"}}\n",
      "{'new_backtest_dict': {'backtest_name': 'first_test__d7407569ac6c523e630eaa86b655237c85dd48d84c74bb00d4f790bcd4e2c1f1', 'start_time': '2005-12-26 19:00:00-05:00', 'end_time': '2007-12-26 19:00:00-05:00', 'strategies': \"['strategy_dev.strategy_3']\", 'data_source': \"['yahoo']\", 'risk_management': \"{'max_risk_per_bet': 0.1, 'maximum_marging_used_pct': 0.8}\", 'account_info': \"{'total_account_value': 100000, 'buying_power_available': 300000, 'buying_power_used': 0, 'cushion': 0, 'pledge_to_margin_used': 0, 'pledge_to_margin_availble': 100000}\"}}\n",
      "{'new_backtest_dict': {'backtest_name': 'first_test__3d1d22804903b9f8e3ef85f6213b1b3d4350a6ec0dea9658aca43e41bdcf05ec', 'start_time': '2003-01-23 19:00:00-05:00', 'end_time': '2005-01-22 19:00:00-05:00', 'strategies': \"['strategy_dev.strategy_3']\", 'data_source': \"['yahoo']\", 'risk_management': \"{'max_risk_per_bet': 0.1, 'maximum_marging_used_pct': 0.8}\", 'account_info': \"{'total_account_value': 100000, 'buying_power_available': 300000, 'buying_power_used': 0, 'cushion': 0, 'pledge_to_margin_used': 0, 'pledge_to_margin_availble': 100000}\"}}\n",
      "{'new_backtest_dict': {'backtest_name': 'first_test__9a88bf7f70aa30b78a456a1080162da8bf562862d2b5f34d6b2d6929effb94c0', 'start_time': '1996-07-23 19:00:00-05:00', 'end_time': '1998-07-23 19:00:00-05:00', 'strategies': \"['strategy_dev.strategy_3']\", 'data_source': \"['yahoo']\", 'risk_management': \"{'max_risk_per_bet': 0.1, 'maximum_marging_used_pct': 0.8}\", 'account_info': \"{'total_account_value': 100000, 'buying_power_available': 300000, 'buying_power_used': 0, 'cushion': 0, 'pledge_to_margin_used': 0, 'pledge_to_margin_availble': 100000}\"}}\n",
      "{'new_backtest_dict': {'backtest_name': 'first_test__22f2378842052a7a4742981ee4c1f1988a37733e31092924cdb957b266eaf76a', 'start_time': '1988-03-16 19:00:00-05:00', 'end_time': '1990-03-16 19:00:00-05:00', 'strategies': \"['strategy_dev.strategy_3']\", 'data_source': \"['yahoo']\", 'risk_management': \"{'max_risk_per_bet': 0.1, 'maximum_marging_used_pct': 0.8}\", 'account_info': \"{'total_account_value': 100000, 'buying_power_available': 300000, 'buying_power_used': 0, 'cushion': 0, 'pledge_to_margin_used': 0, 'pledge_to_margin_availble': 100000}\"}}\n",
      "{'new_backtest_dict': {'backtest_name': 'first_test__6e0660900d78be1eca161ae7825bf012cea34d28144ab4254edf459116890a71', 'start_time': '1996-06-03 19:00:00-05:00', 'end_time': '1998-06-03 19:00:00-05:00', 'strategies': \"['strategy_dev.strategy_3']\", 'data_source': \"['yahoo']\", 'risk_management': \"{'max_risk_per_bet': 0.1, 'maximum_marging_used_pct': 0.8}\", 'account_info': \"{'total_account_value': 100000, 'buying_power_available': 300000, 'buying_power_used': 0, 'cushion': 0, 'pledge_to_margin_used': 0, 'pledge_to_margin_availble': 100000}\"}}\n",
      "{'new_backtest_dict': {'backtest_name': 'first_test__52468b52f27d7d14719a1a703fad8753cf84da33b878032c86d945df85c341c9', 'start_time': '2021-07-09 19:00:00-05:00', 'end_time': '2023-07-09 19:00:00-05:00', 'strategies': \"['strategy_dev.strategy_3']\", 'data_source': \"['yahoo']\", 'risk_management': \"{'max_risk_per_bet': 0.1, 'maximum_marging_used_pct': 0.8}\", 'account_info': \"{'total_account_value': 100000, 'buying_power_available': 300000, 'buying_power_used': 0, 'cushion': 0, 'pledge_to_margin_used': 0, 'pledge_to_margin_availble': 100000}\"}}\n",
      "{'new_backtest_dict': {'backtest_name': 'first_test__1b1c9e84b7a1271b1ec1040f9426d5ac026cb7a3dc2cb322b75e24b0e01e83ca', 'start_time': '2011-06-17 19:00:00-05:00', 'end_time': '2013-06-16 19:00:00-05:00', 'strategies': \"['strategy_dev.strategy_3']\", 'data_source': \"['yahoo']\", 'risk_management': \"{'max_risk_per_bet': 0.1, 'maximum_marging_used_pct': 0.8}\", 'account_info': \"{'total_account_value': 100000, 'buying_power_available': 300000, 'buying_power_used': 0, 'cushion': 0, 'pledge_to_margin_used': 0, 'pledge_to_margin_availble': 100000}\"}}\n",
      "{'new_backtest_dict': {'backtest_name': 'first_test__d05e00ba9ac00a1b2ca3dc7180a99404b386a346f3447dc6bbd7409fb2c8b491', 'start_time': '2001-02-01 19:00:00-05:00', 'end_time': '2003-02-01 19:00:00-05:00', 'strategies': \"['strategy_dev.strategy_3']\", 'data_source': \"['yahoo']\", 'risk_management': \"{'max_risk_per_bet': 0.1, 'maximum_marging_used_pct': 0.8}\", 'account_info': \"{'total_account_value': 100000, 'buying_power_available': 300000, 'buying_power_used': 0, 'cushion': 0, 'pledge_to_margin_used': 0, 'pledge_to_margin_availble': 100000}\"}}\n",
      "{'new_backtest_dict': {'backtest_name': 'first_test__2a03c2614c6b3c97ec4ebcebc166dd4c9d9bd8dfc0ba4f0f36f6cbdf6e783497', 'start_time': '1994-10-22 19:00:00-05:00', 'end_time': '1996-10-21 19:00:00-05:00', 'strategies': \"['strategy_dev.strategy_3']\", 'data_source': \"['yahoo']\", 'risk_management': \"{'max_risk_per_bet': 0.1, 'maximum_marging_used_pct': 0.8}\", 'account_info': \"{'total_account_value': 100000, 'buying_power_available': 300000, 'buying_power_used': 0, 'cushion': 0, 'pledge_to_margin_used': 0, 'pledge_to_margin_availble': 100000}\"}}\n",
      "{'new_backtest_dict': {'backtest_name': 'first_test__67ed2d5f9fab23700db71f44b77d27d2d83cabfa39106e6fa5b6d554fa289734', 'start_time': '2007-05-22 19:00:00-05:00', 'end_time': '2009-05-21 19:00:00-05:00', 'strategies': \"['strategy_dev.strategy_3']\", 'data_source': \"['yahoo']\", 'risk_management': \"{'max_risk_per_bet': 0.1, 'maximum_marging_used_pct': 0.8}\", 'account_info': \"{'total_account_value': 100000, 'buying_power_available': 300000, 'buying_power_used': 0, 'cushion': 0, 'pledge_to_margin_used': 0, 'pledge_to_margin_availble': 100000}\"}}\n",
      "{'new_backtest_dict': {'backtest_name': 'first_test__32abd0a4d7ad81b718d1741d752380d014d7782db069b117f4272561b181bb5b', 'start_time': '1982-07-07 19:00:00-05:00', 'end_time': '1984-07-06 19:00:00-05:00', 'strategies': \"['strategy_dev.strategy_3']\", 'data_source': \"['yahoo']\", 'risk_management': \"{'max_risk_per_bet': 0.1, 'maximum_marging_used_pct': 0.8}\", 'account_info': \"{'total_account_value': 100000, 'buying_power_available': 300000, 'buying_power_used': 0, 'cushion': 0, 'pledge_to_margin_used': 0, 'pledge_to_margin_availble': 100000}\"}}\n",
      "{'new_backtest_dict': {'backtest_name': 'first_test__416cc687d27f47d7dac323e268caa472fb6ccbb75ef1a7c41f9e3ed1a65a4221', 'start_time': '1994-08-18 19:00:00-05:00', 'end_time': '1996-08-17 19:00:00-05:00', 'strategies': \"['strategy_dev.strategy_3']\", 'data_source': \"['yahoo']\", 'risk_management': \"{'max_risk_per_bet': 0.1, 'maximum_marging_used_pct': 0.8}\", 'account_info': \"{'total_account_value': 100000, 'buying_power_available': 300000, 'buying_power_used': 0, 'cushion': 0, 'pledge_to_margin_used': 0, 'pledge_to_margin_availble': 100000}\"}}\n",
      "{'new_backtest_dict': {'backtest_name': 'first_test__6c7aa22fe2827737a12567c579388a83437e60352491fce9aaf199a9f9cd2fcb', 'start_time': '1996-02-02 19:00:00-05:00', 'end_time': '1998-02-01 19:00:00-05:00', 'strategies': \"['strategy_dev.strategy_3']\", 'data_source': \"['yahoo']\", 'risk_management': \"{'max_risk_per_bet': 0.1, 'maximum_marging_used_pct': 0.8}\", 'account_info': \"{'total_account_value': 100000, 'buying_power_available': 300000, 'buying_power_used': 0, 'cushion': 0, 'pledge_to_margin_used': 0, 'pledge_to_margin_availble': 100000}\"}}\n",
      "{'new_backtest_dict': {'backtest_name': 'first_test__ba4353fb3d8fa2bfb65d03b21cab3c15a1ed96620d1c8554b3aceeed3f2e0c1a', 'start_time': '1994-12-14 19:00:00-05:00', 'end_time': '1996-12-13 19:00:00-05:00', 'strategies': \"['strategy_dev.strategy_3']\", 'data_source': \"['yahoo']\", 'risk_management': \"{'max_risk_per_bet': 0.1, 'maximum_marging_used_pct': 0.8}\", 'account_info': \"{'total_account_value': 100000, 'buying_power_available': 300000, 'buying_power_used': 0, 'cushion': 0, 'pledge_to_margin_used': 0, 'pledge_to_margin_availble': 100000}\"}}\n",
      "{'new_backtest_dict': {'backtest_name': 'first_test__27d24447680dc519764b7727af4b603d39cb5b6c5d244be1884a4b32a8149b6b', 'start_time': '2008-02-20 19:00:00-05:00', 'end_time': '2010-02-19 19:00:00-05:00', 'strategies': \"['strategy_dev.strategy_3']\", 'data_source': \"['yahoo']\", 'risk_management': \"{'max_risk_per_bet': 0.1, 'maximum_marging_used_pct': 0.8}\", 'account_info': \"{'total_account_value': 100000, 'buying_power_available': 300000, 'buying_power_used': 0, 'cushion': 0, 'pledge_to_margin_used': 0, 'pledge_to_margin_availble': 100000}\"}}\n",
      "{'new_backtest_dict': {'backtest_name': 'first_test__a3789fdb974753846fb0fd42a3c7e9b714b7749eed36578f1fec7fb9bff541cb', 'start_time': '1992-03-21 19:00:00-05:00', 'end_time': '1994-03-21 19:00:00-05:00', 'strategies': \"['strategy_dev.strategy_3']\", 'data_source': \"['yahoo']\", 'risk_management': \"{'max_risk_per_bet': 0.1, 'maximum_marging_used_pct': 0.8}\", 'account_info': \"{'total_account_value': 100000, 'buying_power_available': 300000, 'buying_power_used': 0, 'cushion': 0, 'pledge_to_margin_used': 0, 'pledge_to_margin_availble': 100000}\"}}\n",
      "{'new_backtest_dict': {'backtest_name': 'first_test__76addb1f1759eb37821dcbae51663844381527c6ec473b8d2f1d70849535cf2f', 'start_time': '2010-10-06 19:00:00-05:00', 'end_time': '2012-10-05 19:00:00-05:00', 'strategies': \"['strategy_dev.strategy_3']\", 'data_source': \"['yahoo']\", 'risk_management': \"{'max_risk_per_bet': 0.1, 'maximum_marging_used_pct': 0.8}\", 'account_info': \"{'total_account_value': 100000, 'buying_power_available': 300000, 'buying_power_used': 0, 'cushion': 0, 'pledge_to_margin_used': 0, 'pledge_to_margin_availble': 100000}\"}}\n",
      "{'new_backtest_dict': {'backtest_name': 'first_test__2eb237be20ccf37ccd15493cab599e4bb219c26469082ba9888f2d548e96ba84', 'start_time': '2021-07-19 19:00:00-05:00', 'end_time': '2023-07-19 19:00:00-05:00', 'strategies': \"['strategy_dev.strategy_3']\", 'data_source': \"['yahoo']\", 'risk_management': \"{'max_risk_per_bet': 0.1, 'maximum_marging_used_pct': 0.8}\", 'account_info': \"{'total_account_value': 100000, 'buying_power_available': 300000, 'buying_power_used': 0, 'cushion': 0, 'pledge_to_margin_used': 0, 'pledge_to_margin_availble': 100000}\"}}\n",
      "{'new_backtest_dict': {'backtest_name': 'first_test__b817049acbc11af03c23e6b7000cf4eb5305aff9ce886a1a58c572cf00d018b2', 'start_time': '1984-04-25 19:00:00-05:00', 'end_time': '1986-04-25 19:00:00-05:00', 'strategies': \"['strategy_dev.strategy_3']\", 'data_source': \"['yahoo']\", 'risk_management': \"{'max_risk_per_bet': 0.1, 'maximum_marging_used_pct': 0.8}\", 'account_info': \"{'total_account_value': 100000, 'buying_power_available': 300000, 'buying_power_used': 0, 'cushion': 0, 'pledge_to_margin_used': 0, 'pledge_to_margin_availble': 100000}\"}}\n",
      "{'new_backtest_dict': {'backtest_name': 'first_test__6fcf8aac007ab3c6e175eab6931549e8f800175b2203a8ff94c628069b3ba6ae', 'start_time': '2007-06-15 19:00:00-05:00', 'end_time': '2009-06-14 19:00:00-05:00', 'strategies': \"['strategy_dev.strategy_3']\", 'data_source': \"['yahoo']\", 'risk_management': \"{'max_risk_per_bet': 0.1, 'maximum_marging_used_pct': 0.8}\", 'account_info': \"{'total_account_value': 100000, 'buying_power_available': 300000, 'buying_power_used': 0, 'cushion': 0, 'pledge_to_margin_used': 0, 'pledge_to_margin_availble': 100000}\"}}\n",
      "{'new_backtest_dict': {'backtest_name': 'first_test__605117393d03eccd58756ce8e46cbb3e615be991fd3af20e82fc4529f680be7a', 'start_time': '1984-01-23 19:00:00-05:00', 'end_time': '1986-01-22 19:00:00-05:00', 'strategies': \"['strategy_dev.strategy_3']\", 'data_source': \"['yahoo']\", 'risk_management': \"{'max_risk_per_bet': 0.1, 'maximum_marging_used_pct': 0.8}\", 'account_info': \"{'total_account_value': 100000, 'buying_power_available': 300000, 'buying_power_used': 0, 'cushion': 0, 'pledge_to_margin_used': 0, 'pledge_to_margin_availble': 100000}\"}}\n",
      "{'new_backtest_dict': {'backtest_name': 'first_test__e60f729620692974e8274bd308292f5ab3574800eab9f6baf7f65cbc28fb513a', 'start_time': '2002-01-19 19:00:00-05:00', 'end_time': '2004-01-19 19:00:00-05:00', 'strategies': \"['strategy_dev.strategy_3']\", 'data_source': \"['yahoo']\", 'risk_management': \"{'max_risk_per_bet': 0.1, 'maximum_marging_used_pct': 0.8}\", 'account_info': \"{'total_account_value': 100000, 'buying_power_available': 300000, 'buying_power_used': 0, 'cushion': 0, 'pledge_to_margin_used': 0, 'pledge_to_margin_availble': 100000}\"}}\n",
      "{'new_backtest_dict': {'backtest_name': 'first_test__e89e6575d18129416901ca8b5e7e1f43449db2ee63048335eea16688fc2bcc3c', 'start_time': '1987-07-19 19:00:00-05:00', 'end_time': '1989-07-18 19:00:00-05:00', 'strategies': \"['strategy_dev.strategy_3']\", 'data_source': \"['yahoo']\", 'risk_management': \"{'max_risk_per_bet': 0.1, 'maximum_marging_used_pct': 0.8}\", 'account_info': \"{'total_account_value': 100000, 'buying_power_available': 300000, 'buying_power_used': 0, 'cushion': 0, 'pledge_to_margin_used': 0, 'pledge_to_margin_availble': 100000}\"}}\n",
      "{'new_backtest_dict': {'backtest_name': 'first_test__3240702abf9cf763fad67cc3d25a2b69cd8ac80131f6d72657d766c95e010e66', 'start_time': '1991-10-15 19:00:00-05:00', 'end_time': '1993-10-14 19:00:00-05:00', 'strategies': \"['strategy_dev.strategy_3']\", 'data_source': \"['yahoo']\", 'risk_management': \"{'max_risk_per_bet': 0.1, 'maximum_marging_used_pct': 0.8}\", 'account_info': \"{'total_account_value': 100000, 'buying_power_available': 300000, 'buying_power_used': 0, 'cushion': 0, 'pledge_to_margin_used': 0, 'pledge_to_margin_availble': 100000}\"}}\n",
      "{'new_backtest_dict': {'backtest_name': 'first_test__66638dfd0ad79eb9ba48a665f081707492a5c81d886734cae5566a2f84a3bb98', 'start_time': '1984-03-10 19:00:00-05:00', 'end_time': '1986-03-10 19:00:00-05:00', 'strategies': \"['strategy_dev.strategy_3']\", 'data_source': \"['yahoo']\", 'risk_management': \"{'max_risk_per_bet': 0.1, 'maximum_marging_used_pct': 0.8}\", 'account_info': \"{'total_account_value': 100000, 'buying_power_available': 300000, 'buying_power_used': 0, 'cushion': 0, 'pledge_to_margin_used': 0, 'pledge_to_margin_availble': 100000}\"}}\n",
      "{'new_backtest_dict': {'backtest_name': 'first_test__eb9dd2f79d6d443aa91eafe6ba7124239b8c40f75ff11ac2983aa68b3cd6b064', 'start_time': '1998-11-06 19:00:00-05:00', 'end_time': '2000-11-05 19:00:00-05:00', 'strategies': \"['strategy_dev.strategy_3']\", 'data_source': \"['yahoo']\", 'risk_management': \"{'max_risk_per_bet': 0.1, 'maximum_marging_used_pct': 0.8}\", 'account_info': \"{'total_account_value': 100000, 'buying_power_available': 300000, 'buying_power_used': 0, 'cushion': 0, 'pledge_to_margin_used': 0, 'pledge_to_margin_availble': 100000}\"}}\n",
      "{'new_backtest_dict': {'backtest_name': 'first_test__ba5f5eb41cba869cd05fd09b1e4a35445d3e328c2acfbcbc3f2d92b5a853e4a7', 'start_time': '2002-07-14 19:00:00-05:00', 'end_time': '2004-07-13 19:00:00-05:00', 'strategies': \"['strategy_dev.strategy_3']\", 'data_source': \"['yahoo']\", 'risk_management': \"{'max_risk_per_bet': 0.1, 'maximum_marging_used_pct': 0.8}\", 'account_info': \"{'total_account_value': 100000, 'buying_power_available': 300000, 'buying_power_used': 0, 'cushion': 0, 'pledge_to_margin_used': 0, 'pledge_to_margin_availble': 100000}\"}}\n",
      "{'new_backtest_dict': {'backtest_name': 'first_test__14b1a23d1c7de8d7331b3954295cffafe5f91be53ba46a650123e7087a09062e', 'start_time': '2011-07-31 19:00:00-05:00', 'end_time': '2013-07-30 19:00:00-05:00', 'strategies': \"['strategy_dev.strategy_3']\", 'data_source': \"['yahoo']\", 'risk_management': \"{'max_risk_per_bet': 0.1, 'maximum_marging_used_pct': 0.8}\", 'account_info': \"{'total_account_value': 100000, 'buying_power_available': 300000, 'buying_power_used': 0, 'cushion': 0, 'pledge_to_margin_used': 0, 'pledge_to_margin_availble': 100000}\"}}\n",
      "{'new_backtest_dict': {'backtest_name': 'first_test__f5199ad18ecea56925ed0e02e9982fb7e57970ac8f2a3982247f358e084a6e6f', 'start_time': '2011-08-09 19:00:00-05:00', 'end_time': '2013-08-08 19:00:00-05:00', 'strategies': \"['strategy_dev.strategy_3']\", 'data_source': \"['yahoo']\", 'risk_management': \"{'max_risk_per_bet': 0.1, 'maximum_marging_used_pct': 0.8}\", 'account_info': \"{'total_account_value': 100000, 'buying_power_available': 300000, 'buying_power_used': 0, 'cushion': 0, 'pledge_to_margin_used': 0, 'pledge_to_margin_availble': 100000}\"}}\n",
      "{'new_backtest_dict': {'backtest_name': 'first_test__36661ce8d6b1d344e73aaccb7296df9d26f20c0d931ba5f66121a89c4b8579a1', 'start_time': '2017-10-26 19:00:00-05:00', 'end_time': '2019-10-26 19:00:00-05:00', 'strategies': \"['strategy_dev.strategy_3']\", 'data_source': \"['yahoo']\", 'risk_management': \"{'max_risk_per_bet': 0.1, 'maximum_marging_used_pct': 0.8}\", 'account_info': \"{'total_account_value': 100000, 'buying_power_available': 300000, 'buying_power_used': 0, 'cushion': 0, 'pledge_to_margin_used': 0, 'pledge_to_margin_availble': 100000}\"}}\n",
      "{'new_backtest_dict': {'backtest_name': 'first_test__c92f1befcd3673728b4ef4407e4b3f8413f49e8047e29dd2eaebc79d703eb70e', 'start_time': '2005-11-22 19:00:00-05:00', 'end_time': '2007-11-22 19:00:00-05:00', 'strategies': \"['strategy_dev.strategy_3']\", 'data_source': \"['yahoo']\", 'risk_management': \"{'max_risk_per_bet': 0.1, 'maximum_marging_used_pct': 0.8}\", 'account_info': \"{'total_account_value': 100000, 'buying_power_available': 300000, 'buying_power_used': 0, 'cushion': 0, 'pledge_to_margin_used': 0, 'pledge_to_margin_availble': 100000}\"}}\n",
      "{'new_backtest_dict': {'backtest_name': 'first_test__9e53fbc13f66e3b2de4c21de9ddeb7de0617d395f1c8ee5fafb6dfaf936eacd5', 'start_time': '1986-10-20 19:00:00-05:00', 'end_time': '1988-10-19 19:00:00-05:00', 'strategies': \"['strategy_dev.strategy_3']\", 'data_source': \"['yahoo']\", 'risk_management': \"{'max_risk_per_bet': 0.1, 'maximum_marging_used_pct': 0.8}\", 'account_info': \"{'total_account_value': 100000, 'buying_power_available': 300000, 'buying_power_used': 0, 'cushion': 0, 'pledge_to_margin_used': 0, 'pledge_to_margin_availble': 100000}\"}}\n",
      "{'new_backtest_dict': {'backtest_name': 'first_test__2716773509f3d41bdf738e07441576a780267fa5b2589523542a2c442c5cb290', 'start_time': '2008-03-27 19:00:00-05:00', 'end_time': '2010-03-27 19:00:00-05:00', 'strategies': \"['strategy_dev.strategy_3']\", 'data_source': \"['yahoo']\", 'risk_management': \"{'max_risk_per_bet': 0.1, 'maximum_marging_used_pct': 0.8}\", 'account_info': \"{'total_account_value': 100000, 'buying_power_available': 300000, 'buying_power_used': 0, 'cushion': 0, 'pledge_to_margin_used': 0, 'pledge_to_margin_availble': 100000}\"}}\n",
      "{'new_backtest_dict': {'backtest_name': 'first_test__86d1a93b5319e7d1a830c8ae44017f66faa6a6d3df4b8311a9282d48078c033a', 'start_time': '1995-07-14 19:00:00-05:00', 'end_time': '1997-07-13 19:00:00-05:00', 'strategies': \"['strategy_dev.strategy_3']\", 'data_source': \"['yahoo']\", 'risk_management': \"{'max_risk_per_bet': 0.1, 'maximum_marging_used_pct': 0.8}\", 'account_info': \"{'total_account_value': 100000, 'buying_power_available': 300000, 'buying_power_used': 0, 'cushion': 0, 'pledge_to_margin_used': 0, 'pledge_to_margin_availble': 100000}\"}}\n",
      "{'new_backtest_dict': {'backtest_name': 'first_test__8ed83d50ff94f13afe60e6ab3d9e36fd70079ab2507c57c1216ee15cd89d0471', 'start_time': '1980-01-08 19:00:00-05:00', 'end_time': '1982-01-07 19:00:00-05:00', 'strategies': \"['strategy_dev.strategy_3']\", 'data_source': \"['yahoo']\", 'risk_management': \"{'max_risk_per_bet': 0.1, 'maximum_marging_used_pct': 0.8}\", 'account_info': \"{'total_account_value': 100000, 'buying_power_available': 300000, 'buying_power_used': 0, 'cushion': 0, 'pledge_to_margin_used': 0, 'pledge_to_margin_availble': 100000}\"}}\n",
      "{'new_backtest_dict': {'backtest_name': 'first_test__a96aee80aeba6b745a438dfd6de16542d18bd64e93fa8f0098cecb71668c091a', 'start_time': '1995-06-18 19:00:00-05:00', 'end_time': '1997-06-17 19:00:00-05:00', 'strategies': \"['strategy_dev.strategy_3']\", 'data_source': \"['yahoo']\", 'risk_management': \"{'max_risk_per_bet': 0.1, 'maximum_marging_used_pct': 0.8}\", 'account_info': \"{'total_account_value': 100000, 'buying_power_available': 300000, 'buying_power_used': 0, 'cushion': 0, 'pledge_to_margin_used': 0, 'pledge_to_margin_availble': 100000}\"}}\n",
      "{'new_backtest_dict': {'backtest_name': 'first_test__d1f678000d28f91bd66757a0bff47c36373812cccd73e82dc6083dc1602bbd45', 'start_time': '2003-10-01 19:00:00-05:00', 'end_time': '2005-09-30 19:00:00-05:00', 'strategies': \"['strategy_dev.strategy_3']\", 'data_source': \"['yahoo']\", 'risk_management': \"{'max_risk_per_bet': 0.1, 'maximum_marging_used_pct': 0.8}\", 'account_info': \"{'total_account_value': 100000, 'buying_power_available': 300000, 'buying_power_used': 0, 'cushion': 0, 'pledge_to_margin_used': 0, 'pledge_to_margin_availble': 100000}\"}}\n",
      "{'new_backtest_dict': {'backtest_name': 'first_test__036e85fc28ea5bbc5a428df99d2621d62c4f85d8425b30491c028032c979643d', 'start_time': '2019-05-04 19:00:00-05:00', 'end_time': '2021-05-03 19:00:00-05:00', 'strategies': \"['strategy_dev.strategy_3']\", 'data_source': \"['yahoo']\", 'risk_management': \"{'max_risk_per_bet': 0.1, 'maximum_marging_used_pct': 0.8}\", 'account_info': \"{'total_account_value': 100000, 'buying_power_available': 300000, 'buying_power_used': 0, 'cushion': 0, 'pledge_to_margin_used': 0, 'pledge_to_margin_availble': 100000}\"}}\n",
      "{'new_backtest_dict': {'backtest_name': 'first_test__09c8e27264d0576ed04285f332c759e04998859b2683b2c77d723e5857f402d9', 'start_time': '1987-01-06 19:00:00-05:00', 'end_time': '1989-01-05 19:00:00-05:00', 'strategies': \"['strategy_dev.strategy_3']\", 'data_source': \"['yahoo']\", 'risk_management': \"{'max_risk_per_bet': 0.1, 'maximum_marging_used_pct': 0.8}\", 'account_info': \"{'total_account_value': 100000, 'buying_power_available': 300000, 'buying_power_used': 0, 'cushion': 0, 'pledge_to_margin_used': 0, 'pledge_to_margin_availble': 100000}\"}}\n",
      "{'new_backtest_dict': {'backtest_name': 'first_test__4016b9e01beb9e14994d368bb70db400581c7436da830f478e7247bde9becc43', 'start_time': '2019-05-06 19:00:00-05:00', 'end_time': '2021-05-05 19:00:00-05:00', 'strategies': \"['strategy_dev.strategy_3']\", 'data_source': \"['yahoo']\", 'risk_management': \"{'max_risk_per_bet': 0.1, 'maximum_marging_used_pct': 0.8}\", 'account_info': \"{'total_account_value': 100000, 'buying_power_available': 300000, 'buying_power_used': 0, 'cushion': 0, 'pledge_to_margin_used': 0, 'pledge_to_margin_availble': 100000}\"}}\n",
      "{'new_backtest_dict': {'backtest_name': 'first_test__45a5383d48d6ae2aab923efb7690e3bb11e44f463f98062bd04e90840fbeabba', 'start_time': '1988-06-02 19:00:00-05:00', 'end_time': '1990-06-02 19:00:00-05:00', 'strategies': \"['strategy_dev.strategy_3']\", 'data_source': \"['yahoo']\", 'risk_management': \"{'max_risk_per_bet': 0.1, 'maximum_marging_used_pct': 0.8}\", 'account_info': \"{'total_account_value': 100000, 'buying_power_available': 300000, 'buying_power_used': 0, 'cushion': 0, 'pledge_to_margin_used': 0, 'pledge_to_margin_availble': 100000}\"}}\n",
      "{'new_backtest_dict': {'backtest_name': 'first_test__325ecc4eb342706a932b20838fc7dc4099bb5c7eaa0c56a173375339c1a37b0b', 'start_time': '1997-01-12 19:00:00-05:00', 'end_time': '1999-01-12 19:00:00-05:00', 'strategies': \"['strategy_dev.strategy_3']\", 'data_source': \"['yahoo']\", 'risk_management': \"{'max_risk_per_bet': 0.1, 'maximum_marging_used_pct': 0.8}\", 'account_info': \"{'total_account_value': 100000, 'buying_power_available': 300000, 'buying_power_used': 0, 'cushion': 0, 'pledge_to_margin_used': 0, 'pledge_to_margin_availble': 100000}\"}}\n",
      "{'new_backtest_dict': {'backtest_name': 'first_test__0960d64a09d3820fe27124dea361cc4b1b9c4c443bc65ef1d5354d1de644af51', 'start_time': '2007-03-22 19:00:00-05:00', 'end_time': '2009-03-21 19:00:00-05:00', 'strategies': \"['strategy_dev.strategy_3']\", 'data_source': \"['yahoo']\", 'risk_management': \"{'max_risk_per_bet': 0.1, 'maximum_marging_used_pct': 0.8}\", 'account_info': \"{'total_account_value': 100000, 'buying_power_available': 300000, 'buying_power_used': 0, 'cushion': 0, 'pledge_to_margin_used': 0, 'pledge_to_margin_availble': 100000}\"}}\n",
      "{'new_backtest_dict': {'backtest_name': 'first_test__f09e59207129524580dfbec5654f9cbf5cecc8cdcb347c3ace84bd320255b3b2', 'start_time': '1988-07-11 19:00:00-05:00', 'end_time': '1990-07-11 19:00:00-05:00', 'strategies': \"['strategy_dev.strategy_3']\", 'data_source': \"['yahoo']\", 'risk_management': \"{'max_risk_per_bet': 0.1, 'maximum_marging_used_pct': 0.8}\", 'account_info': \"{'total_account_value': 100000, 'buying_power_available': 300000, 'buying_power_used': 0, 'cushion': 0, 'pledge_to_margin_used': 0, 'pledge_to_margin_availble': 100000}\"}}\n",
      "{'new_backtest_dict': {'backtest_name': 'first_test__474e6663c57b6265c48ba31769a331c75f985890b099dffeb9f454e0d1d21607', 'start_time': '1986-06-14 19:00:00-05:00', 'end_time': '1988-06-13 19:00:00-05:00', 'strategies': \"['strategy_dev.strategy_3']\", 'data_source': \"['yahoo']\", 'risk_management': \"{'max_risk_per_bet': 0.1, 'maximum_marging_used_pct': 0.8}\", 'account_info': \"{'total_account_value': 100000, 'buying_power_available': 300000, 'buying_power_used': 0, 'cushion': 0, 'pledge_to_margin_used': 0, 'pledge_to_margin_availble': 100000}\"}}\n",
      "{'new_backtest_dict': {'backtest_name': 'first_test__125977e07ca17ef9f85794b488374b1f4e255caafafe22f3ab8273e7557025c2', 'start_time': '2005-08-04 19:00:00-05:00', 'end_time': '2007-08-04 19:00:00-05:00', 'strategies': \"['strategy_dev.strategy_3']\", 'data_source': \"['yahoo']\", 'risk_management': \"{'max_risk_per_bet': 0.1, 'maximum_marging_used_pct': 0.8}\", 'account_info': \"{'total_account_value': 100000, 'buying_power_available': 300000, 'buying_power_used': 0, 'cushion': 0, 'pledge_to_margin_used': 0, 'pledge_to_margin_availble': 100000}\"}}\n"
     ]
    }
   ],
   "source": [
    "config_dict_variables = random_dates\n",
    "strategy_list = ['strategy_dev.strategy_3']\n",
    "\n",
    "for start_date in config_dict_variables:\n",
    "    for strategy_name in strategy_list:\n",
    "        # start_date = pd.Timestamp(datetime(2021,1,1)).tz_localize('UTC').tz_convert('EST')\n",
    "        end_date = start_date + pd.Timedelta(days=365 * 2)\n",
    "        sim_account_margin_multiplier = 3\n",
    "        sim_account_starting_value_base = 100000\n",
    "        base_currency = 'CAD'\n",
    "        trading_currency = 'USD'\n",
    "        base_currency_to_trading_currency_exchange_rate = 1/1.375\n",
    "        testname = \"first_test_\"\n",
    "\n",
    "        config_dict = {\n",
    "            'run_mode': 3, # 1: live trading - real money, 2: live trading - paper money, 3: backtesting, 4: data update only\n",
    "            'base_currency': base_currency,\n",
    "            'trading_currency': trading_currency,\n",
    "            'base_currency_to_trading_currency_exchange_rate': base_currency_to_trading_currency_exchange_rate,\n",
    "            'backtest_inputs': {\n",
    "                'start_time': start_date, \n",
    "                'end_time': end_date,\n",
    "                'save_backtest_results':True,\n",
    "                'backtest_name':testname,\n",
    "                },\n",
    "            'strategies':[strategy_name], # 'strategy_1', 'strategy_dev.strategy_3'\n",
    "            'data_update_inputs': {'data_sources':['yahoo']}, # 'yahoo', 'ibkr'\n",
    "            'sleep_time':60,\n",
    "            'account_info':{\n",
    "                            # 'ibkr':{'U13152795':{base_currency:{}\n",
    "                                                # }\n",
    "                                    # }, \n",
    "                            'sim':{'sim_1': {base_currency:{'total_account_value': sim_account_starting_value_base, \n",
    "                                                            'buying_power_available':sim_account_starting_value_base * sim_account_margin_multiplier, \n",
    "                                                            'buying_power_used':0, 'cushion':0, 'pledge_to_margin_used':0, \n",
    "                                                            'pledge_to_margin_availble':sim_account_starting_value_base\n",
    "                                                            }\n",
    "                                            }\n",
    "                                }\n",
    "                            },\n",
    "            'base_account_numbers':{'sim':'sim_1', 'ibkr':'U13152795'},\n",
    "            'risk_management': {'max_risk_per_bet':0.10, 'maximum_marging_used_pct':0.80}\n",
    "            }\n",
    "        backtest_entry = bq.create_backtest_entry_from_config_dict(config_dict)\n",
    "        bq.add_backtest_to_queue(backtest_entry)\n",
    "        # time.sleep(2)\n"
   ]
  },
  {
   "cell_type": "code",
   "execution_count": null,
   "metadata": {},
   "outputs": [],
   "source": []
  }
 ],
 "metadata": {
  "kernelspec": {
   "display_name": "mathematricks_venv",
   "language": "python",
   "name": "python3"
  },
  "language_info": {
   "codemirror_mode": {
    "name": "ipython",
    "version": 3
   },
   "file_extension": ".py",
   "mimetype": "text/x-python",
   "name": "python",
   "nbconvert_exporter": "python",
   "pygments_lexer": "ipython3",
   "version": "3.10.2"
  }
 },
 "nbformat": 4,
 "nbformat_minor": 2
}
