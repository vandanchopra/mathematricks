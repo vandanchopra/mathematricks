{
 "cells": [
  {
   "cell_type": "code",
   "execution_count": null,
   "metadata": {
    "vscode": {
     "languageId": "plaintext"
    }
   },
   "outputs": [],
   "source": [
    "# Load all the tests in the backtest folder (Please take updated file from Vandan for single_backtest_analysis_and_charts)\n",
    "# For each backtest, if 'single_backtest_analysis_and_charts' have not been run, then run it and save all the data needed for this file to run into a pickle.\n",
    "# Now load all the analysis outputs from the above step for each backtest\n",
    "# create a pandas_df of all the tests and their results (main cols: CAGR, Sharpe Ratio, Win %, Risk Reward Ratio, Max DrawDown)\n",
    "# sort_column = 'CAGR' (Please keep this as an input variable)\n",
    "# Show Sorted DF\n",
    "\n",
    "\n"
   ]
  }
 ],
 "metadata": {
  "language_info": {
   "name": "python"
  }
 },
 "nbformat": 4,
 "nbformat_minor": 2
}
