{
 "cells": [
  {
   "cell_type": "code",
   "execution_count": null,
   "metadata": {},
   "outputs": [],
   "source": [
    "import nest_asyncio\n",
    "import json\n",
    "from pprint import pprint\n",
    "from ib_insync import IB, util, Stock, Order\n",
    "nest_asyncio.apply()\n",
    "import pandas as pd"
   ]
  },
  {
   "cell_type": "code",
   "execution_count": null,
   "metadata": {},
   "outputs": [],
   "source": [
    "class IBKRTrader:\n",
    "    def __init__(self):\n",
    "        # Connect to IBKR Trader Workstation\n",
    "        self.ib = IB()\n",
    "        self.connect()\n",
    "        \n",
    "    def connect(self):\n",
    "        # Load the configuration file\n",
    "        config = {'port':7777, 'host':'localhost'}\n",
    "        # Connect to TWS\n",
    "        self.ib.connect(config['host'], config['port'], clientId=2) # Client ID should be 2??? it can be any number (to run multiple instances)code ayotu sa me time code 1 can take id 1 and cod to take 2.....mmm.....one sec let me check\n",
    "        \n",
    "        print(\"Now Connecting to IBKR Trader Workstation.....\")\n",
    "    def disconnect(self):\n",
    "        # Disconnect from TWS\n",
    "        print(\"Now Disconnecting from IBKR Trader Workstation.....\")\n",
    "        self.ib.disconnect()"
   ]
  },
  {
   "cell_type": "code",
   "execution_count": null,
   "metadata": {},
   "outputs": [],
   "source": [
    "# Create an instance of the IBKRTrader class\n",
    "trader = IBKRTrader()"
   ]
  },
  {
   "cell_type": "code",
   "execution_count": null,
   "metadata": {},
   "outputs": [],
   "source": [
    "contract = Stock('AAPL', 'SMART', 'USD')\n",
    "Ticker=trader.ib.reqMktData(contract)\n",
    "x = 0\n",
    "while x < 3:\n",
    "    trader.ib.sleep(5)\n",
    "    print(Ticker.last)\n",
    "    x += 1"
   ]
  },
  {
   "cell_type": "code",
   "execution_count": null,
   "metadata": {},
   "outputs": [],
   "source": []
  },
  {
   "cell_type": "code",
   "execution_count": null,
   "metadata": {},
   "outputs": [],
   "source": [
    "ticker = \"AMZN\"\n",
    "contract = Stock(ticker, 'SMART', 'USD')\n",
    "\n",
    "trader.ib.reqContractDetails(contract)\n",
    "\n",
    "bars = trader.ib.reqHistoricalData(\n",
    "    contract, endDateTime='', durationStr='1 D',\n",
    "    barSizeSetting='1 min', whatToShow='TRADES', useRTH=True,\n",
    "    formatDate=1, keepUpToDate=True)\n",
    "\n",
    "df = pd.DataFrame(bars)\n",
    "# print(df.head())\n",
    "# print ()\n",
    "for item in range(df.shape[0]):\n",
    "    print (\"The closing price was \" + str(df['close'].iloc[item]) + \" as of \" + str(df['date'].iloc[item]))"
   ]
  },
  {
   "cell_type": "code",
   "execution_count": null,
   "metadata": {},
   "outputs": [],
   "source": [
    "df"
   ]
  },
  {
   "cell_type": "code",
   "execution_count": null,
   "metadata": {},
   "outputs": [],
   "source": [
    "trader.disconnect()"
   ]
  },
  {
   "cell_type": "code",
   "execution_count": null,
   "metadata": {},
   "outputs": [],
   "source": []
  }
 ],
 "metadata": {
  "kernelspec": {
   "display_name": "backtrader_venv",
   "language": "python",
   "name": "python3"
  },
  "language_info": {
   "codemirror_mode": {
    "name": "ipython",
    "version": 3
   },
   "file_extension": ".py",
   "mimetype": "text/x-python",
   "name": "python",
   "nbconvert_exporter": "python",
   "pygments_lexer": "ipython3",
   "version": "3.10.2"
  }
 },
 "nbformat": 4,
 "nbformat_minor": 2
}
