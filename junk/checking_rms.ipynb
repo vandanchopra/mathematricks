{
 "cells": [
  {
   "cell_type": "code",
   "execution_count": 1,
   "metadata": {},
   "outputs": [],
   "source": [
    "import numpy as np"
   ]
  },
  {
   "cell_type": "code",
   "execution_count": 2,
   "metadata": {},
   "outputs": [],
   "source": [
    "# orders_path = '/Users/vandanchopra/Vandan_Personal_Folder/CODE_STUFF/Projects/mathematricks/db/vault/orders.json'\n",
    "# import json\n",
    "# # open the json file orders_path\n",
    "# with open(orders_path) as f:\n",
    "#     orders = json.load(f)"
   ]
  },
  {
   "cell_type": "code",
   "execution_count": 3,
   "metadata": {},
   "outputs": [],
   "source": [
    "ideal_portfolios = {'strategy_name': 'strategy_2', 'timestamp': '2020-07-09 00:00:00', 'entry_order_type': 'MARKET', 'exit_order_type': 'stoploss_pct', 'sl_pct': 0.2, 'timeInForce': 'DAY', 'orderQuantity': 100, 'ideal_portfolio': {'NFLX': {'orderDirection': 'BUY', 'signal_strength': np.float64(0.3), 'current_price': np.float64(507.760009765625)}, 'NVDA': {'orderDirection': 'BUY', 'signal_strength': np.float64(0.33), 'current_price': np.float64(10.508999824523926)}, 'TSLA': {'orderDirection': 'BUY', 'signal_strength': np.float64(0.37), 'current_price': np.float64(92.9520034790039)}, 'HBNC': {'orderDirection': 'SELL', 'signal_strength': np.float64(0.28), 'current_price': np.float64(9.050000190734863)}, 'JPM': {'orderDirection': 'SELL', 'signal_strength': np.float64(0.35), 'current_price': np.float64(91.27999877929688)}, 'XOM': {'orderDirection': 'SELL', 'signal_strength': np.float64(0.36), 'current_price': np.float64(41.36000061035156)}}}"
   ]
  },
  {
   "cell_type": "code",
   "execution_count": 4,
   "metadata": {},
   "outputs": [],
   "source": [
    "orders = [{'symbol': 'NFLX', 'timestamp': '2020-07-09 00:00:00', 'orderDirection': 'BUY', 'entryPrice': np.float64(507.76), 'orderType': 'MARKET', 'timeInForce': 'DAY', 'orderQuantity': 23, 'strategy_name': 'strategy_2', 'broker': 'SIM'}, {'symbol': 'NFLX', 'timestamp': '2020-07-09 00:00:00', 'orderDirection': 'SELL', 'exitPrice': np.float64(406.21), 'orderType': 'stoploss_abs', 'timeInForce': 'GTC', 'orderQuantity': 23, 'strategy_name': 'strategy_2', 'broker': 'SIM'}, {'symbol': 'NVDA', 'timestamp': '2020-07-09 00:00:00', 'orderDirection': 'BUY', 'entryPrice': np.float64(10.51), 'orderType': 'MARKET', 'timeInForce': 'DAY', 'orderQuantity': 1262, 'strategy_name': 'strategy_2', 'broker': 'SIM'}, {'symbol': 'NVDA', 'timestamp': '2020-07-09 00:00:00', 'orderDirection': 'SELL', 'exitPrice': np.float64(8.41), 'orderType': 'stoploss_abs', 'timeInForce': 'GTC', 'orderQuantity': 1262, 'strategy_name': 'strategy_2', 'broker': 'SIM'}, {'symbol': 'TSLA', 'timestamp': '2020-07-09 00:00:00', 'orderDirection': 'BUY', 'entryPrice': np.float64(92.95), 'orderType': 'MARKET', 'timeInForce': 'DAY', 'orderQuantity': 160, 'strategy_name': 'strategy_2', 'broker': 'SIM'}, {'symbol': 'TSLA', 'timestamp': '2020-07-09 00:00:00', 'orderDirection': 'SELL', 'exitPrice': np.float64(74.36), 'orderType': 'stoploss_abs', 'timeInForce': 'GTC', 'orderQuantity': 160, 'strategy_name': 'strategy_2', 'broker': 'SIM'}, {'symbol': 'HBNC', 'timestamp': '2020-07-09 00:00:00', 'orderDirection': 'SELL', 'entryPrice': np.float64(9.05), 'orderType': 'MARKET', 'timeInForce': 'DAY', 'orderQuantity': 1243, 'strategy_name': 'strategy_2', 'broker': 'SIM'}, {'symbol': 'HBNC', 'timestamp': '2020-07-09 00:00:00', 'orderDirection': 'BUY', 'exitPrice': np.float64(10.86), 'orderType': 'stoploss_abs', 'timeInForce': 'GTC', 'orderQuantity': 1243, 'strategy_name': 'strategy_2', 'broker': 'SIM'}, {'symbol': 'JPM', 'timestamp': '2020-07-09 00:00:00', 'orderDirection': 'SELL', 'entryPrice': np.float64(91.28), 'orderType': 'MARKET', 'timeInForce': 'DAY', 'orderQuantity': 154, 'strategy_name': 'strategy_2', 'broker': 'SIM'}, {'symbol': 'JPM', 'timestamp': '2020-07-09 00:00:00', 'orderDirection': 'BUY', 'exitPrice': np.float64(109.54), 'orderType': 'stoploss_abs', 'timeInForce': 'GTC', 'orderQuantity': 154, 'strategy_name': 'strategy_2', 'broker': 'SIM'}, {'symbol': 'XOM', 'timestamp': '2020-07-09 00:00:00', 'orderDirection': 'SELL', 'entryPrice': np.float64(41.36), 'orderType': 'MARKET', 'timeInForce': 'DAY', 'orderQuantity': 349, 'strategy_name': 'strategy_2', 'broker': 'SIM'}, {'symbol': 'XOM', 'timestamp': '2020-07-09 00:00:00', 'orderDirection': 'BUY', 'exitPrice': np.float64(49.63), 'orderType': 'stoploss_abs', 'timeInForce': 'GTC', 'orderQuantity': 349, 'strategy_name': 'strategy_2', 'broker': 'SIM'}]"
   ]
  },
  {
   "cell_type": "code",
   "execution_count": 6,
   "metadata": {},
   "outputs": [
    {
     "name": "stdout",
     "output_type": "stream",
     "text": [
      "Symbol: NFLX\n",
      "{'symbol_position': {'current_price': np.float64(507.760009765625),\n",
      "                     'orderDirection': 'BUY',\n",
      "                     'signal_strength': np.float64(0.3)}}\n",
      "{'order': {'broker': 'SIM',\n",
      "           'entryPrice': np.float64(507.76),\n",
      "           'orderDirection': 'BUY',\n",
      "           'orderQuantity': 23,\n",
      "           'orderType': 'MARKET',\n",
      "           'strategy_name': 'strategy_2',\n",
      "           'symbol': 'NFLX',\n",
      "           'timeInForce': 'DAY',\n",
      "           'timestamp': '2020-07-09 00:00:00'}}\n",
      "{'order': {'broker': 'SIM',\n",
      "           'exitPrice': np.float64(406.21),\n",
      "           'orderDirection': 'SELL',\n",
      "           'orderQuantity': 23,\n",
      "           'orderType': 'stoploss_abs',\n",
      "           'strategy_name': 'strategy_2',\n",
      "           'symbol': 'NFLX',\n",
      "           'timeInForce': 'GTC',\n",
      "           'timestamp': '2020-07-09 00:00:00'}}\n",
      "Symbol: NVDA\n",
      "{'symbol_position': {'current_price': np.float64(10.508999824523926),\n",
      "                     'orderDirection': 'BUY',\n",
      "                     'signal_strength': np.float64(0.33)}}\n",
      "{'order': {'broker': 'SIM',\n",
      "           'entryPrice': np.float64(10.51),\n",
      "           'orderDirection': 'BUY',\n",
      "           'orderQuantity': 1262,\n",
      "           'orderType': 'MARKET',\n",
      "           'strategy_name': 'strategy_2',\n",
      "           'symbol': 'NVDA',\n",
      "           'timeInForce': 'DAY',\n",
      "           'timestamp': '2020-07-09 00:00:00'}}\n",
      "{'order': {'broker': 'SIM',\n",
      "           'exitPrice': np.float64(8.41),\n",
      "           'orderDirection': 'SELL',\n",
      "           'orderQuantity': 1262,\n",
      "           'orderType': 'stoploss_abs',\n",
      "           'strategy_name': 'strategy_2',\n",
      "           'symbol': 'NVDA',\n",
      "           'timeInForce': 'GTC',\n",
      "           'timestamp': '2020-07-09 00:00:00'}}\n",
      "Symbol: TSLA\n",
      "{'symbol_position': {'current_price': np.float64(92.9520034790039),\n",
      "                     'orderDirection': 'BUY',\n",
      "                     'signal_strength': np.float64(0.37)}}\n",
      "{'order': {'broker': 'SIM',\n",
      "           'entryPrice': np.float64(92.95),\n",
      "           'orderDirection': 'BUY',\n",
      "           'orderQuantity': 160,\n",
      "           'orderType': 'MARKET',\n",
      "           'strategy_name': 'strategy_2',\n",
      "           'symbol': 'TSLA',\n",
      "           'timeInForce': 'DAY',\n",
      "           'timestamp': '2020-07-09 00:00:00'}}\n",
      "{'order': {'broker': 'SIM',\n",
      "           'exitPrice': np.float64(74.36),\n",
      "           'orderDirection': 'SELL',\n",
      "           'orderQuantity': 160,\n",
      "           'orderType': 'stoploss_abs',\n",
      "           'strategy_name': 'strategy_2',\n",
      "           'symbol': 'TSLA',\n",
      "           'timeInForce': 'GTC',\n",
      "           'timestamp': '2020-07-09 00:00:00'}}\n",
      "Symbol: HBNC\n",
      "{'symbol_position': {'current_price': np.float64(9.050000190734863),\n",
      "                     'orderDirection': 'SELL',\n",
      "                     'signal_strength': np.float64(0.28)}}\n",
      "{'order': {'broker': 'SIM',\n",
      "           'entryPrice': np.float64(9.05),\n",
      "           'orderDirection': 'SELL',\n",
      "           'orderQuantity': 1243,\n",
      "           'orderType': 'MARKET',\n",
      "           'strategy_name': 'strategy_2',\n",
      "           'symbol': 'HBNC',\n",
      "           'timeInForce': 'DAY',\n",
      "           'timestamp': '2020-07-09 00:00:00'}}\n",
      "{'order': {'broker': 'SIM',\n",
      "           'exitPrice': np.float64(10.86),\n",
      "           'orderDirection': 'BUY',\n",
      "           'orderQuantity': 1243,\n",
      "           'orderType': 'stoploss_abs',\n",
      "           'strategy_name': 'strategy_2',\n",
      "           'symbol': 'HBNC',\n",
      "           'timeInForce': 'GTC',\n",
      "           'timestamp': '2020-07-09 00:00:00'}}\n"
     ]
    },
    {
     "ename": "KeyboardInterrupt",
     "evalue": "Interrupted by user",
     "output_type": "error",
     "traceback": [
      "\u001b[0;31m---------------------------------------------------------------------------\u001b[0m",
      "\u001b[0;31mKeyboardInterrupt\u001b[0m                         Traceback (most recent call last)",
      "Cell \u001b[0;32mIn[6], line 8\u001b[0m\n\u001b[1;32m      6\u001b[0m     \u001b[38;5;28;01mif\u001b[39;00m order[\u001b[38;5;124m'\u001b[39m\u001b[38;5;124msymbol\u001b[39m\u001b[38;5;124m'\u001b[39m] \u001b[38;5;241m==\u001b[39m symbol:\n\u001b[1;32m      7\u001b[0m         pprint({\u001b[38;5;124m'\u001b[39m\u001b[38;5;124morder\u001b[39m\u001b[38;5;124m'\u001b[39m:order})\n\u001b[0;32m----> 8\u001b[0m \u001b[38;5;28;43minput\u001b[39;49m\u001b[43m(\u001b[49m\u001b[38;5;124;43m'\u001b[39;49m\u001b[38;5;124;43mPress Enter....\u001b[39;49m\u001b[38;5;124;43m'\u001b[39;49m\u001b[43m)\u001b[49m\n\u001b[1;32m      9\u001b[0m \u001b[38;5;66;03m# break\u001b[39;00m\n",
      "File \u001b[0;32m~/Vandan_Personal_Folder/CODE_STUFF/Projects/venvs/mathematricks_venv/lib/python3.10/site-packages/ipykernel/kernelbase.py:1282\u001b[0m, in \u001b[0;36mKernel.raw_input\u001b[0;34m(self, prompt)\u001b[0m\n\u001b[1;32m   1280\u001b[0m     msg \u001b[38;5;241m=\u001b[39m \u001b[38;5;124m\"\u001b[39m\u001b[38;5;124mraw_input was called, but this frontend does not support input requests.\u001b[39m\u001b[38;5;124m\"\u001b[39m\n\u001b[1;32m   1281\u001b[0m     \u001b[38;5;28;01mraise\u001b[39;00m StdinNotImplementedError(msg)\n\u001b[0;32m-> 1282\u001b[0m \u001b[38;5;28;01mreturn\u001b[39;00m \u001b[38;5;28;43mself\u001b[39;49m\u001b[38;5;241;43m.\u001b[39;49m\u001b[43m_input_request\u001b[49m\u001b[43m(\u001b[49m\n\u001b[1;32m   1283\u001b[0m \u001b[43m    \u001b[49m\u001b[38;5;28;43mstr\u001b[39;49m\u001b[43m(\u001b[49m\u001b[43mprompt\u001b[49m\u001b[43m)\u001b[49m\u001b[43m,\u001b[49m\n\u001b[1;32m   1284\u001b[0m \u001b[43m    \u001b[49m\u001b[38;5;28;43mself\u001b[39;49m\u001b[38;5;241;43m.\u001b[39;49m\u001b[43m_parent_ident\u001b[49m\u001b[43m[\u001b[49m\u001b[38;5;124;43m\"\u001b[39;49m\u001b[38;5;124;43mshell\u001b[39;49m\u001b[38;5;124;43m\"\u001b[39;49m\u001b[43m]\u001b[49m\u001b[43m,\u001b[49m\n\u001b[1;32m   1285\u001b[0m \u001b[43m    \u001b[49m\u001b[38;5;28;43mself\u001b[39;49m\u001b[38;5;241;43m.\u001b[39;49m\u001b[43mget_parent\u001b[49m\u001b[43m(\u001b[49m\u001b[38;5;124;43m\"\u001b[39;49m\u001b[38;5;124;43mshell\u001b[39;49m\u001b[38;5;124;43m\"\u001b[39;49m\u001b[43m)\u001b[49m\u001b[43m,\u001b[49m\n\u001b[1;32m   1286\u001b[0m \u001b[43m    \u001b[49m\u001b[43mpassword\u001b[49m\u001b[38;5;241;43m=\u001b[39;49m\u001b[38;5;28;43;01mFalse\u001b[39;49;00m\u001b[43m,\u001b[49m\n\u001b[1;32m   1287\u001b[0m \u001b[43m\u001b[49m\u001b[43m)\u001b[49m\n",
      "File \u001b[0;32m~/Vandan_Personal_Folder/CODE_STUFF/Projects/venvs/mathematricks_venv/lib/python3.10/site-packages/ipykernel/kernelbase.py:1325\u001b[0m, in \u001b[0;36mKernel._input_request\u001b[0;34m(self, prompt, ident, parent, password)\u001b[0m\n\u001b[1;32m   1322\u001b[0m \u001b[38;5;28;01mexcept\u001b[39;00m \u001b[38;5;167;01mKeyboardInterrupt\u001b[39;00m:\n\u001b[1;32m   1323\u001b[0m     \u001b[38;5;66;03m# re-raise KeyboardInterrupt, to truncate traceback\u001b[39;00m\n\u001b[1;32m   1324\u001b[0m     msg \u001b[38;5;241m=\u001b[39m \u001b[38;5;124m\"\u001b[39m\u001b[38;5;124mInterrupted by user\u001b[39m\u001b[38;5;124m\"\u001b[39m\n\u001b[0;32m-> 1325\u001b[0m     \u001b[38;5;28;01mraise\u001b[39;00m \u001b[38;5;167;01mKeyboardInterrupt\u001b[39;00m(msg) \u001b[38;5;28;01mfrom\u001b[39;00m \u001b[38;5;28;01mNone\u001b[39;00m\n\u001b[1;32m   1326\u001b[0m \u001b[38;5;28;01mexcept\u001b[39;00m \u001b[38;5;167;01mException\u001b[39;00m:\n\u001b[1;32m   1327\u001b[0m     \u001b[38;5;28mself\u001b[39m\u001b[38;5;241m.\u001b[39mlog\u001b[38;5;241m.\u001b[39mwarning(\u001b[38;5;124m\"\u001b[39m\u001b[38;5;124mInvalid Message:\u001b[39m\u001b[38;5;124m\"\u001b[39m, exc_info\u001b[38;5;241m=\u001b[39m\u001b[38;5;28;01mTrue\u001b[39;00m)\n",
      "\u001b[0;31mKeyboardInterrupt\u001b[0m: Interrupted by user"
     ]
    }
   ],
   "source": [
    "from pprint import pprint\n",
    "for symbol in ideal_portfolios['ideal_portfolio']:\n",
    "    print('Symbol:', symbol)\n",
    "    pprint({'symbol_position':ideal_portfolios['ideal_portfolio'][symbol]})\n",
    "    for order in orders:\n",
    "        if order['symbol'] == symbol:\n",
    "            pprint({'order':order})\n",
    "    input('Press Enter....')\n",
    "    # break"
   ]
  },
  {
   "cell_type": "code",
   "execution_count": null,
   "metadata": {},
   "outputs": [],
   "source": []
  }
 ],
 "metadata": {
  "kernelspec": {
   "display_name": "mathematricks_venv",
   "language": "python",
   "name": "python3"
  },
  "language_info": {
   "codemirror_mode": {
    "name": "ipython",
    "version": 3
   },
   "file_extension": ".py",
   "mimetype": "text/x-python",
   "name": "python",
   "nbconvert_exporter": "python",
   "pygments_lexer": "ipython3",
   "version": "3.10.2"
  }
 },
 "nbformat": 4,
 "nbformat_minor": 2
}
