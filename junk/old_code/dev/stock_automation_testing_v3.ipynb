{
 "cells": [
  {
   "cell_type": "code",
   "execution_count": null,
   "metadata": {},
   "outputs": [],
   "source": [
    "%load_ext autoreload\n",
    "%autoreload 2"
   ]
  },
  {
   "cell_type": "code",
   "execution_count": null,
   "metadata": {},
   "outputs": [],
   "source": [
    "import stock_automation_utils as SAU\n",
    "import pickle\n",
    "from datetime import datetime, timedelta\n",
    "import numpy as np"
   ]
  },
  {
   "cell_type": "code",
   "execution_count": null,
   "metadata": {},
   "outputs": [],
   "source": [
    "import time, os\n",
    "import yfinance as yf\n",
    "import pandas as pd\n",
    "from tqdm import tqdm"
   ]
  },
  {
   "cell_type": "code",
   "execution_count": null,
   "metadata": {},
   "outputs": [],
   "source": [
    "stock_symbols = ['^IXIC']\n",
    "throttle_secs = 0\n",
    "data_folder='data'"
   ]
  },
  {
   "cell_type": "code",
   "execution_count": null,
   "metadata": {},
   "outputs": [],
   "source": [
    "# #Update data for all stocks.\n",
    "# SAU.load_and_update_stock_data()"
   ]
  },
  {
   "cell_type": "code",
   "execution_count": null,
   "metadata": {},
   "outputs": [],
   "source": [
    "stock_symbols_pickle = 'stock_symbols.pkl'  # Name of the pickle file"
   ]
  },
  {
   "cell_type": "code",
   "execution_count": null,
   "metadata": {},
   "outputs": [],
   "source": [
    "# Load symbols into the stock_symbols.pkl\n",
    "symbols = []  # Example list of stock symbols\n",
    "if len(symbols) > 0:\n",
    "    SAU.add_stock_symbols_to_pickle(symbols, stock_symbols_pickle)"
   ]
  },
  {
   "cell_type": "code",
   "execution_count": null,
   "metadata": {},
   "outputs": [],
   "source": [
    "# Load the data from 'stock_symbols.pkl' into a variable called 'symbols'\n",
    "with open(stock_symbols_pickle, 'rb') as file:\n",
    "    symbols = pickle.load(file)"
   ]
  },
  {
   "cell_type": "markdown",
   "metadata": {},
   "source": [
    "## BACKTEST"
   ]
  },
  {
   "cell_type": "code",
   "execution_count": null,
   "metadata": {},
   "outputs": [],
   "source": [
    "start_date = '2018-01-01'\n",
    "end_date = '2020-01-31'\n",
    "start_date_dt = datetime.strptime(start_date, \"%Y-%m-%d\")\n",
    "end_date_dt = datetime.strptime(end_date, \"%Y-%m-%d\")\n",
    "rebalance_frequency = 15  # In days\n",
    "# create a numpy array of numbers 15 days apart from 0 to 365\n",
    "days_ago_list = list(range(0, 365, rebalance_frequency))\n",
    "long_count = 10\n",
    "short_count = 0\n",
    "portfolio_starting_value = 110000\n",
    "risk_pct = 0.10"
   ]
  },
  {
   "cell_type": "code",
   "execution_count": null,
   "metadata": {},
   "outputs": [],
   "source": [
    "import stock_automation_utils as SAU\n",
    "import backtest_utils as BU\n",
    "backtest_runs, backtest_profits = BU.run_backtest(symbols, start_date_dt, end_date_dt, rebalance_frequency, days_ago_list, long_count, short_count, portfolio_starting_value, risk_pct)"
   ]
  },
  {
   "cell_type": "code",
   "execution_count": null,
   "metadata": {},
   "outputs": [],
   "source": [
    "import matplotlib.pyplot as plt"
   ]
  },
  {
   "cell_type": "code",
   "execution_count": null,
   "metadata": {},
   "outputs": [],
   "source": [
    "sum(backtest_profits)"
   ]
  },
  {
   "cell_type": "code",
   "execution_count": null,
   "metadata": {},
   "outputs": [],
   "source": [
    "# Bring in the Nasdaq data and calculate the returns\n",
    "nasdaq_data = SAU.get_stock_data('^IXIC', start_date, end_date)\n"
   ]
  },
  {
   "cell_type": "code",
   "execution_count": null,
   "metadata": {},
   "outputs": [],
   "source": [
    "# Only keep the Adjussted Close column\n",
    "nasdaq_data = nasdaq_data[['Date', 'Adj Close']]\n",
    "# Convert 'Date' to datetime\n",
    "nasdaq_data['Date'] = pd.to_datetime(nasdaq_data['Date'])\n",
    "rebalance_periods = BU.calculate_rebalance_periods_with_dates(start_date_dt, end_date_dt, rebalance_frequency)\n",
    "rebalance_periods = [(datetime.combine(rebalance_periods[0], datetime.min.time()), datetime.combine(rebalance_periods[1], datetime.min.time())) for rebalance_periods in rebalance_periods]\n",
    "dates = np.array(rebalance_periods)[:, 1]\n",
    "# For each date in dates, find a date in nasdaq_data that is the same or the closest\n",
    "nasdaq_returns = []\n",
    "for date in dates:\n",
    "    idx = nasdaq_data['Date'].sub(date).abs().idxmin()\n",
    "    nasdaq_returns.append(nasdaq_data.loc[idx, 'Adj Close'])\n",
    "\n"
   ]
  },
  {
   "cell_type": "code",
   "execution_count": null,
   "metadata": {},
   "outputs": [],
   "source": [
    "len(backtest_profits), len(rebalance_periods), len(nasdaq_returns)"
   ]
  },
  {
   "cell_type": "code",
   "execution_count": null,
   "metadata": {},
   "outputs": [],
   "source": [
    "nasdaq_returns = np.array(nasdaq_returns)"
   ]
  },
  {
   "cell_type": "code",
   "execution_count": null,
   "metadata": {},
   "outputs": [],
   "source": [
    "benchmark_data = ((1-(nasdaq_returns[1:]/nasdaq_returns[:-1]))*portfolio_starting_value) * -1\n",
    "benchmark_data = np.insert(benchmark_data, 0, 0)\n"
   ]
  },
  {
   "cell_type": "code",
   "execution_count": null,
   "metadata": {},
   "outputs": [],
   "source": [
    "# add a zero to the beginning of the benchmark_data to make it the same length as the backtest_profits\n",
    "len(backtest_profits), len(rebalance_periods), len(nasdaq_returns), len(benchmark_data)"
   ]
  },
  {
   "cell_type": "code",
   "execution_count": null,
   "metadata": {},
   "outputs": [],
   "source": [
    "# Plot the backtest profits and the benchmark_data\n",
    "plt.figure(figsize=(16, 9))\n",
    "plt.plot(rebalance_periods, np.cumsum(backtest_profits), label='Backtest Profits')\n",
    "plt.plot(rebalance_periods, np.cumsum(benchmark_data), label='Nasdaq Returns')\n",
    "# Show labels\n",
    "plt.legend()\n",
    "# Show the plot\n",
    "plt.show()"
   ]
  },
  {
   "cell_type": "code",
   "execution_count": null,
   "metadata": {},
   "outputs": [],
   "source": [
    "plt.plot(backtest_profits)"
   ]
  },
  {
   "cell_type": "code",
   "execution_count": null,
   "metadata": {},
   "outputs": [],
   "source": [
    "profit_count = 0\n",
    "loss_count = 0\n",
    "for backtest_run in backtest_runs:\n",
    "    profit = backtest_run[-1]\n",
    "    for output in profit:\n",
    "        output = int(np.float32(output))\n",
    "        if output > 0:\n",
    "            profit_count += 1\n",
    "        else:\n",
    "            loss_count += 1\n",
    "print({'profit_count': profit_count, 'loss_count': loss_count, 'profit_pct': profit_count/(profit_count+loss_count)})"
   ]
  },
  {
   "cell_type": "code",
   "execution_count": null,
   "metadata": {},
   "outputs": [],
   "source": [
    "# calculate the sharp ratio\n",
    "# add portfolio starting value as the first element of the backtest_profits\n",
    "backtest_profits_temp = np.insert(backtest_profits, 0, portfolio_starting_value)\n",
    "# https://www.youtube.com/watch?v=vTzjk6kLw2I"
   ]
  },
  {
   "cell_type": "code",
   "execution_count": null,
   "metadata": {},
   "outputs": [],
   "source": [
    "backtest_profits_temp"
   ]
  },
  {
   "cell_type": "code",
   "execution_count": null,
   "metadata": {},
   "outputs": [],
   "source": [
    "np.cumsum(backtest_profits_temp)"
   ]
  },
  {
   "cell_type": "markdown",
   "metadata": {},
   "source": [
    "# Analysis of the backtest"
   ]
  },
  {
   "cell_type": "code",
   "execution_count": null,
   "metadata": {},
   "outputs": [],
   "source": [
    "'''\n",
    "# Add nasdaq graph to the plot - I want to find out on a week to week basis, how much money I would have made if I had just bought the Nasdaq\n",
    "# On a week to week basis, % return of the strategy compared to the Nasdaq (eg. strategy made 10%, Nasdaq made 5%, answer is 5%. If strategy made 5% and Nasdaq made 10%, answer is -5%)\n",
    "# Compound Annual Growth Rate (CAGR) - the mean annual growth rate of an investment over a specified time period longer than one year\n",
    "# Sharpe Ratio - measures the performance of an investment compared to a risk-free asset, after adjusting for its risk\n",
    "# Maximum Drawdown - the maximum loss from a peak to a trough of a portfolio\n",
    "# Beta (measure of volatility) - how much the stock moves in relation to the market\n",
    "# Alpha (measure of performance on a risk-adjusted basis)\n",
    "# Win/Loss Ratio, Avg Win, Avg Loss\n",
    "# Profit Factor - the ratio of total profit to total losses\n",
    "\n",
    "'''"
   ]
  },
  {
   "cell_type": "code",
   "execution_count": null,
   "metadata": {},
   "outputs": [],
   "source": [
    "# calculate the rolling max of a numpy array\n",
    "def rolling_max(arr, window):\n",
    "    return np.maximum.accumulate(arr)\n"
   ]
  },
  {
   "cell_type": "code",
   "execution_count": null,
   "metadata": {},
   "outputs": [],
   "source": [
    "# calculate the median of all +ve and -ve numbers in a numpy array\n",
    "def median(arr):\n",
    "    arr = np.array(arr)\n",
    "    pos = arr[arr > 0]\n",
    "    neg = arr[arr < 0]\n",
    "    return np.median(pos), np.median(neg)"
   ]
  },
  {
   "cell_type": "code",
   "execution_count": null,
   "metadata": {},
   "outputs": [],
   "source": [
    "median(backtest_profits)"
   ]
  },
  {
   "cell_type": "code",
   "execution_count": null,
   "metadata": {},
   "outputs": [],
   "source": []
  },
  {
   "cell_type": "code",
   "execution_count": null,
   "metadata": {},
   "outputs": [],
   "source": []
  },
  {
   "cell_type": "code",
   "execution_count": null,
   "metadata": {},
   "outputs": [],
   "source": []
  },
  {
   "cell_type": "markdown",
   "metadata": {},
   "source": [
    "# IBKR Connection"
   ]
  },
  {
   "cell_type": "code",
   "execution_count": null,
   "metadata": {},
   "outputs": [],
   "source": [
    "from ib_insync import IB, Stock\n",
    "import nest_asyncio\n",
    "nest_asyncio.apply()"
   ]
  },
  {
   "cell_type": "code",
   "execution_count": null,
   "metadata": {},
   "outputs": [],
   "source": [
    "def connect_to_IBKR():\n",
    "    # Create an instance of the IB class\n",
    "    ib = IB()\n",
    "\n",
    "    # Connect to the IBKR TWS (Trader Workstation) or Gateway\n",
    "    ib.connect('127.0.0.1', 7496, clientId=0)\n",
    "\n",
    "    # Check if the connection is successful\n",
    "    if ib.isConnected():\n",
    "        print('Connected to IBKR')\n",
    "    else:\n",
    "        print('Failed to connect to IBKR')\n",
    "    return ib"
   ]
  },
  {
   "cell_type": "code",
   "execution_count": null,
   "metadata": {},
   "outputs": [],
   "source": [
    "def get_current_portfolio(ib):\n",
    "    # Request the current portfolio from IBKR\n",
    "    portfolio = ib.portfolio()\n",
    "    \n",
    "    # Return the portfolio\n",
    "    return portfolio\n"
   ]
  },
  {
   "cell_type": "code",
   "execution_count": null,
   "metadata": {},
   "outputs": [],
   "source": [
    "def get_current_price(ib):\n",
    "    # Request the current market data for AAPL\n",
    "    contract = ib.qualifyContracts(Stock('AAPL', 'SMART', 'USD'))\n",
    "    ticker = ib.reqTickers(contract)[0]\n",
    "    \n",
    "    # Get the current price\n",
    "    current_price = ticker.marketPrice()\n",
    "    \n",
    "    # Return the current price\n",
    "    return current_price\n"
   ]
  },
  {
   "cell_type": "code",
   "execution_count": null,
   "metadata": {},
   "outputs": [],
   "source": [
    "get_current_price(ib)"
   ]
  },
  {
   "cell_type": "code",
   "execution_count": null,
   "metadata": {},
   "outputs": [],
   "source": []
  }
 ],
 "metadata": {
  "kernelspec": {
   "display_name": "venv",
   "language": "python",
   "name": "python3"
  },
  "language_info": {
   "codemirror_mode": {
    "name": "ipython",
    "version": 3
   },
   "file_extension": ".py",
   "mimetype": "text/x-python",
   "name": "python",
   "nbconvert_exporter": "python",
   "pygments_lexer": "ipython3",
   "version": "3.10.2"
  }
 },
 "nbformat": 4,
 "nbformat_minor": 2
}
